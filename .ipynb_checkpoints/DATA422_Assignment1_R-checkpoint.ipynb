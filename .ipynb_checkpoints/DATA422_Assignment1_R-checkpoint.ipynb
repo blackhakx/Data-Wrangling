{
 "cells": [
  {
   "cell_type": "markdown",
   "metadata": {},
   "source": [
    "# Data 422\n",
    "\n",
    "### Data Wrangling\n",
    "\n",
    "## Assignement 1\n",
    "\n",
    "**20% of final grade** Total marks is **100 marks** (70 for R, 30 for Julia).\n",
    "\n",
    "## Due date: 5pm Wednesday 24 August 2021\n",
    "\n",
    "The assignment must be submitted on the DATA 201 and 422 Learn page and should be **your own work, or done in pairs**.\n",
    "\n",
    "### Avoid plagiarism (see this [video on academic plagiarism](https://www.youtube.com/embed/reGGPUrEsC0) ). If you are not sure what may constitute code plagiarism, read this [explanation on source code plagiarism](http://web.science.mq.edu.au/~mtaylor/ponline/index.php?id=source-code-plagiarism). Remember, when in doubt **declare your sources**. \n",
    "\n",
    "If you have any issues that affects your ability to work during the time allocated for the assignement, please DO CONTACT ME. We will find a suitable solution. In general this WON'T be an extension to the deadline (so that in the rest of the semester you are free from preoccupations). Most probably, I will ask you to submit what you have ready by the time the assignment is due, even if it is not everything we required, and I'll take into account special considerations. For any particular problem, please contact [Thomas Li](thomas.li@canterbury.ac.nz) or the TAs."
   ]
  },
  {
   "cell_type": "markdown",
   "metadata": {},
   "source": [
    "## Instruction\n",
    "\n",
    "For this assignment you will work with a _.csv_ data-set. Your goal is to read it in, wrangle it, produce some plotting, in order to demonstrate that you are able to use the functions, plotting, and markdown format we have been learning.  \n",
    "You shall hand in your work as a jupyter-lab R notebook (for the R part, and jupyter-lab Julia notebook for the Julia part) comprehending the code, the plots and, **very important**, enough comments and explanations for us to understand what you did, how you did it, and why you did it. Remember: no comments, no marks.  \n",
    "You can either modify this notebook or write a new one from scratch: in that case, clearly indicate which question you are asking at each step. Notice that you may well want to **use more than one cell** per answer (using some cell for the code, some for the text, and so forth)."
   ]
  },
  {
   "cell_type": "markdown",
   "metadata": {},
   "source": [
    "## Comment, explain, present your work in a clear way (we may remove marks for messy notebooks)"
   ]
  },
  {
   "cell_type": "markdown",
   "metadata": {},
   "source": [
    "## R part (overall 70 marks)\n",
    "\n",
    "Do use the tidyverse syntax I introduced in class and labs. If in doubt, refresh the lab material 1 to 4."
   ]
  },
  {
   "cell_type": "markdown",
   "metadata": {},
   "source": [
    "The first thing you may want to do is to load **tidyverse**:"
   ]
  },
  {
   "cell_type": "code",
   "execution_count": 2,
   "metadata": {
    "vscode": {
     "languageId": "r"
    }
   },
   "outputs": [
    {
     "name": "stdout",
     "output_type": "stream",
     "text": [
      "package 'visdat' successfully unpacked and MD5 sums checked\n",
      "\n",
      "The downloaded binary packages are in\n",
      "\tC:\\Users\\91ken\\AppData\\Local\\Temp\\Rtmp06nhQ9\\downloaded_packages\n"
     ]
    }
   ],
   "source": [
    "#install.packages(\"tidyverse\")\n",
    "install.packages(\"visdat\")"
   ]
  },
  {
   "cell_type": "code",
   "execution_count": 3,
   "metadata": {
    "vscode": {
     "languageId": "r"
    }
   },
   "outputs": [
    {
     "name": "stderr",
     "output_type": "stream",
     "text": [
      "Warning message:\n",
      "\"package 'visdat' was built under R version 3.6.3\"\n"
     ]
    }
   ],
   "source": [
    "library(tidyverse)\n",
    "library(visdat)"
   ]
  },
  {
   "cell_type": "markdown",
   "metadata": {},
   "source": [
    "### Task (a): import (5 marks)\n",
    "\n",
    "Import the **hour.csv** dataset into R as a dataframe (we'll call it `bike_df`, but you can call it what you want). You can read about the dataset in the file `DataSet_Dictionary.txt`. (Alternatively, you might use your own .csv dataset of choice, but talk with me about it before doing it). \n",
    "\n",
    "Then perform the routine checks about the types of the columns, the missing values, and output a quick summary of the dataset.\n",
    "\n",
    "_hint_ useful functions: `read_csv()`, `glimpse()`  \n",
    "_hint_ useful libraries: `tidyverse`, `readr`, `skimr`, `vis_dat`"
   ]
  },
  {
   "cell_type": "code",
   "execution_count": 4,
   "metadata": {
    "vscode": {
     "languageId": "r"
    }
   },
   "outputs": [
    {
     "data": {
      "text/html": [
       "<table class=\"dataframe\">\n",
       "<caption>A data.frame: 17379 × 17</caption>\n",
       "<thead>\n",
       "\t<tr><th scope=col>instant</th><th scope=col>dteday</th><th scope=col>season</th><th scope=col>yr</th><th scope=col>mnth</th><th scope=col>hr</th><th scope=col>holiday</th><th scope=col>weekday</th><th scope=col>workingday</th><th scope=col>weathersit</th><th scope=col>temp</th><th scope=col>atemp</th><th scope=col>hum</th><th scope=col>windspeed</th><th scope=col>casual</th><th scope=col>registered</th><th scope=col>cnt</th></tr>\n",
       "\t<tr><th scope=col>&lt;int&gt;</th><th scope=col>&lt;fct&gt;</th><th scope=col>&lt;int&gt;</th><th scope=col>&lt;int&gt;</th><th scope=col>&lt;int&gt;</th><th scope=col>&lt;int&gt;</th><th scope=col>&lt;int&gt;</th><th scope=col>&lt;int&gt;</th><th scope=col>&lt;int&gt;</th><th scope=col>&lt;int&gt;</th><th scope=col>&lt;dbl&gt;</th><th scope=col>&lt;dbl&gt;</th><th scope=col>&lt;dbl&gt;</th><th scope=col>&lt;dbl&gt;</th><th scope=col>&lt;int&gt;</th><th scope=col>&lt;int&gt;</th><th scope=col>&lt;int&gt;</th></tr>\n",
       "</thead>\n",
       "<tbody>\n",
       "\t<tr><td> 1</td><td>2011-01-01</td><td>1</td><td>0</td><td>1</td><td> 0</td><td>0</td><td>6</td><td>0</td><td>1</td><td>0.24</td><td>0.2879</td><td>0.81</td><td>0.0000</td><td> 3</td><td>13</td><td> 16</td></tr>\n",
       "\t<tr><td> 2</td><td>2011-01-01</td><td>1</td><td>0</td><td>1</td><td> 1</td><td>0</td><td>6</td><td>0</td><td>1</td><td>0.22</td><td>0.2727</td><td>0.80</td><td>0.0000</td><td> 8</td><td>32</td><td> 40</td></tr>\n",
       "\t<tr><td> 3</td><td>2011-01-01</td><td>1</td><td>0</td><td>1</td><td> 2</td><td>0</td><td>6</td><td>0</td><td>1</td><td>0.22</td><td>0.2727</td><td>0.80</td><td>0.0000</td><td> 5</td><td>27</td><td> 32</td></tr>\n",
       "\t<tr><td> 4</td><td>2011-01-01</td><td>1</td><td>0</td><td>1</td><td> 3</td><td>0</td><td>6</td><td>0</td><td>1</td><td>0.24</td><td>0.2879</td><td>0.75</td><td>0.0000</td><td> 3</td><td>10</td><td> 13</td></tr>\n",
       "\t<tr><td> 5</td><td>2011-01-01</td><td>1</td><td>0</td><td>1</td><td> 4</td><td>0</td><td>6</td><td>0</td><td>1</td><td>0.24</td><td>0.2879</td><td>0.75</td><td>0.0000</td><td> 0</td><td> 1</td><td>  1</td></tr>\n",
       "\t<tr><td> 6</td><td>2011-01-01</td><td>1</td><td>0</td><td>1</td><td> 5</td><td>0</td><td>6</td><td>0</td><td>2</td><td>0.24</td><td>0.2576</td><td>0.75</td><td>0.0896</td><td> 0</td><td> 1</td><td>  1</td></tr>\n",
       "\t<tr><td> 7</td><td>2011-01-01</td><td>1</td><td>0</td><td>1</td><td> 6</td><td>0</td><td>6</td><td>0</td><td>1</td><td>0.22</td><td>0.2727</td><td>0.80</td><td>0.0000</td><td> 2</td><td> 0</td><td>  2</td></tr>\n",
       "\t<tr><td> 8</td><td>2011-01-01</td><td>1</td><td>0</td><td>1</td><td> 7</td><td>0</td><td>6</td><td>0</td><td>1</td><td>0.20</td><td>0.2576</td><td>0.86</td><td>0.0000</td><td> 1</td><td> 2</td><td>  3</td></tr>\n",
       "\t<tr><td> 9</td><td>2011-01-01</td><td>1</td><td>0</td><td>1</td><td> 8</td><td>0</td><td>6</td><td>0</td><td>1</td><td>0.24</td><td>0.2879</td><td>0.75</td><td>0.0000</td><td> 1</td><td> 7</td><td>  8</td></tr>\n",
       "\t<tr><td>10</td><td>2011-01-01</td><td>1</td><td>0</td><td>1</td><td> 9</td><td>0</td><td>6</td><td>0</td><td>1</td><td>0.32</td><td>0.3485</td><td>0.76</td><td>0.0000</td><td> 8</td><td> 6</td><td> 14</td></tr>\n",
       "\t<tr><td>11</td><td>2011-01-01</td><td>1</td><td>0</td><td>1</td><td>10</td><td>0</td><td>6</td><td>0</td><td>1</td><td>0.38</td><td>0.3939</td><td>0.76</td><td>0.2537</td><td>12</td><td>24</td><td> 36</td></tr>\n",
       "\t<tr><td>12</td><td>2011-01-01</td><td>1</td><td>0</td><td>1</td><td>11</td><td>0</td><td>6</td><td>0</td><td>1</td><td>0.36</td><td>0.3333</td><td>0.81</td><td>0.2836</td><td>26</td><td>30</td><td> 56</td></tr>\n",
       "\t<tr><td>13</td><td>2011-01-01</td><td>1</td><td>0</td><td>1</td><td>12</td><td>0</td><td>6</td><td>0</td><td>1</td><td>0.42</td><td>0.4242</td><td>0.77</td><td>0.2836</td><td>29</td><td>55</td><td> 84</td></tr>\n",
       "\t<tr><td>14</td><td>2011-01-01</td><td>1</td><td>0</td><td>1</td><td>13</td><td>0</td><td>6</td><td>0</td><td>2</td><td>0.46</td><td>0.4545</td><td>0.72</td><td>0.2985</td><td>47</td><td>47</td><td> 94</td></tr>\n",
       "\t<tr><td>15</td><td>2011-01-01</td><td>1</td><td>0</td><td>1</td><td>14</td><td>0</td><td>6</td><td>0</td><td>2</td><td>0.46</td><td>0.4545</td><td>0.72</td><td>0.2836</td><td>35</td><td>71</td><td>106</td></tr>\n",
       "\t<tr><td>16</td><td>2011-01-01</td><td>1</td><td>0</td><td>1</td><td>15</td><td>0</td><td>6</td><td>0</td><td>2</td><td>0.44</td><td>0.4394</td><td>0.77</td><td>0.2985</td><td>40</td><td>70</td><td>110</td></tr>\n",
       "\t<tr><td>17</td><td>2011-01-01</td><td>1</td><td>0</td><td>1</td><td>16</td><td>0</td><td>6</td><td>0</td><td>2</td><td>0.42</td><td>0.4242</td><td>0.82</td><td>0.2985</td><td>41</td><td>52</td><td> 93</td></tr>\n",
       "\t<tr><td>18</td><td>2011-01-01</td><td>1</td><td>0</td><td>1</td><td>17</td><td>0</td><td>6</td><td>0</td><td>2</td><td>0.44</td><td>0.4394</td><td>0.82</td><td>0.2836</td><td>15</td><td>52</td><td> 67</td></tr>\n",
       "\t<tr><td>19</td><td>2011-01-01</td><td>1</td><td>0</td><td>1</td><td>18</td><td>0</td><td>6</td><td>0</td><td>3</td><td>0.42</td><td>0.4242</td><td>0.88</td><td>0.2537</td><td> 9</td><td>26</td><td> 35</td></tr>\n",
       "\t<tr><td>20</td><td>2011-01-01</td><td>1</td><td>0</td><td>1</td><td>19</td><td>0</td><td>6</td><td>0</td><td>3</td><td>0.42</td><td>0.4242</td><td>0.88</td><td>0.2537</td><td> 6</td><td>31</td><td> 37</td></tr>\n",
       "\t<tr><td>21</td><td>2011-01-01</td><td>1</td><td>0</td><td>1</td><td>20</td><td>0</td><td>6</td><td>0</td><td>2</td><td>0.40</td><td>0.4091</td><td>0.87</td><td>0.2537</td><td>11</td><td>25</td><td> 36</td></tr>\n",
       "\t<tr><td>22</td><td>2011-01-01</td><td>1</td><td>0</td><td>1</td><td>21</td><td>0</td><td>6</td><td>0</td><td>2</td><td>0.40</td><td>0.4091</td><td>0.87</td><td>0.1940</td><td> 3</td><td>31</td><td> 34</td></tr>\n",
       "\t<tr><td>23</td><td>2011-01-01</td><td>1</td><td>0</td><td>1</td><td>22</td><td>0</td><td>6</td><td>0</td><td>2</td><td>0.40</td><td>0.4091</td><td>0.94</td><td>0.2239</td><td>11</td><td>17</td><td> 28</td></tr>\n",
       "\t<tr><td>24</td><td>2011-01-01</td><td>1</td><td>0</td><td>1</td><td>23</td><td>0</td><td>6</td><td>0</td><td>2</td><td>0.46</td><td>0.4545</td><td>0.88</td><td>0.2985</td><td>15</td><td>24</td><td> 39</td></tr>\n",
       "\t<tr><td>25</td><td>2011-01-02</td><td>1</td><td>0</td><td>1</td><td> 0</td><td>0</td><td>0</td><td>0</td><td>2</td><td>0.46</td><td>0.4545</td><td>0.88</td><td>0.2985</td><td> 4</td><td>13</td><td> 17</td></tr>\n",
       "\t<tr><td>26</td><td>2011-01-02</td><td>1</td><td>0</td><td>1</td><td> 1</td><td>0</td><td>0</td><td>0</td><td>2</td><td>0.44</td><td>0.4394</td><td>0.94</td><td>0.2537</td><td> 1</td><td>16</td><td> 17</td></tr>\n",
       "\t<tr><td>27</td><td>2011-01-02</td><td>1</td><td>0</td><td>1</td><td> 2</td><td>0</td><td>0</td><td>0</td><td>2</td><td>0.42</td><td>0.4242</td><td>1.00</td><td>0.2836</td><td> 1</td><td> 8</td><td>  9</td></tr>\n",
       "\t<tr><td>28</td><td>2011-01-02</td><td>1</td><td>0</td><td>1</td><td> 3</td><td>0</td><td>0</td><td>0</td><td>2</td><td>0.46</td><td>0.4545</td><td>0.94</td><td>0.1940</td><td> 2</td><td> 4</td><td>  6</td></tr>\n",
       "\t<tr><td>29</td><td>2011-01-02</td><td>1</td><td>0</td><td>1</td><td> 4</td><td>0</td><td>0</td><td>0</td><td>2</td><td>0.46</td><td>0.4545</td><td>0.94</td><td>0.1940</td><td> 2</td><td> 1</td><td>  3</td></tr>\n",
       "\t<tr><td>30</td><td>2011-01-02</td><td>1</td><td>0</td><td>1</td><td> 6</td><td>0</td><td>0</td><td>0</td><td>3</td><td>0.42</td><td>0.4242</td><td>0.77</td><td>0.2985</td><td> 0</td><td> 2</td><td>  2</td></tr>\n",
       "\t<tr><td>⋮</td><td>⋮</td><td>⋮</td><td>⋮</td><td>⋮</td><td>⋮</td><td>⋮</td><td>⋮</td><td>⋮</td><td>⋮</td><td>⋮</td><td>⋮</td><td>⋮</td><td>⋮</td><td>⋮</td><td>⋮</td><td>⋮</td></tr>\n",
       "\t<tr><td>17350</td><td>2012-12-30</td><td>1</td><td>1</td><td>12</td><td>18</td><td>0</td><td>0</td><td>0</td><td>2</td><td>0.24</td><td>0.2121</td><td>0.44</td><td>0.2985</td><td>12</td><td>113</td><td>125</td></tr>\n",
       "\t<tr><td>17351</td><td>2012-12-30</td><td>1</td><td>1</td><td>12</td><td>19</td><td>0</td><td>0</td><td>0</td><td>1</td><td>0.34</td><td>0.3636</td><td>0.61</td><td>0.0000</td><td>16</td><td> 86</td><td>102</td></tr>\n",
       "\t<tr><td>17352</td><td>2012-12-30</td><td>1</td><td>1</td><td>12</td><td>20</td><td>0</td><td>0</td><td>0</td><td>1</td><td>0.22</td><td>0.1970</td><td>0.47</td><td>0.3284</td><td> 9</td><td> 63</td><td> 72</td></tr>\n",
       "\t<tr><td>17353</td><td>2012-12-30</td><td>1</td><td>1</td><td>12</td><td>21</td><td>0</td><td>0</td><td>0</td><td>1</td><td>0.20</td><td>0.2121</td><td>0.51</td><td>0.1642</td><td> 5</td><td> 42</td><td> 47</td></tr>\n",
       "\t<tr><td>17354</td><td>2012-12-30</td><td>1</td><td>1</td><td>12</td><td>22</td><td>0</td><td>0</td><td>0</td><td>1</td><td>0.20</td><td>0.1970</td><td>0.55</td><td>0.1940</td><td> 6</td><td> 30</td><td> 36</td></tr>\n",
       "\t<tr><td>17355</td><td>2012-12-30</td><td>1</td><td>1</td><td>12</td><td>23</td><td>0</td><td>0</td><td>0</td><td>1</td><td>0.20</td><td>0.1970</td><td>0.51</td><td>0.2239</td><td>10</td><td> 39</td><td> 49</td></tr>\n",
       "\t<tr><td>17356</td><td>2012-12-31</td><td>1</td><td>1</td><td>12</td><td> 0</td><td>0</td><td>1</td><td>1</td><td>1</td><td>0.18</td><td>0.1818</td><td>0.55</td><td>0.1940</td><td> 4</td><td> 30</td><td> 34</td></tr>\n",
       "\t<tr><td>17357</td><td>2012-12-31</td><td>1</td><td>1</td><td>12</td><td> 1</td><td>0</td><td>1</td><td>1</td><td>1</td><td>0.18</td><td>0.1818</td><td>0.55</td><td>0.1940</td><td> 6</td><td> 13</td><td> 19</td></tr>\n",
       "\t<tr><td>17358</td><td>2012-12-31</td><td>1</td><td>1</td><td>12</td><td> 2</td><td>0</td><td>1</td><td>1</td><td>1</td><td>0.16</td><td>0.1667</td><td>0.59</td><td>0.1642</td><td> 3</td><td>  8</td><td> 11</td></tr>\n",
       "\t<tr><td>17359</td><td>2012-12-31</td><td>1</td><td>1</td><td>12</td><td> 3</td><td>0</td><td>1</td><td>1</td><td>1</td><td>0.16</td><td>0.1818</td><td>0.59</td><td>0.1045</td><td> 0</td><td>  1</td><td>  1</td></tr>\n",
       "\t<tr><td>17360</td><td>2012-12-31</td><td>1</td><td>1</td><td>12</td><td> 4</td><td>0</td><td>1</td><td>1</td><td>1</td><td>0.14</td><td>0.1667</td><td>0.69</td><td>0.1045</td><td> 0</td><td>  3</td><td>  3</td></tr>\n",
       "\t<tr><td>17361</td><td>2012-12-31</td><td>1</td><td>1</td><td>12</td><td> 5</td><td>0</td><td>1</td><td>1</td><td>1</td><td>0.16</td><td>0.1515</td><td>0.64</td><td>0.1940</td><td> 0</td><td>  9</td><td>  9</td></tr>\n",
       "\t<tr><td>17362</td><td>2012-12-31</td><td>1</td><td>1</td><td>12</td><td> 6</td><td>0</td><td>1</td><td>1</td><td>1</td><td>0.16</td><td>0.1667</td><td>0.64</td><td>0.1642</td><td> 0</td><td> 40</td><td> 40</td></tr>\n",
       "\t<tr><td>17363</td><td>2012-12-31</td><td>1</td><td>1</td><td>12</td><td> 7</td><td>0</td><td>1</td><td>1</td><td>1</td><td>0.16</td><td>0.1818</td><td>0.64</td><td>0.1343</td><td> 2</td><td> 83</td><td> 85</td></tr>\n",
       "\t<tr><td>17364</td><td>2012-12-31</td><td>1</td><td>1</td><td>12</td><td> 8</td><td>0</td><td>1</td><td>1</td><td>1</td><td>0.14</td><td>0.1515</td><td>0.69</td><td>0.1343</td><td> 9</td><td>187</td><td>196</td></tr>\n",
       "\t<tr><td>17365</td><td>2012-12-31</td><td>1</td><td>1</td><td>12</td><td> 9</td><td>0</td><td>1</td><td>1</td><td>2</td><td>0.18</td><td>0.2121</td><td>0.64</td><td>0.1045</td><td>13</td><td>144</td><td>157</td></tr>\n",
       "\t<tr><td>17366</td><td>2012-12-31</td><td>1</td><td>1</td><td>12</td><td>10</td><td>0</td><td>1</td><td>1</td><td>2</td><td>0.20</td><td>0.2121</td><td>0.69</td><td>0.1343</td><td>33</td><td> 87</td><td>120</td></tr>\n",
       "\t<tr><td>17367</td><td>2012-12-31</td><td>1</td><td>1</td><td>12</td><td>11</td><td>0</td><td>1</td><td>1</td><td>2</td><td>0.22</td><td>0.2273</td><td>0.60</td><td>0.1940</td><td>43</td><td>114</td><td>157</td></tr>\n",
       "\t<tr><td>17368</td><td>2012-12-31</td><td>1</td><td>1</td><td>12</td><td>12</td><td>0</td><td>1</td><td>1</td><td>2</td><td>0.24</td><td>0.2273</td><td>0.56</td><td>0.1940</td><td>52</td><td>172</td><td>224</td></tr>\n",
       "\t<tr><td>17369</td><td>2012-12-31</td><td>1</td><td>1</td><td>12</td><td>13</td><td>0</td><td>1</td><td>1</td><td>2</td><td>0.26</td><td>0.2576</td><td>0.44</td><td>0.1642</td><td>38</td><td>165</td><td>203</td></tr>\n",
       "\t<tr><td>17370</td><td>2012-12-31</td><td>1</td><td>1</td><td>12</td><td>14</td><td>0</td><td>1</td><td>1</td><td>2</td><td>0.28</td><td>0.2727</td><td>0.45</td><td>0.2239</td><td>62</td><td>185</td><td>247</td></tr>\n",
       "\t<tr><td>17371</td><td>2012-12-31</td><td>1</td><td>1</td><td>12</td><td>15</td><td>0</td><td>1</td><td>1</td><td>2</td><td>0.28</td><td>0.2879</td><td>0.45</td><td>0.1343</td><td>69</td><td>246</td><td>315</td></tr>\n",
       "\t<tr><td>17372</td><td>2012-12-31</td><td>1</td><td>1</td><td>12</td><td>16</td><td>0</td><td>1</td><td>1</td><td>2</td><td>0.26</td><td>0.2576</td><td>0.48</td><td>0.1940</td><td>30</td><td>184</td><td>214</td></tr>\n",
       "\t<tr><td>17373</td><td>2012-12-31</td><td>1</td><td>1</td><td>12</td><td>17</td><td>0</td><td>1</td><td>1</td><td>2</td><td>0.26</td><td>0.2879</td><td>0.48</td><td>0.0896</td><td>14</td><td>150</td><td>164</td></tr>\n",
       "\t<tr><td>17374</td><td>2012-12-31</td><td>1</td><td>1</td><td>12</td><td>18</td><td>0</td><td>1</td><td>1</td><td>2</td><td>0.26</td><td>0.2727</td><td>0.48</td><td>0.1343</td><td>10</td><td>112</td><td>122</td></tr>\n",
       "\t<tr><td>17375</td><td>2012-12-31</td><td>1</td><td>1</td><td>12</td><td>19</td><td>0</td><td>1</td><td>1</td><td>2</td><td>0.26</td><td>0.2576</td><td>0.60</td><td>0.1642</td><td>11</td><td>108</td><td>119</td></tr>\n",
       "\t<tr><td>17376</td><td>2012-12-31</td><td>1</td><td>1</td><td>12</td><td>20</td><td>0</td><td>1</td><td>1</td><td>2</td><td>0.26</td><td>0.2576</td><td>0.60</td><td>0.1642</td><td> 8</td><td> 81</td><td> 89</td></tr>\n",
       "\t<tr><td>17377</td><td>2012-12-31</td><td>1</td><td>1</td><td>12</td><td>21</td><td>0</td><td>1</td><td>1</td><td>1</td><td>0.26</td><td>0.2576</td><td>0.60</td><td>0.1642</td><td> 7</td><td> 83</td><td> 90</td></tr>\n",
       "\t<tr><td>17378</td><td>2012-12-31</td><td>1</td><td>1</td><td>12</td><td>22</td><td>0</td><td>1</td><td>1</td><td>1</td><td>0.26</td><td>0.2727</td><td>0.56</td><td>0.1343</td><td>13</td><td> 48</td><td> 61</td></tr>\n",
       "\t<tr><td>17379</td><td>2012-12-31</td><td>1</td><td>1</td><td>12</td><td>23</td><td>0</td><td>1</td><td>1</td><td>1</td><td>0.26</td><td>0.2727</td><td>0.65</td><td>0.1343</td><td>12</td><td> 37</td><td> 49</td></tr>\n",
       "</tbody>\n",
       "</table>\n"
      ],
      "text/latex": [
       "A data.frame: 17379 × 17\n",
       "\\begin{tabular}{lllllllllllllllll}\n",
       " instant & dteday & season & yr & mnth & hr & holiday & weekday & workingday & weathersit & temp & atemp & hum & windspeed & casual & registered & cnt\\\\\n",
       " <int> & <fct> & <int> & <int> & <int> & <int> & <int> & <int> & <int> & <int> & <dbl> & <dbl> & <dbl> & <dbl> & <int> & <int> & <int>\\\\\n",
       "\\hline\n",
       "\t  1 & 2011-01-01 & 1 & 0 & 1 &  0 & 0 & 6 & 0 & 1 & 0.24 & 0.2879 & 0.81 & 0.0000 &  3 & 13 &  16\\\\\n",
       "\t  2 & 2011-01-01 & 1 & 0 & 1 &  1 & 0 & 6 & 0 & 1 & 0.22 & 0.2727 & 0.80 & 0.0000 &  8 & 32 &  40\\\\\n",
       "\t  3 & 2011-01-01 & 1 & 0 & 1 &  2 & 0 & 6 & 0 & 1 & 0.22 & 0.2727 & 0.80 & 0.0000 &  5 & 27 &  32\\\\\n",
       "\t  4 & 2011-01-01 & 1 & 0 & 1 &  3 & 0 & 6 & 0 & 1 & 0.24 & 0.2879 & 0.75 & 0.0000 &  3 & 10 &  13\\\\\n",
       "\t  5 & 2011-01-01 & 1 & 0 & 1 &  4 & 0 & 6 & 0 & 1 & 0.24 & 0.2879 & 0.75 & 0.0000 &  0 &  1 &   1\\\\\n",
       "\t  6 & 2011-01-01 & 1 & 0 & 1 &  5 & 0 & 6 & 0 & 2 & 0.24 & 0.2576 & 0.75 & 0.0896 &  0 &  1 &   1\\\\\n",
       "\t  7 & 2011-01-01 & 1 & 0 & 1 &  6 & 0 & 6 & 0 & 1 & 0.22 & 0.2727 & 0.80 & 0.0000 &  2 &  0 &   2\\\\\n",
       "\t  8 & 2011-01-01 & 1 & 0 & 1 &  7 & 0 & 6 & 0 & 1 & 0.20 & 0.2576 & 0.86 & 0.0000 &  1 &  2 &   3\\\\\n",
       "\t  9 & 2011-01-01 & 1 & 0 & 1 &  8 & 0 & 6 & 0 & 1 & 0.24 & 0.2879 & 0.75 & 0.0000 &  1 &  7 &   8\\\\\n",
       "\t 10 & 2011-01-01 & 1 & 0 & 1 &  9 & 0 & 6 & 0 & 1 & 0.32 & 0.3485 & 0.76 & 0.0000 &  8 &  6 &  14\\\\\n",
       "\t 11 & 2011-01-01 & 1 & 0 & 1 & 10 & 0 & 6 & 0 & 1 & 0.38 & 0.3939 & 0.76 & 0.2537 & 12 & 24 &  36\\\\\n",
       "\t 12 & 2011-01-01 & 1 & 0 & 1 & 11 & 0 & 6 & 0 & 1 & 0.36 & 0.3333 & 0.81 & 0.2836 & 26 & 30 &  56\\\\\n",
       "\t 13 & 2011-01-01 & 1 & 0 & 1 & 12 & 0 & 6 & 0 & 1 & 0.42 & 0.4242 & 0.77 & 0.2836 & 29 & 55 &  84\\\\\n",
       "\t 14 & 2011-01-01 & 1 & 0 & 1 & 13 & 0 & 6 & 0 & 2 & 0.46 & 0.4545 & 0.72 & 0.2985 & 47 & 47 &  94\\\\\n",
       "\t 15 & 2011-01-01 & 1 & 0 & 1 & 14 & 0 & 6 & 0 & 2 & 0.46 & 0.4545 & 0.72 & 0.2836 & 35 & 71 & 106\\\\\n",
       "\t 16 & 2011-01-01 & 1 & 0 & 1 & 15 & 0 & 6 & 0 & 2 & 0.44 & 0.4394 & 0.77 & 0.2985 & 40 & 70 & 110\\\\\n",
       "\t 17 & 2011-01-01 & 1 & 0 & 1 & 16 & 0 & 6 & 0 & 2 & 0.42 & 0.4242 & 0.82 & 0.2985 & 41 & 52 &  93\\\\\n",
       "\t 18 & 2011-01-01 & 1 & 0 & 1 & 17 & 0 & 6 & 0 & 2 & 0.44 & 0.4394 & 0.82 & 0.2836 & 15 & 52 &  67\\\\\n",
       "\t 19 & 2011-01-01 & 1 & 0 & 1 & 18 & 0 & 6 & 0 & 3 & 0.42 & 0.4242 & 0.88 & 0.2537 &  9 & 26 &  35\\\\\n",
       "\t 20 & 2011-01-01 & 1 & 0 & 1 & 19 & 0 & 6 & 0 & 3 & 0.42 & 0.4242 & 0.88 & 0.2537 &  6 & 31 &  37\\\\\n",
       "\t 21 & 2011-01-01 & 1 & 0 & 1 & 20 & 0 & 6 & 0 & 2 & 0.40 & 0.4091 & 0.87 & 0.2537 & 11 & 25 &  36\\\\\n",
       "\t 22 & 2011-01-01 & 1 & 0 & 1 & 21 & 0 & 6 & 0 & 2 & 0.40 & 0.4091 & 0.87 & 0.1940 &  3 & 31 &  34\\\\\n",
       "\t 23 & 2011-01-01 & 1 & 0 & 1 & 22 & 0 & 6 & 0 & 2 & 0.40 & 0.4091 & 0.94 & 0.2239 & 11 & 17 &  28\\\\\n",
       "\t 24 & 2011-01-01 & 1 & 0 & 1 & 23 & 0 & 6 & 0 & 2 & 0.46 & 0.4545 & 0.88 & 0.2985 & 15 & 24 &  39\\\\\n",
       "\t 25 & 2011-01-02 & 1 & 0 & 1 &  0 & 0 & 0 & 0 & 2 & 0.46 & 0.4545 & 0.88 & 0.2985 &  4 & 13 &  17\\\\\n",
       "\t 26 & 2011-01-02 & 1 & 0 & 1 &  1 & 0 & 0 & 0 & 2 & 0.44 & 0.4394 & 0.94 & 0.2537 &  1 & 16 &  17\\\\\n",
       "\t 27 & 2011-01-02 & 1 & 0 & 1 &  2 & 0 & 0 & 0 & 2 & 0.42 & 0.4242 & 1.00 & 0.2836 &  1 &  8 &   9\\\\\n",
       "\t 28 & 2011-01-02 & 1 & 0 & 1 &  3 & 0 & 0 & 0 & 2 & 0.46 & 0.4545 & 0.94 & 0.1940 &  2 &  4 &   6\\\\\n",
       "\t 29 & 2011-01-02 & 1 & 0 & 1 &  4 & 0 & 0 & 0 & 2 & 0.46 & 0.4545 & 0.94 & 0.1940 &  2 &  1 &   3\\\\\n",
       "\t 30 & 2011-01-02 & 1 & 0 & 1 &  6 & 0 & 0 & 0 & 3 & 0.42 & 0.4242 & 0.77 & 0.2985 &  0 &  2 &   2\\\\\n",
       "\t ⋮ & ⋮ & ⋮ & ⋮ & ⋮ & ⋮ & ⋮ & ⋮ & ⋮ & ⋮ & ⋮ & ⋮ & ⋮ & ⋮ & ⋮ & ⋮ & ⋮\\\\\n",
       "\t 17350 & 2012-12-30 & 1 & 1 & 12 & 18 & 0 & 0 & 0 & 2 & 0.24 & 0.2121 & 0.44 & 0.2985 & 12 & 113 & 125\\\\\n",
       "\t 17351 & 2012-12-30 & 1 & 1 & 12 & 19 & 0 & 0 & 0 & 1 & 0.34 & 0.3636 & 0.61 & 0.0000 & 16 &  86 & 102\\\\\n",
       "\t 17352 & 2012-12-30 & 1 & 1 & 12 & 20 & 0 & 0 & 0 & 1 & 0.22 & 0.1970 & 0.47 & 0.3284 &  9 &  63 &  72\\\\\n",
       "\t 17353 & 2012-12-30 & 1 & 1 & 12 & 21 & 0 & 0 & 0 & 1 & 0.20 & 0.2121 & 0.51 & 0.1642 &  5 &  42 &  47\\\\\n",
       "\t 17354 & 2012-12-30 & 1 & 1 & 12 & 22 & 0 & 0 & 0 & 1 & 0.20 & 0.1970 & 0.55 & 0.1940 &  6 &  30 &  36\\\\\n",
       "\t 17355 & 2012-12-30 & 1 & 1 & 12 & 23 & 0 & 0 & 0 & 1 & 0.20 & 0.1970 & 0.51 & 0.2239 & 10 &  39 &  49\\\\\n",
       "\t 17356 & 2012-12-31 & 1 & 1 & 12 &  0 & 0 & 1 & 1 & 1 & 0.18 & 0.1818 & 0.55 & 0.1940 &  4 &  30 &  34\\\\\n",
       "\t 17357 & 2012-12-31 & 1 & 1 & 12 &  1 & 0 & 1 & 1 & 1 & 0.18 & 0.1818 & 0.55 & 0.1940 &  6 &  13 &  19\\\\\n",
       "\t 17358 & 2012-12-31 & 1 & 1 & 12 &  2 & 0 & 1 & 1 & 1 & 0.16 & 0.1667 & 0.59 & 0.1642 &  3 &   8 &  11\\\\\n",
       "\t 17359 & 2012-12-31 & 1 & 1 & 12 &  3 & 0 & 1 & 1 & 1 & 0.16 & 0.1818 & 0.59 & 0.1045 &  0 &   1 &   1\\\\\n",
       "\t 17360 & 2012-12-31 & 1 & 1 & 12 &  4 & 0 & 1 & 1 & 1 & 0.14 & 0.1667 & 0.69 & 0.1045 &  0 &   3 &   3\\\\\n",
       "\t 17361 & 2012-12-31 & 1 & 1 & 12 &  5 & 0 & 1 & 1 & 1 & 0.16 & 0.1515 & 0.64 & 0.1940 &  0 &   9 &   9\\\\\n",
       "\t 17362 & 2012-12-31 & 1 & 1 & 12 &  6 & 0 & 1 & 1 & 1 & 0.16 & 0.1667 & 0.64 & 0.1642 &  0 &  40 &  40\\\\\n",
       "\t 17363 & 2012-12-31 & 1 & 1 & 12 &  7 & 0 & 1 & 1 & 1 & 0.16 & 0.1818 & 0.64 & 0.1343 &  2 &  83 &  85\\\\\n",
       "\t 17364 & 2012-12-31 & 1 & 1 & 12 &  8 & 0 & 1 & 1 & 1 & 0.14 & 0.1515 & 0.69 & 0.1343 &  9 & 187 & 196\\\\\n",
       "\t 17365 & 2012-12-31 & 1 & 1 & 12 &  9 & 0 & 1 & 1 & 2 & 0.18 & 0.2121 & 0.64 & 0.1045 & 13 & 144 & 157\\\\\n",
       "\t 17366 & 2012-12-31 & 1 & 1 & 12 & 10 & 0 & 1 & 1 & 2 & 0.20 & 0.2121 & 0.69 & 0.1343 & 33 &  87 & 120\\\\\n",
       "\t 17367 & 2012-12-31 & 1 & 1 & 12 & 11 & 0 & 1 & 1 & 2 & 0.22 & 0.2273 & 0.60 & 0.1940 & 43 & 114 & 157\\\\\n",
       "\t 17368 & 2012-12-31 & 1 & 1 & 12 & 12 & 0 & 1 & 1 & 2 & 0.24 & 0.2273 & 0.56 & 0.1940 & 52 & 172 & 224\\\\\n",
       "\t 17369 & 2012-12-31 & 1 & 1 & 12 & 13 & 0 & 1 & 1 & 2 & 0.26 & 0.2576 & 0.44 & 0.1642 & 38 & 165 & 203\\\\\n",
       "\t 17370 & 2012-12-31 & 1 & 1 & 12 & 14 & 0 & 1 & 1 & 2 & 0.28 & 0.2727 & 0.45 & 0.2239 & 62 & 185 & 247\\\\\n",
       "\t 17371 & 2012-12-31 & 1 & 1 & 12 & 15 & 0 & 1 & 1 & 2 & 0.28 & 0.2879 & 0.45 & 0.1343 & 69 & 246 & 315\\\\\n",
       "\t 17372 & 2012-12-31 & 1 & 1 & 12 & 16 & 0 & 1 & 1 & 2 & 0.26 & 0.2576 & 0.48 & 0.1940 & 30 & 184 & 214\\\\\n",
       "\t 17373 & 2012-12-31 & 1 & 1 & 12 & 17 & 0 & 1 & 1 & 2 & 0.26 & 0.2879 & 0.48 & 0.0896 & 14 & 150 & 164\\\\\n",
       "\t 17374 & 2012-12-31 & 1 & 1 & 12 & 18 & 0 & 1 & 1 & 2 & 0.26 & 0.2727 & 0.48 & 0.1343 & 10 & 112 & 122\\\\\n",
       "\t 17375 & 2012-12-31 & 1 & 1 & 12 & 19 & 0 & 1 & 1 & 2 & 0.26 & 0.2576 & 0.60 & 0.1642 & 11 & 108 & 119\\\\\n",
       "\t 17376 & 2012-12-31 & 1 & 1 & 12 & 20 & 0 & 1 & 1 & 2 & 0.26 & 0.2576 & 0.60 & 0.1642 &  8 &  81 &  89\\\\\n",
       "\t 17377 & 2012-12-31 & 1 & 1 & 12 & 21 & 0 & 1 & 1 & 1 & 0.26 & 0.2576 & 0.60 & 0.1642 &  7 &  83 &  90\\\\\n",
       "\t 17378 & 2012-12-31 & 1 & 1 & 12 & 22 & 0 & 1 & 1 & 1 & 0.26 & 0.2727 & 0.56 & 0.1343 & 13 &  48 &  61\\\\\n",
       "\t 17379 & 2012-12-31 & 1 & 1 & 12 & 23 & 0 & 1 & 1 & 1 & 0.26 & 0.2727 & 0.65 & 0.1343 & 12 &  37 &  49\\\\\n",
       "\\end{tabular}\n"
      ],
      "text/markdown": [
       "\n",
       "A data.frame: 17379 × 17\n",
       "\n",
       "| instant &lt;int&gt; | dteday &lt;fct&gt; | season &lt;int&gt; | yr &lt;int&gt; | mnth &lt;int&gt; | hr &lt;int&gt; | holiday &lt;int&gt; | weekday &lt;int&gt; | workingday &lt;int&gt; | weathersit &lt;int&gt; | temp &lt;dbl&gt; | atemp &lt;dbl&gt; | hum &lt;dbl&gt; | windspeed &lt;dbl&gt; | casual &lt;int&gt; | registered &lt;int&gt; | cnt &lt;int&gt; |\n",
       "|---|---|---|---|---|---|---|---|---|---|---|---|---|---|---|---|---|\n",
       "|  1 | 2011-01-01 | 1 | 0 | 1 |  0 | 0 | 6 | 0 | 1 | 0.24 | 0.2879 | 0.81 | 0.0000 |  3 | 13 |  16 |\n",
       "|  2 | 2011-01-01 | 1 | 0 | 1 |  1 | 0 | 6 | 0 | 1 | 0.22 | 0.2727 | 0.80 | 0.0000 |  8 | 32 |  40 |\n",
       "|  3 | 2011-01-01 | 1 | 0 | 1 |  2 | 0 | 6 | 0 | 1 | 0.22 | 0.2727 | 0.80 | 0.0000 |  5 | 27 |  32 |\n",
       "|  4 | 2011-01-01 | 1 | 0 | 1 |  3 | 0 | 6 | 0 | 1 | 0.24 | 0.2879 | 0.75 | 0.0000 |  3 | 10 |  13 |\n",
       "|  5 | 2011-01-01 | 1 | 0 | 1 |  4 | 0 | 6 | 0 | 1 | 0.24 | 0.2879 | 0.75 | 0.0000 |  0 |  1 |   1 |\n",
       "|  6 | 2011-01-01 | 1 | 0 | 1 |  5 | 0 | 6 | 0 | 2 | 0.24 | 0.2576 | 0.75 | 0.0896 |  0 |  1 |   1 |\n",
       "|  7 | 2011-01-01 | 1 | 0 | 1 |  6 | 0 | 6 | 0 | 1 | 0.22 | 0.2727 | 0.80 | 0.0000 |  2 |  0 |   2 |\n",
       "|  8 | 2011-01-01 | 1 | 0 | 1 |  7 | 0 | 6 | 0 | 1 | 0.20 | 0.2576 | 0.86 | 0.0000 |  1 |  2 |   3 |\n",
       "|  9 | 2011-01-01 | 1 | 0 | 1 |  8 | 0 | 6 | 0 | 1 | 0.24 | 0.2879 | 0.75 | 0.0000 |  1 |  7 |   8 |\n",
       "| 10 | 2011-01-01 | 1 | 0 | 1 |  9 | 0 | 6 | 0 | 1 | 0.32 | 0.3485 | 0.76 | 0.0000 |  8 |  6 |  14 |\n",
       "| 11 | 2011-01-01 | 1 | 0 | 1 | 10 | 0 | 6 | 0 | 1 | 0.38 | 0.3939 | 0.76 | 0.2537 | 12 | 24 |  36 |\n",
       "| 12 | 2011-01-01 | 1 | 0 | 1 | 11 | 0 | 6 | 0 | 1 | 0.36 | 0.3333 | 0.81 | 0.2836 | 26 | 30 |  56 |\n",
       "| 13 | 2011-01-01 | 1 | 0 | 1 | 12 | 0 | 6 | 0 | 1 | 0.42 | 0.4242 | 0.77 | 0.2836 | 29 | 55 |  84 |\n",
       "| 14 | 2011-01-01 | 1 | 0 | 1 | 13 | 0 | 6 | 0 | 2 | 0.46 | 0.4545 | 0.72 | 0.2985 | 47 | 47 |  94 |\n",
       "| 15 | 2011-01-01 | 1 | 0 | 1 | 14 | 0 | 6 | 0 | 2 | 0.46 | 0.4545 | 0.72 | 0.2836 | 35 | 71 | 106 |\n",
       "| 16 | 2011-01-01 | 1 | 0 | 1 | 15 | 0 | 6 | 0 | 2 | 0.44 | 0.4394 | 0.77 | 0.2985 | 40 | 70 | 110 |\n",
       "| 17 | 2011-01-01 | 1 | 0 | 1 | 16 | 0 | 6 | 0 | 2 | 0.42 | 0.4242 | 0.82 | 0.2985 | 41 | 52 |  93 |\n",
       "| 18 | 2011-01-01 | 1 | 0 | 1 | 17 | 0 | 6 | 0 | 2 | 0.44 | 0.4394 | 0.82 | 0.2836 | 15 | 52 |  67 |\n",
       "| 19 | 2011-01-01 | 1 | 0 | 1 | 18 | 0 | 6 | 0 | 3 | 0.42 | 0.4242 | 0.88 | 0.2537 |  9 | 26 |  35 |\n",
       "| 20 | 2011-01-01 | 1 | 0 | 1 | 19 | 0 | 6 | 0 | 3 | 0.42 | 0.4242 | 0.88 | 0.2537 |  6 | 31 |  37 |\n",
       "| 21 | 2011-01-01 | 1 | 0 | 1 | 20 | 0 | 6 | 0 | 2 | 0.40 | 0.4091 | 0.87 | 0.2537 | 11 | 25 |  36 |\n",
       "| 22 | 2011-01-01 | 1 | 0 | 1 | 21 | 0 | 6 | 0 | 2 | 0.40 | 0.4091 | 0.87 | 0.1940 |  3 | 31 |  34 |\n",
       "| 23 | 2011-01-01 | 1 | 0 | 1 | 22 | 0 | 6 | 0 | 2 | 0.40 | 0.4091 | 0.94 | 0.2239 | 11 | 17 |  28 |\n",
       "| 24 | 2011-01-01 | 1 | 0 | 1 | 23 | 0 | 6 | 0 | 2 | 0.46 | 0.4545 | 0.88 | 0.2985 | 15 | 24 |  39 |\n",
       "| 25 | 2011-01-02 | 1 | 0 | 1 |  0 | 0 | 0 | 0 | 2 | 0.46 | 0.4545 | 0.88 | 0.2985 |  4 | 13 |  17 |\n",
       "| 26 | 2011-01-02 | 1 | 0 | 1 |  1 | 0 | 0 | 0 | 2 | 0.44 | 0.4394 | 0.94 | 0.2537 |  1 | 16 |  17 |\n",
       "| 27 | 2011-01-02 | 1 | 0 | 1 |  2 | 0 | 0 | 0 | 2 | 0.42 | 0.4242 | 1.00 | 0.2836 |  1 |  8 |   9 |\n",
       "| 28 | 2011-01-02 | 1 | 0 | 1 |  3 | 0 | 0 | 0 | 2 | 0.46 | 0.4545 | 0.94 | 0.1940 |  2 |  4 |   6 |\n",
       "| 29 | 2011-01-02 | 1 | 0 | 1 |  4 | 0 | 0 | 0 | 2 | 0.46 | 0.4545 | 0.94 | 0.1940 |  2 |  1 |   3 |\n",
       "| 30 | 2011-01-02 | 1 | 0 | 1 |  6 | 0 | 0 | 0 | 3 | 0.42 | 0.4242 | 0.77 | 0.2985 |  0 |  2 |   2 |\n",
       "| ⋮ | ⋮ | ⋮ | ⋮ | ⋮ | ⋮ | ⋮ | ⋮ | ⋮ | ⋮ | ⋮ | ⋮ | ⋮ | ⋮ | ⋮ | ⋮ | ⋮ |\n",
       "| 17350 | 2012-12-30 | 1 | 1 | 12 | 18 | 0 | 0 | 0 | 2 | 0.24 | 0.2121 | 0.44 | 0.2985 | 12 | 113 | 125 |\n",
       "| 17351 | 2012-12-30 | 1 | 1 | 12 | 19 | 0 | 0 | 0 | 1 | 0.34 | 0.3636 | 0.61 | 0.0000 | 16 |  86 | 102 |\n",
       "| 17352 | 2012-12-30 | 1 | 1 | 12 | 20 | 0 | 0 | 0 | 1 | 0.22 | 0.1970 | 0.47 | 0.3284 |  9 |  63 |  72 |\n",
       "| 17353 | 2012-12-30 | 1 | 1 | 12 | 21 | 0 | 0 | 0 | 1 | 0.20 | 0.2121 | 0.51 | 0.1642 |  5 |  42 |  47 |\n",
       "| 17354 | 2012-12-30 | 1 | 1 | 12 | 22 | 0 | 0 | 0 | 1 | 0.20 | 0.1970 | 0.55 | 0.1940 |  6 |  30 |  36 |\n",
       "| 17355 | 2012-12-30 | 1 | 1 | 12 | 23 | 0 | 0 | 0 | 1 | 0.20 | 0.1970 | 0.51 | 0.2239 | 10 |  39 |  49 |\n",
       "| 17356 | 2012-12-31 | 1 | 1 | 12 |  0 | 0 | 1 | 1 | 1 | 0.18 | 0.1818 | 0.55 | 0.1940 |  4 |  30 |  34 |\n",
       "| 17357 | 2012-12-31 | 1 | 1 | 12 |  1 | 0 | 1 | 1 | 1 | 0.18 | 0.1818 | 0.55 | 0.1940 |  6 |  13 |  19 |\n",
       "| 17358 | 2012-12-31 | 1 | 1 | 12 |  2 | 0 | 1 | 1 | 1 | 0.16 | 0.1667 | 0.59 | 0.1642 |  3 |   8 |  11 |\n",
       "| 17359 | 2012-12-31 | 1 | 1 | 12 |  3 | 0 | 1 | 1 | 1 | 0.16 | 0.1818 | 0.59 | 0.1045 |  0 |   1 |   1 |\n",
       "| 17360 | 2012-12-31 | 1 | 1 | 12 |  4 | 0 | 1 | 1 | 1 | 0.14 | 0.1667 | 0.69 | 0.1045 |  0 |   3 |   3 |\n",
       "| 17361 | 2012-12-31 | 1 | 1 | 12 |  5 | 0 | 1 | 1 | 1 | 0.16 | 0.1515 | 0.64 | 0.1940 |  0 |   9 |   9 |\n",
       "| 17362 | 2012-12-31 | 1 | 1 | 12 |  6 | 0 | 1 | 1 | 1 | 0.16 | 0.1667 | 0.64 | 0.1642 |  0 |  40 |  40 |\n",
       "| 17363 | 2012-12-31 | 1 | 1 | 12 |  7 | 0 | 1 | 1 | 1 | 0.16 | 0.1818 | 0.64 | 0.1343 |  2 |  83 |  85 |\n",
       "| 17364 | 2012-12-31 | 1 | 1 | 12 |  8 | 0 | 1 | 1 | 1 | 0.14 | 0.1515 | 0.69 | 0.1343 |  9 | 187 | 196 |\n",
       "| 17365 | 2012-12-31 | 1 | 1 | 12 |  9 | 0 | 1 | 1 | 2 | 0.18 | 0.2121 | 0.64 | 0.1045 | 13 | 144 | 157 |\n",
       "| 17366 | 2012-12-31 | 1 | 1 | 12 | 10 | 0 | 1 | 1 | 2 | 0.20 | 0.2121 | 0.69 | 0.1343 | 33 |  87 | 120 |\n",
       "| 17367 | 2012-12-31 | 1 | 1 | 12 | 11 | 0 | 1 | 1 | 2 | 0.22 | 0.2273 | 0.60 | 0.1940 | 43 | 114 | 157 |\n",
       "| 17368 | 2012-12-31 | 1 | 1 | 12 | 12 | 0 | 1 | 1 | 2 | 0.24 | 0.2273 | 0.56 | 0.1940 | 52 | 172 | 224 |\n",
       "| 17369 | 2012-12-31 | 1 | 1 | 12 | 13 | 0 | 1 | 1 | 2 | 0.26 | 0.2576 | 0.44 | 0.1642 | 38 | 165 | 203 |\n",
       "| 17370 | 2012-12-31 | 1 | 1 | 12 | 14 | 0 | 1 | 1 | 2 | 0.28 | 0.2727 | 0.45 | 0.2239 | 62 | 185 | 247 |\n",
       "| 17371 | 2012-12-31 | 1 | 1 | 12 | 15 | 0 | 1 | 1 | 2 | 0.28 | 0.2879 | 0.45 | 0.1343 | 69 | 246 | 315 |\n",
       "| 17372 | 2012-12-31 | 1 | 1 | 12 | 16 | 0 | 1 | 1 | 2 | 0.26 | 0.2576 | 0.48 | 0.1940 | 30 | 184 | 214 |\n",
       "| 17373 | 2012-12-31 | 1 | 1 | 12 | 17 | 0 | 1 | 1 | 2 | 0.26 | 0.2879 | 0.48 | 0.0896 | 14 | 150 | 164 |\n",
       "| 17374 | 2012-12-31 | 1 | 1 | 12 | 18 | 0 | 1 | 1 | 2 | 0.26 | 0.2727 | 0.48 | 0.1343 | 10 | 112 | 122 |\n",
       "| 17375 | 2012-12-31 | 1 | 1 | 12 | 19 | 0 | 1 | 1 | 2 | 0.26 | 0.2576 | 0.60 | 0.1642 | 11 | 108 | 119 |\n",
       "| 17376 | 2012-12-31 | 1 | 1 | 12 | 20 | 0 | 1 | 1 | 2 | 0.26 | 0.2576 | 0.60 | 0.1642 |  8 |  81 |  89 |\n",
       "| 17377 | 2012-12-31 | 1 | 1 | 12 | 21 | 0 | 1 | 1 | 1 | 0.26 | 0.2576 | 0.60 | 0.1642 |  7 |  83 |  90 |\n",
       "| 17378 | 2012-12-31 | 1 | 1 | 12 | 22 | 0 | 1 | 1 | 1 | 0.26 | 0.2727 | 0.56 | 0.1343 | 13 |  48 |  61 |\n",
       "| 17379 | 2012-12-31 | 1 | 1 | 12 | 23 | 0 | 1 | 1 | 1 | 0.26 | 0.2727 | 0.65 | 0.1343 | 12 |  37 |  49 |\n",
       "\n"
      ],
      "text/plain": [
       "      instant dteday     season yr mnth hr holiday weekday workingday\n",
       "1      1      2011-01-01 1      0  1     0 0       6       0         \n",
       "2      2      2011-01-01 1      0  1     1 0       6       0         \n",
       "3      3      2011-01-01 1      0  1     2 0       6       0         \n",
       "4      4      2011-01-01 1      0  1     3 0       6       0         \n",
       "5      5      2011-01-01 1      0  1     4 0       6       0         \n",
       "6      6      2011-01-01 1      0  1     5 0       6       0         \n",
       "7      7      2011-01-01 1      0  1     6 0       6       0         \n",
       "8      8      2011-01-01 1      0  1     7 0       6       0         \n",
       "9      9      2011-01-01 1      0  1     8 0       6       0         \n",
       "10    10      2011-01-01 1      0  1     9 0       6       0         \n",
       "11    11      2011-01-01 1      0  1    10 0       6       0         \n",
       "12    12      2011-01-01 1      0  1    11 0       6       0         \n",
       "13    13      2011-01-01 1      0  1    12 0       6       0         \n",
       "14    14      2011-01-01 1      0  1    13 0       6       0         \n",
       "15    15      2011-01-01 1      0  1    14 0       6       0         \n",
       "16    16      2011-01-01 1      0  1    15 0       6       0         \n",
       "17    17      2011-01-01 1      0  1    16 0       6       0         \n",
       "18    18      2011-01-01 1      0  1    17 0       6       0         \n",
       "19    19      2011-01-01 1      0  1    18 0       6       0         \n",
       "20    20      2011-01-01 1      0  1    19 0       6       0         \n",
       "21    21      2011-01-01 1      0  1    20 0       6       0         \n",
       "22    22      2011-01-01 1      0  1    21 0       6       0         \n",
       "23    23      2011-01-01 1      0  1    22 0       6       0         \n",
       "24    24      2011-01-01 1      0  1    23 0       6       0         \n",
       "25    25      2011-01-02 1      0  1     0 0       0       0         \n",
       "26    26      2011-01-02 1      0  1     1 0       0       0         \n",
       "27    27      2011-01-02 1      0  1     2 0       0       0         \n",
       "28    28      2011-01-02 1      0  1     3 0       0       0         \n",
       "29    29      2011-01-02 1      0  1     4 0       0       0         \n",
       "30    30      2011-01-02 1      0  1     6 0       0       0         \n",
       "<U+22EE>     <U+22EE> <U+22EE>   <U+22EE> <U+22EE> <U+22EE> <U+22EE> <U+22EE> <U+22EE> <U+22EE>  \n",
       "17350 17350   2012-12-30 1      1  12   18 0       0       0         \n",
       "17351 17351   2012-12-30 1      1  12   19 0       0       0         \n",
       "17352 17352   2012-12-30 1      1  12   20 0       0       0         \n",
       "17353 17353   2012-12-30 1      1  12   21 0       0       0         \n",
       "17354 17354   2012-12-30 1      1  12   22 0       0       0         \n",
       "17355 17355   2012-12-30 1      1  12   23 0       0       0         \n",
       "17356 17356   2012-12-31 1      1  12    0 0       1       1         \n",
       "17357 17357   2012-12-31 1      1  12    1 0       1       1         \n",
       "17358 17358   2012-12-31 1      1  12    2 0       1       1         \n",
       "17359 17359   2012-12-31 1      1  12    3 0       1       1         \n",
       "17360 17360   2012-12-31 1      1  12    4 0       1       1         \n",
       "17361 17361   2012-12-31 1      1  12    5 0       1       1         \n",
       "17362 17362   2012-12-31 1      1  12    6 0       1       1         \n",
       "17363 17363   2012-12-31 1      1  12    7 0       1       1         \n",
       "17364 17364   2012-12-31 1      1  12    8 0       1       1         \n",
       "17365 17365   2012-12-31 1      1  12    9 0       1       1         \n",
       "17366 17366   2012-12-31 1      1  12   10 0       1       1         \n",
       "17367 17367   2012-12-31 1      1  12   11 0       1       1         \n",
       "17368 17368   2012-12-31 1      1  12   12 0       1       1         \n",
       "17369 17369   2012-12-31 1      1  12   13 0       1       1         \n",
       "17370 17370   2012-12-31 1      1  12   14 0       1       1         \n",
       "17371 17371   2012-12-31 1      1  12   15 0       1       1         \n",
       "17372 17372   2012-12-31 1      1  12   16 0       1       1         \n",
       "17373 17373   2012-12-31 1      1  12   17 0       1       1         \n",
       "17374 17374   2012-12-31 1      1  12   18 0       1       1         \n",
       "17375 17375   2012-12-31 1      1  12   19 0       1       1         \n",
       "17376 17376   2012-12-31 1      1  12   20 0       1       1         \n",
       "17377 17377   2012-12-31 1      1  12   21 0       1       1         \n",
       "17378 17378   2012-12-31 1      1  12   22 0       1       1         \n",
       "17379 17379   2012-12-31 1      1  12   23 0       1       1         \n",
       "      weathersit temp atemp  hum  windspeed casual registered cnt\n",
       "1     1          0.24 0.2879 0.81 0.0000     3     13          16\n",
       "2     1          0.22 0.2727 0.80 0.0000     8     32          40\n",
       "3     1          0.22 0.2727 0.80 0.0000     5     27          32\n",
       "4     1          0.24 0.2879 0.75 0.0000     3     10          13\n",
       "5     1          0.24 0.2879 0.75 0.0000     0      1           1\n",
       "6     2          0.24 0.2576 0.75 0.0896     0      1           1\n",
       "7     1          0.22 0.2727 0.80 0.0000     2      0           2\n",
       "8     1          0.20 0.2576 0.86 0.0000     1      2           3\n",
       "9     1          0.24 0.2879 0.75 0.0000     1      7           8\n",
       "10    1          0.32 0.3485 0.76 0.0000     8      6          14\n",
       "11    1          0.38 0.3939 0.76 0.2537    12     24          36\n",
       "12    1          0.36 0.3333 0.81 0.2836    26     30          56\n",
       "13    1          0.42 0.4242 0.77 0.2836    29     55          84\n",
       "14    2          0.46 0.4545 0.72 0.2985    47     47          94\n",
       "15    2          0.46 0.4545 0.72 0.2836    35     71         106\n",
       "16    2          0.44 0.4394 0.77 0.2985    40     70         110\n",
       "17    2          0.42 0.4242 0.82 0.2985    41     52          93\n",
       "18    2          0.44 0.4394 0.82 0.2836    15     52          67\n",
       "19    3          0.42 0.4242 0.88 0.2537     9     26          35\n",
       "20    3          0.42 0.4242 0.88 0.2537     6     31          37\n",
       "21    2          0.40 0.4091 0.87 0.2537    11     25          36\n",
       "22    2          0.40 0.4091 0.87 0.1940     3     31          34\n",
       "23    2          0.40 0.4091 0.94 0.2239    11     17          28\n",
       "24    2          0.46 0.4545 0.88 0.2985    15     24          39\n",
       "25    2          0.46 0.4545 0.88 0.2985     4     13          17\n",
       "26    2          0.44 0.4394 0.94 0.2537     1     16          17\n",
       "27    2          0.42 0.4242 1.00 0.2836     1      8           9\n",
       "28    2          0.46 0.4545 0.94 0.1940     2      4           6\n",
       "29    2          0.46 0.4545 0.94 0.1940     2      1           3\n",
       "30    3          0.42 0.4242 0.77 0.2985     0      2           2\n",
       "<U+22EE>     <U+22EE>   <U+22EE> <U+22EE> <U+22EE> <U+22EE>  <U+22EE> <U+22EE>   <U+22EE>\n",
       "17350 2          0.24 0.2121 0.44 0.2985    12     113        125\n",
       "17351 1          0.34 0.3636 0.61 0.0000    16      86        102\n",
       "17352 1          0.22 0.1970 0.47 0.3284     9      63         72\n",
       "17353 1          0.20 0.2121 0.51 0.1642     5      42         47\n",
       "17354 1          0.20 0.1970 0.55 0.1940     6      30         36\n",
       "17355 1          0.20 0.1970 0.51 0.2239    10      39         49\n",
       "17356 1          0.18 0.1818 0.55 0.1940     4      30         34\n",
       "17357 1          0.18 0.1818 0.55 0.1940     6      13         19\n",
       "17358 1          0.16 0.1667 0.59 0.1642     3       8         11\n",
       "17359 1          0.16 0.1818 0.59 0.1045     0       1          1\n",
       "17360 1          0.14 0.1667 0.69 0.1045     0       3          3\n",
       "17361 1          0.16 0.1515 0.64 0.1940     0       9          9\n",
       "17362 1          0.16 0.1667 0.64 0.1642     0      40         40\n",
       "17363 1          0.16 0.1818 0.64 0.1343     2      83         85\n",
       "17364 1          0.14 0.1515 0.69 0.1343     9     187        196\n",
       "17365 2          0.18 0.2121 0.64 0.1045    13     144        157\n",
       "17366 2          0.20 0.2121 0.69 0.1343    33      87        120\n",
       "17367 2          0.22 0.2273 0.60 0.1940    43     114        157\n",
       "17368 2          0.24 0.2273 0.56 0.1940    52     172        224\n",
       "17369 2          0.26 0.2576 0.44 0.1642    38     165        203\n",
       "17370 2          0.28 0.2727 0.45 0.2239    62     185        247\n",
       "17371 2          0.28 0.2879 0.45 0.1343    69     246        315\n",
       "17372 2          0.26 0.2576 0.48 0.1940    30     184        214\n",
       "17373 2          0.26 0.2879 0.48 0.0896    14     150        164\n",
       "17374 2          0.26 0.2727 0.48 0.1343    10     112        122\n",
       "17375 2          0.26 0.2576 0.60 0.1642    11     108        119\n",
       "17376 2          0.26 0.2576 0.60 0.1642     8      81         89\n",
       "17377 1          0.26 0.2576 0.60 0.1642     7      83         90\n",
       "17378 1          0.26 0.2727 0.56 0.1343    13      48         61\n",
       "17379 1          0.26 0.2727 0.65 0.1343    12      37         49"
      ]
     },
     "metadata": {},
     "output_type": "display_data"
    },
    {
     "data": {
      "text/html": [
       "TRUE"
      ],
      "text/latex": [
       "TRUE"
      ],
      "text/markdown": [
       "TRUE"
      ],
      "text/plain": [
       "[1] TRUE"
      ]
     },
     "metadata": {},
     "output_type": "display_data"
    }
   ],
   "source": [
    "bike_df <- read.csv(file = \"hour.csv\")\n",
    "#evaluate if bike_df is dataframe and coerce if not\n",
    "as.data.frame(bike_df)\n",
    "#check if dataframe\n",
    "is.data.frame(bike_df)\n"
   ]
  },
  {
   "cell_type": "code",
   "execution_count": 5,
   "metadata": {
    "vscode": {
     "languageId": "r"
    }
   },
   "outputs": [
    {
     "data": {
      "text/html": [
       "<table class=\"dataframe\">\n",
       "<caption>A data.frame: 10 × 17</caption>\n",
       "<thead>\n",
       "\t<tr><th></th><th scope=col>instant</th><th scope=col>dteday</th><th scope=col>season</th><th scope=col>yr</th><th scope=col>mnth</th><th scope=col>hr</th><th scope=col>holiday</th><th scope=col>weekday</th><th scope=col>workingday</th><th scope=col>weathersit</th><th scope=col>temp</th><th scope=col>atemp</th><th scope=col>hum</th><th scope=col>windspeed</th><th scope=col>casual</th><th scope=col>registered</th><th scope=col>cnt</th></tr>\n",
       "\t<tr><th></th><th scope=col>&lt;int&gt;</th><th scope=col>&lt;fct&gt;</th><th scope=col>&lt;int&gt;</th><th scope=col>&lt;int&gt;</th><th scope=col>&lt;int&gt;</th><th scope=col>&lt;int&gt;</th><th scope=col>&lt;int&gt;</th><th scope=col>&lt;int&gt;</th><th scope=col>&lt;int&gt;</th><th scope=col>&lt;int&gt;</th><th scope=col>&lt;dbl&gt;</th><th scope=col>&lt;dbl&gt;</th><th scope=col>&lt;dbl&gt;</th><th scope=col>&lt;dbl&gt;</th><th scope=col>&lt;int&gt;</th><th scope=col>&lt;int&gt;</th><th scope=col>&lt;int&gt;</th></tr>\n",
       "</thead>\n",
       "<tbody>\n",
       "\t<tr><th scope=row>1</th><td> 1</td><td>2011-01-01</td><td>1</td><td>0</td><td>1</td><td>0</td><td>0</td><td>6</td><td>0</td><td>1</td><td>0.24</td><td>0.2879</td><td>0.81</td><td>0.0000</td><td>3</td><td>13</td><td>16</td></tr>\n",
       "\t<tr><th scope=row>2</th><td> 2</td><td>2011-01-01</td><td>1</td><td>0</td><td>1</td><td>1</td><td>0</td><td>6</td><td>0</td><td>1</td><td>0.22</td><td>0.2727</td><td>0.80</td><td>0.0000</td><td>8</td><td>32</td><td>40</td></tr>\n",
       "\t<tr><th scope=row>3</th><td> 3</td><td>2011-01-01</td><td>1</td><td>0</td><td>1</td><td>2</td><td>0</td><td>6</td><td>0</td><td>1</td><td>0.22</td><td>0.2727</td><td>0.80</td><td>0.0000</td><td>5</td><td>27</td><td>32</td></tr>\n",
       "\t<tr><th scope=row>4</th><td> 4</td><td>2011-01-01</td><td>1</td><td>0</td><td>1</td><td>3</td><td>0</td><td>6</td><td>0</td><td>1</td><td>0.24</td><td>0.2879</td><td>0.75</td><td>0.0000</td><td>3</td><td>10</td><td>13</td></tr>\n",
       "\t<tr><th scope=row>5</th><td> 5</td><td>2011-01-01</td><td>1</td><td>0</td><td>1</td><td>4</td><td>0</td><td>6</td><td>0</td><td>1</td><td>0.24</td><td>0.2879</td><td>0.75</td><td>0.0000</td><td>0</td><td> 1</td><td> 1</td></tr>\n",
       "\t<tr><th scope=row>6</th><td> 6</td><td>2011-01-01</td><td>1</td><td>0</td><td>1</td><td>5</td><td>0</td><td>6</td><td>0</td><td>2</td><td>0.24</td><td>0.2576</td><td>0.75</td><td>0.0896</td><td>0</td><td> 1</td><td> 1</td></tr>\n",
       "\t<tr><th scope=row>7</th><td> 7</td><td>2011-01-01</td><td>1</td><td>0</td><td>1</td><td>6</td><td>0</td><td>6</td><td>0</td><td>1</td><td>0.22</td><td>0.2727</td><td>0.80</td><td>0.0000</td><td>2</td><td> 0</td><td> 2</td></tr>\n",
       "\t<tr><th scope=row>8</th><td> 8</td><td>2011-01-01</td><td>1</td><td>0</td><td>1</td><td>7</td><td>0</td><td>6</td><td>0</td><td>1</td><td>0.20</td><td>0.2576</td><td>0.86</td><td>0.0000</td><td>1</td><td> 2</td><td> 3</td></tr>\n",
       "\t<tr><th scope=row>9</th><td> 9</td><td>2011-01-01</td><td>1</td><td>0</td><td>1</td><td>8</td><td>0</td><td>6</td><td>0</td><td>1</td><td>0.24</td><td>0.2879</td><td>0.75</td><td>0.0000</td><td>1</td><td> 7</td><td> 8</td></tr>\n",
       "\t<tr><th scope=row>10</th><td>10</td><td>2011-01-01</td><td>1</td><td>0</td><td>1</td><td>9</td><td>0</td><td>6</td><td>0</td><td>1</td><td>0.32</td><td>0.3485</td><td>0.76</td><td>0.0000</td><td>8</td><td> 6</td><td>14</td></tr>\n",
       "</tbody>\n",
       "</table>\n"
      ],
      "text/latex": [
       "A data.frame: 10 × 17\n",
       "\\begin{tabular}{r|lllllllllllllllll}\n",
       "  & instant & dteday & season & yr & mnth & hr & holiday & weekday & workingday & weathersit & temp & atemp & hum & windspeed & casual & registered & cnt\\\\\n",
       "  & <int> & <fct> & <int> & <int> & <int> & <int> & <int> & <int> & <int> & <int> & <dbl> & <dbl> & <dbl> & <dbl> & <int> & <int> & <int>\\\\\n",
       "\\hline\n",
       "\t1 &  1 & 2011-01-01 & 1 & 0 & 1 & 0 & 0 & 6 & 0 & 1 & 0.24 & 0.2879 & 0.81 & 0.0000 & 3 & 13 & 16\\\\\n",
       "\t2 &  2 & 2011-01-01 & 1 & 0 & 1 & 1 & 0 & 6 & 0 & 1 & 0.22 & 0.2727 & 0.80 & 0.0000 & 8 & 32 & 40\\\\\n",
       "\t3 &  3 & 2011-01-01 & 1 & 0 & 1 & 2 & 0 & 6 & 0 & 1 & 0.22 & 0.2727 & 0.80 & 0.0000 & 5 & 27 & 32\\\\\n",
       "\t4 &  4 & 2011-01-01 & 1 & 0 & 1 & 3 & 0 & 6 & 0 & 1 & 0.24 & 0.2879 & 0.75 & 0.0000 & 3 & 10 & 13\\\\\n",
       "\t5 &  5 & 2011-01-01 & 1 & 0 & 1 & 4 & 0 & 6 & 0 & 1 & 0.24 & 0.2879 & 0.75 & 0.0000 & 0 &  1 &  1\\\\\n",
       "\t6 &  6 & 2011-01-01 & 1 & 0 & 1 & 5 & 0 & 6 & 0 & 2 & 0.24 & 0.2576 & 0.75 & 0.0896 & 0 &  1 &  1\\\\\n",
       "\t7 &  7 & 2011-01-01 & 1 & 0 & 1 & 6 & 0 & 6 & 0 & 1 & 0.22 & 0.2727 & 0.80 & 0.0000 & 2 &  0 &  2\\\\\n",
       "\t8 &  8 & 2011-01-01 & 1 & 0 & 1 & 7 & 0 & 6 & 0 & 1 & 0.20 & 0.2576 & 0.86 & 0.0000 & 1 &  2 &  3\\\\\n",
       "\t9 &  9 & 2011-01-01 & 1 & 0 & 1 & 8 & 0 & 6 & 0 & 1 & 0.24 & 0.2879 & 0.75 & 0.0000 & 1 &  7 &  8\\\\\n",
       "\t10 & 10 & 2011-01-01 & 1 & 0 & 1 & 9 & 0 & 6 & 0 & 1 & 0.32 & 0.3485 & 0.76 & 0.0000 & 8 &  6 & 14\\\\\n",
       "\\end{tabular}\n"
      ],
      "text/markdown": [
       "\n",
       "A data.frame: 10 × 17\n",
       "\n",
       "| <!--/--> | instant &lt;int&gt; | dteday &lt;fct&gt; | season &lt;int&gt; | yr &lt;int&gt; | mnth &lt;int&gt; | hr &lt;int&gt; | holiday &lt;int&gt; | weekday &lt;int&gt; | workingday &lt;int&gt; | weathersit &lt;int&gt; | temp &lt;dbl&gt; | atemp &lt;dbl&gt; | hum &lt;dbl&gt; | windspeed &lt;dbl&gt; | casual &lt;int&gt; | registered &lt;int&gt; | cnt &lt;int&gt; |\n",
       "|---|---|---|---|---|---|---|---|---|---|---|---|---|---|---|---|---|---|\n",
       "| 1 |  1 | 2011-01-01 | 1 | 0 | 1 | 0 | 0 | 6 | 0 | 1 | 0.24 | 0.2879 | 0.81 | 0.0000 | 3 | 13 | 16 |\n",
       "| 2 |  2 | 2011-01-01 | 1 | 0 | 1 | 1 | 0 | 6 | 0 | 1 | 0.22 | 0.2727 | 0.80 | 0.0000 | 8 | 32 | 40 |\n",
       "| 3 |  3 | 2011-01-01 | 1 | 0 | 1 | 2 | 0 | 6 | 0 | 1 | 0.22 | 0.2727 | 0.80 | 0.0000 | 5 | 27 | 32 |\n",
       "| 4 |  4 | 2011-01-01 | 1 | 0 | 1 | 3 | 0 | 6 | 0 | 1 | 0.24 | 0.2879 | 0.75 | 0.0000 | 3 | 10 | 13 |\n",
       "| 5 |  5 | 2011-01-01 | 1 | 0 | 1 | 4 | 0 | 6 | 0 | 1 | 0.24 | 0.2879 | 0.75 | 0.0000 | 0 |  1 |  1 |\n",
       "| 6 |  6 | 2011-01-01 | 1 | 0 | 1 | 5 | 0 | 6 | 0 | 2 | 0.24 | 0.2576 | 0.75 | 0.0896 | 0 |  1 |  1 |\n",
       "| 7 |  7 | 2011-01-01 | 1 | 0 | 1 | 6 | 0 | 6 | 0 | 1 | 0.22 | 0.2727 | 0.80 | 0.0000 | 2 |  0 |  2 |\n",
       "| 8 |  8 | 2011-01-01 | 1 | 0 | 1 | 7 | 0 | 6 | 0 | 1 | 0.20 | 0.2576 | 0.86 | 0.0000 | 1 |  2 |  3 |\n",
       "| 9 |  9 | 2011-01-01 | 1 | 0 | 1 | 8 | 0 | 6 | 0 | 1 | 0.24 | 0.2879 | 0.75 | 0.0000 | 1 |  7 |  8 |\n",
       "| 10 | 10 | 2011-01-01 | 1 | 0 | 1 | 9 | 0 | 6 | 0 | 1 | 0.32 | 0.3485 | 0.76 | 0.0000 | 8 |  6 | 14 |\n",
       "\n"
      ],
      "text/plain": [
       "   instant dteday     season yr mnth hr holiday weekday workingday weathersit\n",
       "1   1      2011-01-01 1      0  1    0  0       6       0          1         \n",
       "2   2      2011-01-01 1      0  1    1  0       6       0          1         \n",
       "3   3      2011-01-01 1      0  1    2  0       6       0          1         \n",
       "4   4      2011-01-01 1      0  1    3  0       6       0          1         \n",
       "5   5      2011-01-01 1      0  1    4  0       6       0          1         \n",
       "6   6      2011-01-01 1      0  1    5  0       6       0          2         \n",
       "7   7      2011-01-01 1      0  1    6  0       6       0          1         \n",
       "8   8      2011-01-01 1      0  1    7  0       6       0          1         \n",
       "9   9      2011-01-01 1      0  1    8  0       6       0          1         \n",
       "10 10      2011-01-01 1      0  1    9  0       6       0          1         \n",
       "   temp atemp  hum  windspeed casual registered cnt\n",
       "1  0.24 0.2879 0.81 0.0000    3      13         16 \n",
       "2  0.22 0.2727 0.80 0.0000    8      32         40 \n",
       "3  0.22 0.2727 0.80 0.0000    5      27         32 \n",
       "4  0.24 0.2879 0.75 0.0000    3      10         13 \n",
       "5  0.24 0.2879 0.75 0.0000    0       1          1 \n",
       "6  0.24 0.2576 0.75 0.0896    0       1          1 \n",
       "7  0.22 0.2727 0.80 0.0000    2       0          2 \n",
       "8  0.20 0.2576 0.86 0.0000    1       2          3 \n",
       "9  0.24 0.2879 0.75 0.0000    1       7          8 \n",
       "10 0.32 0.3485 0.76 0.0000    8       6         14 "
      ]
     },
     "metadata": {},
     "output_type": "display_data"
    },
    {
     "data": {
      "text/html": [
       "17"
      ],
      "text/latex": [
       "17"
      ],
      "text/markdown": [
       "17"
      ],
      "text/plain": [
       "[1] 17"
      ]
     },
     "metadata": {},
     "output_type": "display_data"
    },
    {
     "data": {
      "text/html": [
       "<style>\n",
       ".list-inline {list-style: none; margin:0; padding: 0}\n",
       ".list-inline>li {display: inline-block}\n",
       ".list-inline>li:not(:last-child)::after {content: \"\\00b7\"; padding: 0 .5ex}\n",
       "</style>\n",
       "<ol class=list-inline><li>'instant'</li><li>'dteday'</li><li>'season'</li><li>'yr'</li><li>'mnth'</li><li>'hr'</li><li>'holiday'</li><li>'weekday'</li><li>'workingday'</li><li>'weathersit'</li><li>'temp'</li><li>'atemp'</li><li>'hum'</li><li>'windspeed'</li><li>'casual'</li><li>'registered'</li><li>'cnt'</li></ol>\n"
      ],
      "text/latex": [
       "\\begin{enumerate*}\n",
       "\\item 'instant'\n",
       "\\item 'dteday'\n",
       "\\item 'season'\n",
       "\\item 'yr'\n",
       "\\item 'mnth'\n",
       "\\item 'hr'\n",
       "\\item 'holiday'\n",
       "\\item 'weekday'\n",
       "\\item 'workingday'\n",
       "\\item 'weathersit'\n",
       "\\item 'temp'\n",
       "\\item 'atemp'\n",
       "\\item 'hum'\n",
       "\\item 'windspeed'\n",
       "\\item 'casual'\n",
       "\\item 'registered'\n",
       "\\item 'cnt'\n",
       "\\end{enumerate*}\n"
      ],
      "text/markdown": [
       "1. 'instant'\n",
       "2. 'dteday'\n",
       "3. 'season'\n",
       "4. 'yr'\n",
       "5. 'mnth'\n",
       "6. 'hr'\n",
       "7. 'holiday'\n",
       "8. 'weekday'\n",
       "9. 'workingday'\n",
       "10. 'weathersit'\n",
       "11. 'temp'\n",
       "12. 'atemp'\n",
       "13. 'hum'\n",
       "14. 'windspeed'\n",
       "15. 'casual'\n",
       "16. 'registered'\n",
       "17. 'cnt'\n",
       "\n",
       "\n"
      ],
      "text/plain": [
       " [1] \"instant\"    \"dteday\"     \"season\"     \"yr\"         \"mnth\"      \n",
       " [6] \"hr\"         \"holiday\"    \"weekday\"    \"workingday\" \"weathersit\"\n",
       "[11] \"temp\"       \"atemp\"      \"hum\"        \"windspeed\"  \"casual\"    \n",
       "[16] \"registered\" \"cnt\"       "
      ]
     },
     "metadata": {},
     "output_type": "display_data"
    },
    {
     "data": {
      "text/html": [
       "17379"
      ],
      "text/latex": [
       "17379"
      ],
      "text/markdown": [
       "17379"
      ],
      "text/plain": [
       "[1] 17379"
      ]
     },
     "metadata": {},
     "output_type": "display_data"
    }
   ],
   "source": [
    "#show first 10 rows of bike_df\n",
    "head(bike_df, n=10)\n",
    "#show number of rows\n",
    "ncol(bike_df)\n",
    "#show column names\n",
    "colnames(bike_df)\n",
    "#counts the number of rows\n",
    "nrow(bike_df)"
   ]
  },
  {
   "cell_type": "code",
   "execution_count": 6,
   "metadata": {
    "vscode": {
     "languageId": "r"
    }
   },
   "outputs": [
    {
     "data": {
      "image/png": "[encoded data removed]",
      "text/plain": [
       "plot without title"
      ]
     },
     "metadata": {
      "image/png": {
       "height": 420,
       "width": 420
      }
     },
     "output_type": "display_data"
    }
   ],
   "source": [
    "#show empty column names\n",
    "# Check missing data\n",
    "vis_miss(bike_df)"
   ]
  },
  {
   "cell_type": "code",
   "execution_count": 7,
   "metadata": {
    "vscode": {
     "languageId": "r"
    }
   },
   "outputs": [
    {
     "data": {
      "text/plain": [
       "    instant             dteday          season            yr        \n",
       " Min.   :    1   2011-01-01:   24   Min.   :1.000   Min.   :0.0000  \n",
       " 1st Qu.: 4346   2011-01-08:   24   1st Qu.:2.000   1st Qu.:0.0000  \n",
       " Median : 8690   2011-01-09:   24   Median :3.000   Median :1.0000  \n",
       " Mean   : 8690   2011-01-10:   24   Mean   :2.502   Mean   :0.5026  \n",
       " 3rd Qu.:13034   2011-01-13:   24   3rd Qu.:3.000   3rd Qu.:1.0000  \n",
       " Max.   :17379   2011-01-15:   24   Max.   :4.000   Max.   :1.0000  \n",
       "                 (Other)   :17235                                   \n",
       "      mnth              hr           holiday           weekday     \n",
       " Min.   : 1.000   Min.   : 0.00   Min.   :0.00000   Min.   :0.000  \n",
       " 1st Qu.: 4.000   1st Qu.: 6.00   1st Qu.:0.00000   1st Qu.:1.000  \n",
       " Median : 7.000   Median :12.00   Median :0.00000   Median :3.000  \n",
       " Mean   : 6.538   Mean   :11.55   Mean   :0.02877   Mean   :3.004  \n",
       " 3rd Qu.:10.000   3rd Qu.:18.00   3rd Qu.:0.00000   3rd Qu.:5.000  \n",
       " Max.   :12.000   Max.   :23.00   Max.   :1.00000   Max.   :6.000  \n",
       "                                                                   \n",
       "   workingday       weathersit         temp           atemp       \n",
       " Min.   :0.0000   Min.   :1.000   Min.   :0.020   Min.   :0.0000  \n",
       " 1st Qu.:0.0000   1st Qu.:1.000   1st Qu.:0.340   1st Qu.:0.3333  \n",
       " Median :1.0000   Median :1.000   Median :0.500   Median :0.4848  \n",
       " Mean   :0.6827   Mean   :1.425   Mean   :0.497   Mean   :0.4758  \n",
       " 3rd Qu.:1.0000   3rd Qu.:2.000   3rd Qu.:0.660   3rd Qu.:0.6212  \n",
       " Max.   :1.0000   Max.   :4.000   Max.   :1.000   Max.   :1.0000  \n",
       "                                                                  \n",
       "      hum           windspeed          casual         registered   \n",
       " Min.   :0.0000   Min.   :0.0000   Min.   :  0.00   Min.   :  0.0  \n",
       " 1st Qu.:0.4800   1st Qu.:0.1045   1st Qu.:  4.00   1st Qu.: 34.0  \n",
       " Median :0.6300   Median :0.1940   Median : 17.00   Median :115.0  \n",
       " Mean   :0.6272   Mean   :0.1901   Mean   : 35.68   Mean   :153.8  \n",
       " 3rd Qu.:0.7800   3rd Qu.:0.2537   3rd Qu.: 48.00   3rd Qu.:220.0  \n",
       " Max.   :1.0000   Max.   :0.8507   Max.   :367.00   Max.   :886.0  \n",
       "                                                                   \n",
       "      cnt       \n",
       " Min.   :  1.0  \n",
       " 1st Qu.: 40.0  \n",
       " Median :142.0  \n",
       " Mean   :189.5  \n",
       " 3rd Qu.:281.0  \n",
       " Max.   :977.0  \n",
       "                "
      ]
     },
     "metadata": {},
     "output_type": "display_data"
    },
    {
     "data": {
      "text/html": [
       "<style>\n",
       ".dl-inline {width: auto; margin:0; padding: 0}\n",
       ".dl-inline>dt, .dl-inline>dd {float: none; width: auto; display: inline-block}\n",
       ".dl-inline>dt::after {content: \":\\0020\"; padding-right: .5ex}\n",
       ".dl-inline>dt:not(:first-of-type) {padding-left: .5ex}\n",
       "</style><dl class=dl-inline><dt>instant</dt><dd>'integer'</dd><dt>dteday</dt><dd>'factor'</dd><dt>season</dt><dd>'integer'</dd><dt>yr</dt><dd>'integer'</dd><dt>mnth</dt><dd>'integer'</dd><dt>hr</dt><dd>'integer'</dd><dt>holiday</dt><dd>'integer'</dd><dt>weekday</dt><dd>'integer'</dd><dt>workingday</dt><dd>'integer'</dd><dt>weathersit</dt><dd>'integer'</dd><dt>temp</dt><dd>'numeric'</dd><dt>atemp</dt><dd>'numeric'</dd><dt>hum</dt><dd>'numeric'</dd><dt>windspeed</dt><dd>'numeric'</dd><dt>casual</dt><dd>'integer'</dd><dt>registered</dt><dd>'integer'</dd><dt>cnt</dt><dd>'integer'</dd></dl>\n"
      ],
      "text/latex": [
       "\\begin{description*}\n",
       "\\item[instant] 'integer'\n",
       "\\item[dteday] 'factor'\n",
       "\\item[season] 'integer'\n",
       "\\item[yr] 'integer'\n",
       "\\item[mnth] 'integer'\n",
       "\\item[hr] 'integer'\n",
       "\\item[holiday] 'integer'\n",
       "\\item[weekday] 'integer'\n",
       "\\item[workingday] 'integer'\n",
       "\\item[weathersit] 'integer'\n",
       "\\item[temp] 'numeric'\n",
       "\\item[atemp] 'numeric'\n",
       "\\item[hum] 'numeric'\n",
       "\\item[windspeed] 'numeric'\n",
       "\\item[casual] 'integer'\n",
       "\\item[registered] 'integer'\n",
       "\\item[cnt] 'integer'\n",
       "\\end{description*}\n"
      ],
      "text/markdown": [
       "instant\n",
       ":   'integer'dteday\n",
       ":   'factor'season\n",
       ":   'integer'yr\n",
       ":   'integer'mnth\n",
       ":   'integer'hr\n",
       ":   'integer'holiday\n",
       ":   'integer'weekday\n",
       ":   'integer'workingday\n",
       ":   'integer'weathersit\n",
       ":   'integer'temp\n",
       ":   'numeric'atemp\n",
       ":   'numeric'hum\n",
       ":   'numeric'windspeed\n",
       ":   'numeric'casual\n",
       ":   'integer'registered\n",
       ":   'integer'cnt\n",
       ":   'integer'\n",
       "\n"
      ],
      "text/plain": [
       "   instant     dteday     season         yr       mnth         hr    holiday \n",
       " \"integer\"   \"factor\"  \"integer\"  \"integer\"  \"integer\"  \"integer\"  \"integer\" \n",
       "   weekday workingday weathersit       temp      atemp        hum  windspeed \n",
       " \"integer\"  \"integer\"  \"integer\"  \"numeric\"  \"numeric\"  \"numeric\"  \"numeric\" \n",
       "    casual registered        cnt \n",
       " \"integer\"  \"integer\"  \"integer\" "
      ]
     },
     "metadata": {},
     "output_type": "display_data"
    },
    {
     "name": "stdout",
     "output_type": "stream",
     "text": [
      "'data.frame':\t17379 obs. of  17 variables:\n",
      " $ instant   : int  1 2 3 4 5 6 7 8 9 10 ...\n",
      " $ dteday    : Factor w/ 731 levels \"2011-01-01\",\"2011-01-02\",..: 1 1 1 1 1 1 1 1 1 1 ...\n",
      " $ season    : int  1 1 1 1 1 1 1 1 1 1 ...\n",
      " $ yr        : int  0 0 0 0 0 0 0 0 0 0 ...\n",
      " $ mnth      : int  1 1 1 1 1 1 1 1 1 1 ...\n",
      " $ hr        : int  0 1 2 3 4 5 6 7 8 9 ...\n",
      " $ holiday   : int  0 0 0 0 0 0 0 0 0 0 ...\n",
      " $ weekday   : int  6 6 6 6 6 6 6 6 6 6 ...\n",
      " $ workingday: int  0 0 0 0 0 0 0 0 0 0 ...\n",
      " $ weathersit: int  1 1 1 1 1 2 1 1 1 1 ...\n",
      " $ temp      : num  0.24 0.22 0.22 0.24 0.24 0.24 0.22 0.2 0.24 0.32 ...\n",
      " $ atemp     : num  0.288 0.273 0.273 0.288 0.288 ...\n",
      " $ hum       : num  0.81 0.8 0.8 0.75 0.75 0.75 0.8 0.86 0.75 0.76 ...\n",
      " $ windspeed : num  0 0 0 0 0 0.0896 0 0 0 0 ...\n",
      " $ casual    : int  3 8 5 3 0 0 2 1 1 8 ...\n",
      " $ registered: int  13 32 27 10 1 1 0 2 7 6 ...\n",
      " $ cnt       : int  16 40 32 13 1 1 2 3 8 14 ...\n"
     ]
    }
   ],
   "source": [
    "#summary\n",
    "summary(bike_df)\n",
    "#show column types\n",
    "sapply(bike_df, class)\n",
    "str(bike_df)"
   ]
  },
  {
   "cell_type": "markdown",
   "metadata": {
    "tags": []
   },
   "source": [
    "### Task (b): working on rows (10 marks)\n",
    "\n",
    "\n",
    "Working on `bike_df`, show that you can operate on rows: arranging them, getting the top _n_ according to some variable of your choice, filtering them (eventually using your own functions).\n",
    "\n",
    "_hint_ useful functions: `arrange()`, `top_n()`, `filter()`  \n",
    "_hint_ to define a function: `myfunction <- function(myargument,anotherargument) { bodyofthefunction }`"
   ]
  },
  {
   "cell_type": "code",
   "execution_count": 10,
   "metadata": {
    "vscode": {
     "languageId": "r"
    }
   },
   "outputs": [
    {
     "data": {
      "text/html": [
       "<table class=\"dataframe\">\n",
       "<caption>A data.frame: 17379 × 17</caption>\n",
       "<thead>\n",
       "\t<tr><th scope=col>instant</th><th scope=col>dteday</th><th scope=col>season</th><th scope=col>yr</th><th scope=col>mnth</th><th scope=col>hr</th><th scope=col>holiday</th><th scope=col>weekday</th><th scope=col>workingday</th><th scope=col>weathersit</th><th scope=col>temp</th><th scope=col>atemp</th><th scope=col>hum</th><th scope=col>windspeed</th><th scope=col>casual</th><th scope=col>registered</th><th scope=col>cnt</th></tr>\n",
       "\t<tr><th scope=col>&lt;int&gt;</th><th scope=col>&lt;fct&gt;</th><th scope=col>&lt;int&gt;</th><th scope=col>&lt;int&gt;</th><th scope=col>&lt;int&gt;</th><th scope=col>&lt;int&gt;</th><th scope=col>&lt;int&gt;</th><th scope=col>&lt;int&gt;</th><th scope=col>&lt;int&gt;</th><th scope=col>&lt;int&gt;</th><th scope=col>&lt;dbl&gt;</th><th scope=col>&lt;dbl&gt;</th><th scope=col>&lt;dbl&gt;</th><th scope=col>&lt;dbl&gt;</th><th scope=col>&lt;int&gt;</th><th scope=col>&lt;int&gt;</th><th scope=col>&lt;int&gt;</th></tr>\n",
       "</thead>\n",
       "<tbody>\n",
       "\t<tr><td> 481</td><td>2011-01-22</td><td>1</td><td>0</td><td>1</td><td> 1</td><td>0</td><td>6</td><td>0</td><td>2</td><td>0.04</td><td>0.0000</td><td>0.41</td><td>0.3881</td><td>3</td><td>  9</td><td> 12</td></tr>\n",
       "\t<tr><td> 487</td><td>2011-01-22</td><td>1</td><td>0</td><td>1</td><td> 8</td><td>0</td><td>6</td><td>0</td><td>1</td><td>0.02</td><td>0.0000</td><td>0.44</td><td>0.3284</td><td>1</td><td> 26</td><td> 27</td></tr>\n",
       "\t<tr><td> 484</td><td>2011-01-22</td><td>1</td><td>0</td><td>1</td><td> 4</td><td>0</td><td>6</td><td>0</td><td>2</td><td>0.02</td><td>0.0152</td><td>0.48</td><td>0.2985</td><td>0</td><td>  3</td><td>  3</td></tr>\n",
       "\t<tr><td> 486</td><td>2011-01-22</td><td>1</td><td>0</td><td>1</td><td> 7</td><td>0</td><td>6</td><td>0</td><td>1</td><td>0.02</td><td>0.0152</td><td>0.44</td><td>0.2836</td><td>0</td><td>  8</td><td>  8</td></tr>\n",
       "\t<tr><td>8719</td><td>2012-01-04</td><td>1</td><td>1</td><td>1</td><td> 2</td><td>0</td><td>3</td><td>1</td><td>1</td><td>0.02</td><td>0.0152</td><td>0.34</td><td>0.2836</td><td>0</td><td>  1</td><td>  1</td></tr>\n",
       "\t<tr><td>8720</td><td>2012-01-04</td><td>1</td><td>1</td><td>1</td><td> 3</td><td>0</td><td>3</td><td>1</td><td>1</td><td>0.02</td><td>0.0152</td><td>0.34</td><td>0.2836</td><td>0</td><td>  1</td><td>  1</td></tr>\n",
       "\t<tr><td> 478</td><td>2011-01-21</td><td>1</td><td>0</td><td>1</td><td>22</td><td>0</td><td>5</td><td>1</td><td>1</td><td>0.06</td><td>0.0303</td><td>0.41</td><td>0.3881</td><td>1</td><td> 33</td><td> 34</td></tr>\n",
       "\t<tr><td> 480</td><td>2011-01-22</td><td>1</td><td>0</td><td>1</td><td> 0</td><td>0</td><td>6</td><td>0</td><td>1</td><td>0.04</td><td>0.0303</td><td>0.45</td><td>0.2537</td><td>0</td><td> 13</td><td> 13</td></tr>\n",
       "\t<tr><td> 482</td><td>2011-01-22</td><td>1</td><td>0</td><td>1</td><td> 2</td><td>0</td><td>6</td><td>0</td><td>2</td><td>0.04</td><td>0.0303</td><td>0.41</td><td>0.2537</td><td>0</td><td> 11</td><td> 11</td></tr>\n",
       "\t<tr><td> 483</td><td>2011-01-22</td><td>1</td><td>0</td><td>1</td><td> 3</td><td>0</td><td>6</td><td>0</td><td>2</td><td>0.04</td><td>0.0303</td><td>0.41</td><td>0.2836</td><td>1</td><td>  6</td><td>  7</td></tr>\n",
       "\t<tr><td> 485</td><td>2011-01-22</td><td>1</td><td>0</td><td>1</td><td> 6</td><td>0</td><td>6</td><td>0</td><td>2</td><td>0.02</td><td>0.0303</td><td>0.44</td><td>0.2239</td><td>0</td><td>  2</td><td>  2</td></tr>\n",
       "\t<tr><td> 488</td><td>2011-01-22</td><td>1</td><td>0</td><td>1</td><td> 9</td><td>0</td><td>6</td><td>0</td><td>1</td><td>0.04</td><td>0.0303</td><td>0.41</td><td>0.2537</td><td>3</td><td> 37</td><td> 40</td></tr>\n",
       "\t<tr><td> 528</td><td>2011-01-24</td><td>1</td><td>0</td><td>1</td><td> 3</td><td>0</td><td>1</td><td>1</td><td>1</td><td>0.04</td><td>0.0303</td><td>0.45</td><td>0.2537</td><td>0</td><td>  1</td><td>  1</td></tr>\n",
       "\t<tr><td>8718</td><td>2012-01-04</td><td>1</td><td>1</td><td>1</td><td> 1</td><td>0</td><td>3</td><td>1</td><td>1</td><td>0.04</td><td>0.0303</td><td>0.38</td><td>0.2985</td><td>0</td><td>  3</td><td>  3</td></tr>\n",
       "\t<tr><td> 479</td><td>2011-01-21</td><td>1</td><td>0</td><td>1</td><td>23</td><td>0</td><td>5</td><td>1</td><td>1</td><td>0.06</td><td>0.0455</td><td>0.38</td><td>0.3284</td><td>0</td><td> 27</td><td> 27</td></tr>\n",
       "\t<tr><td> 527</td><td>2011-01-24</td><td>1</td><td>0</td><td>1</td><td> 1</td><td>0</td><td>1</td><td>1</td><td>1</td><td>0.04</td><td>0.0455</td><td>0.45</td><td>0.1940</td><td>0</td><td>  1</td><td>  1</td></tr>\n",
       "\t<tr><td>8721</td><td>2012-01-04</td><td>1</td><td>1</td><td>1</td><td> 4</td><td>0</td><td>3</td><td>1</td><td>1</td><td>0.02</td><td>0.0455</td><td>0.41</td><td>0.1940</td><td>0</td><td>  2</td><td>  2</td></tr>\n",
       "\t<tr><td>8722</td><td>2012-01-04</td><td>1</td><td>1</td><td>1</td><td> 5</td><td>0</td><td>3</td><td>1</td><td>1</td><td>0.02</td><td>0.0455</td><td>0.41</td><td>0.1940</td><td>0</td><td> 14</td><td> 14</td></tr>\n",
       "\t<tr><td>8723</td><td>2012-01-04</td><td>1</td><td>1</td><td>1</td><td> 6</td><td>0</td><td>3</td><td>1</td><td>1</td><td>0.02</td><td>0.0455</td><td>0.41</td><td>0.1642</td><td>0</td><td> 59</td><td> 59</td></tr>\n",
       "\t<tr><td>8724</td><td>2012-01-04</td><td>1</td><td>1</td><td>1</td><td> 7</td><td>0</td><td>3</td><td>1</td><td>1</td><td>0.02</td><td>0.0455</td><td>0.44</td><td>0.1940</td><td>1</td><td>151</td><td>152</td></tr>\n",
       "\t<tr><td>9651</td><td>2012-02-12</td><td>1</td><td>1</td><td>2</td><td> 1</td><td>0</td><td>0</td><td>0</td><td>3</td><td>0.08</td><td>0.0455</td><td>0.79</td><td>0.4627</td><td>0</td><td> 24</td><td> 24</td></tr>\n",
       "\t<tr><td>9653</td><td>2012-02-12</td><td>1</td><td>1</td><td>2</td><td> 3</td><td>0</td><td>0</td><td>0</td><td>2</td><td>0.10</td><td>0.0455</td><td>0.46</td><td>0.6866</td><td>0</td><td> 14</td><td> 14</td></tr>\n",
       "\t<tr><td>9654</td><td>2012-02-12</td><td>1</td><td>1</td><td>2</td><td> 4</td><td>0</td><td>0</td><td>0</td><td>2</td><td>0.10</td><td>0.0455</td><td>0.46</td><td>0.7164</td><td>0</td><td>  1</td><td>  1</td></tr>\n",
       "\t<tr><td> 185</td><td>2011-01-08</td><td>1</td><td>0</td><td>1</td><td>23</td><td>0</td><td>6</td><td>0</td><td>1</td><td>0.10</td><td>0.0606</td><td>0.39</td><td>0.4478</td><td>0</td><td> 22</td><td> 22</td></tr>\n",
       "\t<tr><td> 187</td><td>2011-01-09</td><td>1</td><td>0</td><td>1</td><td> 1</td><td>0</td><td>0</td><td>0</td><td>1</td><td>0.10</td><td>0.0606</td><td>0.42</td><td>0.4627</td><td>0</td><td> 12</td><td> 12</td></tr>\n",
       "\t<tr><td> 188</td><td>2011-01-09</td><td>1</td><td>0</td><td>1</td><td> 2</td><td>0</td><td>0</td><td>0</td><td>1</td><td>0.10</td><td>0.0606</td><td>0.46</td><td>0.4627</td><td>0</td><td> 11</td><td> 11</td></tr>\n",
       "\t<tr><td> 489</td><td>2011-01-22</td><td>1</td><td>0</td><td>1</td><td>10</td><td>0</td><td>6</td><td>0</td><td>2</td><td>0.04</td><td>0.0606</td><td>0.41</td><td>0.1642</td><td>3</td><td> 50</td><td> 53</td></tr>\n",
       "\t<tr><td> 505</td><td>2011-01-23</td><td>1</td><td>0</td><td>1</td><td> 2</td><td>0</td><td>0</td><td>0</td><td>1</td><td>0.02</td><td>0.0606</td><td>0.62</td><td>0.1343</td><td>3</td><td> 15</td><td> 18</td></tr>\n",
       "\t<tr><td> 506</td><td>2011-01-23</td><td>1</td><td>0</td><td>1</td><td> 3</td><td>0</td><td>0</td><td>0</td><td>1</td><td>0.02</td><td>0.0606</td><td>0.62</td><td>0.1343</td><td>1</td><td>  4</td><td>  5</td></tr>\n",
       "\t<tr><td> 525</td><td>2011-01-23</td><td>1</td><td>0</td><td>1</td><td>23</td><td>0</td><td>0</td><td>0</td><td>1</td><td>0.06</td><td>0.0606</td><td>0.41</td><td>0.2239</td><td>4</td><td> 17</td><td> 21</td></tr>\n",
       "\t<tr><td>⋮</td><td>⋮</td><td>⋮</td><td>⋮</td><td>⋮</td><td>⋮</td><td>⋮</td><td>⋮</td><td>⋮</td><td>⋮</td><td>⋮</td><td>⋮</td><td>⋮</td><td>⋮</td><td>⋮</td><td>⋮</td><td>⋮</td></tr>\n",
       "\t<tr><td>13622</td><td>2012-07-26</td><td>3</td><td>1</td><td>7</td><td>18</td><td>0</td><td>4</td><td>1</td><td>1</td><td>0.92</td><td>0.8788</td><td>0.40</td><td>0.3582</td><td> 73</td><td>615</td><td>688</td></tr>\n",
       "\t<tr><td> 4742</td><td>2011-07-21</td><td>3</td><td>0</td><td>7</td><td>11</td><td>0</td><td>4</td><td>1</td><td>2</td><td>0.86</td><td>0.8939</td><td>0.63</td><td>0.2985</td><td> 27</td><td> 79</td><td>106</td></tr>\n",
       "\t<tr><td> 4743</td><td>2011-07-21</td><td>3</td><td>0</td><td>7</td><td>12</td><td>0</td><td>4</td><td>1</td><td>1</td><td>0.88</td><td>0.8939</td><td>0.56</td><td>0.3284</td><td> 29</td><td>106</td><td>135</td></tr>\n",
       "\t<tr><td> 4744</td><td>2011-07-21</td><td>3</td><td>0</td><td>7</td><td>13</td><td>0</td><td>4</td><td>1</td><td>1</td><td>0.88</td><td>0.8939</td><td>0.56</td><td>0.2985</td><td> 21</td><td> 81</td><td>102</td></tr>\n",
       "\t<tr><td> 4745</td><td>2011-07-21</td><td>3</td><td>0</td><td>7</td><td>14</td><td>0</td><td>4</td><td>1</td><td>1</td><td>0.90</td><td>0.8939</td><td>0.50</td><td>0.3582</td><td> 50</td><td> 97</td><td>147</td></tr>\n",
       "\t<tr><td> 4749</td><td>2011-07-21</td><td>3</td><td>0</td><td>7</td><td>18</td><td>0</td><td>4</td><td>1</td><td>1</td><td>0.90</td><td>0.8939</td><td>0.50</td><td>0.2836</td><td> 39</td><td>343</td><td>382</td></tr>\n",
       "\t<tr><td> 4751</td><td>2011-07-21</td><td>3</td><td>0</td><td>7</td><td>20</td><td>0</td><td>4</td><td>1</td><td>1</td><td>0.84</td><td>0.8939</td><td>0.71</td><td>0.2239</td><td> 38</td><td>199</td><td>237</td></tr>\n",
       "\t<tr><td> 4752</td><td>2011-07-21</td><td>3</td><td>0</td><td>7</td><td>21</td><td>0</td><td>4</td><td>1</td><td>1</td><td>0.82</td><td>0.8939</td><td>0.75</td><td>0.2239</td><td> 38</td><td>187</td><td>225</td></tr>\n",
       "\t<tr><td> 4764</td><td>2011-07-22</td><td>3</td><td>0</td><td>7</td><td> 9</td><td>0</td><td>5</td><td>1</td><td>1</td><td>0.86</td><td>0.8939</td><td>0.63</td><td>0.0896</td><td> 31</td><td>177</td><td>208</td></tr>\n",
       "\t<tr><td> 4766</td><td>2011-07-22</td><td>3</td><td>0</td><td>7</td><td>11</td><td>0</td><td>5</td><td>1</td><td>1</td><td>0.90</td><td>0.8939</td><td>0.50</td><td>0.1045</td><td> 23</td><td> 86</td><td>109</td></tr>\n",
       "\t<tr><td> 4793</td><td>2011-07-23</td><td>3</td><td>0</td><td>7</td><td>14</td><td>0</td><td>6</td><td>0</td><td>1</td><td>0.92</td><td>0.8939</td><td>0.42</td><td>0.0000</td><td> 84</td><td>152</td><td>236</td></tr>\n",
       "\t<tr><td>12976</td><td>2012-06-29</td><td>3</td><td>1</td><td>6</td><td>20</td><td>0</td><td>5</td><td>1</td><td>1</td><td>0.92</td><td>0.8939</td><td>0.42</td><td>0.2537</td><td> 53</td><td>255</td><td>308</td></tr>\n",
       "\t<tr><td>13183</td><td>2012-07-08</td><td>3</td><td>1</td><td>7</td><td>11</td><td>0</td><td>0</td><td>0</td><td>1</td><td>0.92</td><td>0.8939</td><td>0.42</td><td>0.2985</td><td>120</td><td>269</td><td>389</td></tr>\n",
       "\t<tr><td>13184</td><td>2012-07-08</td><td>3</td><td>1</td><td>7</td><td>12</td><td>0</td><td>0</td><td>0</td><td>1</td><td>0.92</td><td>0.8939</td><td>0.42</td><td>0.1940</td><td>105</td><td>271</td><td>376</td></tr>\n",
       "\t<tr><td>13187</td><td>2012-07-08</td><td>3</td><td>1</td><td>7</td><td>15</td><td>0</td><td>0</td><td>0</td><td>3</td><td>0.92</td><td>0.8939</td><td>0.42</td><td>0.2836</td><td> 80</td><td>218</td><td>298</td></tr>\n",
       "\t<tr><td>13619</td><td>2012-07-26</td><td>3</td><td>1</td><td>7</td><td>15</td><td>0</td><td>4</td><td>1</td><td>1</td><td>0.92</td><td>0.8939</td><td>0.42</td><td>0.2985</td><td> 65</td><td>173</td><td>238</td></tr>\n",
       "\t<tr><td> 4748</td><td>2011-07-21</td><td>3</td><td>0</td><td>7</td><td>17</td><td>0</td><td>4</td><td>1</td><td>1</td><td>0.92</td><td>0.9091</td><td>0.45</td><td>0.2985</td><td> 40</td><td>374</td><td>414</td></tr>\n",
       "\t<tr><td>12970</td><td>2012-06-29</td><td>3</td><td>1</td><td>6</td><td>14</td><td>0</td><td>5</td><td>1</td><td>1</td><td>0.96</td><td>0.9091</td><td>0.36</td><td>0.2239</td><td> 49</td><td>184</td><td>233</td></tr>\n",
       "\t<tr><td>12971</td><td>2012-06-29</td><td>3</td><td>1</td><td>6</td><td>15</td><td>0</td><td>5</td><td>1</td><td>1</td><td>0.96</td><td>0.9091</td><td>0.36</td><td>0.0000</td><td> 47</td><td>183</td><td>230</td></tr>\n",
       "\t<tr><td>12972</td><td>2012-06-29</td><td>3</td><td>1</td><td>6</td><td>16</td><td>0</td><td>5</td><td>1</td><td>1</td><td>0.96</td><td>0.9091</td><td>0.36</td><td>0.0000</td><td> 59</td><td>292</td><td>351</td></tr>\n",
       "\t<tr><td>13186</td><td>2012-07-08</td><td>3</td><td>1</td><td>7</td><td>14</td><td>0</td><td>0</td><td>0</td><td>1</td><td>0.96</td><td>0.9091</td><td>0.36</td><td>0.1642</td><td> 77</td><td>235</td><td>312</td></tr>\n",
       "\t<tr><td> 4746</td><td>2011-07-21</td><td>3</td><td>0</td><td>7</td><td>15</td><td>0</td><td>4</td><td>1</td><td>1</td><td>0.90</td><td>0.9242</td><td>0.53</td><td>0.2537</td><td> 40</td><td> 93</td><td>133</td></tr>\n",
       "\t<tr><td> 4747</td><td>2011-07-21</td><td>3</td><td>0</td><td>7</td><td>16</td><td>0</td><td>4</td><td>1</td><td>1</td><td>0.92</td><td>0.9242</td><td>0.48</td><td>0.2836</td><td> 43</td><td>167</td><td>210</td></tr>\n",
       "\t<tr><td> 4750</td><td>2011-07-21</td><td>3</td><td>0</td><td>7</td><td>19</td><td>0</td><td>4</td><td>1</td><td>1</td><td>0.86</td><td>0.9242</td><td>0.67</td><td>0.2836</td><td> 51</td><td>233</td><td>284</td></tr>\n",
       "\t<tr><td> 4765</td><td>2011-07-22</td><td>3</td><td>0</td><td>7</td><td>10</td><td>0</td><td>5</td><td>1</td><td>1</td><td>0.90</td><td>0.9242</td><td>0.53</td><td>0.0896</td><td> 32</td><td> 83</td><td>115</td></tr>\n",
       "\t<tr><td>12973</td><td>2012-06-29</td><td>3</td><td>1</td><td>6</td><td>17</td><td>0</td><td>5</td><td>1</td><td>1</td><td>0.98</td><td>0.9242</td><td>0.34</td><td>0.1940</td><td> 82</td><td>457</td><td>539</td></tr>\n",
       "\t<tr><td> 4767</td><td>2011-07-22</td><td>3</td><td>0</td><td>7</td><td>12</td><td>0</td><td>5</td><td>1</td><td>1</td><td>0.94</td><td>0.9545</td><td>0.48</td><td>0.1642</td><td> 20</td><td> 95</td><td>115</td></tr>\n",
       "\t<tr><td> 4768</td><td>2011-07-22</td><td>3</td><td>0</td><td>7</td><td>13</td><td>0</td><td>5</td><td>1</td><td>1</td><td>0.94</td><td>0.9848</td><td>0.51</td><td>0.1642</td><td> 25</td><td> 98</td><td>123</td></tr>\n",
       "\t<tr><td> 4770</td><td>2011-07-22</td><td>3</td><td>0</td><td>7</td><td>15</td><td>0</td><td>5</td><td>1</td><td>1</td><td>0.94</td><td>0.9848</td><td>0.51</td><td>0.2985</td><td> 32</td><td>101</td><td>133</td></tr>\n",
       "\t<tr><td> 4769</td><td>2011-07-22</td><td>3</td><td>0</td><td>7</td><td>14</td><td>0</td><td>5</td><td>1</td><td>1</td><td>0.96</td><td>1.0000</td><td>0.48</td><td>0.2985</td><td> 24</td><td> 77</td><td>101</td></tr>\n",
       "</tbody>\n",
       "</table>\n"
      ],
      "text/latex": [
       "A data.frame: 17379 × 17\n",
       "\\begin{tabular}{lllllllllllllllll}\n",
       " instant & dteday & season & yr & mnth & hr & holiday & weekday & workingday & weathersit & temp & atemp & hum & windspeed & casual & registered & cnt\\\\\n",
       " <int> & <fct> & <int> & <int> & <int> & <int> & <int> & <int> & <int> & <int> & <dbl> & <dbl> & <dbl> & <dbl> & <int> & <int> & <int>\\\\\n",
       "\\hline\n",
       "\t  481 & 2011-01-22 & 1 & 0 & 1 &  1 & 0 & 6 & 0 & 2 & 0.04 & 0.0000 & 0.41 & 0.3881 & 3 &   9 &  12\\\\\n",
       "\t  487 & 2011-01-22 & 1 & 0 & 1 &  8 & 0 & 6 & 0 & 1 & 0.02 & 0.0000 & 0.44 & 0.3284 & 1 &  26 &  27\\\\\n",
       "\t  484 & 2011-01-22 & 1 & 0 & 1 &  4 & 0 & 6 & 0 & 2 & 0.02 & 0.0152 & 0.48 & 0.2985 & 0 &   3 &   3\\\\\n",
       "\t  486 & 2011-01-22 & 1 & 0 & 1 &  7 & 0 & 6 & 0 & 1 & 0.02 & 0.0152 & 0.44 & 0.2836 & 0 &   8 &   8\\\\\n",
       "\t 8719 & 2012-01-04 & 1 & 1 & 1 &  2 & 0 & 3 & 1 & 1 & 0.02 & 0.0152 & 0.34 & 0.2836 & 0 &   1 &   1\\\\\n",
       "\t 8720 & 2012-01-04 & 1 & 1 & 1 &  3 & 0 & 3 & 1 & 1 & 0.02 & 0.0152 & 0.34 & 0.2836 & 0 &   1 &   1\\\\\n",
       "\t  478 & 2011-01-21 & 1 & 0 & 1 & 22 & 0 & 5 & 1 & 1 & 0.06 & 0.0303 & 0.41 & 0.3881 & 1 &  33 &  34\\\\\n",
       "\t  480 & 2011-01-22 & 1 & 0 & 1 &  0 & 0 & 6 & 0 & 1 & 0.04 & 0.0303 & 0.45 & 0.2537 & 0 &  13 &  13\\\\\n",
       "\t  482 & 2011-01-22 & 1 & 0 & 1 &  2 & 0 & 6 & 0 & 2 & 0.04 & 0.0303 & 0.41 & 0.2537 & 0 &  11 &  11\\\\\n",
       "\t  483 & 2011-01-22 & 1 & 0 & 1 &  3 & 0 & 6 & 0 & 2 & 0.04 & 0.0303 & 0.41 & 0.2836 & 1 &   6 &   7\\\\\n",
       "\t  485 & 2011-01-22 & 1 & 0 & 1 &  6 & 0 & 6 & 0 & 2 & 0.02 & 0.0303 & 0.44 & 0.2239 & 0 &   2 &   2\\\\\n",
       "\t  488 & 2011-01-22 & 1 & 0 & 1 &  9 & 0 & 6 & 0 & 1 & 0.04 & 0.0303 & 0.41 & 0.2537 & 3 &  37 &  40\\\\\n",
       "\t  528 & 2011-01-24 & 1 & 0 & 1 &  3 & 0 & 1 & 1 & 1 & 0.04 & 0.0303 & 0.45 & 0.2537 & 0 &   1 &   1\\\\\n",
       "\t 8718 & 2012-01-04 & 1 & 1 & 1 &  1 & 0 & 3 & 1 & 1 & 0.04 & 0.0303 & 0.38 & 0.2985 & 0 &   3 &   3\\\\\n",
       "\t  479 & 2011-01-21 & 1 & 0 & 1 & 23 & 0 & 5 & 1 & 1 & 0.06 & 0.0455 & 0.38 & 0.3284 & 0 &  27 &  27\\\\\n",
       "\t  527 & 2011-01-24 & 1 & 0 & 1 &  1 & 0 & 1 & 1 & 1 & 0.04 & 0.0455 & 0.45 & 0.1940 & 0 &   1 &   1\\\\\n",
       "\t 8721 & 2012-01-04 & 1 & 1 & 1 &  4 & 0 & 3 & 1 & 1 & 0.02 & 0.0455 & 0.41 & 0.1940 & 0 &   2 &   2\\\\\n",
       "\t 8722 & 2012-01-04 & 1 & 1 & 1 &  5 & 0 & 3 & 1 & 1 & 0.02 & 0.0455 & 0.41 & 0.1940 & 0 &  14 &  14\\\\\n",
       "\t 8723 & 2012-01-04 & 1 & 1 & 1 &  6 & 0 & 3 & 1 & 1 & 0.02 & 0.0455 & 0.41 & 0.1642 & 0 &  59 &  59\\\\\n",
       "\t 8724 & 2012-01-04 & 1 & 1 & 1 &  7 & 0 & 3 & 1 & 1 & 0.02 & 0.0455 & 0.44 & 0.1940 & 1 & 151 & 152\\\\\n",
       "\t 9651 & 2012-02-12 & 1 & 1 & 2 &  1 & 0 & 0 & 0 & 3 & 0.08 & 0.0455 & 0.79 & 0.4627 & 0 &  24 &  24\\\\\n",
       "\t 9653 & 2012-02-12 & 1 & 1 & 2 &  3 & 0 & 0 & 0 & 2 & 0.10 & 0.0455 & 0.46 & 0.6866 & 0 &  14 &  14\\\\\n",
       "\t 9654 & 2012-02-12 & 1 & 1 & 2 &  4 & 0 & 0 & 0 & 2 & 0.10 & 0.0455 & 0.46 & 0.7164 & 0 &   1 &   1\\\\\n",
       "\t  185 & 2011-01-08 & 1 & 0 & 1 & 23 & 0 & 6 & 0 & 1 & 0.10 & 0.0606 & 0.39 & 0.4478 & 0 &  22 &  22\\\\\n",
       "\t  187 & 2011-01-09 & 1 & 0 & 1 &  1 & 0 & 0 & 0 & 1 & 0.10 & 0.0606 & 0.42 & 0.4627 & 0 &  12 &  12\\\\\n",
       "\t  188 & 2011-01-09 & 1 & 0 & 1 &  2 & 0 & 0 & 0 & 1 & 0.10 & 0.0606 & 0.46 & 0.4627 & 0 &  11 &  11\\\\\n",
       "\t  489 & 2011-01-22 & 1 & 0 & 1 & 10 & 0 & 6 & 0 & 2 & 0.04 & 0.0606 & 0.41 & 0.1642 & 3 &  50 &  53\\\\\n",
       "\t  505 & 2011-01-23 & 1 & 0 & 1 &  2 & 0 & 0 & 0 & 1 & 0.02 & 0.0606 & 0.62 & 0.1343 & 3 &  15 &  18\\\\\n",
       "\t  506 & 2011-01-23 & 1 & 0 & 1 &  3 & 0 & 0 & 0 & 1 & 0.02 & 0.0606 & 0.62 & 0.1343 & 1 &   4 &   5\\\\\n",
       "\t  525 & 2011-01-23 & 1 & 0 & 1 & 23 & 0 & 0 & 0 & 1 & 0.06 & 0.0606 & 0.41 & 0.2239 & 4 &  17 &  21\\\\\n",
       "\t ⋮ & ⋮ & ⋮ & ⋮ & ⋮ & ⋮ & ⋮ & ⋮ & ⋮ & ⋮ & ⋮ & ⋮ & ⋮ & ⋮ & ⋮ & ⋮ & ⋮\\\\\n",
       "\t 13622 & 2012-07-26 & 3 & 1 & 7 & 18 & 0 & 4 & 1 & 1 & 0.92 & 0.8788 & 0.40 & 0.3582 &  73 & 615 & 688\\\\\n",
       "\t  4742 & 2011-07-21 & 3 & 0 & 7 & 11 & 0 & 4 & 1 & 2 & 0.86 & 0.8939 & 0.63 & 0.2985 &  27 &  79 & 106\\\\\n",
       "\t  4743 & 2011-07-21 & 3 & 0 & 7 & 12 & 0 & 4 & 1 & 1 & 0.88 & 0.8939 & 0.56 & 0.3284 &  29 & 106 & 135\\\\\n",
       "\t  4744 & 2011-07-21 & 3 & 0 & 7 & 13 & 0 & 4 & 1 & 1 & 0.88 & 0.8939 & 0.56 & 0.2985 &  21 &  81 & 102\\\\\n",
       "\t  4745 & 2011-07-21 & 3 & 0 & 7 & 14 & 0 & 4 & 1 & 1 & 0.90 & 0.8939 & 0.50 & 0.3582 &  50 &  97 & 147\\\\\n",
       "\t  4749 & 2011-07-21 & 3 & 0 & 7 & 18 & 0 & 4 & 1 & 1 & 0.90 & 0.8939 & 0.50 & 0.2836 &  39 & 343 & 382\\\\\n",
       "\t  4751 & 2011-07-21 & 3 & 0 & 7 & 20 & 0 & 4 & 1 & 1 & 0.84 & 0.8939 & 0.71 & 0.2239 &  38 & 199 & 237\\\\\n",
       "\t  4752 & 2011-07-21 & 3 & 0 & 7 & 21 & 0 & 4 & 1 & 1 & 0.82 & 0.8939 & 0.75 & 0.2239 &  38 & 187 & 225\\\\\n",
       "\t  4764 & 2011-07-22 & 3 & 0 & 7 &  9 & 0 & 5 & 1 & 1 & 0.86 & 0.8939 & 0.63 & 0.0896 &  31 & 177 & 208\\\\\n",
       "\t  4766 & 2011-07-22 & 3 & 0 & 7 & 11 & 0 & 5 & 1 & 1 & 0.90 & 0.8939 & 0.50 & 0.1045 &  23 &  86 & 109\\\\\n",
       "\t  4793 & 2011-07-23 & 3 & 0 & 7 & 14 & 0 & 6 & 0 & 1 & 0.92 & 0.8939 & 0.42 & 0.0000 &  84 & 152 & 236\\\\\n",
       "\t 12976 & 2012-06-29 & 3 & 1 & 6 & 20 & 0 & 5 & 1 & 1 & 0.92 & 0.8939 & 0.42 & 0.2537 &  53 & 255 & 308\\\\\n",
       "\t 13183 & 2012-07-08 & 3 & 1 & 7 & 11 & 0 & 0 & 0 & 1 & 0.92 & 0.8939 & 0.42 & 0.2985 & 120 & 269 & 389\\\\\n",
       "\t 13184 & 2012-07-08 & 3 & 1 & 7 & 12 & 0 & 0 & 0 & 1 & 0.92 & 0.8939 & 0.42 & 0.1940 & 105 & 271 & 376\\\\\n",
       "\t 13187 & 2012-07-08 & 3 & 1 & 7 & 15 & 0 & 0 & 0 & 3 & 0.92 & 0.8939 & 0.42 & 0.2836 &  80 & 218 & 298\\\\\n",
       "\t 13619 & 2012-07-26 & 3 & 1 & 7 & 15 & 0 & 4 & 1 & 1 & 0.92 & 0.8939 & 0.42 & 0.2985 &  65 & 173 & 238\\\\\n",
       "\t  4748 & 2011-07-21 & 3 & 0 & 7 & 17 & 0 & 4 & 1 & 1 & 0.92 & 0.9091 & 0.45 & 0.2985 &  40 & 374 & 414\\\\\n",
       "\t 12970 & 2012-06-29 & 3 & 1 & 6 & 14 & 0 & 5 & 1 & 1 & 0.96 & 0.9091 & 0.36 & 0.2239 &  49 & 184 & 233\\\\\n",
       "\t 12971 & 2012-06-29 & 3 & 1 & 6 & 15 & 0 & 5 & 1 & 1 & 0.96 & 0.9091 & 0.36 & 0.0000 &  47 & 183 & 230\\\\\n",
       "\t 12972 & 2012-06-29 & 3 & 1 & 6 & 16 & 0 & 5 & 1 & 1 & 0.96 & 0.9091 & 0.36 & 0.0000 &  59 & 292 & 351\\\\\n",
       "\t 13186 & 2012-07-08 & 3 & 1 & 7 & 14 & 0 & 0 & 0 & 1 & 0.96 & 0.9091 & 0.36 & 0.1642 &  77 & 235 & 312\\\\\n",
       "\t  4746 & 2011-07-21 & 3 & 0 & 7 & 15 & 0 & 4 & 1 & 1 & 0.90 & 0.9242 & 0.53 & 0.2537 &  40 &  93 & 133\\\\\n",
       "\t  4747 & 2011-07-21 & 3 & 0 & 7 & 16 & 0 & 4 & 1 & 1 & 0.92 & 0.9242 & 0.48 & 0.2836 &  43 & 167 & 210\\\\\n",
       "\t  4750 & 2011-07-21 & 3 & 0 & 7 & 19 & 0 & 4 & 1 & 1 & 0.86 & 0.9242 & 0.67 & 0.2836 &  51 & 233 & 284\\\\\n",
       "\t  4765 & 2011-07-22 & 3 & 0 & 7 & 10 & 0 & 5 & 1 & 1 & 0.90 & 0.9242 & 0.53 & 0.0896 &  32 &  83 & 115\\\\\n",
       "\t 12973 & 2012-06-29 & 3 & 1 & 6 & 17 & 0 & 5 & 1 & 1 & 0.98 & 0.9242 & 0.34 & 0.1940 &  82 & 457 & 539\\\\\n",
       "\t  4767 & 2011-07-22 & 3 & 0 & 7 & 12 & 0 & 5 & 1 & 1 & 0.94 & 0.9545 & 0.48 & 0.1642 &  20 &  95 & 115\\\\\n",
       "\t  4768 & 2011-07-22 & 3 & 0 & 7 & 13 & 0 & 5 & 1 & 1 & 0.94 & 0.9848 & 0.51 & 0.1642 &  25 &  98 & 123\\\\\n",
       "\t  4770 & 2011-07-22 & 3 & 0 & 7 & 15 & 0 & 5 & 1 & 1 & 0.94 & 0.9848 & 0.51 & 0.2985 &  32 & 101 & 133\\\\\n",
       "\t  4769 & 2011-07-22 & 3 & 0 & 7 & 14 & 0 & 5 & 1 & 1 & 0.96 & 1.0000 & 0.48 & 0.2985 &  24 &  77 & 101\\\\\n",
       "\\end{tabular}\n"
      ],
      "text/markdown": [
       "\n",
       "A data.frame: 17379 × 17\n",
       "\n",
       "| instant &lt;int&gt; | dteday &lt;fct&gt; | season &lt;int&gt; | yr &lt;int&gt; | mnth &lt;int&gt; | hr &lt;int&gt; | holiday &lt;int&gt; | weekday &lt;int&gt; | workingday &lt;int&gt; | weathersit &lt;int&gt; | temp &lt;dbl&gt; | atemp &lt;dbl&gt; | hum &lt;dbl&gt; | windspeed &lt;dbl&gt; | casual &lt;int&gt; | registered &lt;int&gt; | cnt &lt;int&gt; |\n",
       "|---|---|---|---|---|---|---|---|---|---|---|---|---|---|---|---|---|\n",
       "|  481 | 2011-01-22 | 1 | 0 | 1 |  1 | 0 | 6 | 0 | 2 | 0.04 | 0.0000 | 0.41 | 0.3881 | 3 |   9 |  12 |\n",
       "|  487 | 2011-01-22 | 1 | 0 | 1 |  8 | 0 | 6 | 0 | 1 | 0.02 | 0.0000 | 0.44 | 0.3284 | 1 |  26 |  27 |\n",
       "|  484 | 2011-01-22 | 1 | 0 | 1 |  4 | 0 | 6 | 0 | 2 | 0.02 | 0.0152 | 0.48 | 0.2985 | 0 |   3 |   3 |\n",
       "|  486 | 2011-01-22 | 1 | 0 | 1 |  7 | 0 | 6 | 0 | 1 | 0.02 | 0.0152 | 0.44 | 0.2836 | 0 |   8 |   8 |\n",
       "| 8719 | 2012-01-04 | 1 | 1 | 1 |  2 | 0 | 3 | 1 | 1 | 0.02 | 0.0152 | 0.34 | 0.2836 | 0 |   1 |   1 |\n",
       "| 8720 | 2012-01-04 | 1 | 1 | 1 |  3 | 0 | 3 | 1 | 1 | 0.02 | 0.0152 | 0.34 | 0.2836 | 0 |   1 |   1 |\n",
       "|  478 | 2011-01-21 | 1 | 0 | 1 | 22 | 0 | 5 | 1 | 1 | 0.06 | 0.0303 | 0.41 | 0.3881 | 1 |  33 |  34 |\n",
       "|  480 | 2011-01-22 | 1 | 0 | 1 |  0 | 0 | 6 | 0 | 1 | 0.04 | 0.0303 | 0.45 | 0.2537 | 0 |  13 |  13 |\n",
       "|  482 | 2011-01-22 | 1 | 0 | 1 |  2 | 0 | 6 | 0 | 2 | 0.04 | 0.0303 | 0.41 | 0.2537 | 0 |  11 |  11 |\n",
       "|  483 | 2011-01-22 | 1 | 0 | 1 |  3 | 0 | 6 | 0 | 2 | 0.04 | 0.0303 | 0.41 | 0.2836 | 1 |   6 |   7 |\n",
       "|  485 | 2011-01-22 | 1 | 0 | 1 |  6 | 0 | 6 | 0 | 2 | 0.02 | 0.0303 | 0.44 | 0.2239 | 0 |   2 |   2 |\n",
       "|  488 | 2011-01-22 | 1 | 0 | 1 |  9 | 0 | 6 | 0 | 1 | 0.04 | 0.0303 | 0.41 | 0.2537 | 3 |  37 |  40 |\n",
       "|  528 | 2011-01-24 | 1 | 0 | 1 |  3 | 0 | 1 | 1 | 1 | 0.04 | 0.0303 | 0.45 | 0.2537 | 0 |   1 |   1 |\n",
       "| 8718 | 2012-01-04 | 1 | 1 | 1 |  1 | 0 | 3 | 1 | 1 | 0.04 | 0.0303 | 0.38 | 0.2985 | 0 |   3 |   3 |\n",
       "|  479 | 2011-01-21 | 1 | 0 | 1 | 23 | 0 | 5 | 1 | 1 | 0.06 | 0.0455 | 0.38 | 0.3284 | 0 |  27 |  27 |\n",
       "|  527 | 2011-01-24 | 1 | 0 | 1 |  1 | 0 | 1 | 1 | 1 | 0.04 | 0.0455 | 0.45 | 0.1940 | 0 |   1 |   1 |\n",
       "| 8721 | 2012-01-04 | 1 | 1 | 1 |  4 | 0 | 3 | 1 | 1 | 0.02 | 0.0455 | 0.41 | 0.1940 | 0 |   2 |   2 |\n",
       "| 8722 | 2012-01-04 | 1 | 1 | 1 |  5 | 0 | 3 | 1 | 1 | 0.02 | 0.0455 | 0.41 | 0.1940 | 0 |  14 |  14 |\n",
       "| 8723 | 2012-01-04 | 1 | 1 | 1 |  6 | 0 | 3 | 1 | 1 | 0.02 | 0.0455 | 0.41 | 0.1642 | 0 |  59 |  59 |\n",
       "| 8724 | 2012-01-04 | 1 | 1 | 1 |  7 | 0 | 3 | 1 | 1 | 0.02 | 0.0455 | 0.44 | 0.1940 | 1 | 151 | 152 |\n",
       "| 9651 | 2012-02-12 | 1 | 1 | 2 |  1 | 0 | 0 | 0 | 3 | 0.08 | 0.0455 | 0.79 | 0.4627 | 0 |  24 |  24 |\n",
       "| 9653 | 2012-02-12 | 1 | 1 | 2 |  3 | 0 | 0 | 0 | 2 | 0.10 | 0.0455 | 0.46 | 0.6866 | 0 |  14 |  14 |\n",
       "| 9654 | 2012-02-12 | 1 | 1 | 2 |  4 | 0 | 0 | 0 | 2 | 0.10 | 0.0455 | 0.46 | 0.7164 | 0 |   1 |   1 |\n",
       "|  185 | 2011-01-08 | 1 | 0 | 1 | 23 | 0 | 6 | 0 | 1 | 0.10 | 0.0606 | 0.39 | 0.4478 | 0 |  22 |  22 |\n",
       "|  187 | 2011-01-09 | 1 | 0 | 1 |  1 | 0 | 0 | 0 | 1 | 0.10 | 0.0606 | 0.42 | 0.4627 | 0 |  12 |  12 |\n",
       "|  188 | 2011-01-09 | 1 | 0 | 1 |  2 | 0 | 0 | 0 | 1 | 0.10 | 0.0606 | 0.46 | 0.4627 | 0 |  11 |  11 |\n",
       "|  489 | 2011-01-22 | 1 | 0 | 1 | 10 | 0 | 6 | 0 | 2 | 0.04 | 0.0606 | 0.41 | 0.1642 | 3 |  50 |  53 |\n",
       "|  505 | 2011-01-23 | 1 | 0 | 1 |  2 | 0 | 0 | 0 | 1 | 0.02 | 0.0606 | 0.62 | 0.1343 | 3 |  15 |  18 |\n",
       "|  506 | 2011-01-23 | 1 | 0 | 1 |  3 | 0 | 0 | 0 | 1 | 0.02 | 0.0606 | 0.62 | 0.1343 | 1 |   4 |   5 |\n",
       "|  525 | 2011-01-23 | 1 | 0 | 1 | 23 | 0 | 0 | 0 | 1 | 0.06 | 0.0606 | 0.41 | 0.2239 | 4 |  17 |  21 |\n",
       "| ⋮ | ⋮ | ⋮ | ⋮ | ⋮ | ⋮ | ⋮ | ⋮ | ⋮ | ⋮ | ⋮ | ⋮ | ⋮ | ⋮ | ⋮ | ⋮ | ⋮ |\n",
       "| 13622 | 2012-07-26 | 3 | 1 | 7 | 18 | 0 | 4 | 1 | 1 | 0.92 | 0.8788 | 0.40 | 0.3582 |  73 | 615 | 688 |\n",
       "|  4742 | 2011-07-21 | 3 | 0 | 7 | 11 | 0 | 4 | 1 | 2 | 0.86 | 0.8939 | 0.63 | 0.2985 |  27 |  79 | 106 |\n",
       "|  4743 | 2011-07-21 | 3 | 0 | 7 | 12 | 0 | 4 | 1 | 1 | 0.88 | 0.8939 | 0.56 | 0.3284 |  29 | 106 | 135 |\n",
       "|  4744 | 2011-07-21 | 3 | 0 | 7 | 13 | 0 | 4 | 1 | 1 | 0.88 | 0.8939 | 0.56 | 0.2985 |  21 |  81 | 102 |\n",
       "|  4745 | 2011-07-21 | 3 | 0 | 7 | 14 | 0 | 4 | 1 | 1 | 0.90 | 0.8939 | 0.50 | 0.3582 |  50 |  97 | 147 |\n",
       "|  4749 | 2011-07-21 | 3 | 0 | 7 | 18 | 0 | 4 | 1 | 1 | 0.90 | 0.8939 | 0.50 | 0.2836 |  39 | 343 | 382 |\n",
       "|  4751 | 2011-07-21 | 3 | 0 | 7 | 20 | 0 | 4 | 1 | 1 | 0.84 | 0.8939 | 0.71 | 0.2239 |  38 | 199 | 237 |\n",
       "|  4752 | 2011-07-21 | 3 | 0 | 7 | 21 | 0 | 4 | 1 | 1 | 0.82 | 0.8939 | 0.75 | 0.2239 |  38 | 187 | 225 |\n",
       "|  4764 | 2011-07-22 | 3 | 0 | 7 |  9 | 0 | 5 | 1 | 1 | 0.86 | 0.8939 | 0.63 | 0.0896 |  31 | 177 | 208 |\n",
       "|  4766 | 2011-07-22 | 3 | 0 | 7 | 11 | 0 | 5 | 1 | 1 | 0.90 | 0.8939 | 0.50 | 0.1045 |  23 |  86 | 109 |\n",
       "|  4793 | 2011-07-23 | 3 | 0 | 7 | 14 | 0 | 6 | 0 | 1 | 0.92 | 0.8939 | 0.42 | 0.0000 |  84 | 152 | 236 |\n",
       "| 12976 | 2012-06-29 | 3 | 1 | 6 | 20 | 0 | 5 | 1 | 1 | 0.92 | 0.8939 | 0.42 | 0.2537 |  53 | 255 | 308 |\n",
       "| 13183 | 2012-07-08 | 3 | 1 | 7 | 11 | 0 | 0 | 0 | 1 | 0.92 | 0.8939 | 0.42 | 0.2985 | 120 | 269 | 389 |\n",
       "| 13184 | 2012-07-08 | 3 | 1 | 7 | 12 | 0 | 0 | 0 | 1 | 0.92 | 0.8939 | 0.42 | 0.1940 | 105 | 271 | 376 |\n",
       "| 13187 | 2012-07-08 | 3 | 1 | 7 | 15 | 0 | 0 | 0 | 3 | 0.92 | 0.8939 | 0.42 | 0.2836 |  80 | 218 | 298 |\n",
       "| 13619 | 2012-07-26 | 3 | 1 | 7 | 15 | 0 | 4 | 1 | 1 | 0.92 | 0.8939 | 0.42 | 0.2985 |  65 | 173 | 238 |\n",
       "|  4748 | 2011-07-21 | 3 | 0 | 7 | 17 | 0 | 4 | 1 | 1 | 0.92 | 0.9091 | 0.45 | 0.2985 |  40 | 374 | 414 |\n",
       "| 12970 | 2012-06-29 | 3 | 1 | 6 | 14 | 0 | 5 | 1 | 1 | 0.96 | 0.9091 | 0.36 | 0.2239 |  49 | 184 | 233 |\n",
       "| 12971 | 2012-06-29 | 3 | 1 | 6 | 15 | 0 | 5 | 1 | 1 | 0.96 | 0.9091 | 0.36 | 0.0000 |  47 | 183 | 230 |\n",
       "| 12972 | 2012-06-29 | 3 | 1 | 6 | 16 | 0 | 5 | 1 | 1 | 0.96 | 0.9091 | 0.36 | 0.0000 |  59 | 292 | 351 |\n",
       "| 13186 | 2012-07-08 | 3 | 1 | 7 | 14 | 0 | 0 | 0 | 1 | 0.96 | 0.9091 | 0.36 | 0.1642 |  77 | 235 | 312 |\n",
       "|  4746 | 2011-07-21 | 3 | 0 | 7 | 15 | 0 | 4 | 1 | 1 | 0.90 | 0.9242 | 0.53 | 0.2537 |  40 |  93 | 133 |\n",
       "|  4747 | 2011-07-21 | 3 | 0 | 7 | 16 | 0 | 4 | 1 | 1 | 0.92 | 0.9242 | 0.48 | 0.2836 |  43 | 167 | 210 |\n",
       "|  4750 | 2011-07-21 | 3 | 0 | 7 | 19 | 0 | 4 | 1 | 1 | 0.86 | 0.9242 | 0.67 | 0.2836 |  51 | 233 | 284 |\n",
       "|  4765 | 2011-07-22 | 3 | 0 | 7 | 10 | 0 | 5 | 1 | 1 | 0.90 | 0.9242 | 0.53 | 0.0896 |  32 |  83 | 115 |\n",
       "| 12973 | 2012-06-29 | 3 | 1 | 6 | 17 | 0 | 5 | 1 | 1 | 0.98 | 0.9242 | 0.34 | 0.1940 |  82 | 457 | 539 |\n",
       "|  4767 | 2011-07-22 | 3 | 0 | 7 | 12 | 0 | 5 | 1 | 1 | 0.94 | 0.9545 | 0.48 | 0.1642 |  20 |  95 | 115 |\n",
       "|  4768 | 2011-07-22 | 3 | 0 | 7 | 13 | 0 | 5 | 1 | 1 | 0.94 | 0.9848 | 0.51 | 0.1642 |  25 |  98 | 123 |\n",
       "|  4770 | 2011-07-22 | 3 | 0 | 7 | 15 | 0 | 5 | 1 | 1 | 0.94 | 0.9848 | 0.51 | 0.2985 |  32 | 101 | 133 |\n",
       "|  4769 | 2011-07-22 | 3 | 0 | 7 | 14 | 0 | 5 | 1 | 1 | 0.96 | 1.0000 | 0.48 | 0.2985 |  24 |  77 | 101 |\n",
       "\n"
      ],
      "text/plain": [
       "      instant dteday     season yr mnth hr holiday weekday workingday\n",
       "1      481    2011-01-22 1      0  1     1 0       6       0         \n",
       "2      487    2011-01-22 1      0  1     8 0       6       0         \n",
       "3      484    2011-01-22 1      0  1     4 0       6       0         \n",
       "4      486    2011-01-22 1      0  1     7 0       6       0         \n",
       "5     8719    2012-01-04 1      1  1     2 0       3       1         \n",
       "6     8720    2012-01-04 1      1  1     3 0       3       1         \n",
       "7      478    2011-01-21 1      0  1    22 0       5       1         \n",
       "8      480    2011-01-22 1      0  1     0 0       6       0         \n",
       "9      482    2011-01-22 1      0  1     2 0       6       0         \n",
       "10     483    2011-01-22 1      0  1     3 0       6       0         \n",
       "11     485    2011-01-22 1      0  1     6 0       6       0         \n",
       "12     488    2011-01-22 1      0  1     9 0       6       0         \n",
       "13     528    2011-01-24 1      0  1     3 0       1       1         \n",
       "14    8718    2012-01-04 1      1  1     1 0       3       1         \n",
       "15     479    2011-01-21 1      0  1    23 0       5       1         \n",
       "16     527    2011-01-24 1      0  1     1 0       1       1         \n",
       "17    8721    2012-01-04 1      1  1     4 0       3       1         \n",
       "18    8722    2012-01-04 1      1  1     5 0       3       1         \n",
       "19    8723    2012-01-04 1      1  1     6 0       3       1         \n",
       "20    8724    2012-01-04 1      1  1     7 0       3       1         \n",
       "21    9651    2012-02-12 1      1  2     1 0       0       0         \n",
       "22    9653    2012-02-12 1      1  2     3 0       0       0         \n",
       "23    9654    2012-02-12 1      1  2     4 0       0       0         \n",
       "24     185    2011-01-08 1      0  1    23 0       6       0         \n",
       "25     187    2011-01-09 1      0  1     1 0       0       0         \n",
       "26     188    2011-01-09 1      0  1     2 0       0       0         \n",
       "27     489    2011-01-22 1      0  1    10 0       6       0         \n",
       "28     505    2011-01-23 1      0  1     2 0       0       0         \n",
       "29     506    2011-01-23 1      0  1     3 0       0       0         \n",
       "30     525    2011-01-23 1      0  1    23 0       0       0         \n",
       "<U+22EE>     <U+22EE> <U+22EE>   <U+22EE> <U+22EE> <U+22EE> <U+22EE> <U+22EE> <U+22EE> <U+22EE>  \n",
       "17350 13622   2012-07-26 3      1  7    18 0       4       1         \n",
       "17351  4742   2011-07-21 3      0  7    11 0       4       1         \n",
       "17352  4743   2011-07-21 3      0  7    12 0       4       1         \n",
       "17353  4744   2011-07-21 3      0  7    13 0       4       1         \n",
       "17354  4745   2011-07-21 3      0  7    14 0       4       1         \n",
       "17355  4749   2011-07-21 3      0  7    18 0       4       1         \n",
       "17356  4751   2011-07-21 3      0  7    20 0       4       1         \n",
       "17357  4752   2011-07-21 3      0  7    21 0       4       1         \n",
       "17358  4764   2011-07-22 3      0  7     9 0       5       1         \n",
       "17359  4766   2011-07-22 3      0  7    11 0       5       1         \n",
       "17360  4793   2011-07-23 3      0  7    14 0       6       0         \n",
       "17361 12976   2012-06-29 3      1  6    20 0       5       1         \n",
       "17362 13183   2012-07-08 3      1  7    11 0       0       0         \n",
       "17363 13184   2012-07-08 3      1  7    12 0       0       0         \n",
       "17364 13187   2012-07-08 3      1  7    15 0       0       0         \n",
       "17365 13619   2012-07-26 3      1  7    15 0       4       1         \n",
       "17366  4748   2011-07-21 3      0  7    17 0       4       1         \n",
       "17367 12970   2012-06-29 3      1  6    14 0       5       1         \n",
       "17368 12971   2012-06-29 3      1  6    15 0       5       1         \n",
       "17369 12972   2012-06-29 3      1  6    16 0       5       1         \n",
       "17370 13186   2012-07-08 3      1  7    14 0       0       0         \n",
       "17371  4746   2011-07-21 3      0  7    15 0       4       1         \n",
       "17372  4747   2011-07-21 3      0  7    16 0       4       1         \n",
       "17373  4750   2011-07-21 3      0  7    19 0       4       1         \n",
       "17374  4765   2011-07-22 3      0  7    10 0       5       1         \n",
       "17375 12973   2012-06-29 3      1  6    17 0       5       1         \n",
       "17376  4767   2011-07-22 3      0  7    12 0       5       1         \n",
       "17377  4768   2011-07-22 3      0  7    13 0       5       1         \n",
       "17378  4770   2011-07-22 3      0  7    15 0       5       1         \n",
       "17379  4769   2011-07-22 3      0  7    14 0       5       1         \n",
       "      weathersit temp atemp  hum  windspeed casual registered cnt\n",
       "1     2          0.04 0.0000 0.41 0.3881    3        9         12\n",
       "2     1          0.02 0.0000 0.44 0.3284    1       26         27\n",
       "3     2          0.02 0.0152 0.48 0.2985    0        3          3\n",
       "4     1          0.02 0.0152 0.44 0.2836    0        8          8\n",
       "5     1          0.02 0.0152 0.34 0.2836    0        1          1\n",
       "6     1          0.02 0.0152 0.34 0.2836    0        1          1\n",
       "7     1          0.06 0.0303 0.41 0.3881    1       33         34\n",
       "8     1          0.04 0.0303 0.45 0.2537    0       13         13\n",
       "9     2          0.04 0.0303 0.41 0.2537    0       11         11\n",
       "10    2          0.04 0.0303 0.41 0.2836    1        6          7\n",
       "11    2          0.02 0.0303 0.44 0.2239    0        2          2\n",
       "12    1          0.04 0.0303 0.41 0.2537    3       37         40\n",
       "13    1          0.04 0.0303 0.45 0.2537    0        1          1\n",
       "14    1          0.04 0.0303 0.38 0.2985    0        3          3\n",
       "15    1          0.06 0.0455 0.38 0.3284    0       27         27\n",
       "16    1          0.04 0.0455 0.45 0.1940    0        1          1\n",
       "17    1          0.02 0.0455 0.41 0.1940    0        2          2\n",
       "18    1          0.02 0.0455 0.41 0.1940    0       14         14\n",
       "19    1          0.02 0.0455 0.41 0.1642    0       59         59\n",
       "20    1          0.02 0.0455 0.44 0.1940    1      151        152\n",
       "21    3          0.08 0.0455 0.79 0.4627    0       24         24\n",
       "22    2          0.10 0.0455 0.46 0.6866    0       14         14\n",
       "23    2          0.10 0.0455 0.46 0.7164    0        1          1\n",
       "24    1          0.10 0.0606 0.39 0.4478    0       22         22\n",
       "25    1          0.10 0.0606 0.42 0.4627    0       12         12\n",
       "26    1          0.10 0.0606 0.46 0.4627    0       11         11\n",
       "27    2          0.04 0.0606 0.41 0.1642    3       50         53\n",
       "28    1          0.02 0.0606 0.62 0.1343    3       15         18\n",
       "29    1          0.02 0.0606 0.62 0.1343    1        4          5\n",
       "30    1          0.06 0.0606 0.41 0.2239    4       17         21\n",
       "<U+22EE>     <U+22EE>   <U+22EE> <U+22EE> <U+22EE> <U+22EE>  <U+22EE> <U+22EE>   <U+22EE>\n",
       "17350 1          0.92 0.8788 0.40 0.3582     73    615        688\n",
       "17351 2          0.86 0.8939 0.63 0.2985     27     79        106\n",
       "17352 1          0.88 0.8939 0.56 0.3284     29    106        135\n",
       "17353 1          0.88 0.8939 0.56 0.2985     21     81        102\n",
       "17354 1          0.90 0.8939 0.50 0.3582     50     97        147\n",
       "17355 1          0.90 0.8939 0.50 0.2836     39    343        382\n",
       "17356 1          0.84 0.8939 0.71 0.2239     38    199        237\n",
       "17357 1          0.82 0.8939 0.75 0.2239     38    187        225\n",
       "17358 1          0.86 0.8939 0.63 0.0896     31    177        208\n",
       "17359 1          0.90 0.8939 0.50 0.1045     23     86        109\n",
       "17360 1          0.92 0.8939 0.42 0.0000     84    152        236\n",
       "17361 1          0.92 0.8939 0.42 0.2537     53    255        308\n",
       "17362 1          0.92 0.8939 0.42 0.2985    120    269        389\n",
       "17363 1          0.92 0.8939 0.42 0.1940    105    271        376\n",
       "17364 3          0.92 0.8939 0.42 0.2836     80    218        298\n",
       "17365 1          0.92 0.8939 0.42 0.2985     65    173        238\n",
       "17366 1          0.92 0.9091 0.45 0.2985     40    374        414\n",
       "17367 1          0.96 0.9091 0.36 0.2239     49    184        233\n",
       "17368 1          0.96 0.9091 0.36 0.0000     47    183        230\n",
       "17369 1          0.96 0.9091 0.36 0.0000     59    292        351\n",
       "17370 1          0.96 0.9091 0.36 0.1642     77    235        312\n",
       "17371 1          0.90 0.9242 0.53 0.2537     40     93        133\n",
       "17372 1          0.92 0.9242 0.48 0.2836     43    167        210\n",
       "17373 1          0.86 0.9242 0.67 0.2836     51    233        284\n",
       "17374 1          0.90 0.9242 0.53 0.0896     32     83        115\n",
       "17375 1          0.98 0.9242 0.34 0.1940     82    457        539\n",
       "17376 1          0.94 0.9545 0.48 0.1642     20     95        115\n",
       "17377 1          0.94 0.9848 0.51 0.1642     25     98        123\n",
       "17378 1          0.94 0.9848 0.51 0.2985     32    101        133\n",
       "17379 1          0.96 1.0000 0.48 0.2985     24     77        101"
      ]
     },
     "metadata": {},
     "output_type": "display_data"
    }
   ],
   "source": [
    "#arrange by atemp\n",
    "arrange(bike_df, atemp)"
   ]
  },
  {
   "cell_type": "code",
   "execution_count": null,
   "metadata": {
    "vscode": {
     "languageId": "r"
    }
   },
   "outputs": [],
   "source": []
  },
  {
   "cell_type": "markdown",
   "metadata": {},
   "source": [
    "### Task (c): working on columns (10 marks)\n",
    "\n",
    "Working on `bike_df`, show that you can operate on columns: selecting some of them, dropping other, renaming them, reordering them, ...\n",
    "\n",
    "\n",
    "_hint_ useful functions: `select()`, `rename()`, ..."
   ]
  },
  {
   "cell_type": "code",
   "execution_count": 2,
   "metadata": {
    "vscode": {
     "languageId": "r"
    }
   },
   "outputs": [],
   "source": [
    "# your answer here"
   ]
  },
  {
   "cell_type": "markdown",
   "metadata": {},
   "source": [
    "### Task (d): groups and not (10 marks)\n",
    "\n",
    "Working on `bike_df`, show that you can produce new variables (columns) and modify existing one; show also that you can operate on the dataframe as a whole and on groups. See *Readme.txt* to get an understanding of the variable scaling applied.\n",
    "\n",
    "_hint_ useful functions: `mutate()`, `group_by()`, `summarise()`, `tally()`, ..."
   ]
  },
  {
   "cell_type": "code",
   "execution_count": 3,
   "metadata": {
    "vscode": {
     "languageId": "r"
    }
   },
   "outputs": [],
   "source": [
    "# your answer here"
   ]
  },
  {
   "cell_type": "markdown",
   "metadata": {},
   "source": [
    "### Task (e): wide, long, tidy (10 marks)\n",
    "\n",
    "Show that you can go back and forth between the long and the wide format of a dataframe. Then produce a tidy version of `bike_df` (or, if you think the original one is is already in the tidy data shape, explain why).\n",
    "\n",
    "_hint_ useful functions: `spread()`, `gather()`, `na.omit()`, ..."
   ]
  },
  {
   "cell_type": "code",
   "execution_count": 5,
   "metadata": {
    "vscode": {
     "languageId": "r"
    }
   },
   "outputs": [],
   "source": [
    "# your answer here"
   ]
  },
  {
   "cell_type": "markdown",
   "metadata": {},
   "source": [
    "### Task (f): plot (10 marks)\n",
    "\n",
    "Produce a beautiful graphical representation of the data in `bike_df` or of _some_ of the data in `bike_df`. You can try different geometries, themes, mappings, ... . Make sure you label the plots with titles, and axis labels. Notice that the focus is on the use of *plotting as a data model*, rather than on the *statistical modelling* of the data.\n",
    "\\[ Hint: if you can't find any plotting idea, try focusing on the count of total rental bikes, and how it varies through time, season, weather, temperature, humidty, wind-speed. \\]\n",
    "\n",
    "_hint_ useful functions: `ggplot()`, `ylab()`, `xlab()`, `geom_...()`, `aes()`, `facet_...()`, ..."
   ]
  },
  {
   "cell_type": "code",
   "execution_count": 6,
   "metadata": {
    "vscode": {
     "languageId": "r"
    }
   },
   "outputs": [],
   "source": [
    "# your answer here"
   ]
  },
  {
   "cell_type": "markdown",
   "metadata": {},
   "source": [
    "### Task (g): save (5 marks)\n",
    "\n",
    "Save your plot from Task (f) and your tidy dataset from Task (e) to disk. \n",
    "\n",
    "_hint_ useful functions: `write_csv()`, `ggsave()`,..."
   ]
  },
  {
   "cell_type": "code",
   "execution_count": 6,
   "metadata": {
    "vscode": {
     "languageId": "r"
    }
   },
   "outputs": [],
   "source": [
    "# your answer here"
   ]
  },
  {
   "cell_type": "markdown",
   "metadata": {},
   "source": [
    "### Challenge question (10 marks)\n",
    "\n",
    "You are the data scientist working for a bike rental company. The `hour.csv` is the data you have available. The bike rental CEO sometimes wakes up in the morning with these strange ideas, and you get to test them.\n",
    "\n",
    "One of the key element for the company is being sure that there are always enough bikes available for the users. So, we need to understand what makes a user rent a bike and what makes a user NOT rent a bike.\n",
    "Your CEO noticed thinks that one of the peak times for the registered users renting bikes is between 6am and 10am.\n",
    "\n",
    "Task (1): make a plot to check that (take seasonality into account in the plot).\n",
    "\n",
    "She also thought about an interesting hypothesis. A registered user usually finish working around 5pm. Between 5pm and 10pm, they notice the weather: in particular, the registered users are sensible to how good the weather is, and how stable it is. The morning after, between 6am and 10am, the amount of registered users renting a bike to go to work depends on the previous afternoon weather.\n",
    "\n",
    "Task (2): make one or more plot to test this hypothesis (again, consider seasonality in the plot).\n",
    "\n",
    "**Hint: Make your plots with some colour, good font size and visualisation.**"
   ]
  },
  {
   "cell_type": "code",
   "execution_count": null,
   "metadata": {
    "vscode": {
     "languageId": "r"
    }
   },
   "outputs": [],
   "source": [
    "# your code goes here"
   ]
  }
 ],
 "metadata": {
  "kernelspec": {
   "display_name": "R",
   "language": "R",
   "name": "ir"
  },
  "language_info": {
   "codemirror_mode": "r",
   "file_extension": ".r",
   "mimetype": "text/x-r-source",
   "name": "R",
   "pygments_lexer": "r",
   "version": "3.6.1"
  }
 },
 "nbformat": 4,
 "nbformat_minor": 4
}
