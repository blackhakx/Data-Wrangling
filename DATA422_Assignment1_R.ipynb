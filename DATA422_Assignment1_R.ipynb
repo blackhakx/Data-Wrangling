{
 "cells": [
  {
   "cell_type": "markdown",
   "metadata": {},
   "source": [
    "# Data 422\n",
    "\n",
    "### Data Wrangling\n",
    "\n",
    "## Assignement 1\n",
    "\n",
    "**20% of final grade** Total marks is **100 marks** (70 for R, 30 for Julia).\n",
    "\n",
    "## Due date: 5pm Wednesday 24 August 2021\n",
    "\n",
    "The assignment must be submitted on the DATA 201 and 422 Learn page and should be **your own work, or done in pairs**.\n",
    "\n",
    "### Avoid plagiarism (see this [video on academic plagiarism](https://www.youtube.com/embed/reGGPUrEsC0) ). If you are not sure what may constitute code plagiarism, read this [explanation on source code plagiarism](http://web.science.mq.edu.au/~mtaylor/ponline/index.php?id=source-code-plagiarism). Remember, when in doubt **declare your sources**. \n",
    "\n",
    "If you have any issues that affects your ability to work during the time allocated for the assignement, please DO CONTACT ME. We will find a suitable solution. In general this WON'T be an extension to the deadline (so that in the rest of the semester you are free from preoccupations). Most probably, I will ask you to submit what you have ready by the time the assignment is due, even if it is not everything we required, and I'll take into account special considerations. For any particular problem, please contact [Thomas Li](thomas.li@canterbury.ac.nz) or the TAs."
   ]
  },
  {
   "cell_type": "markdown",
   "metadata": {},
   "source": [
    "## Instruction\n",
    "\n",
    "For this assignment you will work with a _.csv_ data-set. Your goal is to read it in, wrangle it, produce some plotting, in order to demonstrate that you are able to use the functions, plotting, and markdown format we have been learning.  \n",
    "You shall hand in your work as a jupyter-lab R notebook (for the R part, and jupyter-lab Julia notebook for the Julia part) comprehending the code, the plots and, **very important**, enough comments and explanations for us to understand what you did, how you did it, and why you did it. Remember: no comments, no marks.  \n",
    "You can either modify this notebook or write a new one from scratch: in that case, clearly indicate which question you are asking at each step. Notice that you may well want to **use more than one cell** per answer (using some cell for the code, some for the text, and so forth)."
   ]
  },
  {
   "cell_type": "markdown",
   "metadata": {},
   "source": [
    "## Comment, explain, present your work in a clear way (we may remove marks for messy notebooks)"
   ]
  },
  {
   "cell_type": "markdown",
   "metadata": {},
   "source": [
    "## R part (overall 70 marks)\n",
    "\n",
    "Do use the tidyverse syntax I introduced in class and labs. If in doubt, refresh the lab material 1 to 4."
   ]
  },
  {
   "cell_type": "markdown",
   "metadata": {},
   "source": [
    "The first thing you may want to do is to load **tidyverse**:"
   ]
  },
  {
   "cell_type": "code",
   "execution_count": 2,
   "metadata": {
    "vscode": {
     "languageId": "r"
    }
   },
   "outputs": [
    {
     "name": "stderr",
     "output_type": "stream",
     "text": [
      "Installing package into 'C:/Users/migsm/AppData/Local/R/win-library/4.2'\n",
      "(as 'lib' is unspecified)\n",
      "\n"
     ]
    },
    {
     "name": "stdout",
     "output_type": "stream",
     "text": [
      "package 'tidyverse' successfully unpacked and MD5 sums checked\n",
      "\n",
      "The downloaded binary packages are in\n",
      "\tC:\\Users\\migsm\\AppData\\Local\\Temp\\Rtmpktpbub\\downloaded_packages\n"
     ]
    }
   ],
   "source": [
    "install.packages(\"tidyverse\")"
   ]
  },
  {
   "cell_type": "code",
   "execution_count": 12,
   "metadata": {
    "vscode": {
     "languageId": "r"
    }
   },
   "outputs": [
    {
     "name": "stderr",
     "output_type": "stream",
     "text": [
      "── \u001b[1mAttaching packages\u001b[22m ─────────────────────────────────────────────────────────────────────────────── tidyverse 1.3.2 ──\n",
      "\u001b[32m✔\u001b[39m \u001b[34mggplot2\u001b[39m 3.3.6     \u001b[32m✔\u001b[39m \u001b[34mpurrr  \u001b[39m 0.3.4\n",
      "\u001b[32m✔\u001b[39m \u001b[34mtibble \u001b[39m 3.1.7     \u001b[32m✔\u001b[39m \u001b[34mdplyr  \u001b[39m 1.0.9\n",
      "\u001b[32m✔\u001b[39m \u001b[34mtidyr  \u001b[39m 1.2.0     \u001b[32m✔\u001b[39m \u001b[34mstringr\u001b[39m 1.4.0\n",
      "\u001b[32m✔\u001b[39m \u001b[34mreadr  \u001b[39m 2.1.2     \u001b[32m✔\u001b[39m \u001b[34mforcats\u001b[39m 0.5.1\n",
      "── \u001b[1mConflicts\u001b[22m ────────────────────────────────────────────────────────────────────────────────── tidyverse_conflicts() ──\n",
      "\u001b[31m✖\u001b[39m \u001b[34mdplyr\u001b[39m::\u001b[32mfilter()\u001b[39m masks \u001b[34mstats\u001b[39m::filter()\n",
      "\u001b[31m✖\u001b[39m \u001b[34mdplyr\u001b[39m::\u001b[32mlag()\u001b[39m    masks \u001b[34mstats\u001b[39m::lag()\n"
     ]
    }
   ],
   "source": [
    "library(tidyverse)\n",
    "library(visdat)"
   ]
  },
  {
   "cell_type": "markdown",
   "metadata": {},
   "source": [
    "### Task (a): import (5 marks)\n",
    "\n",
    "Import the **hour.csv** dataset into R as a dataframe (we'll call it `bike_df`, but you can call it what you want). You can read about the dataset in the file `DataSet_Dictionary.txt`. (Alternatively, you might use your own .csv dataset of choice, but talk with me about it before doing it). \n",
    "\n",
    "Then perform the routine checks about the types of the columns, the missing values, and output a quick summary of the dataset.\n",
    "\n",
    "_hint_ useful functions: `read_csv()`, `glimpse()`  \n",
    "_hint_ useful libraries: `tidyverse`, `readr`, `skimr`, `vis_dat`"
   ]
  },
  {
   "cell_type": "code",
   "execution_count": 13,
   "metadata": {
    "vscode": {
     "languageId": "r"
    }
   },
   "outputs": [
    {
     "data": {
      "text/html": [
       "<table class=\"dataframe\">\n",
       "<caption>A data.frame: 17379 × 17</caption>\n",
       "<thead>\n",
       "\t<tr><th scope=col>instant</th><th scope=col>dteday</th><th scope=col>season</th><th scope=col>yr</th><th scope=col>mnth</th><th scope=col>hr</th><th scope=col>holiday</th><th scope=col>weekday</th><th scope=col>workingday</th><th scope=col>weathersit</th><th scope=col>temp</th><th scope=col>atemp</th><th scope=col>hum</th><th scope=col>windspeed</th><th scope=col>casual</th><th scope=col>registered</th><th scope=col>cnt</th></tr>\n",
       "\t<tr><th scope=col>&lt;int&gt;</th><th scope=col>&lt;chr&gt;</th><th scope=col>&lt;int&gt;</th><th scope=col>&lt;int&gt;</th><th scope=col>&lt;int&gt;</th><th scope=col>&lt;int&gt;</th><th scope=col>&lt;int&gt;</th><th scope=col>&lt;int&gt;</th><th scope=col>&lt;int&gt;</th><th scope=col>&lt;int&gt;</th><th scope=col>&lt;dbl&gt;</th><th scope=col>&lt;dbl&gt;</th><th scope=col>&lt;dbl&gt;</th><th scope=col>&lt;dbl&gt;</th><th scope=col>&lt;int&gt;</th><th scope=col>&lt;int&gt;</th><th scope=col>&lt;int&gt;</th></tr>\n",
       "</thead>\n",
       "<tbody>\n",
       "\t<tr><td> 1</td><td>2011-01-01</td><td>1</td><td>0</td><td>1</td><td> 0</td><td>0</td><td>6</td><td>0</td><td>1</td><td>0.24</td><td>0.2879</td><td>0.81</td><td>0.0000</td><td> 3</td><td>13</td><td> 16</td></tr>\n",
       "\t<tr><td> 2</td><td>2011-01-01</td><td>1</td><td>0</td><td>1</td><td> 1</td><td>0</td><td>6</td><td>0</td><td>1</td><td>0.22</td><td>0.2727</td><td>0.80</td><td>0.0000</td><td> 8</td><td>32</td><td> 40</td></tr>\n",
       "\t<tr><td> 3</td><td>2011-01-01</td><td>1</td><td>0</td><td>1</td><td> 2</td><td>0</td><td>6</td><td>0</td><td>1</td><td>0.22</td><td>0.2727</td><td>0.80</td><td>0.0000</td><td> 5</td><td>27</td><td> 32</td></tr>\n",
       "\t<tr><td> 4</td><td>2011-01-01</td><td>1</td><td>0</td><td>1</td><td> 3</td><td>0</td><td>6</td><td>0</td><td>1</td><td>0.24</td><td>0.2879</td><td>0.75</td><td>0.0000</td><td> 3</td><td>10</td><td> 13</td></tr>\n",
       "\t<tr><td> 5</td><td>2011-01-01</td><td>1</td><td>0</td><td>1</td><td> 4</td><td>0</td><td>6</td><td>0</td><td>1</td><td>0.24</td><td>0.2879</td><td>0.75</td><td>0.0000</td><td> 0</td><td> 1</td><td>  1</td></tr>\n",
       "\t<tr><td> 6</td><td>2011-01-01</td><td>1</td><td>0</td><td>1</td><td> 5</td><td>0</td><td>6</td><td>0</td><td>2</td><td>0.24</td><td>0.2576</td><td>0.75</td><td>0.0896</td><td> 0</td><td> 1</td><td>  1</td></tr>\n",
       "\t<tr><td> 7</td><td>2011-01-01</td><td>1</td><td>0</td><td>1</td><td> 6</td><td>0</td><td>6</td><td>0</td><td>1</td><td>0.22</td><td>0.2727</td><td>0.80</td><td>0.0000</td><td> 2</td><td> 0</td><td>  2</td></tr>\n",
       "\t<tr><td> 8</td><td>2011-01-01</td><td>1</td><td>0</td><td>1</td><td> 7</td><td>0</td><td>6</td><td>0</td><td>1</td><td>0.20</td><td>0.2576</td><td>0.86</td><td>0.0000</td><td> 1</td><td> 2</td><td>  3</td></tr>\n",
       "\t<tr><td> 9</td><td>2011-01-01</td><td>1</td><td>0</td><td>1</td><td> 8</td><td>0</td><td>6</td><td>0</td><td>1</td><td>0.24</td><td>0.2879</td><td>0.75</td><td>0.0000</td><td> 1</td><td> 7</td><td>  8</td></tr>\n",
       "\t<tr><td>10</td><td>2011-01-01</td><td>1</td><td>0</td><td>1</td><td> 9</td><td>0</td><td>6</td><td>0</td><td>1</td><td>0.32</td><td>0.3485</td><td>0.76</td><td>0.0000</td><td> 8</td><td> 6</td><td> 14</td></tr>\n",
       "\t<tr><td>11</td><td>2011-01-01</td><td>1</td><td>0</td><td>1</td><td>10</td><td>0</td><td>6</td><td>0</td><td>1</td><td>0.38</td><td>0.3939</td><td>0.76</td><td>0.2537</td><td>12</td><td>24</td><td> 36</td></tr>\n",
       "\t<tr><td>12</td><td>2011-01-01</td><td>1</td><td>0</td><td>1</td><td>11</td><td>0</td><td>6</td><td>0</td><td>1</td><td>0.36</td><td>0.3333</td><td>0.81</td><td>0.2836</td><td>26</td><td>30</td><td> 56</td></tr>\n",
       "\t<tr><td>13</td><td>2011-01-01</td><td>1</td><td>0</td><td>1</td><td>12</td><td>0</td><td>6</td><td>0</td><td>1</td><td>0.42</td><td>0.4242</td><td>0.77</td><td>0.2836</td><td>29</td><td>55</td><td> 84</td></tr>\n",
       "\t<tr><td>14</td><td>2011-01-01</td><td>1</td><td>0</td><td>1</td><td>13</td><td>0</td><td>6</td><td>0</td><td>2</td><td>0.46</td><td>0.4545</td><td>0.72</td><td>0.2985</td><td>47</td><td>47</td><td> 94</td></tr>\n",
       "\t<tr><td>15</td><td>2011-01-01</td><td>1</td><td>0</td><td>1</td><td>14</td><td>0</td><td>6</td><td>0</td><td>2</td><td>0.46</td><td>0.4545</td><td>0.72</td><td>0.2836</td><td>35</td><td>71</td><td>106</td></tr>\n",
       "\t<tr><td>16</td><td>2011-01-01</td><td>1</td><td>0</td><td>1</td><td>15</td><td>0</td><td>6</td><td>0</td><td>2</td><td>0.44</td><td>0.4394</td><td>0.77</td><td>0.2985</td><td>40</td><td>70</td><td>110</td></tr>\n",
       "\t<tr><td>17</td><td>2011-01-01</td><td>1</td><td>0</td><td>1</td><td>16</td><td>0</td><td>6</td><td>0</td><td>2</td><td>0.42</td><td>0.4242</td><td>0.82</td><td>0.2985</td><td>41</td><td>52</td><td> 93</td></tr>\n",
       "\t<tr><td>18</td><td>2011-01-01</td><td>1</td><td>0</td><td>1</td><td>17</td><td>0</td><td>6</td><td>0</td><td>2</td><td>0.44</td><td>0.4394</td><td>0.82</td><td>0.2836</td><td>15</td><td>52</td><td> 67</td></tr>\n",
       "\t<tr><td>19</td><td>2011-01-01</td><td>1</td><td>0</td><td>1</td><td>18</td><td>0</td><td>6</td><td>0</td><td>3</td><td>0.42</td><td>0.4242</td><td>0.88</td><td>0.2537</td><td> 9</td><td>26</td><td> 35</td></tr>\n",
       "\t<tr><td>20</td><td>2011-01-01</td><td>1</td><td>0</td><td>1</td><td>19</td><td>0</td><td>6</td><td>0</td><td>3</td><td>0.42</td><td>0.4242</td><td>0.88</td><td>0.2537</td><td> 6</td><td>31</td><td> 37</td></tr>\n",
       "\t<tr><td>21</td><td>2011-01-01</td><td>1</td><td>0</td><td>1</td><td>20</td><td>0</td><td>6</td><td>0</td><td>2</td><td>0.40</td><td>0.4091</td><td>0.87</td><td>0.2537</td><td>11</td><td>25</td><td> 36</td></tr>\n",
       "\t<tr><td>22</td><td>2011-01-01</td><td>1</td><td>0</td><td>1</td><td>21</td><td>0</td><td>6</td><td>0</td><td>2</td><td>0.40</td><td>0.4091</td><td>0.87</td><td>0.1940</td><td> 3</td><td>31</td><td> 34</td></tr>\n",
       "\t<tr><td>23</td><td>2011-01-01</td><td>1</td><td>0</td><td>1</td><td>22</td><td>0</td><td>6</td><td>0</td><td>2</td><td>0.40</td><td>0.4091</td><td>0.94</td><td>0.2239</td><td>11</td><td>17</td><td> 28</td></tr>\n",
       "\t<tr><td>24</td><td>2011-01-01</td><td>1</td><td>0</td><td>1</td><td>23</td><td>0</td><td>6</td><td>0</td><td>2</td><td>0.46</td><td>0.4545</td><td>0.88</td><td>0.2985</td><td>15</td><td>24</td><td> 39</td></tr>\n",
       "\t<tr><td>25</td><td>2011-01-02</td><td>1</td><td>0</td><td>1</td><td> 0</td><td>0</td><td>0</td><td>0</td><td>2</td><td>0.46</td><td>0.4545</td><td>0.88</td><td>0.2985</td><td> 4</td><td>13</td><td> 17</td></tr>\n",
       "\t<tr><td>26</td><td>2011-01-02</td><td>1</td><td>0</td><td>1</td><td> 1</td><td>0</td><td>0</td><td>0</td><td>2</td><td>0.44</td><td>0.4394</td><td>0.94</td><td>0.2537</td><td> 1</td><td>16</td><td> 17</td></tr>\n",
       "\t<tr><td>27</td><td>2011-01-02</td><td>1</td><td>0</td><td>1</td><td> 2</td><td>0</td><td>0</td><td>0</td><td>2</td><td>0.42</td><td>0.4242</td><td>1.00</td><td>0.2836</td><td> 1</td><td> 8</td><td>  9</td></tr>\n",
       "\t<tr><td>28</td><td>2011-01-02</td><td>1</td><td>0</td><td>1</td><td> 3</td><td>0</td><td>0</td><td>0</td><td>2</td><td>0.46</td><td>0.4545</td><td>0.94</td><td>0.1940</td><td> 2</td><td> 4</td><td>  6</td></tr>\n",
       "\t<tr><td>29</td><td>2011-01-02</td><td>1</td><td>0</td><td>1</td><td> 4</td><td>0</td><td>0</td><td>0</td><td>2</td><td>0.46</td><td>0.4545</td><td>0.94</td><td>0.1940</td><td> 2</td><td> 1</td><td>  3</td></tr>\n",
       "\t<tr><td>30</td><td>2011-01-02</td><td>1</td><td>0</td><td>1</td><td> 6</td><td>0</td><td>0</td><td>0</td><td>3</td><td>0.42</td><td>0.4242</td><td>0.77</td><td>0.2985</td><td> 0</td><td> 2</td><td>  2</td></tr>\n",
       "\t<tr><td>⋮</td><td>⋮</td><td>⋮</td><td>⋮</td><td>⋮</td><td>⋮</td><td>⋮</td><td>⋮</td><td>⋮</td><td>⋮</td><td>⋮</td><td>⋮</td><td>⋮</td><td>⋮</td><td>⋮</td><td>⋮</td><td>⋮</td></tr>\n",
       "\t<tr><td>17350</td><td>2012-12-30</td><td>1</td><td>1</td><td>12</td><td>18</td><td>0</td><td>0</td><td>0</td><td>2</td><td>0.24</td><td>0.2121</td><td>0.44</td><td>0.2985</td><td>12</td><td>113</td><td>125</td></tr>\n",
       "\t<tr><td>17351</td><td>2012-12-30</td><td>1</td><td>1</td><td>12</td><td>19</td><td>0</td><td>0</td><td>0</td><td>1</td><td>0.34</td><td>0.3636</td><td>0.61</td><td>0.0000</td><td>16</td><td> 86</td><td>102</td></tr>\n",
       "\t<tr><td>17352</td><td>2012-12-30</td><td>1</td><td>1</td><td>12</td><td>20</td><td>0</td><td>0</td><td>0</td><td>1</td><td>0.22</td><td>0.1970</td><td>0.47</td><td>0.3284</td><td> 9</td><td> 63</td><td> 72</td></tr>\n",
       "\t<tr><td>17353</td><td>2012-12-30</td><td>1</td><td>1</td><td>12</td><td>21</td><td>0</td><td>0</td><td>0</td><td>1</td><td>0.20</td><td>0.2121</td><td>0.51</td><td>0.1642</td><td> 5</td><td> 42</td><td> 47</td></tr>\n",
       "\t<tr><td>17354</td><td>2012-12-30</td><td>1</td><td>1</td><td>12</td><td>22</td><td>0</td><td>0</td><td>0</td><td>1</td><td>0.20</td><td>0.1970</td><td>0.55</td><td>0.1940</td><td> 6</td><td> 30</td><td> 36</td></tr>\n",
       "\t<tr><td>17355</td><td>2012-12-30</td><td>1</td><td>1</td><td>12</td><td>23</td><td>0</td><td>0</td><td>0</td><td>1</td><td>0.20</td><td>0.1970</td><td>0.51</td><td>0.2239</td><td>10</td><td> 39</td><td> 49</td></tr>\n",
       "\t<tr><td>17356</td><td>2012-12-31</td><td>1</td><td>1</td><td>12</td><td> 0</td><td>0</td><td>1</td><td>1</td><td>1</td><td>0.18</td><td>0.1818</td><td>0.55</td><td>0.1940</td><td> 4</td><td> 30</td><td> 34</td></tr>\n",
       "\t<tr><td>17357</td><td>2012-12-31</td><td>1</td><td>1</td><td>12</td><td> 1</td><td>0</td><td>1</td><td>1</td><td>1</td><td>0.18</td><td>0.1818</td><td>0.55</td><td>0.1940</td><td> 6</td><td> 13</td><td> 19</td></tr>\n",
       "\t<tr><td>17358</td><td>2012-12-31</td><td>1</td><td>1</td><td>12</td><td> 2</td><td>0</td><td>1</td><td>1</td><td>1</td><td>0.16</td><td>0.1667</td><td>0.59</td><td>0.1642</td><td> 3</td><td>  8</td><td> 11</td></tr>\n",
       "\t<tr><td>17359</td><td>2012-12-31</td><td>1</td><td>1</td><td>12</td><td> 3</td><td>0</td><td>1</td><td>1</td><td>1</td><td>0.16</td><td>0.1818</td><td>0.59</td><td>0.1045</td><td> 0</td><td>  1</td><td>  1</td></tr>\n",
       "\t<tr><td>17360</td><td>2012-12-31</td><td>1</td><td>1</td><td>12</td><td> 4</td><td>0</td><td>1</td><td>1</td><td>1</td><td>0.14</td><td>0.1667</td><td>0.69</td><td>0.1045</td><td> 0</td><td>  3</td><td>  3</td></tr>\n",
       "\t<tr><td>17361</td><td>2012-12-31</td><td>1</td><td>1</td><td>12</td><td> 5</td><td>0</td><td>1</td><td>1</td><td>1</td><td>0.16</td><td>0.1515</td><td>0.64</td><td>0.1940</td><td> 0</td><td>  9</td><td>  9</td></tr>\n",
       "\t<tr><td>17362</td><td>2012-12-31</td><td>1</td><td>1</td><td>12</td><td> 6</td><td>0</td><td>1</td><td>1</td><td>1</td><td>0.16</td><td>0.1667</td><td>0.64</td><td>0.1642</td><td> 0</td><td> 40</td><td> 40</td></tr>\n",
       "\t<tr><td>17363</td><td>2012-12-31</td><td>1</td><td>1</td><td>12</td><td> 7</td><td>0</td><td>1</td><td>1</td><td>1</td><td>0.16</td><td>0.1818</td><td>0.64</td><td>0.1343</td><td> 2</td><td> 83</td><td> 85</td></tr>\n",
       "\t<tr><td>17364</td><td>2012-12-31</td><td>1</td><td>1</td><td>12</td><td> 8</td><td>0</td><td>1</td><td>1</td><td>1</td><td>0.14</td><td>0.1515</td><td>0.69</td><td>0.1343</td><td> 9</td><td>187</td><td>196</td></tr>\n",
       "\t<tr><td>17365</td><td>2012-12-31</td><td>1</td><td>1</td><td>12</td><td> 9</td><td>0</td><td>1</td><td>1</td><td>2</td><td>0.18</td><td>0.2121</td><td>0.64</td><td>0.1045</td><td>13</td><td>144</td><td>157</td></tr>\n",
       "\t<tr><td>17366</td><td>2012-12-31</td><td>1</td><td>1</td><td>12</td><td>10</td><td>0</td><td>1</td><td>1</td><td>2</td><td>0.20</td><td>0.2121</td><td>0.69</td><td>0.1343</td><td>33</td><td> 87</td><td>120</td></tr>\n",
       "\t<tr><td>17367</td><td>2012-12-31</td><td>1</td><td>1</td><td>12</td><td>11</td><td>0</td><td>1</td><td>1</td><td>2</td><td>0.22</td><td>0.2273</td><td>0.60</td><td>0.1940</td><td>43</td><td>114</td><td>157</td></tr>\n",
       "\t<tr><td>17368</td><td>2012-12-31</td><td>1</td><td>1</td><td>12</td><td>12</td><td>0</td><td>1</td><td>1</td><td>2</td><td>0.24</td><td>0.2273</td><td>0.56</td><td>0.1940</td><td>52</td><td>172</td><td>224</td></tr>\n",
       "\t<tr><td>17369</td><td>2012-12-31</td><td>1</td><td>1</td><td>12</td><td>13</td><td>0</td><td>1</td><td>1</td><td>2</td><td>0.26</td><td>0.2576</td><td>0.44</td><td>0.1642</td><td>38</td><td>165</td><td>203</td></tr>\n",
       "\t<tr><td>17370</td><td>2012-12-31</td><td>1</td><td>1</td><td>12</td><td>14</td><td>0</td><td>1</td><td>1</td><td>2</td><td>0.28</td><td>0.2727</td><td>0.45</td><td>0.2239</td><td>62</td><td>185</td><td>247</td></tr>\n",
       "\t<tr><td>17371</td><td>2012-12-31</td><td>1</td><td>1</td><td>12</td><td>15</td><td>0</td><td>1</td><td>1</td><td>2</td><td>0.28</td><td>0.2879</td><td>0.45</td><td>0.1343</td><td>69</td><td>246</td><td>315</td></tr>\n",
       "\t<tr><td>17372</td><td>2012-12-31</td><td>1</td><td>1</td><td>12</td><td>16</td><td>0</td><td>1</td><td>1</td><td>2</td><td>0.26</td><td>0.2576</td><td>0.48</td><td>0.1940</td><td>30</td><td>184</td><td>214</td></tr>\n",
       "\t<tr><td>17373</td><td>2012-12-31</td><td>1</td><td>1</td><td>12</td><td>17</td><td>0</td><td>1</td><td>1</td><td>2</td><td>0.26</td><td>0.2879</td><td>0.48</td><td>0.0896</td><td>14</td><td>150</td><td>164</td></tr>\n",
       "\t<tr><td>17374</td><td>2012-12-31</td><td>1</td><td>1</td><td>12</td><td>18</td><td>0</td><td>1</td><td>1</td><td>2</td><td>0.26</td><td>0.2727</td><td>0.48</td><td>0.1343</td><td>10</td><td>112</td><td>122</td></tr>\n",
       "\t<tr><td>17375</td><td>2012-12-31</td><td>1</td><td>1</td><td>12</td><td>19</td><td>0</td><td>1</td><td>1</td><td>2</td><td>0.26</td><td>0.2576</td><td>0.60</td><td>0.1642</td><td>11</td><td>108</td><td>119</td></tr>\n",
       "\t<tr><td>17376</td><td>2012-12-31</td><td>1</td><td>1</td><td>12</td><td>20</td><td>0</td><td>1</td><td>1</td><td>2</td><td>0.26</td><td>0.2576</td><td>0.60</td><td>0.1642</td><td> 8</td><td> 81</td><td> 89</td></tr>\n",
       "\t<tr><td>17377</td><td>2012-12-31</td><td>1</td><td>1</td><td>12</td><td>21</td><td>0</td><td>1</td><td>1</td><td>1</td><td>0.26</td><td>0.2576</td><td>0.60</td><td>0.1642</td><td> 7</td><td> 83</td><td> 90</td></tr>\n",
       "\t<tr><td>17378</td><td>2012-12-31</td><td>1</td><td>1</td><td>12</td><td>22</td><td>0</td><td>1</td><td>1</td><td>1</td><td>0.26</td><td>0.2727</td><td>0.56</td><td>0.1343</td><td>13</td><td> 48</td><td> 61</td></tr>\n",
       "\t<tr><td>17379</td><td>2012-12-31</td><td>1</td><td>1</td><td>12</td><td>23</td><td>0</td><td>1</td><td>1</td><td>1</td><td>0.26</td><td>0.2727</td><td>0.65</td><td>0.1343</td><td>12</td><td> 37</td><td> 49</td></tr>\n",
       "</tbody>\n",
       "</table>\n"
      ],
      "text/latex": [
       "A data.frame: 17379 × 17\n",
       "\\begin{tabular}{lllllllllllllllll}\n",
       " instant & dteday & season & yr & mnth & hr & holiday & weekday & workingday & weathersit & temp & atemp & hum & windspeed & casual & registered & cnt\\\\\n",
       " <int> & <chr> & <int> & <int> & <int> & <int> & <int> & <int> & <int> & <int> & <dbl> & <dbl> & <dbl> & <dbl> & <int> & <int> & <int>\\\\\n",
       "\\hline\n",
       "\t  1 & 2011-01-01 & 1 & 0 & 1 &  0 & 0 & 6 & 0 & 1 & 0.24 & 0.2879 & 0.81 & 0.0000 &  3 & 13 &  16\\\\\n",
       "\t  2 & 2011-01-01 & 1 & 0 & 1 &  1 & 0 & 6 & 0 & 1 & 0.22 & 0.2727 & 0.80 & 0.0000 &  8 & 32 &  40\\\\\n",
       "\t  3 & 2011-01-01 & 1 & 0 & 1 &  2 & 0 & 6 & 0 & 1 & 0.22 & 0.2727 & 0.80 & 0.0000 &  5 & 27 &  32\\\\\n",
       "\t  4 & 2011-01-01 & 1 & 0 & 1 &  3 & 0 & 6 & 0 & 1 & 0.24 & 0.2879 & 0.75 & 0.0000 &  3 & 10 &  13\\\\\n",
       "\t  5 & 2011-01-01 & 1 & 0 & 1 &  4 & 0 & 6 & 0 & 1 & 0.24 & 0.2879 & 0.75 & 0.0000 &  0 &  1 &   1\\\\\n",
       "\t  6 & 2011-01-01 & 1 & 0 & 1 &  5 & 0 & 6 & 0 & 2 & 0.24 & 0.2576 & 0.75 & 0.0896 &  0 &  1 &   1\\\\\n",
       "\t  7 & 2011-01-01 & 1 & 0 & 1 &  6 & 0 & 6 & 0 & 1 & 0.22 & 0.2727 & 0.80 & 0.0000 &  2 &  0 &   2\\\\\n",
       "\t  8 & 2011-01-01 & 1 & 0 & 1 &  7 & 0 & 6 & 0 & 1 & 0.20 & 0.2576 & 0.86 & 0.0000 &  1 &  2 &   3\\\\\n",
       "\t  9 & 2011-01-01 & 1 & 0 & 1 &  8 & 0 & 6 & 0 & 1 & 0.24 & 0.2879 & 0.75 & 0.0000 &  1 &  7 &   8\\\\\n",
       "\t 10 & 2011-01-01 & 1 & 0 & 1 &  9 & 0 & 6 & 0 & 1 & 0.32 & 0.3485 & 0.76 & 0.0000 &  8 &  6 &  14\\\\\n",
       "\t 11 & 2011-01-01 & 1 & 0 & 1 & 10 & 0 & 6 & 0 & 1 & 0.38 & 0.3939 & 0.76 & 0.2537 & 12 & 24 &  36\\\\\n",
       "\t 12 & 2011-01-01 & 1 & 0 & 1 & 11 & 0 & 6 & 0 & 1 & 0.36 & 0.3333 & 0.81 & 0.2836 & 26 & 30 &  56\\\\\n",
       "\t 13 & 2011-01-01 & 1 & 0 & 1 & 12 & 0 & 6 & 0 & 1 & 0.42 & 0.4242 & 0.77 & 0.2836 & 29 & 55 &  84\\\\\n",
       "\t 14 & 2011-01-01 & 1 & 0 & 1 & 13 & 0 & 6 & 0 & 2 & 0.46 & 0.4545 & 0.72 & 0.2985 & 47 & 47 &  94\\\\\n",
       "\t 15 & 2011-01-01 & 1 & 0 & 1 & 14 & 0 & 6 & 0 & 2 & 0.46 & 0.4545 & 0.72 & 0.2836 & 35 & 71 & 106\\\\\n",
       "\t 16 & 2011-01-01 & 1 & 0 & 1 & 15 & 0 & 6 & 0 & 2 & 0.44 & 0.4394 & 0.77 & 0.2985 & 40 & 70 & 110\\\\\n",
       "\t 17 & 2011-01-01 & 1 & 0 & 1 & 16 & 0 & 6 & 0 & 2 & 0.42 & 0.4242 & 0.82 & 0.2985 & 41 & 52 &  93\\\\\n",
       "\t 18 & 2011-01-01 & 1 & 0 & 1 & 17 & 0 & 6 & 0 & 2 & 0.44 & 0.4394 & 0.82 & 0.2836 & 15 & 52 &  67\\\\\n",
       "\t 19 & 2011-01-01 & 1 & 0 & 1 & 18 & 0 & 6 & 0 & 3 & 0.42 & 0.4242 & 0.88 & 0.2537 &  9 & 26 &  35\\\\\n",
       "\t 20 & 2011-01-01 & 1 & 0 & 1 & 19 & 0 & 6 & 0 & 3 & 0.42 & 0.4242 & 0.88 & 0.2537 &  6 & 31 &  37\\\\\n",
       "\t 21 & 2011-01-01 & 1 & 0 & 1 & 20 & 0 & 6 & 0 & 2 & 0.40 & 0.4091 & 0.87 & 0.2537 & 11 & 25 &  36\\\\\n",
       "\t 22 & 2011-01-01 & 1 & 0 & 1 & 21 & 0 & 6 & 0 & 2 & 0.40 & 0.4091 & 0.87 & 0.1940 &  3 & 31 &  34\\\\\n",
       "\t 23 & 2011-01-01 & 1 & 0 & 1 & 22 & 0 & 6 & 0 & 2 & 0.40 & 0.4091 & 0.94 & 0.2239 & 11 & 17 &  28\\\\\n",
       "\t 24 & 2011-01-01 & 1 & 0 & 1 & 23 & 0 & 6 & 0 & 2 & 0.46 & 0.4545 & 0.88 & 0.2985 & 15 & 24 &  39\\\\\n",
       "\t 25 & 2011-01-02 & 1 & 0 & 1 &  0 & 0 & 0 & 0 & 2 & 0.46 & 0.4545 & 0.88 & 0.2985 &  4 & 13 &  17\\\\\n",
       "\t 26 & 2011-01-02 & 1 & 0 & 1 &  1 & 0 & 0 & 0 & 2 & 0.44 & 0.4394 & 0.94 & 0.2537 &  1 & 16 &  17\\\\\n",
       "\t 27 & 2011-01-02 & 1 & 0 & 1 &  2 & 0 & 0 & 0 & 2 & 0.42 & 0.4242 & 1.00 & 0.2836 &  1 &  8 &   9\\\\\n",
       "\t 28 & 2011-01-02 & 1 & 0 & 1 &  3 & 0 & 0 & 0 & 2 & 0.46 & 0.4545 & 0.94 & 0.1940 &  2 &  4 &   6\\\\\n",
       "\t 29 & 2011-01-02 & 1 & 0 & 1 &  4 & 0 & 0 & 0 & 2 & 0.46 & 0.4545 & 0.94 & 0.1940 &  2 &  1 &   3\\\\\n",
       "\t 30 & 2011-01-02 & 1 & 0 & 1 &  6 & 0 & 0 & 0 & 3 & 0.42 & 0.4242 & 0.77 & 0.2985 &  0 &  2 &   2\\\\\n",
       "\t ⋮ & ⋮ & ⋮ & ⋮ & ⋮ & ⋮ & ⋮ & ⋮ & ⋮ & ⋮ & ⋮ & ⋮ & ⋮ & ⋮ & ⋮ & ⋮ & ⋮\\\\\n",
       "\t 17350 & 2012-12-30 & 1 & 1 & 12 & 18 & 0 & 0 & 0 & 2 & 0.24 & 0.2121 & 0.44 & 0.2985 & 12 & 113 & 125\\\\\n",
       "\t 17351 & 2012-12-30 & 1 & 1 & 12 & 19 & 0 & 0 & 0 & 1 & 0.34 & 0.3636 & 0.61 & 0.0000 & 16 &  86 & 102\\\\\n",
       "\t 17352 & 2012-12-30 & 1 & 1 & 12 & 20 & 0 & 0 & 0 & 1 & 0.22 & 0.1970 & 0.47 & 0.3284 &  9 &  63 &  72\\\\\n",
       "\t 17353 & 2012-12-30 & 1 & 1 & 12 & 21 & 0 & 0 & 0 & 1 & 0.20 & 0.2121 & 0.51 & 0.1642 &  5 &  42 &  47\\\\\n",
       "\t 17354 & 2012-12-30 & 1 & 1 & 12 & 22 & 0 & 0 & 0 & 1 & 0.20 & 0.1970 & 0.55 & 0.1940 &  6 &  30 &  36\\\\\n",
       "\t 17355 & 2012-12-30 & 1 & 1 & 12 & 23 & 0 & 0 & 0 & 1 & 0.20 & 0.1970 & 0.51 & 0.2239 & 10 &  39 &  49\\\\\n",
       "\t 17356 & 2012-12-31 & 1 & 1 & 12 &  0 & 0 & 1 & 1 & 1 & 0.18 & 0.1818 & 0.55 & 0.1940 &  4 &  30 &  34\\\\\n",
       "\t 17357 & 2012-12-31 & 1 & 1 & 12 &  1 & 0 & 1 & 1 & 1 & 0.18 & 0.1818 & 0.55 & 0.1940 &  6 &  13 &  19\\\\\n",
       "\t 17358 & 2012-12-31 & 1 & 1 & 12 &  2 & 0 & 1 & 1 & 1 & 0.16 & 0.1667 & 0.59 & 0.1642 &  3 &   8 &  11\\\\\n",
       "\t 17359 & 2012-12-31 & 1 & 1 & 12 &  3 & 0 & 1 & 1 & 1 & 0.16 & 0.1818 & 0.59 & 0.1045 &  0 &   1 &   1\\\\\n",
       "\t 17360 & 2012-12-31 & 1 & 1 & 12 &  4 & 0 & 1 & 1 & 1 & 0.14 & 0.1667 & 0.69 & 0.1045 &  0 &   3 &   3\\\\\n",
       "\t 17361 & 2012-12-31 & 1 & 1 & 12 &  5 & 0 & 1 & 1 & 1 & 0.16 & 0.1515 & 0.64 & 0.1940 &  0 &   9 &   9\\\\\n",
       "\t 17362 & 2012-12-31 & 1 & 1 & 12 &  6 & 0 & 1 & 1 & 1 & 0.16 & 0.1667 & 0.64 & 0.1642 &  0 &  40 &  40\\\\\n",
       "\t 17363 & 2012-12-31 & 1 & 1 & 12 &  7 & 0 & 1 & 1 & 1 & 0.16 & 0.1818 & 0.64 & 0.1343 &  2 &  83 &  85\\\\\n",
       "\t 17364 & 2012-12-31 & 1 & 1 & 12 &  8 & 0 & 1 & 1 & 1 & 0.14 & 0.1515 & 0.69 & 0.1343 &  9 & 187 & 196\\\\\n",
       "\t 17365 & 2012-12-31 & 1 & 1 & 12 &  9 & 0 & 1 & 1 & 2 & 0.18 & 0.2121 & 0.64 & 0.1045 & 13 & 144 & 157\\\\\n",
       "\t 17366 & 2012-12-31 & 1 & 1 & 12 & 10 & 0 & 1 & 1 & 2 & 0.20 & 0.2121 & 0.69 & 0.1343 & 33 &  87 & 120\\\\\n",
       "\t 17367 & 2012-12-31 & 1 & 1 & 12 & 11 & 0 & 1 & 1 & 2 & 0.22 & 0.2273 & 0.60 & 0.1940 & 43 & 114 & 157\\\\\n",
       "\t 17368 & 2012-12-31 & 1 & 1 & 12 & 12 & 0 & 1 & 1 & 2 & 0.24 & 0.2273 & 0.56 & 0.1940 & 52 & 172 & 224\\\\\n",
       "\t 17369 & 2012-12-31 & 1 & 1 & 12 & 13 & 0 & 1 & 1 & 2 & 0.26 & 0.2576 & 0.44 & 0.1642 & 38 & 165 & 203\\\\\n",
       "\t 17370 & 2012-12-31 & 1 & 1 & 12 & 14 & 0 & 1 & 1 & 2 & 0.28 & 0.2727 & 0.45 & 0.2239 & 62 & 185 & 247\\\\\n",
       "\t 17371 & 2012-12-31 & 1 & 1 & 12 & 15 & 0 & 1 & 1 & 2 & 0.28 & 0.2879 & 0.45 & 0.1343 & 69 & 246 & 315\\\\\n",
       "\t 17372 & 2012-12-31 & 1 & 1 & 12 & 16 & 0 & 1 & 1 & 2 & 0.26 & 0.2576 & 0.48 & 0.1940 & 30 & 184 & 214\\\\\n",
       "\t 17373 & 2012-12-31 & 1 & 1 & 12 & 17 & 0 & 1 & 1 & 2 & 0.26 & 0.2879 & 0.48 & 0.0896 & 14 & 150 & 164\\\\\n",
       "\t 17374 & 2012-12-31 & 1 & 1 & 12 & 18 & 0 & 1 & 1 & 2 & 0.26 & 0.2727 & 0.48 & 0.1343 & 10 & 112 & 122\\\\\n",
       "\t 17375 & 2012-12-31 & 1 & 1 & 12 & 19 & 0 & 1 & 1 & 2 & 0.26 & 0.2576 & 0.60 & 0.1642 & 11 & 108 & 119\\\\\n",
       "\t 17376 & 2012-12-31 & 1 & 1 & 12 & 20 & 0 & 1 & 1 & 2 & 0.26 & 0.2576 & 0.60 & 0.1642 &  8 &  81 &  89\\\\\n",
       "\t 17377 & 2012-12-31 & 1 & 1 & 12 & 21 & 0 & 1 & 1 & 1 & 0.26 & 0.2576 & 0.60 & 0.1642 &  7 &  83 &  90\\\\\n",
       "\t 17378 & 2012-12-31 & 1 & 1 & 12 & 22 & 0 & 1 & 1 & 1 & 0.26 & 0.2727 & 0.56 & 0.1343 & 13 &  48 &  61\\\\\n",
       "\t 17379 & 2012-12-31 & 1 & 1 & 12 & 23 & 0 & 1 & 1 & 1 & 0.26 & 0.2727 & 0.65 & 0.1343 & 12 &  37 &  49\\\\\n",
       "\\end{tabular}\n"
      ],
      "text/markdown": [
       "\n",
       "A data.frame: 17379 × 17\n",
       "\n",
       "| instant &lt;int&gt; | dteday &lt;chr&gt; | season &lt;int&gt; | yr &lt;int&gt; | mnth &lt;int&gt; | hr &lt;int&gt; | holiday &lt;int&gt; | weekday &lt;int&gt; | workingday &lt;int&gt; | weathersit &lt;int&gt; | temp &lt;dbl&gt; | atemp &lt;dbl&gt; | hum &lt;dbl&gt; | windspeed &lt;dbl&gt; | casual &lt;int&gt; | registered &lt;int&gt; | cnt &lt;int&gt; |\n",
       "|---|---|---|---|---|---|---|---|---|---|---|---|---|---|---|---|---|\n",
       "|  1 | 2011-01-01 | 1 | 0 | 1 |  0 | 0 | 6 | 0 | 1 | 0.24 | 0.2879 | 0.81 | 0.0000 |  3 | 13 |  16 |\n",
       "|  2 | 2011-01-01 | 1 | 0 | 1 |  1 | 0 | 6 | 0 | 1 | 0.22 | 0.2727 | 0.80 | 0.0000 |  8 | 32 |  40 |\n",
       "|  3 | 2011-01-01 | 1 | 0 | 1 |  2 | 0 | 6 | 0 | 1 | 0.22 | 0.2727 | 0.80 | 0.0000 |  5 | 27 |  32 |\n",
       "|  4 | 2011-01-01 | 1 | 0 | 1 |  3 | 0 | 6 | 0 | 1 | 0.24 | 0.2879 | 0.75 | 0.0000 |  3 | 10 |  13 |\n",
       "|  5 | 2011-01-01 | 1 | 0 | 1 |  4 | 0 | 6 | 0 | 1 | 0.24 | 0.2879 | 0.75 | 0.0000 |  0 |  1 |   1 |\n",
       "|  6 | 2011-01-01 | 1 | 0 | 1 |  5 | 0 | 6 | 0 | 2 | 0.24 | 0.2576 | 0.75 | 0.0896 |  0 |  1 |   1 |\n",
       "|  7 | 2011-01-01 | 1 | 0 | 1 |  6 | 0 | 6 | 0 | 1 | 0.22 | 0.2727 | 0.80 | 0.0000 |  2 |  0 |   2 |\n",
       "|  8 | 2011-01-01 | 1 | 0 | 1 |  7 | 0 | 6 | 0 | 1 | 0.20 | 0.2576 | 0.86 | 0.0000 |  1 |  2 |   3 |\n",
       "|  9 | 2011-01-01 | 1 | 0 | 1 |  8 | 0 | 6 | 0 | 1 | 0.24 | 0.2879 | 0.75 | 0.0000 |  1 |  7 |   8 |\n",
       "| 10 | 2011-01-01 | 1 | 0 | 1 |  9 | 0 | 6 | 0 | 1 | 0.32 | 0.3485 | 0.76 | 0.0000 |  8 |  6 |  14 |\n",
       "| 11 | 2011-01-01 | 1 | 0 | 1 | 10 | 0 | 6 | 0 | 1 | 0.38 | 0.3939 | 0.76 | 0.2537 | 12 | 24 |  36 |\n",
       "| 12 | 2011-01-01 | 1 | 0 | 1 | 11 | 0 | 6 | 0 | 1 | 0.36 | 0.3333 | 0.81 | 0.2836 | 26 | 30 |  56 |\n",
       "| 13 | 2011-01-01 | 1 | 0 | 1 | 12 | 0 | 6 | 0 | 1 | 0.42 | 0.4242 | 0.77 | 0.2836 | 29 | 55 |  84 |\n",
       "| 14 | 2011-01-01 | 1 | 0 | 1 | 13 | 0 | 6 | 0 | 2 | 0.46 | 0.4545 | 0.72 | 0.2985 | 47 | 47 |  94 |\n",
       "| 15 | 2011-01-01 | 1 | 0 | 1 | 14 | 0 | 6 | 0 | 2 | 0.46 | 0.4545 | 0.72 | 0.2836 | 35 | 71 | 106 |\n",
       "| 16 | 2011-01-01 | 1 | 0 | 1 | 15 | 0 | 6 | 0 | 2 | 0.44 | 0.4394 | 0.77 | 0.2985 | 40 | 70 | 110 |\n",
       "| 17 | 2011-01-01 | 1 | 0 | 1 | 16 | 0 | 6 | 0 | 2 | 0.42 | 0.4242 | 0.82 | 0.2985 | 41 | 52 |  93 |\n",
       "| 18 | 2011-01-01 | 1 | 0 | 1 | 17 | 0 | 6 | 0 | 2 | 0.44 | 0.4394 | 0.82 | 0.2836 | 15 | 52 |  67 |\n",
       "| 19 | 2011-01-01 | 1 | 0 | 1 | 18 | 0 | 6 | 0 | 3 | 0.42 | 0.4242 | 0.88 | 0.2537 |  9 | 26 |  35 |\n",
       "| 20 | 2011-01-01 | 1 | 0 | 1 | 19 | 0 | 6 | 0 | 3 | 0.42 | 0.4242 | 0.88 | 0.2537 |  6 | 31 |  37 |\n",
       "| 21 | 2011-01-01 | 1 | 0 | 1 | 20 | 0 | 6 | 0 | 2 | 0.40 | 0.4091 | 0.87 | 0.2537 | 11 | 25 |  36 |\n",
       "| 22 | 2011-01-01 | 1 | 0 | 1 | 21 | 0 | 6 | 0 | 2 | 0.40 | 0.4091 | 0.87 | 0.1940 |  3 | 31 |  34 |\n",
       "| 23 | 2011-01-01 | 1 | 0 | 1 | 22 | 0 | 6 | 0 | 2 | 0.40 | 0.4091 | 0.94 | 0.2239 | 11 | 17 |  28 |\n",
       "| 24 | 2011-01-01 | 1 | 0 | 1 | 23 | 0 | 6 | 0 | 2 | 0.46 | 0.4545 | 0.88 | 0.2985 | 15 | 24 |  39 |\n",
       "| 25 | 2011-01-02 | 1 | 0 | 1 |  0 | 0 | 0 | 0 | 2 | 0.46 | 0.4545 | 0.88 | 0.2985 |  4 | 13 |  17 |\n",
       "| 26 | 2011-01-02 | 1 | 0 | 1 |  1 | 0 | 0 | 0 | 2 | 0.44 | 0.4394 | 0.94 | 0.2537 |  1 | 16 |  17 |\n",
       "| 27 | 2011-01-02 | 1 | 0 | 1 |  2 | 0 | 0 | 0 | 2 | 0.42 | 0.4242 | 1.00 | 0.2836 |  1 |  8 |   9 |\n",
       "| 28 | 2011-01-02 | 1 | 0 | 1 |  3 | 0 | 0 | 0 | 2 | 0.46 | 0.4545 | 0.94 | 0.1940 |  2 |  4 |   6 |\n",
       "| 29 | 2011-01-02 | 1 | 0 | 1 |  4 | 0 | 0 | 0 | 2 | 0.46 | 0.4545 | 0.94 | 0.1940 |  2 |  1 |   3 |\n",
       "| 30 | 2011-01-02 | 1 | 0 | 1 |  6 | 0 | 0 | 0 | 3 | 0.42 | 0.4242 | 0.77 | 0.2985 |  0 |  2 |   2 |\n",
       "| ⋮ | ⋮ | ⋮ | ⋮ | ⋮ | ⋮ | ⋮ | ⋮ | ⋮ | ⋮ | ⋮ | ⋮ | ⋮ | ⋮ | ⋮ | ⋮ | ⋮ |\n",
       "| 17350 | 2012-12-30 | 1 | 1 | 12 | 18 | 0 | 0 | 0 | 2 | 0.24 | 0.2121 | 0.44 | 0.2985 | 12 | 113 | 125 |\n",
       "| 17351 | 2012-12-30 | 1 | 1 | 12 | 19 | 0 | 0 | 0 | 1 | 0.34 | 0.3636 | 0.61 | 0.0000 | 16 |  86 | 102 |\n",
       "| 17352 | 2012-12-30 | 1 | 1 | 12 | 20 | 0 | 0 | 0 | 1 | 0.22 | 0.1970 | 0.47 | 0.3284 |  9 |  63 |  72 |\n",
       "| 17353 | 2012-12-30 | 1 | 1 | 12 | 21 | 0 | 0 | 0 | 1 | 0.20 | 0.2121 | 0.51 | 0.1642 |  5 |  42 |  47 |\n",
       "| 17354 | 2012-12-30 | 1 | 1 | 12 | 22 | 0 | 0 | 0 | 1 | 0.20 | 0.1970 | 0.55 | 0.1940 |  6 |  30 |  36 |\n",
       "| 17355 | 2012-12-30 | 1 | 1 | 12 | 23 | 0 | 0 | 0 | 1 | 0.20 | 0.1970 | 0.51 | 0.2239 | 10 |  39 |  49 |\n",
       "| 17356 | 2012-12-31 | 1 | 1 | 12 |  0 | 0 | 1 | 1 | 1 | 0.18 | 0.1818 | 0.55 | 0.1940 |  4 |  30 |  34 |\n",
       "| 17357 | 2012-12-31 | 1 | 1 | 12 |  1 | 0 | 1 | 1 | 1 | 0.18 | 0.1818 | 0.55 | 0.1940 |  6 |  13 |  19 |\n",
       "| 17358 | 2012-12-31 | 1 | 1 | 12 |  2 | 0 | 1 | 1 | 1 | 0.16 | 0.1667 | 0.59 | 0.1642 |  3 |   8 |  11 |\n",
       "| 17359 | 2012-12-31 | 1 | 1 | 12 |  3 | 0 | 1 | 1 | 1 | 0.16 | 0.1818 | 0.59 | 0.1045 |  0 |   1 |   1 |\n",
       "| 17360 | 2012-12-31 | 1 | 1 | 12 |  4 | 0 | 1 | 1 | 1 | 0.14 | 0.1667 | 0.69 | 0.1045 |  0 |   3 |   3 |\n",
       "| 17361 | 2012-12-31 | 1 | 1 | 12 |  5 | 0 | 1 | 1 | 1 | 0.16 | 0.1515 | 0.64 | 0.1940 |  0 |   9 |   9 |\n",
       "| 17362 | 2012-12-31 | 1 | 1 | 12 |  6 | 0 | 1 | 1 | 1 | 0.16 | 0.1667 | 0.64 | 0.1642 |  0 |  40 |  40 |\n",
       "| 17363 | 2012-12-31 | 1 | 1 | 12 |  7 | 0 | 1 | 1 | 1 | 0.16 | 0.1818 | 0.64 | 0.1343 |  2 |  83 |  85 |\n",
       "| 17364 | 2012-12-31 | 1 | 1 | 12 |  8 | 0 | 1 | 1 | 1 | 0.14 | 0.1515 | 0.69 | 0.1343 |  9 | 187 | 196 |\n",
       "| 17365 | 2012-12-31 | 1 | 1 | 12 |  9 | 0 | 1 | 1 | 2 | 0.18 | 0.2121 | 0.64 | 0.1045 | 13 | 144 | 157 |\n",
       "| 17366 | 2012-12-31 | 1 | 1 | 12 | 10 | 0 | 1 | 1 | 2 | 0.20 | 0.2121 | 0.69 | 0.1343 | 33 |  87 | 120 |\n",
       "| 17367 | 2012-12-31 | 1 | 1 | 12 | 11 | 0 | 1 | 1 | 2 | 0.22 | 0.2273 | 0.60 | 0.1940 | 43 | 114 | 157 |\n",
       "| 17368 | 2012-12-31 | 1 | 1 | 12 | 12 | 0 | 1 | 1 | 2 | 0.24 | 0.2273 | 0.56 | 0.1940 | 52 | 172 | 224 |\n",
       "| 17369 | 2012-12-31 | 1 | 1 | 12 | 13 | 0 | 1 | 1 | 2 | 0.26 | 0.2576 | 0.44 | 0.1642 | 38 | 165 | 203 |\n",
       "| 17370 | 2012-12-31 | 1 | 1 | 12 | 14 | 0 | 1 | 1 | 2 | 0.28 | 0.2727 | 0.45 | 0.2239 | 62 | 185 | 247 |\n",
       "| 17371 | 2012-12-31 | 1 | 1 | 12 | 15 | 0 | 1 | 1 | 2 | 0.28 | 0.2879 | 0.45 | 0.1343 | 69 | 246 | 315 |\n",
       "| 17372 | 2012-12-31 | 1 | 1 | 12 | 16 | 0 | 1 | 1 | 2 | 0.26 | 0.2576 | 0.48 | 0.1940 | 30 | 184 | 214 |\n",
       "| 17373 | 2012-12-31 | 1 | 1 | 12 | 17 | 0 | 1 | 1 | 2 | 0.26 | 0.2879 | 0.48 | 0.0896 | 14 | 150 | 164 |\n",
       "| 17374 | 2012-12-31 | 1 | 1 | 12 | 18 | 0 | 1 | 1 | 2 | 0.26 | 0.2727 | 0.48 | 0.1343 | 10 | 112 | 122 |\n",
       "| 17375 | 2012-12-31 | 1 | 1 | 12 | 19 | 0 | 1 | 1 | 2 | 0.26 | 0.2576 | 0.60 | 0.1642 | 11 | 108 | 119 |\n",
       "| 17376 | 2012-12-31 | 1 | 1 | 12 | 20 | 0 | 1 | 1 | 2 | 0.26 | 0.2576 | 0.60 | 0.1642 |  8 |  81 |  89 |\n",
       "| 17377 | 2012-12-31 | 1 | 1 | 12 | 21 | 0 | 1 | 1 | 1 | 0.26 | 0.2576 | 0.60 | 0.1642 |  7 |  83 |  90 |\n",
       "| 17378 | 2012-12-31 | 1 | 1 | 12 | 22 | 0 | 1 | 1 | 1 | 0.26 | 0.2727 | 0.56 | 0.1343 | 13 |  48 |  61 |\n",
       "| 17379 | 2012-12-31 | 1 | 1 | 12 | 23 | 0 | 1 | 1 | 1 | 0.26 | 0.2727 | 0.65 | 0.1343 | 12 |  37 |  49 |\n",
       "\n"
      ],
      "text/plain": [
       "      instant dteday     season yr mnth hr holiday weekday workingday\n",
       "1      1      2011-01-01 1      0  1     0 0       6       0         \n",
       "2      2      2011-01-01 1      0  1     1 0       6       0         \n",
       "3      3      2011-01-01 1      0  1     2 0       6       0         \n",
       "4      4      2011-01-01 1      0  1     3 0       6       0         \n",
       "5      5      2011-01-01 1      0  1     4 0       6       0         \n",
       "6      6      2011-01-01 1      0  1     5 0       6       0         \n",
       "7      7      2011-01-01 1      0  1     6 0       6       0         \n",
       "8      8      2011-01-01 1      0  1     7 0       6       0         \n",
       "9      9      2011-01-01 1      0  1     8 0       6       0         \n",
       "10    10      2011-01-01 1      0  1     9 0       6       0         \n",
       "11    11      2011-01-01 1      0  1    10 0       6       0         \n",
       "12    12      2011-01-01 1      0  1    11 0       6       0         \n",
       "13    13      2011-01-01 1      0  1    12 0       6       0         \n",
       "14    14      2011-01-01 1      0  1    13 0       6       0         \n",
       "15    15      2011-01-01 1      0  1    14 0       6       0         \n",
       "16    16      2011-01-01 1      0  1    15 0       6       0         \n",
       "17    17      2011-01-01 1      0  1    16 0       6       0         \n",
       "18    18      2011-01-01 1      0  1    17 0       6       0         \n",
       "19    19      2011-01-01 1      0  1    18 0       6       0         \n",
       "20    20      2011-01-01 1      0  1    19 0       6       0         \n",
       "21    21      2011-01-01 1      0  1    20 0       6       0         \n",
       "22    22      2011-01-01 1      0  1    21 0       6       0         \n",
       "23    23      2011-01-01 1      0  1    22 0       6       0         \n",
       "24    24      2011-01-01 1      0  1    23 0       6       0         \n",
       "25    25      2011-01-02 1      0  1     0 0       0       0         \n",
       "26    26      2011-01-02 1      0  1     1 0       0       0         \n",
       "27    27      2011-01-02 1      0  1     2 0       0       0         \n",
       "28    28      2011-01-02 1      0  1     3 0       0       0         \n",
       "29    29      2011-01-02 1      0  1     4 0       0       0         \n",
       "30    30      2011-01-02 1      0  1     6 0       0       0         \n",
       "⋮     ⋮       ⋮          ⋮      ⋮  ⋮    ⋮  ⋮       ⋮       ⋮         \n",
       "17350 17350   2012-12-30 1      1  12   18 0       0       0         \n",
       "17351 17351   2012-12-30 1      1  12   19 0       0       0         \n",
       "17352 17352   2012-12-30 1      1  12   20 0       0       0         \n",
       "17353 17353   2012-12-30 1      1  12   21 0       0       0         \n",
       "17354 17354   2012-12-30 1      1  12   22 0       0       0         \n",
       "17355 17355   2012-12-30 1      1  12   23 0       0       0         \n",
       "17356 17356   2012-12-31 1      1  12    0 0       1       1         \n",
       "17357 17357   2012-12-31 1      1  12    1 0       1       1         \n",
       "17358 17358   2012-12-31 1      1  12    2 0       1       1         \n",
       "17359 17359   2012-12-31 1      1  12    3 0       1       1         \n",
       "17360 17360   2012-12-31 1      1  12    4 0       1       1         \n",
       "17361 17361   2012-12-31 1      1  12    5 0       1       1         \n",
       "17362 17362   2012-12-31 1      1  12    6 0       1       1         \n",
       "17363 17363   2012-12-31 1      1  12    7 0       1       1         \n",
       "17364 17364   2012-12-31 1      1  12    8 0       1       1         \n",
       "17365 17365   2012-12-31 1      1  12    9 0       1       1         \n",
       "17366 17366   2012-12-31 1      1  12   10 0       1       1         \n",
       "17367 17367   2012-12-31 1      1  12   11 0       1       1         \n",
       "17368 17368   2012-12-31 1      1  12   12 0       1       1         \n",
       "17369 17369   2012-12-31 1      1  12   13 0       1       1         \n",
       "17370 17370   2012-12-31 1      1  12   14 0       1       1         \n",
       "17371 17371   2012-12-31 1      1  12   15 0       1       1         \n",
       "17372 17372   2012-12-31 1      1  12   16 0       1       1         \n",
       "17373 17373   2012-12-31 1      1  12   17 0       1       1         \n",
       "17374 17374   2012-12-31 1      1  12   18 0       1       1         \n",
       "17375 17375   2012-12-31 1      1  12   19 0       1       1         \n",
       "17376 17376   2012-12-31 1      1  12   20 0       1       1         \n",
       "17377 17377   2012-12-31 1      1  12   21 0       1       1         \n",
       "17378 17378   2012-12-31 1      1  12   22 0       1       1         \n",
       "17379 17379   2012-12-31 1      1  12   23 0       1       1         \n",
       "      weathersit temp atemp  hum  windspeed casual registered cnt\n",
       "1     1          0.24 0.2879 0.81 0.0000     3     13          16\n",
       "2     1          0.22 0.2727 0.80 0.0000     8     32          40\n",
       "3     1          0.22 0.2727 0.80 0.0000     5     27          32\n",
       "4     1          0.24 0.2879 0.75 0.0000     3     10          13\n",
       "5     1          0.24 0.2879 0.75 0.0000     0      1           1\n",
       "6     2          0.24 0.2576 0.75 0.0896     0      1           1\n",
       "7     1          0.22 0.2727 0.80 0.0000     2      0           2\n",
       "8     1          0.20 0.2576 0.86 0.0000     1      2           3\n",
       "9     1          0.24 0.2879 0.75 0.0000     1      7           8\n",
       "10    1          0.32 0.3485 0.76 0.0000     8      6          14\n",
       "11    1          0.38 0.3939 0.76 0.2537    12     24          36\n",
       "12    1          0.36 0.3333 0.81 0.2836    26     30          56\n",
       "13    1          0.42 0.4242 0.77 0.2836    29     55          84\n",
       "14    2          0.46 0.4545 0.72 0.2985    47     47          94\n",
       "15    2          0.46 0.4545 0.72 0.2836    35     71         106\n",
       "16    2          0.44 0.4394 0.77 0.2985    40     70         110\n",
       "17    2          0.42 0.4242 0.82 0.2985    41     52          93\n",
       "18    2          0.44 0.4394 0.82 0.2836    15     52          67\n",
       "19    3          0.42 0.4242 0.88 0.2537     9     26          35\n",
       "20    3          0.42 0.4242 0.88 0.2537     6     31          37\n",
       "21    2          0.40 0.4091 0.87 0.2537    11     25          36\n",
       "22    2          0.40 0.4091 0.87 0.1940     3     31          34\n",
       "23    2          0.40 0.4091 0.94 0.2239    11     17          28\n",
       "24    2          0.46 0.4545 0.88 0.2985    15     24          39\n",
       "25    2          0.46 0.4545 0.88 0.2985     4     13          17\n",
       "26    2          0.44 0.4394 0.94 0.2537     1     16          17\n",
       "27    2          0.42 0.4242 1.00 0.2836     1      8           9\n",
       "28    2          0.46 0.4545 0.94 0.1940     2      4           6\n",
       "29    2          0.46 0.4545 0.94 0.1940     2      1           3\n",
       "30    3          0.42 0.4242 0.77 0.2985     0      2           2\n",
       "⋮     ⋮          ⋮    ⋮      ⋮    ⋮         ⋮      ⋮          ⋮  \n",
       "17350 2          0.24 0.2121 0.44 0.2985    12     113        125\n",
       "17351 1          0.34 0.3636 0.61 0.0000    16      86        102\n",
       "17352 1          0.22 0.1970 0.47 0.3284     9      63         72\n",
       "17353 1          0.20 0.2121 0.51 0.1642     5      42         47\n",
       "17354 1          0.20 0.1970 0.55 0.1940     6      30         36\n",
       "17355 1          0.20 0.1970 0.51 0.2239    10      39         49\n",
       "17356 1          0.18 0.1818 0.55 0.1940     4      30         34\n",
       "17357 1          0.18 0.1818 0.55 0.1940     6      13         19\n",
       "17358 1          0.16 0.1667 0.59 0.1642     3       8         11\n",
       "17359 1          0.16 0.1818 0.59 0.1045     0       1          1\n",
       "17360 1          0.14 0.1667 0.69 0.1045     0       3          3\n",
       "17361 1          0.16 0.1515 0.64 0.1940     0       9          9\n",
       "17362 1          0.16 0.1667 0.64 0.1642     0      40         40\n",
       "17363 1          0.16 0.1818 0.64 0.1343     2      83         85\n",
       "17364 1          0.14 0.1515 0.69 0.1343     9     187        196\n",
       "17365 2          0.18 0.2121 0.64 0.1045    13     144        157\n",
       "17366 2          0.20 0.2121 0.69 0.1343    33      87        120\n",
       "17367 2          0.22 0.2273 0.60 0.1940    43     114        157\n",
       "17368 2          0.24 0.2273 0.56 0.1940    52     172        224\n",
       "17369 2          0.26 0.2576 0.44 0.1642    38     165        203\n",
       "17370 2          0.28 0.2727 0.45 0.2239    62     185        247\n",
       "17371 2          0.28 0.2879 0.45 0.1343    69     246        315\n",
       "17372 2          0.26 0.2576 0.48 0.1940    30     184        214\n",
       "17373 2          0.26 0.2879 0.48 0.0896    14     150        164\n",
       "17374 2          0.26 0.2727 0.48 0.1343    10     112        122\n",
       "17375 2          0.26 0.2576 0.60 0.1642    11     108        119\n",
       "17376 2          0.26 0.2576 0.60 0.1642     8      81         89\n",
       "17377 1          0.26 0.2576 0.60 0.1642     7      83         90\n",
       "17378 1          0.26 0.2727 0.56 0.1343    13      48         61\n",
       "17379 1          0.26 0.2727 0.65 0.1343    12      37         49"
      ]
     },
     "metadata": {},
     "output_type": "display_data"
    },
    {
     "data": {
      "text/html": [
       "TRUE"
      ],
      "text/latex": [
       "TRUE"
      ],
      "text/markdown": [
       "TRUE"
      ],
      "text/plain": [
       "[1] TRUE"
      ]
     },
     "metadata": {},
     "output_type": "display_data"
    }
   ],
   "source": [
    "bike_df <- read.csv(file = \"hour.csv\")\n",
    "#evaluate if bike_df is dataframe and coerce if not\n",
    "as.data.frame(bike_df)\n",
    "#check if dataframe\n",
    "is.data.frame(bike_df)\n"
   ]
  },
  {
   "cell_type": "code",
   "execution_count": 14,
   "metadata": {
    "vscode": {
     "languageId": "r"
    }
   },
   "outputs": [
    {
     "data": {
      "text/html": [
       "<table class=\"dataframe\">\n",
       "<caption>A data.frame: 10 × 17</caption>\n",
       "<thead>\n",
       "\t<tr><th></th><th scope=col>instant</th><th scope=col>dteday</th><th scope=col>season</th><th scope=col>yr</th><th scope=col>mnth</th><th scope=col>hr</th><th scope=col>holiday</th><th scope=col>weekday</th><th scope=col>workingday</th><th scope=col>weathersit</th><th scope=col>temp</th><th scope=col>atemp</th><th scope=col>hum</th><th scope=col>windspeed</th><th scope=col>casual</th><th scope=col>registered</th><th scope=col>cnt</th></tr>\n",
       "\t<tr><th></th><th scope=col>&lt;int&gt;</th><th scope=col>&lt;chr&gt;</th><th scope=col>&lt;int&gt;</th><th scope=col>&lt;int&gt;</th><th scope=col>&lt;int&gt;</th><th scope=col>&lt;int&gt;</th><th scope=col>&lt;int&gt;</th><th scope=col>&lt;int&gt;</th><th scope=col>&lt;int&gt;</th><th scope=col>&lt;int&gt;</th><th scope=col>&lt;dbl&gt;</th><th scope=col>&lt;dbl&gt;</th><th scope=col>&lt;dbl&gt;</th><th scope=col>&lt;dbl&gt;</th><th scope=col>&lt;int&gt;</th><th scope=col>&lt;int&gt;</th><th scope=col>&lt;int&gt;</th></tr>\n",
       "</thead>\n",
       "<tbody>\n",
       "\t<tr><th scope=row>1</th><td> 1</td><td>2011-01-01</td><td>1</td><td>0</td><td>1</td><td>0</td><td>0</td><td>6</td><td>0</td><td>1</td><td>0.24</td><td>0.2879</td><td>0.81</td><td>0.0000</td><td>3</td><td>13</td><td>16</td></tr>\n",
       "\t<tr><th scope=row>2</th><td> 2</td><td>2011-01-01</td><td>1</td><td>0</td><td>1</td><td>1</td><td>0</td><td>6</td><td>0</td><td>1</td><td>0.22</td><td>0.2727</td><td>0.80</td><td>0.0000</td><td>8</td><td>32</td><td>40</td></tr>\n",
       "\t<tr><th scope=row>3</th><td> 3</td><td>2011-01-01</td><td>1</td><td>0</td><td>1</td><td>2</td><td>0</td><td>6</td><td>0</td><td>1</td><td>0.22</td><td>0.2727</td><td>0.80</td><td>0.0000</td><td>5</td><td>27</td><td>32</td></tr>\n",
       "\t<tr><th scope=row>4</th><td> 4</td><td>2011-01-01</td><td>1</td><td>0</td><td>1</td><td>3</td><td>0</td><td>6</td><td>0</td><td>1</td><td>0.24</td><td>0.2879</td><td>0.75</td><td>0.0000</td><td>3</td><td>10</td><td>13</td></tr>\n",
       "\t<tr><th scope=row>5</th><td> 5</td><td>2011-01-01</td><td>1</td><td>0</td><td>1</td><td>4</td><td>0</td><td>6</td><td>0</td><td>1</td><td>0.24</td><td>0.2879</td><td>0.75</td><td>0.0000</td><td>0</td><td> 1</td><td> 1</td></tr>\n",
       "\t<tr><th scope=row>6</th><td> 6</td><td>2011-01-01</td><td>1</td><td>0</td><td>1</td><td>5</td><td>0</td><td>6</td><td>0</td><td>2</td><td>0.24</td><td>0.2576</td><td>0.75</td><td>0.0896</td><td>0</td><td> 1</td><td> 1</td></tr>\n",
       "\t<tr><th scope=row>7</th><td> 7</td><td>2011-01-01</td><td>1</td><td>0</td><td>1</td><td>6</td><td>0</td><td>6</td><td>0</td><td>1</td><td>0.22</td><td>0.2727</td><td>0.80</td><td>0.0000</td><td>2</td><td> 0</td><td> 2</td></tr>\n",
       "\t<tr><th scope=row>8</th><td> 8</td><td>2011-01-01</td><td>1</td><td>0</td><td>1</td><td>7</td><td>0</td><td>6</td><td>0</td><td>1</td><td>0.20</td><td>0.2576</td><td>0.86</td><td>0.0000</td><td>1</td><td> 2</td><td> 3</td></tr>\n",
       "\t<tr><th scope=row>9</th><td> 9</td><td>2011-01-01</td><td>1</td><td>0</td><td>1</td><td>8</td><td>0</td><td>6</td><td>0</td><td>1</td><td>0.24</td><td>0.2879</td><td>0.75</td><td>0.0000</td><td>1</td><td> 7</td><td> 8</td></tr>\n",
       "\t<tr><th scope=row>10</th><td>10</td><td>2011-01-01</td><td>1</td><td>0</td><td>1</td><td>9</td><td>0</td><td>6</td><td>0</td><td>1</td><td>0.32</td><td>0.3485</td><td>0.76</td><td>0.0000</td><td>8</td><td> 6</td><td>14</td></tr>\n",
       "</tbody>\n",
       "</table>\n"
      ],
      "text/latex": [
       "A data.frame: 10 × 17\n",
       "\\begin{tabular}{r|lllllllllllllllll}\n",
       "  & instant & dteday & season & yr & mnth & hr & holiday & weekday & workingday & weathersit & temp & atemp & hum & windspeed & casual & registered & cnt\\\\\n",
       "  & <int> & <chr> & <int> & <int> & <int> & <int> & <int> & <int> & <int> & <int> & <dbl> & <dbl> & <dbl> & <dbl> & <int> & <int> & <int>\\\\\n",
       "\\hline\n",
       "\t1 &  1 & 2011-01-01 & 1 & 0 & 1 & 0 & 0 & 6 & 0 & 1 & 0.24 & 0.2879 & 0.81 & 0.0000 & 3 & 13 & 16\\\\\n",
       "\t2 &  2 & 2011-01-01 & 1 & 0 & 1 & 1 & 0 & 6 & 0 & 1 & 0.22 & 0.2727 & 0.80 & 0.0000 & 8 & 32 & 40\\\\\n",
       "\t3 &  3 & 2011-01-01 & 1 & 0 & 1 & 2 & 0 & 6 & 0 & 1 & 0.22 & 0.2727 & 0.80 & 0.0000 & 5 & 27 & 32\\\\\n",
       "\t4 &  4 & 2011-01-01 & 1 & 0 & 1 & 3 & 0 & 6 & 0 & 1 & 0.24 & 0.2879 & 0.75 & 0.0000 & 3 & 10 & 13\\\\\n",
       "\t5 &  5 & 2011-01-01 & 1 & 0 & 1 & 4 & 0 & 6 & 0 & 1 & 0.24 & 0.2879 & 0.75 & 0.0000 & 0 &  1 &  1\\\\\n",
       "\t6 &  6 & 2011-01-01 & 1 & 0 & 1 & 5 & 0 & 6 & 0 & 2 & 0.24 & 0.2576 & 0.75 & 0.0896 & 0 &  1 &  1\\\\\n",
       "\t7 &  7 & 2011-01-01 & 1 & 0 & 1 & 6 & 0 & 6 & 0 & 1 & 0.22 & 0.2727 & 0.80 & 0.0000 & 2 &  0 &  2\\\\\n",
       "\t8 &  8 & 2011-01-01 & 1 & 0 & 1 & 7 & 0 & 6 & 0 & 1 & 0.20 & 0.2576 & 0.86 & 0.0000 & 1 &  2 &  3\\\\\n",
       "\t9 &  9 & 2011-01-01 & 1 & 0 & 1 & 8 & 0 & 6 & 0 & 1 & 0.24 & 0.2879 & 0.75 & 0.0000 & 1 &  7 &  8\\\\\n",
       "\t10 & 10 & 2011-01-01 & 1 & 0 & 1 & 9 & 0 & 6 & 0 & 1 & 0.32 & 0.3485 & 0.76 & 0.0000 & 8 &  6 & 14\\\\\n",
       "\\end{tabular}\n"
      ],
      "text/markdown": [
       "\n",
       "A data.frame: 10 × 17\n",
       "\n",
       "| <!--/--> | instant &lt;int&gt; | dteday &lt;chr&gt; | season &lt;int&gt; | yr &lt;int&gt; | mnth &lt;int&gt; | hr &lt;int&gt; | holiday &lt;int&gt; | weekday &lt;int&gt; | workingday &lt;int&gt; | weathersit &lt;int&gt; | temp &lt;dbl&gt; | atemp &lt;dbl&gt; | hum &lt;dbl&gt; | windspeed &lt;dbl&gt; | casual &lt;int&gt; | registered &lt;int&gt; | cnt &lt;int&gt; |\n",
       "|---|---|---|---|---|---|---|---|---|---|---|---|---|---|---|---|---|---|\n",
       "| 1 |  1 | 2011-01-01 | 1 | 0 | 1 | 0 | 0 | 6 | 0 | 1 | 0.24 | 0.2879 | 0.81 | 0.0000 | 3 | 13 | 16 |\n",
       "| 2 |  2 | 2011-01-01 | 1 | 0 | 1 | 1 | 0 | 6 | 0 | 1 | 0.22 | 0.2727 | 0.80 | 0.0000 | 8 | 32 | 40 |\n",
       "| 3 |  3 | 2011-01-01 | 1 | 0 | 1 | 2 | 0 | 6 | 0 | 1 | 0.22 | 0.2727 | 0.80 | 0.0000 | 5 | 27 | 32 |\n",
       "| 4 |  4 | 2011-01-01 | 1 | 0 | 1 | 3 | 0 | 6 | 0 | 1 | 0.24 | 0.2879 | 0.75 | 0.0000 | 3 | 10 | 13 |\n",
       "| 5 |  5 | 2011-01-01 | 1 | 0 | 1 | 4 | 0 | 6 | 0 | 1 | 0.24 | 0.2879 | 0.75 | 0.0000 | 0 |  1 |  1 |\n",
       "| 6 |  6 | 2011-01-01 | 1 | 0 | 1 | 5 | 0 | 6 | 0 | 2 | 0.24 | 0.2576 | 0.75 | 0.0896 | 0 |  1 |  1 |\n",
       "| 7 |  7 | 2011-01-01 | 1 | 0 | 1 | 6 | 0 | 6 | 0 | 1 | 0.22 | 0.2727 | 0.80 | 0.0000 | 2 |  0 |  2 |\n",
       "| 8 |  8 | 2011-01-01 | 1 | 0 | 1 | 7 | 0 | 6 | 0 | 1 | 0.20 | 0.2576 | 0.86 | 0.0000 | 1 |  2 |  3 |\n",
       "| 9 |  9 | 2011-01-01 | 1 | 0 | 1 | 8 | 0 | 6 | 0 | 1 | 0.24 | 0.2879 | 0.75 | 0.0000 | 1 |  7 |  8 |\n",
       "| 10 | 10 | 2011-01-01 | 1 | 0 | 1 | 9 | 0 | 6 | 0 | 1 | 0.32 | 0.3485 | 0.76 | 0.0000 | 8 |  6 | 14 |\n",
       "\n"
      ],
      "text/plain": [
       "   instant dteday     season yr mnth hr holiday weekday workingday weathersit\n",
       "1   1      2011-01-01 1      0  1    0  0       6       0          1         \n",
       "2   2      2011-01-01 1      0  1    1  0       6       0          1         \n",
       "3   3      2011-01-01 1      0  1    2  0       6       0          1         \n",
       "4   4      2011-01-01 1      0  1    3  0       6       0          1         \n",
       "5   5      2011-01-01 1      0  1    4  0       6       0          1         \n",
       "6   6      2011-01-01 1      0  1    5  0       6       0          2         \n",
       "7   7      2011-01-01 1      0  1    6  0       6       0          1         \n",
       "8   8      2011-01-01 1      0  1    7  0       6       0          1         \n",
       "9   9      2011-01-01 1      0  1    8  0       6       0          1         \n",
       "10 10      2011-01-01 1      0  1    9  0       6       0          1         \n",
       "   temp atemp  hum  windspeed casual registered cnt\n",
       "1  0.24 0.2879 0.81 0.0000    3      13         16 \n",
       "2  0.22 0.2727 0.80 0.0000    8      32         40 \n",
       "3  0.22 0.2727 0.80 0.0000    5      27         32 \n",
       "4  0.24 0.2879 0.75 0.0000    3      10         13 \n",
       "5  0.24 0.2879 0.75 0.0000    0       1          1 \n",
       "6  0.24 0.2576 0.75 0.0896    0       1          1 \n",
       "7  0.22 0.2727 0.80 0.0000    2       0          2 \n",
       "8  0.20 0.2576 0.86 0.0000    1       2          3 \n",
       "9  0.24 0.2879 0.75 0.0000    1       7          8 \n",
       "10 0.32 0.3485 0.76 0.0000    8       6         14 "
      ]
     },
     "metadata": {},
     "output_type": "display_data"
    },
    {
     "data": {
      "text/html": [
       "17"
      ],
      "text/latex": [
       "17"
      ],
      "text/markdown": [
       "17"
      ],
      "text/plain": [
       "[1] 17"
      ]
     },
     "metadata": {},
     "output_type": "display_data"
    },
    {
     "data": {
      "text/html": [
       "<style>\n",
       ".list-inline {list-style: none; margin:0; padding: 0}\n",
       ".list-inline>li {display: inline-block}\n",
       ".list-inline>li:not(:last-child)::after {content: \"\\00b7\"; padding: 0 .5ex}\n",
       "</style>\n",
       "<ol class=list-inline><li>'instant'</li><li>'dteday'</li><li>'season'</li><li>'yr'</li><li>'mnth'</li><li>'hr'</li><li>'holiday'</li><li>'weekday'</li><li>'workingday'</li><li>'weathersit'</li><li>'temp'</li><li>'atemp'</li><li>'hum'</li><li>'windspeed'</li><li>'casual'</li><li>'registered'</li><li>'cnt'</li></ol>\n"
      ],
      "text/latex": [
       "\\begin{enumerate*}\n",
       "\\item 'instant'\n",
       "\\item 'dteday'\n",
       "\\item 'season'\n",
       "\\item 'yr'\n",
       "\\item 'mnth'\n",
       "\\item 'hr'\n",
       "\\item 'holiday'\n",
       "\\item 'weekday'\n",
       "\\item 'workingday'\n",
       "\\item 'weathersit'\n",
       "\\item 'temp'\n",
       "\\item 'atemp'\n",
       "\\item 'hum'\n",
       "\\item 'windspeed'\n",
       "\\item 'casual'\n",
       "\\item 'registered'\n",
       "\\item 'cnt'\n",
       "\\end{enumerate*}\n"
      ],
      "text/markdown": [
       "1. 'instant'\n",
       "2. 'dteday'\n",
       "3. 'season'\n",
       "4. 'yr'\n",
       "5. 'mnth'\n",
       "6. 'hr'\n",
       "7. 'holiday'\n",
       "8. 'weekday'\n",
       "9. 'workingday'\n",
       "10. 'weathersit'\n",
       "11. 'temp'\n",
       "12. 'atemp'\n",
       "13. 'hum'\n",
       "14. 'windspeed'\n",
       "15. 'casual'\n",
       "16. 'registered'\n",
       "17. 'cnt'\n",
       "\n",
       "\n"
      ],
      "text/plain": [
       " [1] \"instant\"    \"dteday\"     \"season\"     \"yr\"         \"mnth\"      \n",
       " [6] \"hr\"         \"holiday\"    \"weekday\"    \"workingday\" \"weathersit\"\n",
       "[11] \"temp\"       \"atemp\"      \"hum\"        \"windspeed\"  \"casual\"    \n",
       "[16] \"registered\" \"cnt\"       "
      ]
     },
     "metadata": {},
     "output_type": "display_data"
    },
    {
     "data": {
      "text/html": [
       "17379"
      ],
      "text/latex": [
       "17379"
      ],
      "text/markdown": [
       "17379"
      ],
      "text/plain": [
       "[1] 17379"
      ]
     },
     "metadata": {},
     "output_type": "display_data"
    }
   ],
   "source": [
    "#show first 10 rows of bike_df\n",
    "head(bike_df, n=10)\n",
    "#show number of rows\n",
    "ncol(bike_df)\n",
    "#show column names\n",
    "colnames(bike_df)\n",
    "#counts the number of rows\n",
    "nrow(bike_df)"
   ]
  },
  {
   "cell_type": "code",
   "execution_count": 15,
   "metadata": {
    "vscode": {
     "languageId": "r"
    }
   },
   "outputs": [
    {
     "name": "stderr",
     "output_type": "stream",
     "text": [
      "Warning message:\n",
      "\"`gather_()` was deprecated in tidyr 1.2.0.\n",
      "Please use `gather()` instead.\n",
      "\u001b[90mThis warning is displayed once every 8 hours.\u001b[39m\n",
      "\u001b[90mCall `lifecycle::last_lifecycle_warnings()` to see where this warning was generated.\u001b[39m\"\n"
     ]
    },
    {
     "data": {
      "image/png": "[encoded data removed]",
      "text/plain": [
       "plot without title"
      ]
     },
     "metadata": {
      "image/png": {
       "height": 420,
       "width": 420
      }
     },
     "output_type": "display_data"
    }
   ],
   "source": [
    "#show empty column names\n",
    "# Check missing data\n",
    "vis_miss(bike_df)"
   ]
  },
  {
   "cell_type": "code",
   "execution_count": 16,
   "metadata": {
    "vscode": {
     "languageId": "r"
    }
   },
   "outputs": [
    {
     "data": {
      "text/plain": [
       "    instant         dteday              season            yr        \n",
       " Min.   :    1   Length:17379       Min.   :1.000   Min.   :0.0000  \n",
       " 1st Qu.: 4346   Class :character   1st Qu.:2.000   1st Qu.:0.0000  \n",
       " Median : 8690   Mode  :character   Median :3.000   Median :1.0000  \n",
       " Mean   : 8690                      Mean   :2.502   Mean   :0.5026  \n",
       " 3rd Qu.:13034                      3rd Qu.:3.000   3rd Qu.:1.0000  \n",
       " Max.   :17379                      Max.   :4.000   Max.   :1.0000  \n",
       "      mnth              hr           holiday           weekday     \n",
       " Min.   : 1.000   Min.   : 0.00   Min.   :0.00000   Min.   :0.000  \n",
       " 1st Qu.: 4.000   1st Qu.: 6.00   1st Qu.:0.00000   1st Qu.:1.000  \n",
       " Median : 7.000   Median :12.00   Median :0.00000   Median :3.000  \n",
       " Mean   : 6.538   Mean   :11.55   Mean   :0.02877   Mean   :3.004  \n",
       " 3rd Qu.:10.000   3rd Qu.:18.00   3rd Qu.:0.00000   3rd Qu.:5.000  \n",
       " Max.   :12.000   Max.   :23.00   Max.   :1.00000   Max.   :6.000  \n",
       "   workingday       weathersit         temp           atemp       \n",
       " Min.   :0.0000   Min.   :1.000   Min.   :0.020   Min.   :0.0000  \n",
       " 1st Qu.:0.0000   1st Qu.:1.000   1st Qu.:0.340   1st Qu.:0.3333  \n",
       " Median :1.0000   Median :1.000   Median :0.500   Median :0.4848  \n",
       " Mean   :0.6827   Mean   :1.425   Mean   :0.497   Mean   :0.4758  \n",
       " 3rd Qu.:1.0000   3rd Qu.:2.000   3rd Qu.:0.660   3rd Qu.:0.6212  \n",
       " Max.   :1.0000   Max.   :4.000   Max.   :1.000   Max.   :1.0000  \n",
       "      hum           windspeed          casual         registered   \n",
       " Min.   :0.0000   Min.   :0.0000   Min.   :  0.00   Min.   :  0.0  \n",
       " 1st Qu.:0.4800   1st Qu.:0.1045   1st Qu.:  4.00   1st Qu.: 34.0  \n",
       " Median :0.6300   Median :0.1940   Median : 17.00   Median :115.0  \n",
       " Mean   :0.6272   Mean   :0.1901   Mean   : 35.68   Mean   :153.8  \n",
       " 3rd Qu.:0.7800   3rd Qu.:0.2537   3rd Qu.: 48.00   3rd Qu.:220.0  \n",
       " Max.   :1.0000   Max.   :0.8507   Max.   :367.00   Max.   :886.0  \n",
       "      cnt       \n",
       " Min.   :  1.0  \n",
       " 1st Qu.: 40.0  \n",
       " Median :142.0  \n",
       " Mean   :189.5  \n",
       " 3rd Qu.:281.0  \n",
       " Max.   :977.0  "
      ]
     },
     "metadata": {},
     "output_type": "display_data"
    },
    {
     "data": {
      "text/html": [
       "<style>\n",
       ".dl-inline {width: auto; margin:0; padding: 0}\n",
       ".dl-inline>dt, .dl-inline>dd {float: none; width: auto; display: inline-block}\n",
       ".dl-inline>dt::after {content: \":\\0020\"; padding-right: .5ex}\n",
       ".dl-inline>dt:not(:first-of-type) {padding-left: .5ex}\n",
       "</style><dl class=dl-inline><dt>instant</dt><dd>'integer'</dd><dt>dteday</dt><dd>'character'</dd><dt>season</dt><dd>'integer'</dd><dt>yr</dt><dd>'integer'</dd><dt>mnth</dt><dd>'integer'</dd><dt>hr</dt><dd>'integer'</dd><dt>holiday</dt><dd>'integer'</dd><dt>weekday</dt><dd>'integer'</dd><dt>workingday</dt><dd>'integer'</dd><dt>weathersit</dt><dd>'integer'</dd><dt>temp</dt><dd>'numeric'</dd><dt>atemp</dt><dd>'numeric'</dd><dt>hum</dt><dd>'numeric'</dd><dt>windspeed</dt><dd>'numeric'</dd><dt>casual</dt><dd>'integer'</dd><dt>registered</dt><dd>'integer'</dd><dt>cnt</dt><dd>'integer'</dd></dl>\n"
      ],
      "text/latex": [
       "\\begin{description*}\n",
       "\\item[instant] 'integer'\n",
       "\\item[dteday] 'character'\n",
       "\\item[season] 'integer'\n",
       "\\item[yr] 'integer'\n",
       "\\item[mnth] 'integer'\n",
       "\\item[hr] 'integer'\n",
       "\\item[holiday] 'integer'\n",
       "\\item[weekday] 'integer'\n",
       "\\item[workingday] 'integer'\n",
       "\\item[weathersit] 'integer'\n",
       "\\item[temp] 'numeric'\n",
       "\\item[atemp] 'numeric'\n",
       "\\item[hum] 'numeric'\n",
       "\\item[windspeed] 'numeric'\n",
       "\\item[casual] 'integer'\n",
       "\\item[registered] 'integer'\n",
       "\\item[cnt] 'integer'\n",
       "\\end{description*}\n"
      ],
      "text/markdown": [
       "instant\n",
       ":   'integer'dteday\n",
       ":   'character'season\n",
       ":   'integer'yr\n",
       ":   'integer'mnth\n",
       ":   'integer'hr\n",
       ":   'integer'holiday\n",
       ":   'integer'weekday\n",
       ":   'integer'workingday\n",
       ":   'integer'weathersit\n",
       ":   'integer'temp\n",
       ":   'numeric'atemp\n",
       ":   'numeric'hum\n",
       ":   'numeric'windspeed\n",
       ":   'numeric'casual\n",
       ":   'integer'registered\n",
       ":   'integer'cnt\n",
       ":   'integer'\n",
       "\n"
      ],
      "text/plain": [
       "    instant      dteday      season          yr        mnth          hr \n",
       "  \"integer\" \"character\"   \"integer\"   \"integer\"   \"integer\"   \"integer\" \n",
       "    holiday     weekday  workingday  weathersit        temp       atemp \n",
       "  \"integer\"   \"integer\"   \"integer\"   \"integer\"   \"numeric\"   \"numeric\" \n",
       "        hum   windspeed      casual  registered         cnt \n",
       "  \"numeric\"   \"numeric\"   \"integer\"   \"integer\"   \"integer\" "
      ]
     },
     "metadata": {},
     "output_type": "display_data"
    },
    {
     "name": "stdout",
     "output_type": "stream",
     "text": [
      "'data.frame':\t17379 obs. of  17 variables:\n",
      " $ instant   : int  1 2 3 4 5 6 7 8 9 10 ...\n",
      " $ dteday    : chr  \"2011-01-01\" \"2011-01-01\" \"2011-01-01\" \"2011-01-01\" ...\n",
      " $ season    : int  1 1 1 1 1 1 1 1 1 1 ...\n",
      " $ yr        : int  0 0 0 0 0 0 0 0 0 0 ...\n",
      " $ mnth      : int  1 1 1 1 1 1 1 1 1 1 ...\n",
      " $ hr        : int  0 1 2 3 4 5 6 7 8 9 ...\n",
      " $ holiday   : int  0 0 0 0 0 0 0 0 0 0 ...\n",
      " $ weekday   : int  6 6 6 6 6 6 6 6 6 6 ...\n",
      " $ workingday: int  0 0 0 0 0 0 0 0 0 0 ...\n",
      " $ weathersit: int  1 1 1 1 1 2 1 1 1 1 ...\n",
      " $ temp      : num  0.24 0.22 0.22 0.24 0.24 0.24 0.22 0.2 0.24 0.32 ...\n",
      " $ atemp     : num  0.288 0.273 0.273 0.288 0.288 ...\n",
      " $ hum       : num  0.81 0.8 0.8 0.75 0.75 0.75 0.8 0.86 0.75 0.76 ...\n",
      " $ windspeed : num  0 0 0 0 0 0.0896 0 0 0 0 ...\n",
      " $ casual    : int  3 8 5 3 0 0 2 1 1 8 ...\n",
      " $ registered: int  13 32 27 10 1 1 0 2 7 6 ...\n",
      " $ cnt       : int  16 40 32 13 1 1 2 3 8 14 ...\n"
     ]
    }
   ],
   "source": [
    "#summary\n",
    "summary(bike_df)\n",
    "#show column types\n",
    "sapply(bike_df, class)\n",
    "str(bike_df)\n"
   ]
  },
  {
   "cell_type": "markdown",
   "metadata": {
    "tags": []
   },
   "source": [
    "### Task (b): working on rows (10 marks)\n",
    "\n",
    "\n",
    "Working on `bike_df`, show that you can operate on rows: arranging them, getting the top _n_ according to some variable of your choice, filtering them (eventually using your own functions).\n",
    "\n",
    "_hint_ useful functions: `arrange()`, `top_n()`, `filter()`  \n",
    "_hint_ to define a function: `myfunction <- function(myargument,anotherargument) { bodyofthefunction }`"
   ]
  },
  {
   "cell_type": "code",
   "execution_count": 8,
   "metadata": {
    "vscode": {
     "languageId": "r"
    }
   },
   "outputs": [
    {
     "data": {
      "text/html": [
       "17379"
      ],
      "text/latex": [
       "17379"
      ],
      "text/markdown": [
       "17379"
      ],
      "text/plain": [
       "[1] 17379"
      ]
     },
     "metadata": {},
     "output_type": "display_data"
    },
    {
     "ename": "ERROR",
     "evalue": "Error in bike_df %>% top_n(): could not find function \"%>%\"\n",
     "output_type": "error",
     "traceback": [
      "Error in bike_df %>% top_n(): could not find function \"%>%\"\nTraceback:\n"
     ]
    }
   ],
   "source": [
    "nrow(bike_df)\n",
    "bike_df %>%\n",
    "    top_n()"
   ]
  },
  {
   "cell_type": "code",
   "execution_count": null,
   "metadata": {
    "vscode": {
     "languageId": "r"
    }
   },
   "outputs": [],
   "source": []
  },
  {
   "cell_type": "markdown",
   "metadata": {},
   "source": [
    "### Task (c): working on columns (10 marks)\n",
    "\n",
    "Working on `bike_df`, show that you can operate on columns: selecting some of them, dropping other, renaming them, reordering them, ...\n",
    "\n",
    "\n",
    "_hint_ useful functions: `select()`, `rename()`, ..."
   ]
  },
  {
   "cell_type": "code",
   "execution_count": 17,
   "metadata": {
    "vscode": {
     "languageId": "r"
    }
   },
   "outputs": [
    {
     "data": {
      "text/html": [
       "<table class=\"dataframe\">\n",
       "<caption>A data.frame: 5 × 7</caption>\n",
       "<thead>\n",
       "\t<tr><th></th><th scope=col>yr</th><th scope=col>hr</th><th scope=col>weathersit</th><th scope=col>temp</th><th scope=col>casual</th><th scope=col>registered</th><th scope=col>cnt</th></tr>\n",
       "\t<tr><th></th><th scope=col>&lt;int&gt;</th><th scope=col>&lt;int&gt;</th><th scope=col>&lt;int&gt;</th><th scope=col>&lt;dbl&gt;</th><th scope=col>&lt;int&gt;</th><th scope=col>&lt;int&gt;</th><th scope=col>&lt;int&gt;</th></tr>\n",
       "</thead>\n",
       "<tbody>\n",
       "\t<tr><th scope=row>1</th><td>0</td><td>0</td><td>1</td><td>0.24</td><td>3</td><td>13</td><td>16</td></tr>\n",
       "\t<tr><th scope=row>2</th><td>0</td><td>1</td><td>1</td><td>0.22</td><td>8</td><td>32</td><td>40</td></tr>\n",
       "\t<tr><th scope=row>3</th><td>0</td><td>2</td><td>1</td><td>0.22</td><td>5</td><td>27</td><td>32</td></tr>\n",
       "\t<tr><th scope=row>4</th><td>0</td><td>3</td><td>1</td><td>0.24</td><td>3</td><td>10</td><td>13</td></tr>\n",
       "\t<tr><th scope=row>5</th><td>0</td><td>4</td><td>1</td><td>0.24</td><td>0</td><td> 1</td><td> 1</td></tr>\n",
       "</tbody>\n",
       "</table>\n"
      ],
      "text/latex": [
       "A data.frame: 5 × 7\n",
       "\\begin{tabular}{r|lllllll}\n",
       "  & yr & hr & weathersit & temp & casual & registered & cnt\\\\\n",
       "  & <int> & <int> & <int> & <dbl> & <int> & <int> & <int>\\\\\n",
       "\\hline\n",
       "\t1 & 0 & 0 & 1 & 0.24 & 3 & 13 & 16\\\\\n",
       "\t2 & 0 & 1 & 1 & 0.22 & 8 & 32 & 40\\\\\n",
       "\t3 & 0 & 2 & 1 & 0.22 & 5 & 27 & 32\\\\\n",
       "\t4 & 0 & 3 & 1 & 0.24 & 3 & 10 & 13\\\\\n",
       "\t5 & 0 & 4 & 1 & 0.24 & 0 &  1 &  1\\\\\n",
       "\\end{tabular}\n"
      ],
      "text/markdown": [
       "\n",
       "A data.frame: 5 × 7\n",
       "\n",
       "| <!--/--> | yr &lt;int&gt; | hr &lt;int&gt; | weathersit &lt;int&gt; | temp &lt;dbl&gt; | casual &lt;int&gt; | registered &lt;int&gt; | cnt &lt;int&gt; |\n",
       "|---|---|---|---|---|---|---|---|\n",
       "| 1 | 0 | 0 | 1 | 0.24 | 3 | 13 | 16 |\n",
       "| 2 | 0 | 1 | 1 | 0.22 | 8 | 32 | 40 |\n",
       "| 3 | 0 | 2 | 1 | 0.22 | 5 | 27 | 32 |\n",
       "| 4 | 0 | 3 | 1 | 0.24 | 3 | 10 | 13 |\n",
       "| 5 | 0 | 4 | 1 | 0.24 | 0 |  1 |  1 |\n",
       "\n"
      ],
      "text/plain": [
       "  yr hr weathersit temp casual registered cnt\n",
       "1 0  0  1          0.24 3      13         16 \n",
       "2 0  1  1          0.22 8      32         40 \n",
       "3 0  2  1          0.22 5      27         32 \n",
       "4 0  3  1          0.24 3      10         13 \n",
       "5 0  4  1          0.24 0       1          1 "
      ]
     },
     "metadata": {},
     "output_type": "display_data"
    },
    {
     "data": {
      "text/html": [
       "<table class=\"dataframe\">\n",
       "<caption>A data.frame: 5 × 17</caption>\n",
       "<thead>\n",
       "\t<tr><th></th><th scope=col>instant</th><th scope=col>dteday</th><th scope=col>season</th><th scope=col>yr</th><th scope=col>mnth</th><th scope=col>hr</th><th scope=col>holiday</th><th scope=col>weekday</th><th scope=col>workingday</th><th scope=col>weather_cnd</th><th scope=col>temp</th><th scope=col>atemp</th><th scope=col>hum</th><th scope=col>windspeed</th><th scope=col>casual</th><th scope=col>regs</th><th scope=col>count</th></tr>\n",
       "\t<tr><th></th><th scope=col>&lt;int&gt;</th><th scope=col>&lt;chr&gt;</th><th scope=col>&lt;int&gt;</th><th scope=col>&lt;int&gt;</th><th scope=col>&lt;int&gt;</th><th scope=col>&lt;int&gt;</th><th scope=col>&lt;int&gt;</th><th scope=col>&lt;int&gt;</th><th scope=col>&lt;int&gt;</th><th scope=col>&lt;int&gt;</th><th scope=col>&lt;dbl&gt;</th><th scope=col>&lt;dbl&gt;</th><th scope=col>&lt;dbl&gt;</th><th scope=col>&lt;dbl&gt;</th><th scope=col>&lt;int&gt;</th><th scope=col>&lt;int&gt;</th><th scope=col>&lt;int&gt;</th></tr>\n",
       "</thead>\n",
       "<tbody>\n",
       "\t<tr><th scope=row>1</th><td>1</td><td>2011-01-01</td><td>1</td><td>0</td><td>1</td><td>0</td><td>0</td><td>6</td><td>0</td><td>1</td><td>0.24</td><td>0.2879</td><td>0.81</td><td>0</td><td>3</td><td>13</td><td>16</td></tr>\n",
       "\t<tr><th scope=row>2</th><td>2</td><td>2011-01-01</td><td>1</td><td>0</td><td>1</td><td>1</td><td>0</td><td>6</td><td>0</td><td>1</td><td>0.22</td><td>0.2727</td><td>0.80</td><td>0</td><td>8</td><td>32</td><td>40</td></tr>\n",
       "\t<tr><th scope=row>3</th><td>3</td><td>2011-01-01</td><td>1</td><td>0</td><td>1</td><td>2</td><td>0</td><td>6</td><td>0</td><td>1</td><td>0.22</td><td>0.2727</td><td>0.80</td><td>0</td><td>5</td><td>27</td><td>32</td></tr>\n",
       "\t<tr><th scope=row>4</th><td>4</td><td>2011-01-01</td><td>1</td><td>0</td><td>1</td><td>3</td><td>0</td><td>6</td><td>0</td><td>1</td><td>0.24</td><td>0.2879</td><td>0.75</td><td>0</td><td>3</td><td>10</td><td>13</td></tr>\n",
       "\t<tr><th scope=row>5</th><td>5</td><td>2011-01-01</td><td>1</td><td>0</td><td>1</td><td>4</td><td>0</td><td>6</td><td>0</td><td>1</td><td>0.24</td><td>0.2879</td><td>0.75</td><td>0</td><td>0</td><td> 1</td><td> 1</td></tr>\n",
       "</tbody>\n",
       "</table>\n"
      ],
      "text/latex": [
       "A data.frame: 5 × 17\n",
       "\\begin{tabular}{r|lllllllllllllllll}\n",
       "  & instant & dteday & season & yr & mnth & hr & holiday & weekday & workingday & weather\\_cnd & temp & atemp & hum & windspeed & casual & regs & count\\\\\n",
       "  & <int> & <chr> & <int> & <int> & <int> & <int> & <int> & <int> & <int> & <int> & <dbl> & <dbl> & <dbl> & <dbl> & <int> & <int> & <int>\\\\\n",
       "\\hline\n",
       "\t1 & 1 & 2011-01-01 & 1 & 0 & 1 & 0 & 0 & 6 & 0 & 1 & 0.24 & 0.2879 & 0.81 & 0 & 3 & 13 & 16\\\\\n",
       "\t2 & 2 & 2011-01-01 & 1 & 0 & 1 & 1 & 0 & 6 & 0 & 1 & 0.22 & 0.2727 & 0.80 & 0 & 8 & 32 & 40\\\\\n",
       "\t3 & 3 & 2011-01-01 & 1 & 0 & 1 & 2 & 0 & 6 & 0 & 1 & 0.22 & 0.2727 & 0.80 & 0 & 5 & 27 & 32\\\\\n",
       "\t4 & 4 & 2011-01-01 & 1 & 0 & 1 & 3 & 0 & 6 & 0 & 1 & 0.24 & 0.2879 & 0.75 & 0 & 3 & 10 & 13\\\\\n",
       "\t5 & 5 & 2011-01-01 & 1 & 0 & 1 & 4 & 0 & 6 & 0 & 1 & 0.24 & 0.2879 & 0.75 & 0 & 0 &  1 &  1\\\\\n",
       "\\end{tabular}\n"
      ],
      "text/markdown": [
       "\n",
       "A data.frame: 5 × 17\n",
       "\n",
       "| <!--/--> | instant &lt;int&gt; | dteday &lt;chr&gt; | season &lt;int&gt; | yr &lt;int&gt; | mnth &lt;int&gt; | hr &lt;int&gt; | holiday &lt;int&gt; | weekday &lt;int&gt; | workingday &lt;int&gt; | weather_cnd &lt;int&gt; | temp &lt;dbl&gt; | atemp &lt;dbl&gt; | hum &lt;dbl&gt; | windspeed &lt;dbl&gt; | casual &lt;int&gt; | regs &lt;int&gt; | count &lt;int&gt; |\n",
       "|---|---|---|---|---|---|---|---|---|---|---|---|---|---|---|---|---|---|\n",
       "| 1 | 1 | 2011-01-01 | 1 | 0 | 1 | 0 | 0 | 6 | 0 | 1 | 0.24 | 0.2879 | 0.81 | 0 | 3 | 13 | 16 |\n",
       "| 2 | 2 | 2011-01-01 | 1 | 0 | 1 | 1 | 0 | 6 | 0 | 1 | 0.22 | 0.2727 | 0.80 | 0 | 8 | 32 | 40 |\n",
       "| 3 | 3 | 2011-01-01 | 1 | 0 | 1 | 2 | 0 | 6 | 0 | 1 | 0.22 | 0.2727 | 0.80 | 0 | 5 | 27 | 32 |\n",
       "| 4 | 4 | 2011-01-01 | 1 | 0 | 1 | 3 | 0 | 6 | 0 | 1 | 0.24 | 0.2879 | 0.75 | 0 | 3 | 10 | 13 |\n",
       "| 5 | 5 | 2011-01-01 | 1 | 0 | 1 | 4 | 0 | 6 | 0 | 1 | 0.24 | 0.2879 | 0.75 | 0 | 0 |  1 |  1 |\n",
       "\n"
      ],
      "text/plain": [
       "  instant dteday     season yr mnth hr holiday weekday workingday weather_cnd\n",
       "1 1       2011-01-01 1      0  1    0  0       6       0          1          \n",
       "2 2       2011-01-01 1      0  1    1  0       6       0          1          \n",
       "3 3       2011-01-01 1      0  1    2  0       6       0          1          \n",
       "4 4       2011-01-01 1      0  1    3  0       6       0          1          \n",
       "5 5       2011-01-01 1      0  1    4  0       6       0          1          \n",
       "  temp atemp  hum  windspeed casual regs count\n",
       "1 0.24 0.2879 0.81 0         3      13   16   \n",
       "2 0.22 0.2727 0.80 0         8      32   40   \n",
       "3 0.22 0.2727 0.80 0         5      27   32   \n",
       "4 0.24 0.2879 0.75 0         3      10   13   \n",
       "5 0.24 0.2879 0.75 0         0       1    1   "
      ]
     },
     "metadata": {},
     "output_type": "display_data"
    },
    {
     "data": {
      "text/html": [
       "<table class=\"dataframe\">\n",
       "<caption>A data.frame: 5 × 17</caption>\n",
       "<thead>\n",
       "\t<tr><th></th><th scope=col>instant</th><th scope=col>cnt</th><th scope=col>registered</th><th scope=col>casual</th><th scope=col>dteday</th><th scope=col>season</th><th scope=col>yr</th><th scope=col>mnth</th><th scope=col>hr</th><th scope=col>holiday</th><th scope=col>weekday</th><th scope=col>workingday</th><th scope=col>weathersit</th><th scope=col>temp</th><th scope=col>atemp</th><th scope=col>hum</th><th scope=col>windspeed</th></tr>\n",
       "\t<tr><th></th><th scope=col>&lt;int&gt;</th><th scope=col>&lt;int&gt;</th><th scope=col>&lt;int&gt;</th><th scope=col>&lt;int&gt;</th><th scope=col>&lt;chr&gt;</th><th scope=col>&lt;int&gt;</th><th scope=col>&lt;int&gt;</th><th scope=col>&lt;int&gt;</th><th scope=col>&lt;int&gt;</th><th scope=col>&lt;int&gt;</th><th scope=col>&lt;int&gt;</th><th scope=col>&lt;int&gt;</th><th scope=col>&lt;int&gt;</th><th scope=col>&lt;dbl&gt;</th><th scope=col>&lt;dbl&gt;</th><th scope=col>&lt;dbl&gt;</th><th scope=col>&lt;dbl&gt;</th></tr>\n",
       "</thead>\n",
       "<tbody>\n",
       "\t<tr><th scope=row>1</th><td>1</td><td>16</td><td>13</td><td>3</td><td>2011-01-01</td><td>1</td><td>0</td><td>1</td><td>0</td><td>0</td><td>6</td><td>0</td><td>1</td><td>0.24</td><td>0.2879</td><td>0.81</td><td>0</td></tr>\n",
       "\t<tr><th scope=row>2</th><td>2</td><td>40</td><td>32</td><td>8</td><td>2011-01-01</td><td>1</td><td>0</td><td>1</td><td>1</td><td>0</td><td>6</td><td>0</td><td>1</td><td>0.22</td><td>0.2727</td><td>0.80</td><td>0</td></tr>\n",
       "\t<tr><th scope=row>3</th><td>3</td><td>32</td><td>27</td><td>5</td><td>2011-01-01</td><td>1</td><td>0</td><td>1</td><td>2</td><td>0</td><td>6</td><td>0</td><td>1</td><td>0.22</td><td>0.2727</td><td>0.80</td><td>0</td></tr>\n",
       "\t<tr><th scope=row>4</th><td>4</td><td>13</td><td>10</td><td>3</td><td>2011-01-01</td><td>1</td><td>0</td><td>1</td><td>3</td><td>0</td><td>6</td><td>0</td><td>1</td><td>0.24</td><td>0.2879</td><td>0.75</td><td>0</td></tr>\n",
       "\t<tr><th scope=row>5</th><td>5</td><td> 1</td><td> 1</td><td>0</td><td>2011-01-01</td><td>1</td><td>0</td><td>1</td><td>4</td><td>0</td><td>6</td><td>0</td><td>1</td><td>0.24</td><td>0.2879</td><td>0.75</td><td>0</td></tr>\n",
       "</tbody>\n",
       "</table>\n"
      ],
      "text/latex": [
       "A data.frame: 5 × 17\n",
       "\\begin{tabular}{r|lllllllllllllllll}\n",
       "  & instant & cnt & registered & casual & dteday & season & yr & mnth & hr & holiday & weekday & workingday & weathersit & temp & atemp & hum & windspeed\\\\\n",
       "  & <int> & <int> & <int> & <int> & <chr> & <int> & <int> & <int> & <int> & <int> & <int> & <int> & <int> & <dbl> & <dbl> & <dbl> & <dbl>\\\\\n",
       "\\hline\n",
       "\t1 & 1 & 16 & 13 & 3 & 2011-01-01 & 1 & 0 & 1 & 0 & 0 & 6 & 0 & 1 & 0.24 & 0.2879 & 0.81 & 0\\\\\n",
       "\t2 & 2 & 40 & 32 & 8 & 2011-01-01 & 1 & 0 & 1 & 1 & 0 & 6 & 0 & 1 & 0.22 & 0.2727 & 0.80 & 0\\\\\n",
       "\t3 & 3 & 32 & 27 & 5 & 2011-01-01 & 1 & 0 & 1 & 2 & 0 & 6 & 0 & 1 & 0.22 & 0.2727 & 0.80 & 0\\\\\n",
       "\t4 & 4 & 13 & 10 & 3 & 2011-01-01 & 1 & 0 & 1 & 3 & 0 & 6 & 0 & 1 & 0.24 & 0.2879 & 0.75 & 0\\\\\n",
       "\t5 & 5 &  1 &  1 & 0 & 2011-01-01 & 1 & 0 & 1 & 4 & 0 & 6 & 0 & 1 & 0.24 & 0.2879 & 0.75 & 0\\\\\n",
       "\\end{tabular}\n"
      ],
      "text/markdown": [
       "\n",
       "A data.frame: 5 × 17\n",
       "\n",
       "| <!--/--> | instant &lt;int&gt; | cnt &lt;int&gt; | registered &lt;int&gt; | casual &lt;int&gt; | dteday &lt;chr&gt; | season &lt;int&gt; | yr &lt;int&gt; | mnth &lt;int&gt; | hr &lt;int&gt; | holiday &lt;int&gt; | weekday &lt;int&gt; | workingday &lt;int&gt; | weathersit &lt;int&gt; | temp &lt;dbl&gt; | atemp &lt;dbl&gt; | hum &lt;dbl&gt; | windspeed &lt;dbl&gt; |\n",
       "|---|---|---|---|---|---|---|---|---|---|---|---|---|---|---|---|---|---|\n",
       "| 1 | 1 | 16 | 13 | 3 | 2011-01-01 | 1 | 0 | 1 | 0 | 0 | 6 | 0 | 1 | 0.24 | 0.2879 | 0.81 | 0 |\n",
       "| 2 | 2 | 40 | 32 | 8 | 2011-01-01 | 1 | 0 | 1 | 1 | 0 | 6 | 0 | 1 | 0.22 | 0.2727 | 0.80 | 0 |\n",
       "| 3 | 3 | 32 | 27 | 5 | 2011-01-01 | 1 | 0 | 1 | 2 | 0 | 6 | 0 | 1 | 0.22 | 0.2727 | 0.80 | 0 |\n",
       "| 4 | 4 | 13 | 10 | 3 | 2011-01-01 | 1 | 0 | 1 | 3 | 0 | 6 | 0 | 1 | 0.24 | 0.2879 | 0.75 | 0 |\n",
       "| 5 | 5 |  1 |  1 | 0 | 2011-01-01 | 1 | 0 | 1 | 4 | 0 | 6 | 0 | 1 | 0.24 | 0.2879 | 0.75 | 0 |\n",
       "\n"
      ],
      "text/plain": [
       "  instant cnt registered casual dteday     season yr mnth hr holiday weekday\n",
       "1 1       16  13         3      2011-01-01 1      0  1    0  0       6      \n",
       "2 2       40  32         8      2011-01-01 1      0  1    1  0       6      \n",
       "3 3       32  27         5      2011-01-01 1      0  1    2  0       6      \n",
       "4 4       13  10         3      2011-01-01 1      0  1    3  0       6      \n",
       "5 5        1   1         0      2011-01-01 1      0  1    4  0       6      \n",
       "  workingday weathersit temp atemp  hum  windspeed\n",
       "1 0          1          0.24 0.2879 0.81 0        \n",
       "2 0          1          0.22 0.2727 0.80 0        \n",
       "3 0          1          0.22 0.2727 0.80 0        \n",
       "4 0          1          0.24 0.2879 0.75 0        \n",
       "5 0          1          0.24 0.2879 0.75 0        "
      ]
     },
     "metadata": {},
     "output_type": "display_data"
    }
   ],
   "source": [
    "#Selection of specific columns to show\n",
    "bike_df_selected_cols <- bike_df %>% select(yr,hr,weathersit,temp,casual,registered,cnt)\n",
    "head(bike_df_selected_cols, n=5)\n",
    "\n",
    "#Renaming exercise of column titles weathersit, registered and cnt\n",
    "bike_df_renamed <- bike_df %>% rename(,weather_cnd = weathersit,regs = registered, count = cnt)\n",
    "head(bike_df_renamed,n=5)\n",
    "\n",
    "#Reordered column positions \n",
    "bike_df_reordered <- bike_df[,c(1,17,16,15,2,3,4,5,6,7,8,9,10,11,12,13,14)]\n",
    "head(bike_df_reordered,n=5)"
   ]
  },
  {
   "cell_type": "markdown",
   "metadata": {},
   "source": [
    "### Task (d): groups and not (10 marks)\n",
    "\n",
    "Working on `bike_df`, show that you can produce new variables (columns) and modify existing one; show also that you can operate on the dataframe as a whole and on groups. See *Readme.txt* to get an understanding of the variable scaling applied.\n",
    "\n",
    "_hint_ useful functions: `mutate()`, `group_by()`, `summarise()`, `tally()`, ..."
   ]
  },
  {
   "cell_type": "code",
   "execution_count": 18,
   "metadata": {
    "vscode": {
     "languageId": "r"
    }
   },
   "outputs": [
    {
     "data": {
      "text/html": [
       "<table class=\"dataframe\">\n",
       "<caption>A data.frame: 5 × 19</caption>\n",
       "<thead>\n",
       "\t<tr><th></th><th scope=col>instant</th><th scope=col>dteday</th><th scope=col>season</th><th scope=col>yr</th><th scope=col>mnth</th><th scope=col>hr</th><th scope=col>holiday</th><th scope=col>weekday</th><th scope=col>workingday</th><th scope=col>weathersit</th><th scope=col>temp</th><th scope=col>atemp</th><th scope=col>hum</th><th scope=col>windspeed</th><th scope=col>casual</th><th scope=col>registered</th><th scope=col>cnt</th><th scope=col>prop_casual</th><th scope=col>prop_regst</th></tr>\n",
       "\t<tr><th></th><th scope=col>&lt;int&gt;</th><th scope=col>&lt;chr&gt;</th><th scope=col>&lt;int&gt;</th><th scope=col>&lt;int&gt;</th><th scope=col>&lt;int&gt;</th><th scope=col>&lt;int&gt;</th><th scope=col>&lt;int&gt;</th><th scope=col>&lt;int&gt;</th><th scope=col>&lt;int&gt;</th><th scope=col>&lt;int&gt;</th><th scope=col>&lt;dbl&gt;</th><th scope=col>&lt;dbl&gt;</th><th scope=col>&lt;dbl&gt;</th><th scope=col>&lt;dbl&gt;</th><th scope=col>&lt;int&gt;</th><th scope=col>&lt;int&gt;</th><th scope=col>&lt;int&gt;</th><th scope=col>&lt;dbl&gt;</th><th scope=col>&lt;dbl&gt;</th></tr>\n",
       "</thead>\n",
       "<tbody>\n",
       "\t<tr><th scope=row>1</th><td>1</td><td>2011-01-01</td><td>1</td><td>0</td><td>1</td><td>0</td><td>0</td><td>6</td><td>0</td><td>1</td><td>0.24</td><td>0.2879</td><td>0.81</td><td>0</td><td>3</td><td>13</td><td>16</td><td>0.19</td><td>0.81</td></tr>\n",
       "\t<tr><th scope=row>2</th><td>2</td><td>2011-01-01</td><td>1</td><td>0</td><td>1</td><td>1</td><td>0</td><td>6</td><td>0</td><td>1</td><td>0.22</td><td>0.2727</td><td>0.80</td><td>0</td><td>8</td><td>32</td><td>40</td><td>0.20</td><td>0.80</td></tr>\n",
       "\t<tr><th scope=row>3</th><td>3</td><td>2011-01-01</td><td>1</td><td>0</td><td>1</td><td>2</td><td>0</td><td>6</td><td>0</td><td>1</td><td>0.22</td><td>0.2727</td><td>0.80</td><td>0</td><td>5</td><td>27</td><td>32</td><td>0.16</td><td>0.84</td></tr>\n",
       "\t<tr><th scope=row>4</th><td>4</td><td>2011-01-01</td><td>1</td><td>0</td><td>1</td><td>3</td><td>0</td><td>6</td><td>0</td><td>1</td><td>0.24</td><td>0.2879</td><td>0.75</td><td>0</td><td>3</td><td>10</td><td>13</td><td>0.23</td><td>0.77</td></tr>\n",
       "\t<tr><th scope=row>5</th><td>5</td><td>2011-01-01</td><td>1</td><td>0</td><td>1</td><td>4</td><td>0</td><td>6</td><td>0</td><td>1</td><td>0.24</td><td>0.2879</td><td>0.75</td><td>0</td><td>0</td><td> 1</td><td> 1</td><td>0.00</td><td>1.00</td></tr>\n",
       "</tbody>\n",
       "</table>\n"
      ],
      "text/latex": [
       "A data.frame: 5 × 19\n",
       "\\begin{tabular}{r|lllllllllllllllllll}\n",
       "  & instant & dteday & season & yr & mnth & hr & holiday & weekday & workingday & weathersit & temp & atemp & hum & windspeed & casual & registered & cnt & prop\\_casual & prop\\_regst\\\\\n",
       "  & <int> & <chr> & <int> & <int> & <int> & <int> & <int> & <int> & <int> & <int> & <dbl> & <dbl> & <dbl> & <dbl> & <int> & <int> & <int> & <dbl> & <dbl>\\\\\n",
       "\\hline\n",
       "\t1 & 1 & 2011-01-01 & 1 & 0 & 1 & 0 & 0 & 6 & 0 & 1 & 0.24 & 0.2879 & 0.81 & 0 & 3 & 13 & 16 & 0.19 & 0.81\\\\\n",
       "\t2 & 2 & 2011-01-01 & 1 & 0 & 1 & 1 & 0 & 6 & 0 & 1 & 0.22 & 0.2727 & 0.80 & 0 & 8 & 32 & 40 & 0.20 & 0.80\\\\\n",
       "\t3 & 3 & 2011-01-01 & 1 & 0 & 1 & 2 & 0 & 6 & 0 & 1 & 0.22 & 0.2727 & 0.80 & 0 & 5 & 27 & 32 & 0.16 & 0.84\\\\\n",
       "\t4 & 4 & 2011-01-01 & 1 & 0 & 1 & 3 & 0 & 6 & 0 & 1 & 0.24 & 0.2879 & 0.75 & 0 & 3 & 10 & 13 & 0.23 & 0.77\\\\\n",
       "\t5 & 5 & 2011-01-01 & 1 & 0 & 1 & 4 & 0 & 6 & 0 & 1 & 0.24 & 0.2879 & 0.75 & 0 & 0 &  1 &  1 & 0.00 & 1.00\\\\\n",
       "\\end{tabular}\n"
      ],
      "text/markdown": [
       "\n",
       "A data.frame: 5 × 19\n",
       "\n",
       "| <!--/--> | instant &lt;int&gt; | dteday &lt;chr&gt; | season &lt;int&gt; | yr &lt;int&gt; | mnth &lt;int&gt; | hr &lt;int&gt; | holiday &lt;int&gt; | weekday &lt;int&gt; | workingday &lt;int&gt; | weathersit &lt;int&gt; | temp &lt;dbl&gt; | atemp &lt;dbl&gt; | hum &lt;dbl&gt; | windspeed &lt;dbl&gt; | casual &lt;int&gt; | registered &lt;int&gt; | cnt &lt;int&gt; | prop_casual &lt;dbl&gt; | prop_regst &lt;dbl&gt; |\n",
       "|---|---|---|---|---|---|---|---|---|---|---|---|---|---|---|---|---|---|---|---|\n",
       "| 1 | 1 | 2011-01-01 | 1 | 0 | 1 | 0 | 0 | 6 | 0 | 1 | 0.24 | 0.2879 | 0.81 | 0 | 3 | 13 | 16 | 0.19 | 0.81 |\n",
       "| 2 | 2 | 2011-01-01 | 1 | 0 | 1 | 1 | 0 | 6 | 0 | 1 | 0.22 | 0.2727 | 0.80 | 0 | 8 | 32 | 40 | 0.20 | 0.80 |\n",
       "| 3 | 3 | 2011-01-01 | 1 | 0 | 1 | 2 | 0 | 6 | 0 | 1 | 0.22 | 0.2727 | 0.80 | 0 | 5 | 27 | 32 | 0.16 | 0.84 |\n",
       "| 4 | 4 | 2011-01-01 | 1 | 0 | 1 | 3 | 0 | 6 | 0 | 1 | 0.24 | 0.2879 | 0.75 | 0 | 3 | 10 | 13 | 0.23 | 0.77 |\n",
       "| 5 | 5 | 2011-01-01 | 1 | 0 | 1 | 4 | 0 | 6 | 0 | 1 | 0.24 | 0.2879 | 0.75 | 0 | 0 |  1 |  1 | 0.00 | 1.00 |\n",
       "\n"
      ],
      "text/plain": [
       "  instant dteday     season yr mnth hr holiday weekday workingday weathersit\n",
       "1 1       2011-01-01 1      0  1    0  0       6       0          1         \n",
       "2 2       2011-01-01 1      0  1    1  0       6       0          1         \n",
       "3 3       2011-01-01 1      0  1    2  0       6       0          1         \n",
       "4 4       2011-01-01 1      0  1    3  0       6       0          1         \n",
       "5 5       2011-01-01 1      0  1    4  0       6       0          1         \n",
       "  temp atemp  hum  windspeed casual registered cnt prop_casual prop_regst\n",
       "1 0.24 0.2879 0.81 0         3      13         16  0.19        0.81      \n",
       "2 0.22 0.2727 0.80 0         8      32         40  0.20        0.80      \n",
       "3 0.22 0.2727 0.80 0         5      27         32  0.16        0.84      \n",
       "4 0.24 0.2879 0.75 0         3      10         13  0.23        0.77      \n",
       "5 0.24 0.2879 0.75 0         0       1          1  0.00        1.00      "
      ]
     },
     "metadata": {},
     "output_type": "display_data"
    }
   ],
   "source": [
    "#Add new column to dataframe showing proportion of casual and registered users relative to total count.\n",
    "#Copy data into new variable to prevent changes from originaldata for this exercise\n",
    "bike_df_new_cols <- bike_df %>% \n",
    "                        mutate(prop_casual = round((casual/cnt),2) , prop_regst = round((registered/cnt),2))\n",
    "#Show changes\n",
    "head(bike_df_new_cols,n=5)\n"
   ]
  },
  {
   "cell_type": "code",
   "execution_count": 19,
   "metadata": {},
   "outputs": [
    {
     "data": {
      "text/html": [
       "<table class=\"dataframe\">\n",
       "<caption>A data.frame: 5 × 17</caption>\n",
       "<thead>\n",
       "\t<tr><th></th><th scope=col>instant</th><th scope=col>dteday</th><th scope=col>season</th><th scope=col>yr</th><th scope=col>mnth</th><th scope=col>hr</th><th scope=col>holiday</th><th scope=col>weekday</th><th scope=col>workingday</th><th scope=col>weathersit</th><th scope=col>true_temp</th><th scope=col>true_atemp</th><th scope=col>true_hum</th><th scope=col>windspeed</th><th scope=col>casual</th><th scope=col>registered</th><th scope=col>cnt</th></tr>\n",
       "\t<tr><th></th><th scope=col>&lt;int&gt;</th><th scope=col>&lt;chr&gt;</th><th scope=col>&lt;int&gt;</th><th scope=col>&lt;int&gt;</th><th scope=col>&lt;int&gt;</th><th scope=col>&lt;int&gt;</th><th scope=col>&lt;int&gt;</th><th scope=col>&lt;int&gt;</th><th scope=col>&lt;int&gt;</th><th scope=col>&lt;int&gt;</th><th scope=col>&lt;dbl&gt;</th><th scope=col>&lt;dbl&gt;</th><th scope=col>&lt;dbl&gt;</th><th scope=col>&lt;dbl&gt;</th><th scope=col>&lt;int&gt;</th><th scope=col>&lt;int&gt;</th><th scope=col>&lt;int&gt;</th></tr>\n",
       "</thead>\n",
       "<tbody>\n",
       "\t<tr><th scope=row>1</th><td>1</td><td>2011-01-01</td><td>1</td><td>0</td><td>1</td><td>0</td><td>0</td><td>6</td><td>0</td><td>1</td><td>9.8</td><td>14.4</td><td>81</td><td>0</td><td>3</td><td>13</td><td>16</td></tr>\n",
       "\t<tr><th scope=row>2</th><td>2</td><td>2011-01-01</td><td>1</td><td>0</td><td>1</td><td>1</td><td>0</td><td>6</td><td>0</td><td>1</td><td>9.0</td><td>13.6</td><td>80</td><td>0</td><td>8</td><td>32</td><td>40</td></tr>\n",
       "\t<tr><th scope=row>3</th><td>3</td><td>2011-01-01</td><td>1</td><td>0</td><td>1</td><td>2</td><td>0</td><td>6</td><td>0</td><td>1</td><td>9.0</td><td>13.6</td><td>80</td><td>0</td><td>5</td><td>27</td><td>32</td></tr>\n",
       "\t<tr><th scope=row>4</th><td>4</td><td>2011-01-01</td><td>1</td><td>0</td><td>1</td><td>3</td><td>0</td><td>6</td><td>0</td><td>1</td><td>9.8</td><td>14.4</td><td>75</td><td>0</td><td>3</td><td>10</td><td>13</td></tr>\n",
       "\t<tr><th scope=row>5</th><td>5</td><td>2011-01-01</td><td>1</td><td>0</td><td>1</td><td>4</td><td>0</td><td>6</td><td>0</td><td>1</td><td>9.8</td><td>14.4</td><td>75</td><td>0</td><td>0</td><td> 1</td><td> 1</td></tr>\n",
       "</tbody>\n",
       "</table>\n"
      ],
      "text/latex": [
       "A data.frame: 5 × 17\n",
       "\\begin{tabular}{r|lllllllllllllllll}\n",
       "  & instant & dteday & season & yr & mnth & hr & holiday & weekday & workingday & weathersit & true\\_temp & true\\_atemp & true\\_hum & windspeed & casual & registered & cnt\\\\\n",
       "  & <int> & <chr> & <int> & <int> & <int> & <int> & <int> & <int> & <int> & <int> & <dbl> & <dbl> & <dbl> & <dbl> & <int> & <int> & <int>\\\\\n",
       "\\hline\n",
       "\t1 & 1 & 2011-01-01 & 1 & 0 & 1 & 0 & 0 & 6 & 0 & 1 & 9.8 & 14.4 & 81 & 0 & 3 & 13 & 16\\\\\n",
       "\t2 & 2 & 2011-01-01 & 1 & 0 & 1 & 1 & 0 & 6 & 0 & 1 & 9.0 & 13.6 & 80 & 0 & 8 & 32 & 40\\\\\n",
       "\t3 & 3 & 2011-01-01 & 1 & 0 & 1 & 2 & 0 & 6 & 0 & 1 & 9.0 & 13.6 & 80 & 0 & 5 & 27 & 32\\\\\n",
       "\t4 & 4 & 2011-01-01 & 1 & 0 & 1 & 3 & 0 & 6 & 0 & 1 & 9.8 & 14.4 & 75 & 0 & 3 & 10 & 13\\\\\n",
       "\t5 & 5 & 2011-01-01 & 1 & 0 & 1 & 4 & 0 & 6 & 0 & 1 & 9.8 & 14.4 & 75 & 0 & 0 &  1 &  1\\\\\n",
       "\\end{tabular}\n"
      ],
      "text/markdown": [
       "\n",
       "A data.frame: 5 × 17\n",
       "\n",
       "| <!--/--> | instant &lt;int&gt; | dteday &lt;chr&gt; | season &lt;int&gt; | yr &lt;int&gt; | mnth &lt;int&gt; | hr &lt;int&gt; | holiday &lt;int&gt; | weekday &lt;int&gt; | workingday &lt;int&gt; | weathersit &lt;int&gt; | true_temp &lt;dbl&gt; | true_atemp &lt;dbl&gt; | true_hum &lt;dbl&gt; | windspeed &lt;dbl&gt; | casual &lt;int&gt; | registered &lt;int&gt; | cnt &lt;int&gt; |\n",
       "|---|---|---|---|---|---|---|---|---|---|---|---|---|---|---|---|---|---|\n",
       "| 1 | 1 | 2011-01-01 | 1 | 0 | 1 | 0 | 0 | 6 | 0 | 1 | 9.8 | 14.4 | 81 | 0 | 3 | 13 | 16 |\n",
       "| 2 | 2 | 2011-01-01 | 1 | 0 | 1 | 1 | 0 | 6 | 0 | 1 | 9.0 | 13.6 | 80 | 0 | 8 | 32 | 40 |\n",
       "| 3 | 3 | 2011-01-01 | 1 | 0 | 1 | 2 | 0 | 6 | 0 | 1 | 9.0 | 13.6 | 80 | 0 | 5 | 27 | 32 |\n",
       "| 4 | 4 | 2011-01-01 | 1 | 0 | 1 | 3 | 0 | 6 | 0 | 1 | 9.8 | 14.4 | 75 | 0 | 3 | 10 | 13 |\n",
       "| 5 | 5 | 2011-01-01 | 1 | 0 | 1 | 4 | 0 | 6 | 0 | 1 | 9.8 | 14.4 | 75 | 0 | 0 |  1 |  1 |\n",
       "\n"
      ],
      "text/plain": [
       "  instant dteday     season yr mnth hr holiday weekday workingday weathersit\n",
       "1 1       2011-01-01 1      0  1    0  0       6       0          1         \n",
       "2 2       2011-01-01 1      0  1    1  0       6       0          1         \n",
       "3 3       2011-01-01 1      0  1    2  0       6       0          1         \n",
       "4 4       2011-01-01 1      0  1    3  0       6       0          1         \n",
       "5 5       2011-01-01 1      0  1    4  0       6       0          1         \n",
       "  true_temp true_atemp true_hum windspeed casual registered cnt\n",
       "1 9.8       14.4       81       0         3      13         16 \n",
       "2 9.0       13.6       80       0         8      32         40 \n",
       "3 9.0       13.6       80       0         5      27         32 \n",
       "4 9.8       14.4       75       0         3      10         13 \n",
       "5 9.8       14.4       75       0         0       1          1 "
      ]
     },
     "metadata": {},
     "output_type": "display_data"
    }
   ],
   "source": [
    "#Modify existing column temp, atemp and hum to be non-normalized values\n",
    "#Copy data into new variable to prevent changes from original for this exercise\n",
    "bike_df_mod <- bike_df \n",
    "\n",
    "#Modify values by reversing normilization to show true values\n",
    "bike_df_mod$temp <- round(bike_df_mod$temp * 41,1)\n",
    "bike_df_mod$atemp <- round(bike_df_mod$atemp * 50,1)\n",
    "bike_df_mod$hum <- round(bike_df_mod$hum * 100,1)\n",
    "\n",
    "#Rename column names to show as being \"true\"\n",
    "rename(bike_df_mod,true_temp = temp) %>%\n",
    "    rename(,true_atemp = atemp) %>%\n",
    "    rename(,true_hum = hum)  %>% \n",
    "    head(bike_df_mod,n=5) #Show changes"
   ]
  },
  {
   "cell_type": "code",
   "execution_count": 20,
   "metadata": {},
   "outputs": [
    {
     "data": {
      "text/html": [
       "<table class=\"dataframe\">\n",
       "<caption>A tibble: 4 × 3</caption>\n",
       "<thead>\n",
       "\t<tr><th scope=col>season</th><th scope=col>mean_count_per_day</th><th scope=col>total_count</th></tr>\n",
       "\t<tr><th scope=col>&lt;chr&gt;</th><th scope=col>&lt;dbl&gt;</th><th scope=col>&lt;int&gt;</th></tr>\n",
       "</thead>\n",
       "<tbody>\n",
       "\t<tr><td>fall  </td><td>236</td><td>1061129</td></tr>\n",
       "\t<tr><td>summer</td><td>208</td><td> 918589</td></tr>\n",
       "\t<tr><td>winter</td><td>199</td><td> 841613</td></tr>\n",
       "\t<tr><td>spring</td><td>111</td><td> 471348</td></tr>\n",
       "</tbody>\n",
       "</table>\n"
      ],
      "text/latex": [
       "A tibble: 4 × 3\n",
       "\\begin{tabular}{lll}\n",
       " season & mean\\_count\\_per\\_day & total\\_count\\\\\n",
       " <chr> & <dbl> & <int>\\\\\n",
       "\\hline\n",
       "\t fall   & 236 & 1061129\\\\\n",
       "\t summer & 208 &  918589\\\\\n",
       "\t winter & 199 &  841613\\\\\n",
       "\t spring & 111 &  471348\\\\\n",
       "\\end{tabular}\n"
      ],
      "text/markdown": [
       "\n",
       "A tibble: 4 × 3\n",
       "\n",
       "| season &lt;chr&gt; | mean_count_per_day &lt;dbl&gt; | total_count &lt;int&gt; |\n",
       "|---|---|---|\n",
       "| fall   | 236 | 1061129 |\n",
       "| summer | 208 |  918589 |\n",
       "| winter | 199 |  841613 |\n",
       "| spring | 111 |  471348 |\n",
       "\n"
      ],
      "text/plain": [
       "  season mean_count_per_day total_count\n",
       "1 fall   236                1061129    \n",
       "2 summer 208                 918589    \n",
       "3 winter 199                 841613    \n",
       "4 spring 111                 471348    "
      ]
     },
     "metadata": {},
     "output_type": "display_data"
    }
   ],
   "source": [
    "#Show operation example by group this time.Exercise showing totals and mean count per season using group() function.\n",
    "bike_summary <- bike_df %>%\n",
    "    group_by(season) %>% \n",
    "    summarise(mean_count_per_day = round(mean(cnt),0),total_count = sum(cnt))\n",
    "\n",
    "# Rename factors in season variable, to show the actual season representation of integers 1-4\n",
    "bike_summary$season <- replace(bike_summary$season, bike_summary$season == 1, \"spring\")\n",
    "bike_summary$season <- replace(bike_summary$season, bike_summary$season == 2, \"summer\")\n",
    "bike_summary$season <- replace(bike_summary$season, bike_summary$season == 3, \"fall\")\n",
    "bike_summary$season <- replace(bike_summary$season, bike_summary$season == 4, \"winter\")\n",
    "\n",
    "# Show results in descending order of average count.\n",
    "arrange(bike_summary,desc(mean_count_per_day))\n",
    "\n",
    "\n"
   ]
  },
  {
   "cell_type": "markdown",
   "metadata": {},
   "source": [
    "### Task (e): wide, long, tidy (10 marks)\n",
    "\n",
    "Show that you can go back and forth between the long and the wide format of a dataframe. Then produce a tidy version of `bike_df` (or, if you think the original one is is already in the tidy data shape, explain why).\n",
    "\n",
    "_hint_ useful functions: `spread()`, `gather()`, `na.omit()`, ..."
   ]
  },
  {
   "cell_type": "code",
   "execution_count": 5,
   "metadata": {
    "vscode": {
     "languageId": "r"
    }
   },
   "outputs": [],
   "source": [
    "# your answer here"
   ]
  },
  {
   "cell_type": "markdown",
   "metadata": {},
   "source": [
    "### Task (f): plot (10 marks)\n",
    "\n",
    "Produce a beautiful graphical representation of the data in `bike_df` or of _some_ of the data in `bike_df`. You can try different geometries, themes, mappings, ... . Make sure you label the plots with titles, and axis labels. Notice that the focus is on the use of *plotting as a data model*, rather than on the *statistical modelling* of the data.\n",
    "\\[ Hint: if you can't find any plotting idea, try focusing on the count of total rental bikes, and how it varies through time, season, weather, temperature, humidty, wind-speed. \\]\n",
    "\n",
    "_hint_ useful functions: `ggplot()`, `ylab()`, `xlab()`, `geom_...()`, `aes()`, `facet_...()`, ..."
   ]
  },
  {
   "cell_type": "code",
   "execution_count": 6,
   "metadata": {
    "vscode": {
     "languageId": "r"
    }
   },
   "outputs": [],
   "source": [
    "# your answer here"
   ]
  },
  {
   "cell_type": "markdown",
   "metadata": {},
   "source": [
    "### Task (g): save (5 marks)\n",
    "\n",
    "Save your plot from Task (f) and your tidy dataset from Task (e) to disk. \n",
    "\n",
    "_hint_ useful functions: `write_csv()`, `ggsave()`,..."
   ]
  },
  {
   "cell_type": "code",
   "execution_count": 6,
   "metadata": {
    "vscode": {
     "languageId": "r"
    }
   },
   "outputs": [],
   "source": [
    "# your answer here"
   ]
  },
  {
   "cell_type": "markdown",
   "metadata": {},
   "source": [
    "### Challenge question (10 marks)\n",
    "\n",
    "You are the data scientist working for a bike rental company. The `hour.csv` is the data you have available. The bike rental CEO sometimes wakes up in the morning with these strange ideas, and you get to test them.\n",
    "\n",
    "One of the key element for the company is being sure that there are always enough bikes available for the users. So, we need to understand what makes a user rent a bike and what makes a user NOT rent a bike.\n",
    "Your CEO noticed thinks that one of the peak times for the registered users renting bikes is between 6am and 10am.\n",
    "\n",
    "Task (1): make a plot to check that (take seasonality into account in the plot).\n",
    "\n",
    "She also thought about an interesting hypothesis. A registered user usually finish working around 5pm. Between 5pm and 10pm, they notice the weather: in particular, the registered users are sensible to how good the weather is, and how stable it is. The morning after, between 6am and 10am, the amount of registered users renting a bike to go to work depends on the previous afternoon weather.\n",
    "\n",
    "Task (2): make one or more plot to test this hypothesis (again, consider seasonality in the plot).\n",
    "\n",
    "**Hint: Make your plots with some colour, good font size and visualisation.**"
   ]
  },
  {
   "cell_type": "code",
   "execution_count": 116,
   "metadata": {
    "vscode": {
     "languageId": "r"
    }
   },
   "outputs": [
    {
     "name": "stderr",
     "output_type": "stream",
     "text": [
      "\u001b[1m\u001b[22m`summarise()` has grouped output by 'season'. You can override using the `.groups` argument.\n"
     ]
    },
    {
     "data": {
      "text/plain": [
       "     season           hr        mean_cnt      \n",
       " Min.   :1.00   0:00   : 4   Min.   :  3.182  \n",
       " 1st Qu.:1.75   1:00   : 4   1st Qu.: 56.715  \n",
       " Median :2.50   2:00   : 4   Median :183.179  \n",
       " Mean   :2.50   3:00   : 4   Mean   :187.892  \n",
       " 3rd Qu.:3.25   4:00   : 4   3rd Qu.:278.720  \n",
       " Max.   :4.00   5:00   : 4   Max.   :572.138  \n",
       "                (Other):72                    "
      ]
     },
     "metadata": {},
     "output_type": "display_data"
    },
    {
     "data": {
      "text/html": [
       "<table class=\"dataframe\">\n",
       "<caption>A grouped_df: 23 × 3</caption>\n",
       "<thead>\n",
       "\t<tr><th scope=col>season</th><th scope=col>hr</th><th scope=col>mean_cnt</th></tr>\n",
       "\t<tr><th scope=col>&lt;int&gt;</th><th scope=col>&lt;int&gt;</th><th scope=col>&lt;dbl&gt;</th></tr>\n",
       "</thead>\n",
       "<tbody>\n",
       "\t<tr><td>1</td><td> 0</td><td> 27.404494</td></tr>\n",
       "\t<tr><td>1</td><td> 1</td><td> 18.140449</td></tr>\n",
       "\t<tr><td>1</td><td> 2</td><td> 12.794118</td></tr>\n",
       "\t<tr><td>1</td><td> 3</td><td>  7.102564</td></tr>\n",
       "\t<tr><td>1</td><td> 4</td><td>  3.181818</td></tr>\n",
       "\t<tr><td>1</td><td> 5</td><td> 10.701754</td></tr>\n",
       "\t<tr><td>1</td><td> 6</td><td> 40.792135</td></tr>\n",
       "\t<tr><td>1</td><td> 7</td><td>115.391061</td></tr>\n",
       "\t<tr><td>1</td><td> 8</td><td>235.167598</td></tr>\n",
       "\t<tr><td>1</td><td> 9</td><td>147.016760</td></tr>\n",
       "\t<tr><td>1</td><td>10</td><td>100.217877</td></tr>\n",
       "\t<tr><td>1</td><td>11</td><td>120.530726</td></tr>\n",
       "\t<tr><td>1</td><td>12</td><td>150.727778</td></tr>\n",
       "\t<tr><td>1</td><td>13</td><td>156.527778</td></tr>\n",
       "\t<tr><td>1</td><td>14</td><td>147.805556</td></tr>\n",
       "\t<tr><td>1</td><td>15</td><td>155.655556</td></tr>\n",
       "\t<tr><td>1</td><td>16</td><td>182.314917</td></tr>\n",
       "\t<tr><td>1</td><td>17</td><td>263.977901</td></tr>\n",
       "\t<tr><td>1</td><td>18</td><td>239.500000</td></tr>\n",
       "\t<tr><td>1</td><td>19</td><td>165.761111</td></tr>\n",
       "\t<tr><td>1</td><td>20</td><td>117.838889</td></tr>\n",
       "\t<tr><td>1</td><td>21</td><td> 91.650000</td></tr>\n",
       "\t<tr><td>1</td><td>22</td><td> 69.111111</td></tr>\n",
       "</tbody>\n",
       "</table>\n"
      ],
      "text/latex": [
       "A grouped\\_df: 23 × 3\n",
       "\\begin{tabular}{lll}\n",
       " season & hr & mean\\_cnt\\\\\n",
       " <int> & <int> & <dbl>\\\\\n",
       "\\hline\n",
       "\t 1 &  0 &  27.404494\\\\\n",
       "\t 1 &  1 &  18.140449\\\\\n",
       "\t 1 &  2 &  12.794118\\\\\n",
       "\t 1 &  3 &   7.102564\\\\\n",
       "\t 1 &  4 &   3.181818\\\\\n",
       "\t 1 &  5 &  10.701754\\\\\n",
       "\t 1 &  6 &  40.792135\\\\\n",
       "\t 1 &  7 & 115.391061\\\\\n",
       "\t 1 &  8 & 235.167598\\\\\n",
       "\t 1 &  9 & 147.016760\\\\\n",
       "\t 1 & 10 & 100.217877\\\\\n",
       "\t 1 & 11 & 120.530726\\\\\n",
       "\t 1 & 12 & 150.727778\\\\\n",
       "\t 1 & 13 & 156.527778\\\\\n",
       "\t 1 & 14 & 147.805556\\\\\n",
       "\t 1 & 15 & 155.655556\\\\\n",
       "\t 1 & 16 & 182.314917\\\\\n",
       "\t 1 & 17 & 263.977901\\\\\n",
       "\t 1 & 18 & 239.500000\\\\\n",
       "\t 1 & 19 & 165.761111\\\\\n",
       "\t 1 & 20 & 117.838889\\\\\n",
       "\t 1 & 21 &  91.650000\\\\\n",
       "\t 1 & 22 &  69.111111\\\\\n",
       "\\end{tabular}\n"
      ],
      "text/markdown": [
       "\n",
       "A grouped_df: 23 × 3\n",
       "\n",
       "| season &lt;int&gt; | hr &lt;int&gt; | mean_cnt &lt;dbl&gt; |\n",
       "|---|---|---|\n",
       "| 1 |  0 |  27.404494 |\n",
       "| 1 |  1 |  18.140449 |\n",
       "| 1 |  2 |  12.794118 |\n",
       "| 1 |  3 |   7.102564 |\n",
       "| 1 |  4 |   3.181818 |\n",
       "| 1 |  5 |  10.701754 |\n",
       "| 1 |  6 |  40.792135 |\n",
       "| 1 |  7 | 115.391061 |\n",
       "| 1 |  8 | 235.167598 |\n",
       "| 1 |  9 | 147.016760 |\n",
       "| 1 | 10 | 100.217877 |\n",
       "| 1 | 11 | 120.530726 |\n",
       "| 1 | 12 | 150.727778 |\n",
       "| 1 | 13 | 156.527778 |\n",
       "| 1 | 14 | 147.805556 |\n",
       "| 1 | 15 | 155.655556 |\n",
       "| 1 | 16 | 182.314917 |\n",
       "| 1 | 17 | 263.977901 |\n",
       "| 1 | 18 | 239.500000 |\n",
       "| 1 | 19 | 165.761111 |\n",
       "| 1 | 20 | 117.838889 |\n",
       "| 1 | 21 |  91.650000 |\n",
       "| 1 | 22 |  69.111111 |\n",
       "\n"
      ],
      "text/plain": [
       "   season hr mean_cnt  \n",
       "1  1       0  27.404494\n",
       "2  1       1  18.140449\n",
       "3  1       2  12.794118\n",
       "4  1       3   7.102564\n",
       "5  1       4   3.181818\n",
       "6  1       5  10.701754\n",
       "7  1       6  40.792135\n",
       "8  1       7 115.391061\n",
       "9  1       8 235.167598\n",
       "10 1       9 147.016760\n",
       "11 1      10 100.217877\n",
       "12 1      11 120.530726\n",
       "13 1      12 150.727778\n",
       "14 1      13 156.527778\n",
       "15 1      14 147.805556\n",
       "16 1      15 155.655556\n",
       "17 1      16 182.314917\n",
       "18 1      17 263.977901\n",
       "19 1      18 239.500000\n",
       "20 1      19 165.761111\n",
       "21 1      20 117.838889\n",
       "22 1      21  91.650000\n",
       "23 1      22  69.111111"
      ]
     },
     "metadata": {},
     "output_type": "display_data"
    },
    {
     "data": {
      "image/png": "[encoded data removed]",
      "text/plain": [
       "plot without title"
      ]
     },
     "metadata": {
      "image/png": {
       "height": 420,
       "width": 420
      }
     },
     "output_type": "display_data"
    }
   ],
   "source": [
    "# your code goes here\n",
    "#bike_df <- read.csv(file=\"hour.csv\")\n",
    "#plot1 <- ggplot(data=bike_df,\n",
    "              #  aes(x=hr,\n",
    "              #      y=cnt,\n",
    "                  #  color= season))\n",
    "#plot1+geom_line()\n",
    "\n",
    "\n",
    "bike_peak <- bike_df %>%\n",
    "    group_by(season,hr) %>%\n",
    "    summarise(mean_cnt = mean(cnt))\n",
    "\n",
    "\n",
    "\n",
    "bike_peak$hr <- str_c(bike_peak$hr, \"00\", sep=\":\")\n",
    "bike_peak$hr <- ordered(bike_peak$hr, levels <- c(\"0:00\",\"1:00\",\"2:00\",\"3:00\",\"4:00\",\n",
    "                                                  \"5:00\",\"6:00\",\"7:00\",\"8:00\",\"9:00\",\n",
    "                                                  \"10:00\",\"11:00\",\"12:00\", \"13:00\",\n",
    "                                                  \"14:00\", \"15:00\", \"16:00\", \"17:00\",\n",
    "                                                  \"18:00\", \"19:00\", \"20:00\", \"21:00\",\n",
    "                                                  \"22:00\", \"23:00\"))\n",
    "# bike_peak$hr <- replace(bike_peak$hr, bike_peak$hr == 1, \"1 AM\")\n",
    "\n",
    "summary(bike_peak)\n",
    "\n",
    "\n",
    "head(bike_summary2,n=23)\n",
    "\n",
    "ggplot(bike_peak,aes(x=hr,y=mean_cnt),shape=bike_peak$season,replace =TRUE) + \n",
    "    geom_point(aes(shape=factor(season)), size=5) +\n",
    "labs(x=\"Time of day\",y=\"Average count of bike users\",\n",
    "     title = \"Average number of bike users at different times of day for different seasons\" )+\n",
    "theme(axis.text.x = element_text(size = rel(1.5), angle = 90))\n"
   ]
  },
  {
   "cell_type": "code",
   "execution_count": null,
   "metadata": {},
   "outputs": [],
   "source": []
  }
 ],
 "metadata": {
  "kernelspec": {
   "display_name": "R",
   "language": "R",
   "name": "ir"
  },
  "language_info": {
   "codemirror_mode": "r",
   "file_extension": ".r",
   "mimetype": "text/x-r-source",
   "name": "R",
   "pygments_lexer": "r",
   "version": "4.2.1"
  }
 },
 "nbformat": 4,
 "nbformat_minor": 4
}
