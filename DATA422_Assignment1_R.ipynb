{
 "cells": [
  {
   "cell_type": "markdown",
   "metadata": {},
   "source": [
    "# Data 422\n",
    "\n",
    "### Data Wrangling\n",
    "\n",
    "## Assignement 1\n",
    "\n",
    "**20% of final grade** Total marks is **100 marks** (70 for R, 30 for Julia).\n",
    "\n",
    "## Due date: 5pm Wednesday 24 August 2021\n",
    "\n",
    "The assignment must be submitted on the DATA 201 and 422 Learn page and should be **your own work, or done in pairs**.\n",
    "\n",
    "### Avoid plagiarism (see this [video on academic plagiarism](https://www.youtube.com/embed/reGGPUrEsC0) ). If you are not sure what may constitute code plagiarism, read this [explanation on source code plagiarism](http://web.science.mq.edu.au/~mtaylor/ponline/index.php?id=source-code-plagiarism). Remember, when in doubt **declare your sources**. \n",
    "\n",
    "If you have any issues that affects your ability to work during the time allocated for the assignement, please DO CONTACT ME. We will find a suitable solution. In general this WON'T be an extension to the deadline (so that in the rest of the semester you are free from preoccupations). Most probably, I will ask you to submit what you have ready by the time the assignment is due, even if it is not everything we required, and I'll take into account special considerations. For any particular problem, please contact [Thomas Li](thomas.li@canterbury.ac.nz) or the TAs."
   ]
  },
  {
   "cell_type": "markdown",
   "metadata": {},
   "source": [
    "## Instruction\n",
    "\n",
    "For this assignment you will work with a _.csv_ data-set. Your goal is to read it in, wrangle it, produce some plotting, in order to demonstrate that you are able to use the functions, plotting, and markdown format we have been learning.  \n",
    "You shall hand in your work as a jupyter-lab R notebook (for the R part, and jupyter-lab Julia notebook for the Julia part) comprehending the code, the plots and, **very important**, enough comments and explanations for us to understand what you did, how you did it, and why you did it. Remember: no comments, no marks.  \n",
    "You can either modify this notebook or write a new one from scratch: in that case, clearly indicate which question you are asking at each step. Notice that you may well want to **use more than one cell** per answer (using some cell for the code, some for the text, and so forth)."
   ]
  },
  {
   "cell_type": "markdown",
   "metadata": {},
   "source": [
    "## Comment, explain, present your work in a clear way (we may remove marks for messy notebooks)"
   ]
  },
  {
   "cell_type": "markdown",
   "metadata": {},
   "source": [
    "## R part (overall 70 marks)\n",
    "\n",
    "Do use the tidyverse syntax I introduced in class and labs. If in doubt, refresh the lab material 1 to 4."
   ]
  },
  {
   "cell_type": "markdown",
   "metadata": {},
   "source": [
    "The first thing you may want to do is to load **tidyverse**:"
   ]
  },
  {
   "cell_type": "code",
   "execution_count": 1,
   "metadata": {
    "vscode": {
     "languageId": "r"
    }
   },
   "outputs": [
    {
     "name": "stdout",
     "output_type": "stream",
     "text": [
      "package 'visdat' successfully unpacked and MD5 sums checked\n",
      "\n",
      "The downloaded binary packages are in\n",
      "\tC:\\Users\\91ken\\AppData\\Local\\Temp\\Rtmp27kTWw\\downloaded_packages\n"
     ]
    }
   ],
   "source": [
    "#install.packages(\"tidyverse\")\n",
    "install.packages(\"visdat\")"
   ]
  },
  {
   "cell_type": "code",
   "execution_count": 7,
   "metadata": {
    "vscode": {
     "languageId": "r"
    }
   },
   "outputs": [
    {
     "name": "stderr",
     "output_type": "stream",
     "text": [

      "── \u001b[1mAttaching packages\u001b[22m ─────────────────────────────────────────────────────────────────────────────── tidyverse 1.3.2 ──\n",
      "\u001b[32m✔\u001b[39m \u001b[34mggplot2\u001b[39m 3.3.6     \u001b[32m✔\u001b[39m \u001b[34mpurrr  \u001b[39m 0.3.4\n",
      "\u001b[32m✔\u001b[39m \u001b[34mtibble \u001b[39m 3.1.7     \u001b[32m✔\u001b[39m \u001b[34mdplyr  \u001b[39m 1.0.9\n",
      "\u001b[32m✔\u001b[39m \u001b[34mtidyr  \u001b[39m 1.2.0     \u001b[32m✔\u001b[39m \u001b[34mstringr\u001b[39m 1.4.0\n",
      "\u001b[32m✔\u001b[39m \u001b[34mreadr  \u001b[39m 2.1.2     \u001b[32m✔\u001b[39m \u001b[34mforcats\u001b[39m 0.5.1\n",
      "── \u001b[1mConflicts\u001b[22m ────────────────────────────────────────────────────────────────────────────────── tidyverse_conflicts() ──\n",
      "\u001b[31m✖\u001b[39m \u001b[34mdplyr\u001b[39m::\u001b[32mfilter()\u001b[39m masks \u001b[34mstats\u001b[39m::filter()\n",
      "\u001b[31m✖\u001b[39m \u001b[34mdplyr\u001b[39m::\u001b[32mlag()\u001b[39m    masks \u001b[34mstats\u001b[39m::lag()\n"

     ]
    }
   ],
   "source": [
    "library(tidyverse)\n",
    "library(visdat)"
   ]
  },
  {
   "cell_type": "markdown",
   "metadata": {},
   "source": [
    "### Task (a): import (5 marks)\n",
    "\n",
    "Import the **hour.csv** dataset into R as a dataframe (we'll call it `bike_df`, but you can call it what you want). You can read about the dataset in the file `DataSet_Dictionary.txt`. (Alternatively, you might use your own .csv dataset of choice, but talk with me about it before doing it). \n",
    "\n",
    "Then perform the routine checks about the types of the columns, the missing values, and output a quick summary of the dataset.\n",
    "\n",
    "_hint_ useful functions: `read_csv()`, `glimpse()`  \n",
    "_hint_ useful libraries: `tidyverse`, `readr`, `skimr`, `vis_dat`"
   ]
  },
  {
   "cell_type": "code",
   "execution_count": 5,
   "metadata": {
    "vscode": {
     "languageId": "r"
    }
   },
   "outputs": [
    {
     "data": {
      "text/html": [
       "<table class=\"dataframe\">\n",
       "<caption>A data.frame: 17379 × 17</caption>\n",
       "<thead>\n",
       "\t<tr><th scope=col>instant</th><th scope=col>dteday</th><th scope=col>season</th><th scope=col>yr</th><th scope=col>mnth</th><th scope=col>hr</th><th scope=col>holiday</th><th scope=col>weekday</th><th scope=col>workingday</th><th scope=col>weathersit</th><th scope=col>temp</th><th scope=col>atemp</th><th scope=col>hum</th><th scope=col>windspeed</th><th scope=col>casual</th><th scope=col>registered</th><th scope=col>cnt</th></tr>\n",
       "\t<tr><th scope=col>&lt;int&gt;</th><th scope=col>&lt;chr&gt;</th><th scope=col>&lt;int&gt;</th><th scope=col>&lt;int&gt;</th><th scope=col>&lt;int&gt;</th><th scope=col>&lt;int&gt;</th><th scope=col>&lt;int&gt;</th><th scope=col>&lt;int&gt;</th><th scope=col>&lt;int&gt;</th><th scope=col>&lt;int&gt;</th><th scope=col>&lt;dbl&gt;</th><th scope=col>&lt;dbl&gt;</th><th scope=col>&lt;dbl&gt;</th><th scope=col>&lt;dbl&gt;</th><th scope=col>&lt;int&gt;</th><th scope=col>&lt;int&gt;</th><th scope=col>&lt;int&gt;</th></tr>\n",
       "</thead>\n",
       "<tbody>\n",
       "\t<tr><td> 1</td><td>2011-01-01</td><td>1</td><td>0</td><td>1</td><td> 0</td><td>0</td><td>6</td><td>0</td><td>1</td><td>0.24</td><td>0.2879</td><td>0.81</td><td>0.0000</td><td> 3</td><td>13</td><td> 16</td></tr>\n",
       "\t<tr><td> 2</td><td>2011-01-01</td><td>1</td><td>0</td><td>1</td><td> 1</td><td>0</td><td>6</td><td>0</td><td>1</td><td>0.22</td><td>0.2727</td><td>0.80</td><td>0.0000</td><td> 8</td><td>32</td><td> 40</td></tr>\n",
       "\t<tr><td> 3</td><td>2011-01-01</td><td>1</td><td>0</td><td>1</td><td> 2</td><td>0</td><td>6</td><td>0</td><td>1</td><td>0.22</td><td>0.2727</td><td>0.80</td><td>0.0000</td><td> 5</td><td>27</td><td> 32</td></tr>\n",
       "\t<tr><td> 4</td><td>2011-01-01</td><td>1</td><td>0</td><td>1</td><td> 3</td><td>0</td><td>6</td><td>0</td><td>1</td><td>0.24</td><td>0.2879</td><td>0.75</td><td>0.0000</td><td> 3</td><td>10</td><td> 13</td></tr>\n",
       "\t<tr><td> 5</td><td>2011-01-01</td><td>1</td><td>0</td><td>1</td><td> 4</td><td>0</td><td>6</td><td>0</td><td>1</td><td>0.24</td><td>0.2879</td><td>0.75</td><td>0.0000</td><td> 0</td><td> 1</td><td>  1</td></tr>\n",
       "\t<tr><td> 6</td><td>2011-01-01</td><td>1</td><td>0</td><td>1</td><td> 5</td><td>0</td><td>6</td><td>0</td><td>2</td><td>0.24</td><td>0.2576</td><td>0.75</td><td>0.0896</td><td> 0</td><td> 1</td><td>  1</td></tr>\n",
       "\t<tr><td> 7</td><td>2011-01-01</td><td>1</td><td>0</td><td>1</td><td> 6</td><td>0</td><td>6</td><td>0</td><td>1</td><td>0.22</td><td>0.2727</td><td>0.80</td><td>0.0000</td><td> 2</td><td> 0</td><td>  2</td></tr>\n",
       "\t<tr><td> 8</td><td>2011-01-01</td><td>1</td><td>0</td><td>1</td><td> 7</td><td>0</td><td>6</td><td>0</td><td>1</td><td>0.20</td><td>0.2576</td><td>0.86</td><td>0.0000</td><td> 1</td><td> 2</td><td>  3</td></tr>\n",
       "\t<tr><td> 9</td><td>2011-01-01</td><td>1</td><td>0</td><td>1</td><td> 8</td><td>0</td><td>6</td><td>0</td><td>1</td><td>0.24</td><td>0.2879</td><td>0.75</td><td>0.0000</td><td> 1</td><td> 7</td><td>  8</td></tr>\n",
       "\t<tr><td>10</td><td>2011-01-01</td><td>1</td><td>0</td><td>1</td><td> 9</td><td>0</td><td>6</td><td>0</td><td>1</td><td>0.32</td><td>0.3485</td><td>0.76</td><td>0.0000</td><td> 8</td><td> 6</td><td> 14</td></tr>\n",
       "\t<tr><td>11</td><td>2011-01-01</td><td>1</td><td>0</td><td>1</td><td>10</td><td>0</td><td>6</td><td>0</td><td>1</td><td>0.38</td><td>0.3939</td><td>0.76</td><td>0.2537</td><td>12</td><td>24</td><td> 36</td></tr>\n",
       "\t<tr><td>12</td><td>2011-01-01</td><td>1</td><td>0</td><td>1</td><td>11</td><td>0</td><td>6</td><td>0</td><td>1</td><td>0.36</td><td>0.3333</td><td>0.81</td><td>0.2836</td><td>26</td><td>30</td><td> 56</td></tr>\n",
       "\t<tr><td>13</td><td>2011-01-01</td><td>1</td><td>0</td><td>1</td><td>12</td><td>0</td><td>6</td><td>0</td><td>1</td><td>0.42</td><td>0.4242</td><td>0.77</td><td>0.2836</td><td>29</td><td>55</td><td> 84</td></tr>\n",
       "\t<tr><td>14</td><td>2011-01-01</td><td>1</td><td>0</td><td>1</td><td>13</td><td>0</td><td>6</td><td>0</td><td>2</td><td>0.46</td><td>0.4545</td><td>0.72</td><td>0.2985</td><td>47</td><td>47</td><td> 94</td></tr>\n",
       "\t<tr><td>15</td><td>2011-01-01</td><td>1</td><td>0</td><td>1</td><td>14</td><td>0</td><td>6</td><td>0</td><td>2</td><td>0.46</td><td>0.4545</td><td>0.72</td><td>0.2836</td><td>35</td><td>71</td><td>106</td></tr>\n",
       "\t<tr><td>16</td><td>2011-01-01</td><td>1</td><td>0</td><td>1</td><td>15</td><td>0</td><td>6</td><td>0</td><td>2</td><td>0.44</td><td>0.4394</td><td>0.77</td><td>0.2985</td><td>40</td><td>70</td><td>110</td></tr>\n",
       "\t<tr><td>17</td><td>2011-01-01</td><td>1</td><td>0</td><td>1</td><td>16</td><td>0</td><td>6</td><td>0</td><td>2</td><td>0.42</td><td>0.4242</td><td>0.82</td><td>0.2985</td><td>41</td><td>52</td><td> 93</td></tr>\n",
       "\t<tr><td>18</td><td>2011-01-01</td><td>1</td><td>0</td><td>1</td><td>17</td><td>0</td><td>6</td><td>0</td><td>2</td><td>0.44</td><td>0.4394</td><td>0.82</td><td>0.2836</td><td>15</td><td>52</td><td> 67</td></tr>\n",
       "\t<tr><td>19</td><td>2011-01-01</td><td>1</td><td>0</td><td>1</td><td>18</td><td>0</td><td>6</td><td>0</td><td>3</td><td>0.42</td><td>0.4242</td><td>0.88</td><td>0.2537</td><td> 9</td><td>26</td><td> 35</td></tr>\n",
       "\t<tr><td>20</td><td>2011-01-01</td><td>1</td><td>0</td><td>1</td><td>19</td><td>0</td><td>6</td><td>0</td><td>3</td><td>0.42</td><td>0.4242</td><td>0.88</td><td>0.2537</td><td> 6</td><td>31</td><td> 37</td></tr>\n",
       "\t<tr><td>21</td><td>2011-01-01</td><td>1</td><td>0</td><td>1</td><td>20</td><td>0</td><td>6</td><td>0</td><td>2</td><td>0.40</td><td>0.4091</td><td>0.87</td><td>0.2537</td><td>11</td><td>25</td><td> 36</td></tr>\n",
       "\t<tr><td>22</td><td>2011-01-01</td><td>1</td><td>0</td><td>1</td><td>21</td><td>0</td><td>6</td><td>0</td><td>2</td><td>0.40</td><td>0.4091</td><td>0.87</td><td>0.1940</td><td> 3</td><td>31</td><td> 34</td></tr>\n",
       "\t<tr><td>23</td><td>2011-01-01</td><td>1</td><td>0</td><td>1</td><td>22</td><td>0</td><td>6</td><td>0</td><td>2</td><td>0.40</td><td>0.4091</td><td>0.94</td><td>0.2239</td><td>11</td><td>17</td><td> 28</td></tr>\n",
       "\t<tr><td>24</td><td>2011-01-01</td><td>1</td><td>0</td><td>1</td><td>23</td><td>0</td><td>6</td><td>0</td><td>2</td><td>0.46</td><td>0.4545</td><td>0.88</td><td>0.2985</td><td>15</td><td>24</td><td> 39</td></tr>\n",
       "\t<tr><td>25</td><td>2011-01-02</td><td>1</td><td>0</td><td>1</td><td> 0</td><td>0</td><td>0</td><td>0</td><td>2</td><td>0.46</td><td>0.4545</td><td>0.88</td><td>0.2985</td><td> 4</td><td>13</td><td> 17</td></tr>\n",
       "\t<tr><td>26</td><td>2011-01-02</td><td>1</td><td>0</td><td>1</td><td> 1</td><td>0</td><td>0</td><td>0</td><td>2</td><td>0.44</td><td>0.4394</td><td>0.94</td><td>0.2537</td><td> 1</td><td>16</td><td> 17</td></tr>\n",
       "\t<tr><td>27</td><td>2011-01-02</td><td>1</td><td>0</td><td>1</td><td> 2</td><td>0</td><td>0</td><td>0</td><td>2</td><td>0.42</td><td>0.4242</td><td>1.00</td><td>0.2836</td><td> 1</td><td> 8</td><td>  9</td></tr>\n",
       "\t<tr><td>28</td><td>2011-01-02</td><td>1</td><td>0</td><td>1</td><td> 3</td><td>0</td><td>0</td><td>0</td><td>2</td><td>0.46</td><td>0.4545</td><td>0.94</td><td>0.1940</td><td> 2</td><td> 4</td><td>  6</td></tr>\n",
       "\t<tr><td>29</td><td>2011-01-02</td><td>1</td><td>0</td><td>1</td><td> 4</td><td>0</td><td>0</td><td>0</td><td>2</td><td>0.46</td><td>0.4545</td><td>0.94</td><td>0.1940</td><td> 2</td><td> 1</td><td>  3</td></tr>\n",
       "\t<tr><td>30</td><td>2011-01-02</td><td>1</td><td>0</td><td>1</td><td> 6</td><td>0</td><td>0</td><td>0</td><td>3</td><td>0.42</td><td>0.4242</td><td>0.77</td><td>0.2985</td><td> 0</td><td> 2</td><td>  2</td></tr>\n",
       "\t<tr><td>⋮</td><td>⋮</td><td>⋮</td><td>⋮</td><td>⋮</td><td>⋮</td><td>⋮</td><td>⋮</td><td>⋮</td><td>⋮</td><td>⋮</td><td>⋮</td><td>⋮</td><td>⋮</td><td>⋮</td><td>⋮</td><td>⋮</td></tr>\n",
       "\t<tr><td>17350</td><td>2012-12-30</td><td>1</td><td>1</td><td>12</td><td>18</td><td>0</td><td>0</td><td>0</td><td>2</td><td>0.24</td><td>0.2121</td><td>0.44</td><td>0.2985</td><td>12</td><td>113</td><td>125</td></tr>\n",
       "\t<tr><td>17351</td><td>2012-12-30</td><td>1</td><td>1</td><td>12</td><td>19</td><td>0</td><td>0</td><td>0</td><td>1</td><td>0.34</td><td>0.3636</td><td>0.61</td><td>0.0000</td><td>16</td><td> 86</td><td>102</td></tr>\n",
       "\t<tr><td>17352</td><td>2012-12-30</td><td>1</td><td>1</td><td>12</td><td>20</td><td>0</td><td>0</td><td>0</td><td>1</td><td>0.22</td><td>0.1970</td><td>0.47</td><td>0.3284</td><td> 9</td><td> 63</td><td> 72</td></tr>\n",
       "\t<tr><td>17353</td><td>2012-12-30</td><td>1</td><td>1</td><td>12</td><td>21</td><td>0</td><td>0</td><td>0</td><td>1</td><td>0.20</td><td>0.2121</td><td>0.51</td><td>0.1642</td><td> 5</td><td> 42</td><td> 47</td></tr>\n",
       "\t<tr><td>17354</td><td>2012-12-30</td><td>1</td><td>1</td><td>12</td><td>22</td><td>0</td><td>0</td><td>0</td><td>1</td><td>0.20</td><td>0.1970</td><td>0.55</td><td>0.1940</td><td> 6</td><td> 30</td><td> 36</td></tr>\n",
       "\t<tr><td>17355</td><td>2012-12-30</td><td>1</td><td>1</td><td>12</td><td>23</td><td>0</td><td>0</td><td>0</td><td>1</td><td>0.20</td><td>0.1970</td><td>0.51</td><td>0.2239</td><td>10</td><td> 39</td><td> 49</td></tr>\n",
       "\t<tr><td>17356</td><td>2012-12-31</td><td>1</td><td>1</td><td>12</td><td> 0</td><td>0</td><td>1</td><td>1</td><td>1</td><td>0.18</td><td>0.1818</td><td>0.55</td><td>0.1940</td><td> 4</td><td> 30</td><td> 34</td></tr>\n",
       "\t<tr><td>17357</td><td>2012-12-31</td><td>1</td><td>1</td><td>12</td><td> 1</td><td>0</td><td>1</td><td>1</td><td>1</td><td>0.18</td><td>0.1818</td><td>0.55</td><td>0.1940</td><td> 6</td><td> 13</td><td> 19</td></tr>\n",
       "\t<tr><td>17358</td><td>2012-12-31</td><td>1</td><td>1</td><td>12</td><td> 2</td><td>0</td><td>1</td><td>1</td><td>1</td><td>0.16</td><td>0.1667</td><td>0.59</td><td>0.1642</td><td> 3</td><td>  8</td><td> 11</td></tr>\n",
       "\t<tr><td>17359</td><td>2012-12-31</td><td>1</td><td>1</td><td>12</td><td> 3</td><td>0</td><td>1</td><td>1</td><td>1</td><td>0.16</td><td>0.1818</td><td>0.59</td><td>0.1045</td><td> 0</td><td>  1</td><td>  1</td></tr>\n",
       "\t<tr><td>17360</td><td>2012-12-31</td><td>1</td><td>1</td><td>12</td><td> 4</td><td>0</td><td>1</td><td>1</td><td>1</td><td>0.14</td><td>0.1667</td><td>0.69</td><td>0.1045</td><td> 0</td><td>  3</td><td>  3</td></tr>\n",
       "\t<tr><td>17361</td><td>2012-12-31</td><td>1</td><td>1</td><td>12</td><td> 5</td><td>0</td><td>1</td><td>1</td><td>1</td><td>0.16</td><td>0.1515</td><td>0.64</td><td>0.1940</td><td> 0</td><td>  9</td><td>  9</td></tr>\n",
       "\t<tr><td>17362</td><td>2012-12-31</td><td>1</td><td>1</td><td>12</td><td> 6</td><td>0</td><td>1</td><td>1</td><td>1</td><td>0.16</td><td>0.1667</td><td>0.64</td><td>0.1642</td><td> 0</td><td> 40</td><td> 40</td></tr>\n",
       "\t<tr><td>17363</td><td>2012-12-31</td><td>1</td><td>1</td><td>12</td><td> 7</td><td>0</td><td>1</td><td>1</td><td>1</td><td>0.16</td><td>0.1818</td><td>0.64</td><td>0.1343</td><td> 2</td><td> 83</td><td> 85</td></tr>\n",
       "\t<tr><td>17364</td><td>2012-12-31</td><td>1</td><td>1</td><td>12</td><td> 8</td><td>0</td><td>1</td><td>1</td><td>1</td><td>0.14</td><td>0.1515</td><td>0.69</td><td>0.1343</td><td> 9</td><td>187</td><td>196</td></tr>\n",
       "\t<tr><td>17365</td><td>2012-12-31</td><td>1</td><td>1</td><td>12</td><td> 9</td><td>0</td><td>1</td><td>1</td><td>2</td><td>0.18</td><td>0.2121</td><td>0.64</td><td>0.1045</td><td>13</td><td>144</td><td>157</td></tr>\n",
       "\t<tr><td>17366</td><td>2012-12-31</td><td>1</td><td>1</td><td>12</td><td>10</td><td>0</td><td>1</td><td>1</td><td>2</td><td>0.20</td><td>0.2121</td><td>0.69</td><td>0.1343</td><td>33</td><td> 87</td><td>120</td></tr>\n",
       "\t<tr><td>17367</td><td>2012-12-31</td><td>1</td><td>1</td><td>12</td><td>11</td><td>0</td><td>1</td><td>1</td><td>2</td><td>0.22</td><td>0.2273</td><td>0.60</td><td>0.1940</td><td>43</td><td>114</td><td>157</td></tr>\n",
       "\t<tr><td>17368</td><td>2012-12-31</td><td>1</td><td>1</td><td>12</td><td>12</td><td>0</td><td>1</td><td>1</td><td>2</td><td>0.24</td><td>0.2273</td><td>0.56</td><td>0.1940</td><td>52</td><td>172</td><td>224</td></tr>\n",
       "\t<tr><td>17369</td><td>2012-12-31</td><td>1</td><td>1</td><td>12</td><td>13</td><td>0</td><td>1</td><td>1</td><td>2</td><td>0.26</td><td>0.2576</td><td>0.44</td><td>0.1642</td><td>38</td><td>165</td><td>203</td></tr>\n",
       "\t<tr><td>17370</td><td>2012-12-31</td><td>1</td><td>1</td><td>12</td><td>14</td><td>0</td><td>1</td><td>1</td><td>2</td><td>0.28</td><td>0.2727</td><td>0.45</td><td>0.2239</td><td>62</td><td>185</td><td>247</td></tr>\n",
       "\t<tr><td>17371</td><td>2012-12-31</td><td>1</td><td>1</td><td>12</td><td>15</td><td>0</td><td>1</td><td>1</td><td>2</td><td>0.28</td><td>0.2879</td><td>0.45</td><td>0.1343</td><td>69</td><td>246</td><td>315</td></tr>\n",
       "\t<tr><td>17372</td><td>2012-12-31</td><td>1</td><td>1</td><td>12</td><td>16</td><td>0</td><td>1</td><td>1</td><td>2</td><td>0.26</td><td>0.2576</td><td>0.48</td><td>0.1940</td><td>30</td><td>184</td><td>214</td></tr>\n",
       "\t<tr><td>17373</td><td>2012-12-31</td><td>1</td><td>1</td><td>12</td><td>17</td><td>0</td><td>1</td><td>1</td><td>2</td><td>0.26</td><td>0.2879</td><td>0.48</td><td>0.0896</td><td>14</td><td>150</td><td>164</td></tr>\n",
       "\t<tr><td>17374</td><td>2012-12-31</td><td>1</td><td>1</td><td>12</td><td>18</td><td>0</td><td>1</td><td>1</td><td>2</td><td>0.26</td><td>0.2727</td><td>0.48</td><td>0.1343</td><td>10</td><td>112</td><td>122</td></tr>\n",
       "\t<tr><td>17375</td><td>2012-12-31</td><td>1</td><td>1</td><td>12</td><td>19</td><td>0</td><td>1</td><td>1</td><td>2</td><td>0.26</td><td>0.2576</td><td>0.60</td><td>0.1642</td><td>11</td><td>108</td><td>119</td></tr>\n",
       "\t<tr><td>17376</td><td>2012-12-31</td><td>1</td><td>1</td><td>12</td><td>20</td><td>0</td><td>1</td><td>1</td><td>2</td><td>0.26</td><td>0.2576</td><td>0.60</td><td>0.1642</td><td> 8</td><td> 81</td><td> 89</td></tr>\n",
       "\t<tr><td>17377</td><td>2012-12-31</td><td>1</td><td>1</td><td>12</td><td>21</td><td>0</td><td>1</td><td>1</td><td>1</td><td>0.26</td><td>0.2576</td><td>0.60</td><td>0.1642</td><td> 7</td><td> 83</td><td> 90</td></tr>\n",
       "\t<tr><td>17378</td><td>2012-12-31</td><td>1</td><td>1</td><td>12</td><td>22</td><td>0</td><td>1</td><td>1</td><td>1</td><td>0.26</td><td>0.2727</td><td>0.56</td><td>0.1343</td><td>13</td><td> 48</td><td> 61</td></tr>\n",
       "\t<tr><td>17379</td><td>2012-12-31</td><td>1</td><td>1</td><td>12</td><td>23</td><td>0</td><td>1</td><td>1</td><td>1</td><td>0.26</td><td>0.2727</td><td>0.65</td><td>0.1343</td><td>12</td><td> 37</td><td> 49</td></tr>\n",
       "</tbody>\n",
       "</table>\n"
      ],
      "text/latex": [
       "A data.frame: 17379 × 17\n",
       "\\begin{tabular}{lllllllllllllllll}\n",
       " instant & dteday & season & yr & mnth & hr & holiday & weekday & workingday & weathersit & temp & atemp & hum & windspeed & casual & registered & cnt\\\\\n",
       " <int> & <chr> & <int> & <int> & <int> & <int> & <int> & <int> & <int> & <int> & <dbl> & <dbl> & <dbl> & <dbl> & <int> & <int> & <int>\\\\\n",
       "\\hline\n",
       "\t  1 & 2011-01-01 & 1 & 0 & 1 &  0 & 0 & 6 & 0 & 1 & 0.24 & 0.2879 & 0.81 & 0.0000 &  3 & 13 &  16\\\\\n",
       "\t  2 & 2011-01-01 & 1 & 0 & 1 &  1 & 0 & 6 & 0 & 1 & 0.22 & 0.2727 & 0.80 & 0.0000 &  8 & 32 &  40\\\\\n",
       "\t  3 & 2011-01-01 & 1 & 0 & 1 &  2 & 0 & 6 & 0 & 1 & 0.22 & 0.2727 & 0.80 & 0.0000 &  5 & 27 &  32\\\\\n",
       "\t  4 & 2011-01-01 & 1 & 0 & 1 &  3 & 0 & 6 & 0 & 1 & 0.24 & 0.2879 & 0.75 & 0.0000 &  3 & 10 &  13\\\\\n",
       "\t  5 & 2011-01-01 & 1 & 0 & 1 &  4 & 0 & 6 & 0 & 1 & 0.24 & 0.2879 & 0.75 & 0.0000 &  0 &  1 &   1\\\\\n",
       "\t  6 & 2011-01-01 & 1 & 0 & 1 &  5 & 0 & 6 & 0 & 2 & 0.24 & 0.2576 & 0.75 & 0.0896 &  0 &  1 &   1\\\\\n",
       "\t  7 & 2011-01-01 & 1 & 0 & 1 &  6 & 0 & 6 & 0 & 1 & 0.22 & 0.2727 & 0.80 & 0.0000 &  2 &  0 &   2\\\\\n",
       "\t  8 & 2011-01-01 & 1 & 0 & 1 &  7 & 0 & 6 & 0 & 1 & 0.20 & 0.2576 & 0.86 & 0.0000 &  1 &  2 &   3\\\\\n",
       "\t  9 & 2011-01-01 & 1 & 0 & 1 &  8 & 0 & 6 & 0 & 1 & 0.24 & 0.2879 & 0.75 & 0.0000 &  1 &  7 &   8\\\\\n",
       "\t 10 & 2011-01-01 & 1 & 0 & 1 &  9 & 0 & 6 & 0 & 1 & 0.32 & 0.3485 & 0.76 & 0.0000 &  8 &  6 &  14\\\\\n",
       "\t 11 & 2011-01-01 & 1 & 0 & 1 & 10 & 0 & 6 & 0 & 1 & 0.38 & 0.3939 & 0.76 & 0.2537 & 12 & 24 &  36\\\\\n",
       "\t 12 & 2011-01-01 & 1 & 0 & 1 & 11 & 0 & 6 & 0 & 1 & 0.36 & 0.3333 & 0.81 & 0.2836 & 26 & 30 &  56\\\\\n",
       "\t 13 & 2011-01-01 & 1 & 0 & 1 & 12 & 0 & 6 & 0 & 1 & 0.42 & 0.4242 & 0.77 & 0.2836 & 29 & 55 &  84\\\\\n",
       "\t 14 & 2011-01-01 & 1 & 0 & 1 & 13 & 0 & 6 & 0 & 2 & 0.46 & 0.4545 & 0.72 & 0.2985 & 47 & 47 &  94\\\\\n",
       "\t 15 & 2011-01-01 & 1 & 0 & 1 & 14 & 0 & 6 & 0 & 2 & 0.46 & 0.4545 & 0.72 & 0.2836 & 35 & 71 & 106\\\\\n",
       "\t 16 & 2011-01-01 & 1 & 0 & 1 & 15 & 0 & 6 & 0 & 2 & 0.44 & 0.4394 & 0.77 & 0.2985 & 40 & 70 & 110\\\\\n",
       "\t 17 & 2011-01-01 & 1 & 0 & 1 & 16 & 0 & 6 & 0 & 2 & 0.42 & 0.4242 & 0.82 & 0.2985 & 41 & 52 &  93\\\\\n",
       "\t 18 & 2011-01-01 & 1 & 0 & 1 & 17 & 0 & 6 & 0 & 2 & 0.44 & 0.4394 & 0.82 & 0.2836 & 15 & 52 &  67\\\\\n",
       "\t 19 & 2011-01-01 & 1 & 0 & 1 & 18 & 0 & 6 & 0 & 3 & 0.42 & 0.4242 & 0.88 & 0.2537 &  9 & 26 &  35\\\\\n",
       "\t 20 & 2011-01-01 & 1 & 0 & 1 & 19 & 0 & 6 & 0 & 3 & 0.42 & 0.4242 & 0.88 & 0.2537 &  6 & 31 &  37\\\\\n",
       "\t 21 & 2011-01-01 & 1 & 0 & 1 & 20 & 0 & 6 & 0 & 2 & 0.40 & 0.4091 & 0.87 & 0.2537 & 11 & 25 &  36\\\\\n",
       "\t 22 & 2011-01-01 & 1 & 0 & 1 & 21 & 0 & 6 & 0 & 2 & 0.40 & 0.4091 & 0.87 & 0.1940 &  3 & 31 &  34\\\\\n",
       "\t 23 & 2011-01-01 & 1 & 0 & 1 & 22 & 0 & 6 & 0 & 2 & 0.40 & 0.4091 & 0.94 & 0.2239 & 11 & 17 &  28\\\\\n",
       "\t 24 & 2011-01-01 & 1 & 0 & 1 & 23 & 0 & 6 & 0 & 2 & 0.46 & 0.4545 & 0.88 & 0.2985 & 15 & 24 &  39\\\\\n",
       "\t 25 & 2011-01-02 & 1 & 0 & 1 &  0 & 0 & 0 & 0 & 2 & 0.46 & 0.4545 & 0.88 & 0.2985 &  4 & 13 &  17\\\\\n",
       "\t 26 & 2011-01-02 & 1 & 0 & 1 &  1 & 0 & 0 & 0 & 2 & 0.44 & 0.4394 & 0.94 & 0.2537 &  1 & 16 &  17\\\\\n",
       "\t 27 & 2011-01-02 & 1 & 0 & 1 &  2 & 0 & 0 & 0 & 2 & 0.42 & 0.4242 & 1.00 & 0.2836 &  1 &  8 &   9\\\\\n",
       "\t 28 & 2011-01-02 & 1 & 0 & 1 &  3 & 0 & 0 & 0 & 2 & 0.46 & 0.4545 & 0.94 & 0.1940 &  2 &  4 &   6\\\\\n",
       "\t 29 & 2011-01-02 & 1 & 0 & 1 &  4 & 0 & 0 & 0 & 2 & 0.46 & 0.4545 & 0.94 & 0.1940 &  2 &  1 &   3\\\\\n",
       "\t 30 & 2011-01-02 & 1 & 0 & 1 &  6 & 0 & 0 & 0 & 3 & 0.42 & 0.4242 & 0.77 & 0.2985 &  0 &  2 &   2\\\\\n",
       "\t ⋮ & ⋮ & ⋮ & ⋮ & ⋮ & ⋮ & ⋮ & ⋮ & ⋮ & ⋮ & ⋮ & ⋮ & ⋮ & ⋮ & ⋮ & ⋮ & ⋮\\\\\n",
       "\t 17350 & 2012-12-30 & 1 & 1 & 12 & 18 & 0 & 0 & 0 & 2 & 0.24 & 0.2121 & 0.44 & 0.2985 & 12 & 113 & 125\\\\\n",
       "\t 17351 & 2012-12-30 & 1 & 1 & 12 & 19 & 0 & 0 & 0 & 1 & 0.34 & 0.3636 & 0.61 & 0.0000 & 16 &  86 & 102\\\\\n",
       "\t 17352 & 2012-12-30 & 1 & 1 & 12 & 20 & 0 & 0 & 0 & 1 & 0.22 & 0.1970 & 0.47 & 0.3284 &  9 &  63 &  72\\\\\n",
       "\t 17353 & 2012-12-30 & 1 & 1 & 12 & 21 & 0 & 0 & 0 & 1 & 0.20 & 0.2121 & 0.51 & 0.1642 &  5 &  42 &  47\\\\\n",
       "\t 17354 & 2012-12-30 & 1 & 1 & 12 & 22 & 0 & 0 & 0 & 1 & 0.20 & 0.1970 & 0.55 & 0.1940 &  6 &  30 &  36\\\\\n",
       "\t 17355 & 2012-12-30 & 1 & 1 & 12 & 23 & 0 & 0 & 0 & 1 & 0.20 & 0.1970 & 0.51 & 0.2239 & 10 &  39 &  49\\\\\n",
       "\t 17356 & 2012-12-31 & 1 & 1 & 12 &  0 & 0 & 1 & 1 & 1 & 0.18 & 0.1818 & 0.55 & 0.1940 &  4 &  30 &  34\\\\\n",
       "\t 17357 & 2012-12-31 & 1 & 1 & 12 &  1 & 0 & 1 & 1 & 1 & 0.18 & 0.1818 & 0.55 & 0.1940 &  6 &  13 &  19\\\\\n",
       "\t 17358 & 2012-12-31 & 1 & 1 & 12 &  2 & 0 & 1 & 1 & 1 & 0.16 & 0.1667 & 0.59 & 0.1642 &  3 &   8 &  11\\\\\n",
       "\t 17359 & 2012-12-31 & 1 & 1 & 12 &  3 & 0 & 1 & 1 & 1 & 0.16 & 0.1818 & 0.59 & 0.1045 &  0 &   1 &   1\\\\\n",
       "\t 17360 & 2012-12-31 & 1 & 1 & 12 &  4 & 0 & 1 & 1 & 1 & 0.14 & 0.1667 & 0.69 & 0.1045 &  0 &   3 &   3\\\\\n",
       "\t 17361 & 2012-12-31 & 1 & 1 & 12 &  5 & 0 & 1 & 1 & 1 & 0.16 & 0.1515 & 0.64 & 0.1940 &  0 &   9 &   9\\\\\n",
       "\t 17362 & 2012-12-31 & 1 & 1 & 12 &  6 & 0 & 1 & 1 & 1 & 0.16 & 0.1667 & 0.64 & 0.1642 &  0 &  40 &  40\\\\\n",
       "\t 17363 & 2012-12-31 & 1 & 1 & 12 &  7 & 0 & 1 & 1 & 1 & 0.16 & 0.1818 & 0.64 & 0.1343 &  2 &  83 &  85\\\\\n",
       "\t 17364 & 2012-12-31 & 1 & 1 & 12 &  8 & 0 & 1 & 1 & 1 & 0.14 & 0.1515 & 0.69 & 0.1343 &  9 & 187 & 196\\\\\n",
       "\t 17365 & 2012-12-31 & 1 & 1 & 12 &  9 & 0 & 1 & 1 & 2 & 0.18 & 0.2121 & 0.64 & 0.1045 & 13 & 144 & 157\\\\\n",
       "\t 17366 & 2012-12-31 & 1 & 1 & 12 & 10 & 0 & 1 & 1 & 2 & 0.20 & 0.2121 & 0.69 & 0.1343 & 33 &  87 & 120\\\\\n",
       "\t 17367 & 2012-12-31 & 1 & 1 & 12 & 11 & 0 & 1 & 1 & 2 & 0.22 & 0.2273 & 0.60 & 0.1940 & 43 & 114 & 157\\\\\n",
       "\t 17368 & 2012-12-31 & 1 & 1 & 12 & 12 & 0 & 1 & 1 & 2 & 0.24 & 0.2273 & 0.56 & 0.1940 & 52 & 172 & 224\\\\\n",
       "\t 17369 & 2012-12-31 & 1 & 1 & 12 & 13 & 0 & 1 & 1 & 2 & 0.26 & 0.2576 & 0.44 & 0.1642 & 38 & 165 & 203\\\\\n",
       "\t 17370 & 2012-12-31 & 1 & 1 & 12 & 14 & 0 & 1 & 1 & 2 & 0.28 & 0.2727 & 0.45 & 0.2239 & 62 & 185 & 247\\\\\n",
       "\t 17371 & 2012-12-31 & 1 & 1 & 12 & 15 & 0 & 1 & 1 & 2 & 0.28 & 0.2879 & 0.45 & 0.1343 & 69 & 246 & 315\\\\\n",
       "\t 17372 & 2012-12-31 & 1 & 1 & 12 & 16 & 0 & 1 & 1 & 2 & 0.26 & 0.2576 & 0.48 & 0.1940 & 30 & 184 & 214\\\\\n",
       "\t 17373 & 2012-12-31 & 1 & 1 & 12 & 17 & 0 & 1 & 1 & 2 & 0.26 & 0.2879 & 0.48 & 0.0896 & 14 & 150 & 164\\\\\n",
       "\t 17374 & 2012-12-31 & 1 & 1 & 12 & 18 & 0 & 1 & 1 & 2 & 0.26 & 0.2727 & 0.48 & 0.1343 & 10 & 112 & 122\\\\\n",
       "\t 17375 & 2012-12-31 & 1 & 1 & 12 & 19 & 0 & 1 & 1 & 2 & 0.26 & 0.2576 & 0.60 & 0.1642 & 11 & 108 & 119\\\\\n",
       "\t 17376 & 2012-12-31 & 1 & 1 & 12 & 20 & 0 & 1 & 1 & 2 & 0.26 & 0.2576 & 0.60 & 0.1642 &  8 &  81 &  89\\\\\n",
       "\t 17377 & 2012-12-31 & 1 & 1 & 12 & 21 & 0 & 1 & 1 & 1 & 0.26 & 0.2576 & 0.60 & 0.1642 &  7 &  83 &  90\\\\\n",
       "\t 17378 & 2012-12-31 & 1 & 1 & 12 & 22 & 0 & 1 & 1 & 1 & 0.26 & 0.2727 & 0.56 & 0.1343 & 13 &  48 &  61\\\\\n",
       "\t 17379 & 2012-12-31 & 1 & 1 & 12 & 23 & 0 & 1 & 1 & 1 & 0.26 & 0.2727 & 0.65 & 0.1343 & 12 &  37 &  49\\\\\n",
       "\\end{tabular}\n"
      ],
      "text/markdown": [
       "\n",
       "A data.frame: 17379 × 17\n",
       "\n",
       "| instant &lt;int&gt; | dteday &lt;chr&gt; | season &lt;int&gt; | yr &lt;int&gt; | mnth &lt;int&gt; | hr &lt;int&gt; | holiday &lt;int&gt; | weekday &lt;int&gt; | workingday &lt;int&gt; | weathersit &lt;int&gt; | temp &lt;dbl&gt; | atemp &lt;dbl&gt; | hum &lt;dbl&gt; | windspeed &lt;dbl&gt; | casual &lt;int&gt; | registered &lt;int&gt; | cnt &lt;int&gt; |\n",
       "|---|---|---|---|---|---|---|---|---|---|---|---|---|---|---|---|---|\n",
       "|  1 | 2011-01-01 | 1 | 0 | 1 |  0 | 0 | 6 | 0 | 1 | 0.24 | 0.2879 | 0.81 | 0.0000 |  3 | 13 |  16 |\n",
       "|  2 | 2011-01-01 | 1 | 0 | 1 |  1 | 0 | 6 | 0 | 1 | 0.22 | 0.2727 | 0.80 | 0.0000 |  8 | 32 |  40 |\n",
       "|  3 | 2011-01-01 | 1 | 0 | 1 |  2 | 0 | 6 | 0 | 1 | 0.22 | 0.2727 | 0.80 | 0.0000 |  5 | 27 |  32 |\n",
       "|  4 | 2011-01-01 | 1 | 0 | 1 |  3 | 0 | 6 | 0 | 1 | 0.24 | 0.2879 | 0.75 | 0.0000 |  3 | 10 |  13 |\n",
       "|  5 | 2011-01-01 | 1 | 0 | 1 |  4 | 0 | 6 | 0 | 1 | 0.24 | 0.2879 | 0.75 | 0.0000 |  0 |  1 |   1 |\n",
       "|  6 | 2011-01-01 | 1 | 0 | 1 |  5 | 0 | 6 | 0 | 2 | 0.24 | 0.2576 | 0.75 | 0.0896 |  0 |  1 |   1 |\n",
       "|  7 | 2011-01-01 | 1 | 0 | 1 |  6 | 0 | 6 | 0 | 1 | 0.22 | 0.2727 | 0.80 | 0.0000 |  2 |  0 |   2 |\n",
       "|  8 | 2011-01-01 | 1 | 0 | 1 |  7 | 0 | 6 | 0 | 1 | 0.20 | 0.2576 | 0.86 | 0.0000 |  1 |  2 |   3 |\n",
       "|  9 | 2011-01-01 | 1 | 0 | 1 |  8 | 0 | 6 | 0 | 1 | 0.24 | 0.2879 | 0.75 | 0.0000 |  1 |  7 |   8 |\n",
       "| 10 | 2011-01-01 | 1 | 0 | 1 |  9 | 0 | 6 | 0 | 1 | 0.32 | 0.3485 | 0.76 | 0.0000 |  8 |  6 |  14 |\n",
       "| 11 | 2011-01-01 | 1 | 0 | 1 | 10 | 0 | 6 | 0 | 1 | 0.38 | 0.3939 | 0.76 | 0.2537 | 12 | 24 |  36 |\n",
       "| 12 | 2011-01-01 | 1 | 0 | 1 | 11 | 0 | 6 | 0 | 1 | 0.36 | 0.3333 | 0.81 | 0.2836 | 26 | 30 |  56 |\n",
       "| 13 | 2011-01-01 | 1 | 0 | 1 | 12 | 0 | 6 | 0 | 1 | 0.42 | 0.4242 | 0.77 | 0.2836 | 29 | 55 |  84 |\n",
       "| 14 | 2011-01-01 | 1 | 0 | 1 | 13 | 0 | 6 | 0 | 2 | 0.46 | 0.4545 | 0.72 | 0.2985 | 47 | 47 |  94 |\n",
       "| 15 | 2011-01-01 | 1 | 0 | 1 | 14 | 0 | 6 | 0 | 2 | 0.46 | 0.4545 | 0.72 | 0.2836 | 35 | 71 | 106 |\n",
       "| 16 | 2011-01-01 | 1 | 0 | 1 | 15 | 0 | 6 | 0 | 2 | 0.44 | 0.4394 | 0.77 | 0.2985 | 40 | 70 | 110 |\n",
       "| 17 | 2011-01-01 | 1 | 0 | 1 | 16 | 0 | 6 | 0 | 2 | 0.42 | 0.4242 | 0.82 | 0.2985 | 41 | 52 |  93 |\n",
       "| 18 | 2011-01-01 | 1 | 0 | 1 | 17 | 0 | 6 | 0 | 2 | 0.44 | 0.4394 | 0.82 | 0.2836 | 15 | 52 |  67 |\n",
       "| 19 | 2011-01-01 | 1 | 0 | 1 | 18 | 0 | 6 | 0 | 3 | 0.42 | 0.4242 | 0.88 | 0.2537 |  9 | 26 |  35 |\n",
       "| 20 | 2011-01-01 | 1 | 0 | 1 | 19 | 0 | 6 | 0 | 3 | 0.42 | 0.4242 | 0.88 | 0.2537 |  6 | 31 |  37 |\n",
       "| 21 | 2011-01-01 | 1 | 0 | 1 | 20 | 0 | 6 | 0 | 2 | 0.40 | 0.4091 | 0.87 | 0.2537 | 11 | 25 |  36 |\n",
       "| 22 | 2011-01-01 | 1 | 0 | 1 | 21 | 0 | 6 | 0 | 2 | 0.40 | 0.4091 | 0.87 | 0.1940 |  3 | 31 |  34 |\n",
       "| 23 | 2011-01-01 | 1 | 0 | 1 | 22 | 0 | 6 | 0 | 2 | 0.40 | 0.4091 | 0.94 | 0.2239 | 11 | 17 |  28 |\n",
       "| 24 | 2011-01-01 | 1 | 0 | 1 | 23 | 0 | 6 | 0 | 2 | 0.46 | 0.4545 | 0.88 | 0.2985 | 15 | 24 |  39 |\n",
       "| 25 | 2011-01-02 | 1 | 0 | 1 |  0 | 0 | 0 | 0 | 2 | 0.46 | 0.4545 | 0.88 | 0.2985 |  4 | 13 |  17 |\n",
       "| 26 | 2011-01-02 | 1 | 0 | 1 |  1 | 0 | 0 | 0 | 2 | 0.44 | 0.4394 | 0.94 | 0.2537 |  1 | 16 |  17 |\n",
       "| 27 | 2011-01-02 | 1 | 0 | 1 |  2 | 0 | 0 | 0 | 2 | 0.42 | 0.4242 | 1.00 | 0.2836 |  1 |  8 |   9 |\n",
       "| 28 | 2011-01-02 | 1 | 0 | 1 |  3 | 0 | 0 | 0 | 2 | 0.46 | 0.4545 | 0.94 | 0.1940 |  2 |  4 |   6 |\n",
       "| 29 | 2011-01-02 | 1 | 0 | 1 |  4 | 0 | 0 | 0 | 2 | 0.46 | 0.4545 | 0.94 | 0.1940 |  2 |  1 |   3 |\n",
       "| 30 | 2011-01-02 | 1 | 0 | 1 |  6 | 0 | 0 | 0 | 3 | 0.42 | 0.4242 | 0.77 | 0.2985 |  0 |  2 |   2 |\n",
       "| ⋮ | ⋮ | ⋮ | ⋮ | ⋮ | ⋮ | ⋮ | ⋮ | ⋮ | ⋮ | ⋮ | ⋮ | ⋮ | ⋮ | ⋮ | ⋮ | ⋮ |\n",
       "| 17350 | 2012-12-30 | 1 | 1 | 12 | 18 | 0 | 0 | 0 | 2 | 0.24 | 0.2121 | 0.44 | 0.2985 | 12 | 113 | 125 |\n",
       "| 17351 | 2012-12-30 | 1 | 1 | 12 | 19 | 0 | 0 | 0 | 1 | 0.34 | 0.3636 | 0.61 | 0.0000 | 16 |  86 | 102 |\n",
       "| 17352 | 2012-12-30 | 1 | 1 | 12 | 20 | 0 | 0 | 0 | 1 | 0.22 | 0.1970 | 0.47 | 0.3284 |  9 |  63 |  72 |\n",
       "| 17353 | 2012-12-30 | 1 | 1 | 12 | 21 | 0 | 0 | 0 | 1 | 0.20 | 0.2121 | 0.51 | 0.1642 |  5 |  42 |  47 |\n",
       "| 17354 | 2012-12-30 | 1 | 1 | 12 | 22 | 0 | 0 | 0 | 1 | 0.20 | 0.1970 | 0.55 | 0.1940 |  6 |  30 |  36 |\n",
       "| 17355 | 2012-12-30 | 1 | 1 | 12 | 23 | 0 | 0 | 0 | 1 | 0.20 | 0.1970 | 0.51 | 0.2239 | 10 |  39 |  49 |\n",
       "| 17356 | 2012-12-31 | 1 | 1 | 12 |  0 | 0 | 1 | 1 | 1 | 0.18 | 0.1818 | 0.55 | 0.1940 |  4 |  30 |  34 |\n",
       "| 17357 | 2012-12-31 | 1 | 1 | 12 |  1 | 0 | 1 | 1 | 1 | 0.18 | 0.1818 | 0.55 | 0.1940 |  6 |  13 |  19 |\n",
       "| 17358 | 2012-12-31 | 1 | 1 | 12 |  2 | 0 | 1 | 1 | 1 | 0.16 | 0.1667 | 0.59 | 0.1642 |  3 |   8 |  11 |\n",
       "| 17359 | 2012-12-31 | 1 | 1 | 12 |  3 | 0 | 1 | 1 | 1 | 0.16 | 0.1818 | 0.59 | 0.1045 |  0 |   1 |   1 |\n",
       "| 17360 | 2012-12-31 | 1 | 1 | 12 |  4 | 0 | 1 | 1 | 1 | 0.14 | 0.1667 | 0.69 | 0.1045 |  0 |   3 |   3 |\n",
       "| 17361 | 2012-12-31 | 1 | 1 | 12 |  5 | 0 | 1 | 1 | 1 | 0.16 | 0.1515 | 0.64 | 0.1940 |  0 |   9 |   9 |\n",
       "| 17362 | 2012-12-31 | 1 | 1 | 12 |  6 | 0 | 1 | 1 | 1 | 0.16 | 0.1667 | 0.64 | 0.1642 |  0 |  40 |  40 |\n",
       "| 17363 | 2012-12-31 | 1 | 1 | 12 |  7 | 0 | 1 | 1 | 1 | 0.16 | 0.1818 | 0.64 | 0.1343 |  2 |  83 |  85 |\n",
       "| 17364 | 2012-12-31 | 1 | 1 | 12 |  8 | 0 | 1 | 1 | 1 | 0.14 | 0.1515 | 0.69 | 0.1343 |  9 | 187 | 196 |\n",
       "| 17365 | 2012-12-31 | 1 | 1 | 12 |  9 | 0 | 1 | 1 | 2 | 0.18 | 0.2121 | 0.64 | 0.1045 | 13 | 144 | 157 |\n",
       "| 17366 | 2012-12-31 | 1 | 1 | 12 | 10 | 0 | 1 | 1 | 2 | 0.20 | 0.2121 | 0.69 | 0.1343 | 33 |  87 | 120 |\n",
       "| 17367 | 2012-12-31 | 1 | 1 | 12 | 11 | 0 | 1 | 1 | 2 | 0.22 | 0.2273 | 0.60 | 0.1940 | 43 | 114 | 157 |\n",
       "| 17368 | 2012-12-31 | 1 | 1 | 12 | 12 | 0 | 1 | 1 | 2 | 0.24 | 0.2273 | 0.56 | 0.1940 | 52 | 172 | 224 |\n",
       "| 17369 | 2012-12-31 | 1 | 1 | 12 | 13 | 0 | 1 | 1 | 2 | 0.26 | 0.2576 | 0.44 | 0.1642 | 38 | 165 | 203 |\n",
       "| 17370 | 2012-12-31 | 1 | 1 | 12 | 14 | 0 | 1 | 1 | 2 | 0.28 | 0.2727 | 0.45 | 0.2239 | 62 | 185 | 247 |\n",
       "| 17371 | 2012-12-31 | 1 | 1 | 12 | 15 | 0 | 1 | 1 | 2 | 0.28 | 0.2879 | 0.45 | 0.1343 | 69 | 246 | 315 |\n",
       "| 17372 | 2012-12-31 | 1 | 1 | 12 | 16 | 0 | 1 | 1 | 2 | 0.26 | 0.2576 | 0.48 | 0.1940 | 30 | 184 | 214 |\n",
       "| 17373 | 2012-12-31 | 1 | 1 | 12 | 17 | 0 | 1 | 1 | 2 | 0.26 | 0.2879 | 0.48 | 0.0896 | 14 | 150 | 164 |\n",
       "| 17374 | 2012-12-31 | 1 | 1 | 12 | 18 | 0 | 1 | 1 | 2 | 0.26 | 0.2727 | 0.48 | 0.1343 | 10 | 112 | 122 |\n",
       "| 17375 | 2012-12-31 | 1 | 1 | 12 | 19 | 0 | 1 | 1 | 2 | 0.26 | 0.2576 | 0.60 | 0.1642 | 11 | 108 | 119 |\n",
       "| 17376 | 2012-12-31 | 1 | 1 | 12 | 20 | 0 | 1 | 1 | 2 | 0.26 | 0.2576 | 0.60 | 0.1642 |  8 |  81 |  89 |\n",
       "| 17377 | 2012-12-31 | 1 | 1 | 12 | 21 | 0 | 1 | 1 | 1 | 0.26 | 0.2576 | 0.60 | 0.1642 |  7 |  83 |  90 |\n",
       "| 17378 | 2012-12-31 | 1 | 1 | 12 | 22 | 0 | 1 | 1 | 1 | 0.26 | 0.2727 | 0.56 | 0.1343 | 13 |  48 |  61 |\n",
       "| 17379 | 2012-12-31 | 1 | 1 | 12 | 23 | 0 | 1 | 1 | 1 | 0.26 | 0.2727 | 0.65 | 0.1343 | 12 |  37 |  49 |\n",
       "\n"
      ],
      "text/plain": [
       "      instant dteday     season yr mnth hr holiday weekday workingday\n",
       "1      1      2011-01-01 1      0  1     0 0       6       0         \n",
       "2      2      2011-01-01 1      0  1     1 0       6       0         \n",
       "3      3      2011-01-01 1      0  1     2 0       6       0         \n",
       "4      4      2011-01-01 1      0  1     3 0       6       0         \n",
       "5      5      2011-01-01 1      0  1     4 0       6       0         \n",
       "6      6      2011-01-01 1      0  1     5 0       6       0         \n",
       "7      7      2011-01-01 1      0  1     6 0       6       0         \n",
       "8      8      2011-01-01 1      0  1     7 0       6       0         \n",
       "9      9      2011-01-01 1      0  1     8 0       6       0         \n",
       "10    10      2011-01-01 1      0  1     9 0       6       0         \n",
       "11    11      2011-01-01 1      0  1    10 0       6       0         \n",
       "12    12      2011-01-01 1      0  1    11 0       6       0         \n",
       "13    13      2011-01-01 1      0  1    12 0       6       0         \n",
       "14    14      2011-01-01 1      0  1    13 0       6       0         \n",
       "15    15      2011-01-01 1      0  1    14 0       6       0         \n",
       "16    16      2011-01-01 1      0  1    15 0       6       0         \n",
       "17    17      2011-01-01 1      0  1    16 0       6       0         \n",
       "18    18      2011-01-01 1      0  1    17 0       6       0         \n",
       "19    19      2011-01-01 1      0  1    18 0       6       0         \n",
       "20    20      2011-01-01 1      0  1    19 0       6       0         \n",
       "21    21      2011-01-01 1      0  1    20 0       6       0         \n",
       "22    22      2011-01-01 1      0  1    21 0       6       0         \n",
       "23    23      2011-01-01 1      0  1    22 0       6       0         \n",
       "24    24      2011-01-01 1      0  1    23 0       6       0         \n",
       "25    25      2011-01-02 1      0  1     0 0       0       0         \n",
       "26    26      2011-01-02 1      0  1     1 0       0       0         \n",
       "27    27      2011-01-02 1      0  1     2 0       0       0         \n",
       "28    28      2011-01-02 1      0  1     3 0       0       0         \n",
       "29    29      2011-01-02 1      0  1     4 0       0       0         \n",
       "30    30      2011-01-02 1      0  1     6 0       0       0         \n",
       "⋮     ⋮       ⋮          ⋮      ⋮  ⋮    ⋮  ⋮       ⋮       ⋮         \n",
       "17350 17350   2012-12-30 1      1  12   18 0       0       0         \n",
       "17351 17351   2012-12-30 1      1  12   19 0       0       0         \n",
       "17352 17352   2012-12-30 1      1  12   20 0       0       0         \n",
       "17353 17353   2012-12-30 1      1  12   21 0       0       0         \n",
       "17354 17354   2012-12-30 1      1  12   22 0       0       0         \n",
       "17355 17355   2012-12-30 1      1  12   23 0       0       0         \n",
       "17356 17356   2012-12-31 1      1  12    0 0       1       1         \n",
       "17357 17357   2012-12-31 1      1  12    1 0       1       1         \n",
       "17358 17358   2012-12-31 1      1  12    2 0       1       1         \n",
       "17359 17359   2012-12-31 1      1  12    3 0       1       1         \n",
       "17360 17360   2012-12-31 1      1  12    4 0       1       1         \n",
       "17361 17361   2012-12-31 1      1  12    5 0       1       1         \n",
       "17362 17362   2012-12-31 1      1  12    6 0       1       1         \n",
       "17363 17363   2012-12-31 1      1  12    7 0       1       1         \n",
       "17364 17364   2012-12-31 1      1  12    8 0       1       1         \n",
       "17365 17365   2012-12-31 1      1  12    9 0       1       1         \n",
       "17366 17366   2012-12-31 1      1  12   10 0       1       1         \n",
       "17367 17367   2012-12-31 1      1  12   11 0       1       1         \n",
       "17368 17368   2012-12-31 1      1  12   12 0       1       1         \n",
       "17369 17369   2012-12-31 1      1  12   13 0       1       1         \n",
       "17370 17370   2012-12-31 1      1  12   14 0       1       1         \n",
       "17371 17371   2012-12-31 1      1  12   15 0       1       1         \n",
       "17372 17372   2012-12-31 1      1  12   16 0       1       1         \n",
       "17373 17373   2012-12-31 1      1  12   17 0       1       1         \n",
       "17374 17374   2012-12-31 1      1  12   18 0       1       1         \n",
       "17375 17375   2012-12-31 1      1  12   19 0       1       1         \n",
       "17376 17376   2012-12-31 1      1  12   20 0       1       1         \n",
       "17377 17377   2012-12-31 1      1  12   21 0       1       1         \n",
       "17378 17378   2012-12-31 1      1  12   22 0       1       1         \n",
       "17379 17379   2012-12-31 1      1  12   23 0       1       1         \n",
       "      weathersit temp atemp  hum  windspeed casual registered cnt\n",
       "1     1          0.24 0.2879 0.81 0.0000     3     13          16\n",
       "2     1          0.22 0.2727 0.80 0.0000     8     32          40\n",
       "3     1          0.22 0.2727 0.80 0.0000     5     27          32\n",
       "4     1          0.24 0.2879 0.75 0.0000     3     10          13\n",
       "5     1          0.24 0.2879 0.75 0.0000     0      1           1\n",
       "6     2          0.24 0.2576 0.75 0.0896     0      1           1\n",
       "7     1          0.22 0.2727 0.80 0.0000     2      0           2\n",
       "8     1          0.20 0.2576 0.86 0.0000     1      2           3\n",
       "9     1          0.24 0.2879 0.75 0.0000     1      7           8\n",
       "10    1          0.32 0.3485 0.76 0.0000     8      6          14\n",
       "11    1          0.38 0.3939 0.76 0.2537    12     24          36\n",
       "12    1          0.36 0.3333 0.81 0.2836    26     30          56\n",
       "13    1          0.42 0.4242 0.77 0.2836    29     55          84\n",
       "14    2          0.46 0.4545 0.72 0.2985    47     47          94\n",
       "15    2          0.46 0.4545 0.72 0.2836    35     71         106\n",
       "16    2          0.44 0.4394 0.77 0.2985    40     70         110\n",
       "17    2          0.42 0.4242 0.82 0.2985    41     52          93\n",
       "18    2          0.44 0.4394 0.82 0.2836    15     52          67\n",
       "19    3          0.42 0.4242 0.88 0.2537     9     26          35\n",
       "20    3          0.42 0.4242 0.88 0.2537     6     31          37\n",
       "21    2          0.40 0.4091 0.87 0.2537    11     25          36\n",
       "22    2          0.40 0.4091 0.87 0.1940     3     31          34\n",
       "23    2          0.40 0.4091 0.94 0.2239    11     17          28\n",
       "24    2          0.46 0.4545 0.88 0.2985    15     24          39\n",
       "25    2          0.46 0.4545 0.88 0.2985     4     13          17\n",
       "26    2          0.44 0.4394 0.94 0.2537     1     16          17\n",
       "27    2          0.42 0.4242 1.00 0.2836     1      8           9\n",
       "28    2          0.46 0.4545 0.94 0.1940     2      4           6\n",
       "29    2          0.46 0.4545 0.94 0.1940     2      1           3\n",
       "30    3          0.42 0.4242 0.77 0.2985     0      2           2\n",
       "⋮     ⋮          ⋮    ⋮      ⋮    ⋮         ⋮      ⋮          ⋮  \n",
       "17350 2          0.24 0.2121 0.44 0.2985    12     113        125\n",
       "17351 1          0.34 0.3636 0.61 0.0000    16      86        102\n",
       "17352 1          0.22 0.1970 0.47 0.3284     9      63         72\n",
       "17353 1          0.20 0.2121 0.51 0.1642     5      42         47\n",
       "17354 1          0.20 0.1970 0.55 0.1940     6      30         36\n",
       "17355 1          0.20 0.1970 0.51 0.2239    10      39         49\n",
       "17356 1          0.18 0.1818 0.55 0.1940     4      30         34\n",
       "17357 1          0.18 0.1818 0.55 0.1940     6      13         19\n",
       "17358 1          0.16 0.1667 0.59 0.1642     3       8         11\n",
       "17359 1          0.16 0.1818 0.59 0.1045     0       1          1\n",
       "17360 1          0.14 0.1667 0.69 0.1045     0       3          3\n",
       "17361 1          0.16 0.1515 0.64 0.1940     0       9          9\n",
       "17362 1          0.16 0.1667 0.64 0.1642     0      40         40\n",
       "17363 1          0.16 0.1818 0.64 0.1343     2      83         85\n",
       "17364 1          0.14 0.1515 0.69 0.1343     9     187        196\n",
       "17365 2          0.18 0.2121 0.64 0.1045    13     144        157\n",
       "17366 2          0.20 0.2121 0.69 0.1343    33      87        120\n",
       "17367 2          0.22 0.2273 0.60 0.1940    43     114        157\n",
       "17368 2          0.24 0.2273 0.56 0.1940    52     172        224\n",
       "17369 2          0.26 0.2576 0.44 0.1642    38     165        203\n",
       "17370 2          0.28 0.2727 0.45 0.2239    62     185        247\n",
       "17371 2          0.28 0.2879 0.45 0.1343    69     246        315\n",
       "17372 2          0.26 0.2576 0.48 0.1940    30     184        214\n",
       "17373 2          0.26 0.2879 0.48 0.0896    14     150        164\n",
       "17374 2          0.26 0.2727 0.48 0.1343    10     112        122\n",
       "17375 2          0.26 0.2576 0.60 0.1642    11     108        119\n",
       "17376 2          0.26 0.2576 0.60 0.1642     8      81         89\n",
       "17377 1          0.26 0.2576 0.60 0.1642     7      83         90\n",
       "17378 1          0.26 0.2727 0.56 0.1343    13      48         61\n",
       "17379 1          0.26 0.2727 0.65 0.1343    12      37         49"
      ]
     },
     "metadata": {},
     "output_type": "display_data"
    },
    {
     "data": {
      "text/html": [
       "TRUE"
      ],
      "text/latex": [
       "TRUE"
      ],
      "text/markdown": [
       "TRUE"
      ],
      "text/plain": [
       "[1] TRUE"
      ]
     },
     "metadata": {},
     "output_type": "display_data"
    }
   ],
   "source": [
    "bike_df <- read.csv(file = \"hour.csv\")\n",
    "#evaluate if bike_df is dataframe and coerce if not\n",
    "as.data.frame(bike_df)\n",
    "#check if dataframe\n",
    "is.data.frame(bike_df)\n"
   ]
  },
  {
   "cell_type": "code",
   "execution_count": 47,
   "metadata": {
    "vscode": {
     "languageId": "r"
    }
   },
   "outputs": [
    {
     "data": {
      "text/html": [
       "<table class=\"dataframe\">\n",
       "<caption>A data.frame: 10 × 17</caption>\n",
       "<thead>\n",
       "\t<tr><th></th><th scope=col>instant</th><th scope=col>dteday</th><th scope=col>season</th><th scope=col>yr</th><th scope=col>mnth</th><th scope=col>hr</th><th scope=col>holiday</th><th scope=col>weekday</th><th scope=col>workingday</th><th scope=col>weathersit</th><th scope=col>temp</th><th scope=col>atemp</th><th scope=col>hum</th><th scope=col>windspeed</th><th scope=col>casual</th><th scope=col>registered</th><th scope=col>cnt</th></tr>\n",
       "\t<tr><th></th><th scope=col>&lt;int&gt;</th><th scope=col>&lt;fct&gt;</th><th scope=col>&lt;int&gt;</th><th scope=col>&lt;int&gt;</th><th scope=col>&lt;int&gt;</th><th scope=col>&lt;int&gt;</th><th scope=col>&lt;int&gt;</th><th scope=col>&lt;int&gt;</th><th scope=col>&lt;int&gt;</th><th scope=col>&lt;int&gt;</th><th scope=col>&lt;dbl&gt;</th><th scope=col>&lt;dbl&gt;</th><th scope=col>&lt;dbl&gt;</th><th scope=col>&lt;dbl&gt;</th><th scope=col>&lt;int&gt;</th><th scope=col>&lt;int&gt;</th><th scope=col>&lt;int&gt;</th></tr>\n",
       "</thead>\n",
       "<tbody>\n",
       "\t<tr><th scope=row>1</th><td> 1</td><td>2011-01-01</td><td>1</td><td>0</td><td>1</td><td>0</td><td>0</td><td>6</td><td>0</td><td>1</td><td>0.24</td><td>0.2879</td><td>0.81</td><td>0.0000</td><td>3</td><td>13</td><td>16</td></tr>\n",
       "\t<tr><th scope=row>2</th><td> 2</td><td>2011-01-01</td><td>1</td><td>0</td><td>1</td><td>1</td><td>0</td><td>6</td><td>0</td><td>1</td><td>0.22</td><td>0.2727</td><td>0.80</td><td>0.0000</td><td>8</td><td>32</td><td>40</td></tr>\n",
       "\t<tr><th scope=row>3</th><td> 3</td><td>2011-01-01</td><td>1</td><td>0</td><td>1</td><td>2</td><td>0</td><td>6</td><td>0</td><td>1</td><td>0.22</td><td>0.2727</td><td>0.80</td><td>0.0000</td><td>5</td><td>27</td><td>32</td></tr>\n",
       "\t<tr><th scope=row>4</th><td> 4</td><td>2011-01-01</td><td>1</td><td>0</td><td>1</td><td>3</td><td>0</td><td>6</td><td>0</td><td>1</td><td>0.24</td><td>0.2879</td><td>0.75</td><td>0.0000</td><td>3</td><td>10</td><td>13</td></tr>\n",
       "\t<tr><th scope=row>5</th><td> 5</td><td>2011-01-01</td><td>1</td><td>0</td><td>1</td><td>4</td><td>0</td><td>6</td><td>0</td><td>1</td><td>0.24</td><td>0.2879</td><td>0.75</td><td>0.0000</td><td>0</td><td> 1</td><td> 1</td></tr>\n",
       "\t<tr><th scope=row>6</th><td> 6</td><td>2011-01-01</td><td>1</td><td>0</td><td>1</td><td>5</td><td>0</td><td>6</td><td>0</td><td>2</td><td>0.24</td><td>0.2576</td><td>0.75</td><td>0.0896</td><td>0</td><td> 1</td><td> 1</td></tr>\n",
       "\t<tr><th scope=row>7</th><td> 7</td><td>2011-01-01</td><td>1</td><td>0</td><td>1</td><td>6</td><td>0</td><td>6</td><td>0</td><td>1</td><td>0.22</td><td>0.2727</td><td>0.80</td><td>0.0000</td><td>2</td><td> 0</td><td> 2</td></tr>\n",
       "\t<tr><th scope=row>8</th><td> 8</td><td>2011-01-01</td><td>1</td><td>0</td><td>1</td><td>7</td><td>0</td><td>6</td><td>0</td><td>1</td><td>0.20</td><td>0.2576</td><td>0.86</td><td>0.0000</td><td>1</td><td> 2</td><td> 3</td></tr>\n",
       "\t<tr><th scope=row>9</th><td> 9</td><td>2011-01-01</td><td>1</td><td>0</td><td>1</td><td>8</td><td>0</td><td>6</td><td>0</td><td>1</td><td>0.24</td><td>0.2879</td><td>0.75</td><td>0.0000</td><td>1</td><td> 7</td><td> 8</td></tr>\n",
       "\t<tr><th scope=row>10</th><td>10</td><td>2011-01-01</td><td>1</td><td>0</td><td>1</td><td>9</td><td>0</td><td>6</td><td>0</td><td>1</td><td>0.32</td><td>0.3485</td><td>0.76</td><td>0.0000</td><td>8</td><td> 6</td><td>14</td></tr>\n",
       "</tbody>\n",
       "</table>\n"
      ],
      "text/latex": [
       "A data.frame: 10 × 17\n",
       "\\begin{tabular}{r|lllllllllllllllll}\n",
       "  & instant & dteday & season & yr & mnth & hr & holiday & weekday & workingday & weathersit & temp & atemp & hum & windspeed & casual & registered & cnt\\\\\n",
       "  & <int> & <fct> & <int> & <int> & <int> & <int> & <int> & <int> & <int> & <int> & <dbl> & <dbl> & <dbl> & <dbl> & <int> & <int> & <int>\\\\\n",
       "\\hline\n",
       "\t1 &  1 & 2011-01-01 & 1 & 0 & 1 & 0 & 0 & 6 & 0 & 1 & 0.24 & 0.2879 & 0.81 & 0.0000 & 3 & 13 & 16\\\\\n",
       "\t2 &  2 & 2011-01-01 & 1 & 0 & 1 & 1 & 0 & 6 & 0 & 1 & 0.22 & 0.2727 & 0.80 & 0.0000 & 8 & 32 & 40\\\\\n",
       "\t3 &  3 & 2011-01-01 & 1 & 0 & 1 & 2 & 0 & 6 & 0 & 1 & 0.22 & 0.2727 & 0.80 & 0.0000 & 5 & 27 & 32\\\\\n",
       "\t4 &  4 & 2011-01-01 & 1 & 0 & 1 & 3 & 0 & 6 & 0 & 1 & 0.24 & 0.2879 & 0.75 & 0.0000 & 3 & 10 & 13\\\\\n",
       "\t5 &  5 & 2011-01-01 & 1 & 0 & 1 & 4 & 0 & 6 & 0 & 1 & 0.24 & 0.2879 & 0.75 & 0.0000 & 0 &  1 &  1\\\\\n",
       "\t6 &  6 & 2011-01-01 & 1 & 0 & 1 & 5 & 0 & 6 & 0 & 2 & 0.24 & 0.2576 & 0.75 & 0.0896 & 0 &  1 &  1\\\\\n",
       "\t7 &  7 & 2011-01-01 & 1 & 0 & 1 & 6 & 0 & 6 & 0 & 1 & 0.22 & 0.2727 & 0.80 & 0.0000 & 2 &  0 &  2\\\\\n",
       "\t8 &  8 & 2011-01-01 & 1 & 0 & 1 & 7 & 0 & 6 & 0 & 1 & 0.20 & 0.2576 & 0.86 & 0.0000 & 1 &  2 &  3\\\\\n",
       "\t9 &  9 & 2011-01-01 & 1 & 0 & 1 & 8 & 0 & 6 & 0 & 1 & 0.24 & 0.2879 & 0.75 & 0.0000 & 1 &  7 &  8\\\\\n",
       "\t10 & 10 & 2011-01-01 & 1 & 0 & 1 & 9 & 0 & 6 & 0 & 1 & 0.32 & 0.3485 & 0.76 & 0.0000 & 8 &  6 & 14\\\\\n",
       "\\end{tabular}\n"
      ],
      "text/markdown": [
       "\n",
       "A data.frame: 10 × 17\n",
       "\n",
       "| <!--/--> | instant &lt;int&gt; | dteday &lt;fct&gt; | season &lt;int&gt; | yr &lt;int&gt; | mnth &lt;int&gt; | hr &lt;int&gt; | holiday &lt;int&gt; | weekday &lt;int&gt; | workingday &lt;int&gt; | weathersit &lt;int&gt; | temp &lt;dbl&gt; | atemp &lt;dbl&gt; | hum &lt;dbl&gt; | windspeed &lt;dbl&gt; | casual &lt;int&gt; | registered &lt;int&gt; | cnt &lt;int&gt; |\n",
       "|---|---|---|---|---|---|---|---|---|---|---|---|---|---|---|---|---|---|\n",
       "| 1 |  1 | 2011-01-01 | 1 | 0 | 1 | 0 | 0 | 6 | 0 | 1 | 0.24 | 0.2879 | 0.81 | 0.0000 | 3 | 13 | 16 |\n",
       "| 2 |  2 | 2011-01-01 | 1 | 0 | 1 | 1 | 0 | 6 | 0 | 1 | 0.22 | 0.2727 | 0.80 | 0.0000 | 8 | 32 | 40 |\n",
       "| 3 |  3 | 2011-01-01 | 1 | 0 | 1 | 2 | 0 | 6 | 0 | 1 | 0.22 | 0.2727 | 0.80 | 0.0000 | 5 | 27 | 32 |\n",
       "| 4 |  4 | 2011-01-01 | 1 | 0 | 1 | 3 | 0 | 6 | 0 | 1 | 0.24 | 0.2879 | 0.75 | 0.0000 | 3 | 10 | 13 |\n",
       "| 5 |  5 | 2011-01-01 | 1 | 0 | 1 | 4 | 0 | 6 | 0 | 1 | 0.24 | 0.2879 | 0.75 | 0.0000 | 0 |  1 |  1 |\n",
       "| 6 |  6 | 2011-01-01 | 1 | 0 | 1 | 5 | 0 | 6 | 0 | 2 | 0.24 | 0.2576 | 0.75 | 0.0896 | 0 |  1 |  1 |\n",
       "| 7 |  7 | 2011-01-01 | 1 | 0 | 1 | 6 | 0 | 6 | 0 | 1 | 0.22 | 0.2727 | 0.80 | 0.0000 | 2 |  0 |  2 |\n",
       "| 8 |  8 | 2011-01-01 | 1 | 0 | 1 | 7 | 0 | 6 | 0 | 1 | 0.20 | 0.2576 | 0.86 | 0.0000 | 1 |  2 |  3 |\n",
       "| 9 |  9 | 2011-01-01 | 1 | 0 | 1 | 8 | 0 | 6 | 0 | 1 | 0.24 | 0.2879 | 0.75 | 0.0000 | 1 |  7 |  8 |\n",
       "| 10 | 10 | 2011-01-01 | 1 | 0 | 1 | 9 | 0 | 6 | 0 | 1 | 0.32 | 0.3485 | 0.76 | 0.0000 | 8 |  6 | 14 |\n",
       "\n"
      ],
      "text/plain": [
       "   instant dteday     season yr mnth hr holiday weekday workingday weathersit\n",
       "1   1      2011-01-01 1      0  1    0  0       6       0          1         \n",
       "2   2      2011-01-01 1      0  1    1  0       6       0          1         \n",
       "3   3      2011-01-01 1      0  1    2  0       6       0          1         \n",
       "4   4      2011-01-01 1      0  1    3  0       6       0          1         \n",
       "5   5      2011-01-01 1      0  1    4  0       6       0          1         \n",
       "6   6      2011-01-01 1      0  1    5  0       6       0          2         \n",
       "7   7      2011-01-01 1      0  1    6  0       6       0          1         \n",
       "8   8      2011-01-01 1      0  1    7  0       6       0          1         \n",
       "9   9      2011-01-01 1      0  1    8  0       6       0          1         \n",
       "10 10      2011-01-01 1      0  1    9  0       6       0          1         \n",
       "   temp atemp  hum  windspeed casual registered cnt\n",
       "1  0.24 0.2879 0.81 0.0000    3      13         16 \n",
       "2  0.22 0.2727 0.80 0.0000    8      32         40 \n",
       "3  0.22 0.2727 0.80 0.0000    5      27         32 \n",
       "4  0.24 0.2879 0.75 0.0000    3      10         13 \n",
       "5  0.24 0.2879 0.75 0.0000    0       1          1 \n",
       "6  0.24 0.2576 0.75 0.0896    0       1          1 \n",
       "7  0.22 0.2727 0.80 0.0000    2       0          2 \n",
       "8  0.20 0.2576 0.86 0.0000    1       2          3 \n",
       "9  0.24 0.2879 0.75 0.0000    1       7          8 \n",
       "10 0.32 0.3485 0.76 0.0000    8       6         14 "
      ]
     },
     "metadata": {},
     "output_type": "display_data"
    },
    {
     "data": {
      "text/html": [
       "17"
      ],
      "text/latex": [
       "17"
      ],
      "text/markdown": [
       "17"
      ],
      "text/plain": [
       "[1] 17"
      ]
     },
     "metadata": {},
     "output_type": "display_data"
    },
    {
     "data": {
      "text/html": [
       "<style>\n",
       ".list-inline {list-style: none; margin:0; padding: 0}\n",
       ".list-inline>li {display: inline-block}\n",
       ".list-inline>li:not(:last-child)::after {content: \"\\00b7\"; padding: 0 .5ex}\n",
       "</style>\n",
       "<ol class=list-inline><li>'instant'</li><li>'dteday'</li><li>'season'</li><li>'yr'</li><li>'mnth'</li><li>'hr'</li><li>'holiday'</li><li>'weekday'</li><li>'workingday'</li><li>'weathersit'</li><li>'temp'</li><li>'atemp'</li><li>'hum'</li><li>'windspeed'</li><li>'casual'</li><li>'registered'</li><li>'cnt'</li></ol>\n"
      ],
      "text/latex": [
       "\\begin{enumerate*}\n",
       "\\item 'instant'\n",
       "\\item 'dteday'\n",
       "\\item 'season'\n",
       "\\item 'yr'\n",
       "\\item 'mnth'\n",
       "\\item 'hr'\n",
       "\\item 'holiday'\n",
       "\\item 'weekday'\n",
       "\\item 'workingday'\n",
       "\\item 'weathersit'\n",
       "\\item 'temp'\n",
       "\\item 'atemp'\n",
       "\\item 'hum'\n",
       "\\item 'windspeed'\n",
       "\\item 'casual'\n",
       "\\item 'registered'\n",
       "\\item 'cnt'\n",
       "\\end{enumerate*}\n"
      ],
      "text/markdown": [
       "1. 'instant'\n",
       "2. 'dteday'\n",
       "3. 'season'\n",
       "4. 'yr'\n",
       "5. 'mnth'\n",
       "6. 'hr'\n",
       "7. 'holiday'\n",
       "8. 'weekday'\n",
       "9. 'workingday'\n",
       "10. 'weathersit'\n",
       "11. 'temp'\n",
       "12. 'atemp'\n",
       "13. 'hum'\n",
       "14. 'windspeed'\n",
       "15. 'casual'\n",
       "16. 'registered'\n",
       "17. 'cnt'\n",
       "\n",
       "\n"
      ],
      "text/plain": [
       " [1] \"instant\"    \"dteday\"     \"season\"     \"yr\"         \"mnth\"      \n",
       " [6] \"hr\"         \"holiday\"    \"weekday\"    \"workingday\" \"weathersit\"\n",
       "[11] \"temp\"       \"atemp\"      \"hum\"        \"windspeed\"  \"casual\"    \n",
       "[16] \"registered\" \"cnt\"       "
      ]
     },
     "metadata": {},
     "output_type": "display_data"
    },
    {
     "data": {
      "text/html": [
       "17379"
      ],
      "text/latex": [
       "17379"
      ],
      "text/markdown": [
       "17379"
      ],
      "text/plain": [
       "[1] 17379"
      ]
     },
     "metadata": {},
     "output_type": "display_data"
    }
   ],
   "source": [
    "#show first 10 rows of bike_df\n",
    "head(bike_df, n=10)\n",
    "#show number of rows\n",
    "ncol(bike_df)\n",
    "#show column names\n",
    "colnames(bike_df)\n",
    "#counts the number of rows\n",
    "nrow(bike_df)"
   ]
  },
  {
   "cell_type": "code",
   "execution_count": 48,
   "metadata": {
    "vscode": {
     "languageId": "r"
    }
   },
   "outputs": [
    {
     "data": {
      "image/png": "[encoded data removed]",
      "text/plain": [
       "plot without title"
      ]
     },
     "metadata": {
      "image/png": {
       "height": 420,
       "width": 420
      }
     },
     "output_type": "display_data"
    }
   ],
   "source": [
    "#show empty column names\n",
    "# Check missing data\n",
    "vis_miss(bike_df)"
   ]
  },
  {
   "cell_type": "code",
   "execution_count": 49,
   "metadata": {
    "vscode": {
     "languageId": "r"
    }
   },
   "outputs": [
    {
     "data": {
      "text/plain": [
       "    instant             dteday          season            yr        \n",
       " Min.   :    1   2011-01-01:   24   Min.   :1.000   Min.   :0.0000  \n",
       " 1st Qu.: 4346   2011-01-08:   24   1st Qu.:2.000   1st Qu.:0.0000  \n",
       " Median : 8690   2011-01-09:   24   Median :3.000   Median :1.0000  \n",
       " Mean   : 8690   2011-01-10:   24   Mean   :2.502   Mean   :0.5026  \n",
       " 3rd Qu.:13034   2011-01-13:   24   3rd Qu.:3.000   3rd Qu.:1.0000  \n",
       " Max.   :17379   2011-01-15:   24   Max.   :4.000   Max.   :1.0000  \n",
       "                 (Other)   :17235                                   \n",
       "      mnth              hr           holiday           weekday     \n",
       " Min.   : 1.000   Min.   : 0.00   Min.   :0.00000   Min.   :0.000  \n",
       " 1st Qu.: 4.000   1st Qu.: 6.00   1st Qu.:0.00000   1st Qu.:1.000  \n",
       " Median : 7.000   Median :12.00   Median :0.00000   Median :3.000  \n",
       " Mean   : 6.538   Mean   :11.55   Mean   :0.02877   Mean   :3.004  \n",
       " 3rd Qu.:10.000   3rd Qu.:18.00   3rd Qu.:0.00000   3rd Qu.:5.000  \n",
       " Max.   :12.000   Max.   :23.00   Max.   :1.00000   Max.   :6.000  \n",
       "                                                                   \n",
       "   workingday       weathersit         temp           atemp       \n",
       " Min.   :0.0000   Min.   :1.000   Min.   :0.020   Min.   :0.0000  \n",
       " 1st Qu.:0.0000   1st Qu.:1.000   1st Qu.:0.340   1st Qu.:0.3333  \n",
       " Median :1.0000   Median :1.000   Median :0.500   Median :0.4848  \n",
       " Mean   :0.6827   Mean   :1.425   Mean   :0.497   Mean   :0.4758  \n",
       " 3rd Qu.:1.0000   3rd Qu.:2.000   3rd Qu.:0.660   3rd Qu.:0.6212  \n",
       " Max.   :1.0000   Max.   :4.000   Max.   :1.000   Max.   :1.0000  \n",
       "                                                                  \n",
       "      hum           windspeed          casual         registered   \n",
       " Min.   :0.0000   Min.   :0.0000   Min.   :  0.00   Min.   :  0.0  \n",
       " 1st Qu.:0.4800   1st Qu.:0.1045   1st Qu.:  4.00   1st Qu.: 34.0  \n",
       " Median :0.6300   Median :0.1940   Median : 17.00   Median :115.0  \n",
       " Mean   :0.6272   Mean   :0.1901   Mean   : 35.68   Mean   :153.8  \n",
       " 3rd Qu.:0.7800   3rd Qu.:0.2537   3rd Qu.: 48.00   3rd Qu.:220.0  \n",
       " Max.   :1.0000   Max.   :0.8507   Max.   :367.00   Max.   :886.0  \n",
       "                                                                   \n",
       "      cnt       \n",
       " Min.   :  1.0  \n",
       " 1st Qu.: 40.0  \n",
       " Median :142.0  \n",
       " Mean   :189.5  \n",
       " 3rd Qu.:281.0  \n",
       " Max.   :977.0  \n",
       "                "
      ]
     },
     "metadata": {},
     "output_type": "display_data"
    },
    {
     "data": {
      "text/html": [
       "<style>\n",
       ".dl-inline {width: auto; margin:0; padding: 0}\n",
       ".dl-inline>dt, .dl-inline>dd {float: none; width: auto; display: inline-block}\n",
       ".dl-inline>dt::after {content: \":\\0020\"; padding-right: .5ex}\n",
       ".dl-inline>dt:not(:first-of-type) {padding-left: .5ex}\n",
       "</style><dl class=dl-inline><dt>instant</dt><dd>'integer'</dd><dt>dteday</dt><dd>'factor'</dd><dt>season</dt><dd>'integer'</dd><dt>yr</dt><dd>'integer'</dd><dt>mnth</dt><dd>'integer'</dd><dt>hr</dt><dd>'integer'</dd><dt>holiday</dt><dd>'integer'</dd><dt>weekday</dt><dd>'integer'</dd><dt>workingday</dt><dd>'integer'</dd><dt>weathersit</dt><dd>'integer'</dd><dt>temp</dt><dd>'numeric'</dd><dt>atemp</dt><dd>'numeric'</dd><dt>hum</dt><dd>'numeric'</dd><dt>windspeed</dt><dd>'numeric'</dd><dt>casual</dt><dd>'integer'</dd><dt>registered</dt><dd>'integer'</dd><dt>cnt</dt><dd>'integer'</dd></dl>\n"
      ],
      "text/latex": [
       "\\begin{description*}\n",
       "\\item[instant] 'integer'\n",
       "\\item[dteday] 'factor'\n",
       "\\item[season] 'integer'\n",
       "\\item[yr] 'integer'\n",
       "\\item[mnth] 'integer'\n",
       "\\item[hr] 'integer'\n",
       "\\item[holiday] 'integer'\n",
       "\\item[weekday] 'integer'\n",
       "\\item[workingday] 'integer'\n",
       "\\item[weathersit] 'integer'\n",
       "\\item[temp] 'numeric'\n",
       "\\item[atemp] 'numeric'\n",
       "\\item[hum] 'numeric'\n",
       "\\item[windspeed] 'numeric'\n",
       "\\item[casual] 'integer'\n",
       "\\item[registered] 'integer'\n",
       "\\item[cnt] 'integer'\n",
       "\\end{description*}\n"
      ],
      "text/markdown": [
       "instant\n",
       ":   'integer'dteday\n",
       ":   'factor'season\n",
       ":   'integer'yr\n",
       ":   'integer'mnth\n",
       ":   'integer'hr\n",
       ":   'integer'holiday\n",
       ":   'integer'weekday\n",
       ":   'integer'workingday\n",
       ":   'integer'weathersit\n",
       ":   'integer'temp\n",
       ":   'numeric'atemp\n",
       ":   'numeric'hum\n",
       ":   'numeric'windspeed\n",
       ":   'numeric'casual\n",
       ":   'integer'registered\n",
       ":   'integer'cnt\n",
       ":   'integer'\n",
       "\n"
      ],
      "text/plain": [
       "   instant     dteday     season         yr       mnth         hr    holiday \n",
       " \"integer\"   \"factor\"  \"integer\"  \"integer\"  \"integer\"  \"integer\"  \"integer\" \n",
       "   weekday workingday weathersit       temp      atemp        hum  windspeed \n",
       " \"integer\"  \"integer\"  \"integer\"  \"numeric\"  \"numeric\"  \"numeric\"  \"numeric\" \n",
       "    casual registered        cnt \n",
       " \"integer\"  \"integer\"  \"integer\" "
      ]
     },
     "metadata": {},
     "output_type": "display_data"
    },
    {
     "name": "stdout",
     "output_type": "stream",
     "text": [
      "'data.frame':\t17379 obs. of  17 variables:\n",
      " $ instant   : int  1 2 3 4 5 6 7 8 9 10 ...\n",
      " $ dteday    : Factor w/ 731 levels \"2011-01-01\",\"2011-01-02\",..: 1 1 1 1 1 1 1 1 1 1 ...\n",
      " $ season    : int  1 1 1 1 1 1 1 1 1 1 ...\n",
      " $ yr        : int  0 0 0 0 0 0 0 0 0 0 ...\n",
      " $ mnth      : int  1 1 1 1 1 1 1 1 1 1 ...\n",
      " $ hr        : int  0 1 2 3 4 5 6 7 8 9 ...\n",
      " $ holiday   : int  0 0 0 0 0 0 0 0 0 0 ...\n",
      " $ weekday   : int  6 6 6 6 6 6 6 6 6 6 ...\n",
      " $ workingday: int  0 0 0 0 0 0 0 0 0 0 ...\n",
      " $ weathersit: int  1 1 1 1 1 2 1 1 1 1 ...\n",
      " $ temp      : num  0.24 0.22 0.22 0.24 0.24 0.24 0.22 0.2 0.24 0.32 ...\n",
      " $ atemp     : num  0.288 0.273 0.273 0.288 0.288 ...\n",
      " $ hum       : num  0.81 0.8 0.8 0.75 0.75 0.75 0.8 0.86 0.75 0.76 ...\n",
      " $ windspeed : num  0 0 0 0 0 0.0896 0 0 0 0 ...\n",
      " $ casual    : int  3 8 5 3 0 0 2 1 1 8 ...\n",
      " $ registered: int  13 32 27 10 1 1 0 2 7 6 ...\n",
      " $ cnt       : int  16 40 32 13 1 1 2 3 8 14 ...\n"
     ]
    }
   ],
   "source": [
    "#summary\n",
    "summary(bike_df)\n",
    "#show column types\n",
    "sapply(bike_df, class)\n",
    "str(bike_df)\n"
   ]
  },
  {
   "cell_type": "markdown",
   "metadata": {
    "tags": []
   },
   "source": [
    "### Task (b): working on rows (10 marks)\n",
    "\n",
    "\n",
    "Working on `bike_df`, show that you can operate on rows: arranging them, getting the top _n_ according to some variable of your choice, filtering them (eventually using your own functions).\n",
    "\n",
    "_hint_ useful functions: `arrange()`, `top_n()`, `filter()`  \n",
    "_hint_ to define a function: `myfunction <- function(myargument,anotherargument) { bodyofthefunction }`"
   ]
  },
  {
   "cell_type": "code",
   "execution_count": 6,
   "metadata": {
    "vscode": {
     "languageId": "r"
    }
   },
   "outputs": [
    {
     "data": {
      "text/html": [
       "<table class=\"dataframe\">\n",
       "<caption>A data.frame: 21 × 17</caption>\n",
       "<thead>\n",
       "\t<tr><th scope=col>instant</th><th scope=col>dteday</th><th scope=col>season</th><th scope=col>yr</th><th scope=col>mnth</th><th scope=col>hr</th><th scope=col>holiday</th><th scope=col>weekday</th><th scope=col>workingday</th><th scope=col>weathersit</th><th scope=col>temp</th><th scope=col>atemp</th><th scope=col>hum</th><th scope=col>windspeed</th><th scope=col>casual</th><th scope=col>registered</th><th scope=col>cnt</th></tr>\n",
       "\t<tr><th scope=col>&lt;int&gt;</th><th scope=col>&lt;fct&gt;</th><th scope=col>&lt;int&gt;</th><th scope=col>&lt;int&gt;</th><th scope=col>&lt;int&gt;</th><th scope=col>&lt;int&gt;</th><th scope=col>&lt;int&gt;</th><th scope=col>&lt;int&gt;</th><th scope=col>&lt;int&gt;</th><th scope=col>&lt;int&gt;</th><th scope=col>&lt;dbl&gt;</th><th scope=col>&lt;dbl&gt;</th><th scope=col>&lt;dbl&gt;</th><th scope=col>&lt;dbl&gt;</th><th scope=col>&lt;int&gt;</th><th scope=col>&lt;int&gt;</th><th scope=col>&lt;int&gt;</th></tr>\n",
       "</thead>\n",
       "<tbody>\n",
       "\t<tr><td>10623</td><td>2012-03-23</td><td>2</td><td>1</td><td> 3</td><td>17</td><td>0</td><td>5</td><td>1</td><td>2</td><td>0.72</td><td>0.6515</td><td>0.42</td><td>0.1642</td><td>264</td><td>693</td><td>957</td></tr>\n",
       "\t<tr><td>12901</td><td>2012-06-26</td><td>3</td><td>1</td><td> 6</td><td>17</td><td>0</td><td>2</td><td>1</td><td>1</td><td>0.72</td><td>0.6515</td><td>0.28</td><td>0.4179</td><td>104</td><td>796</td><td>900</td></tr>\n",
       "\t<tr><td>13597</td><td>2012-07-25</td><td>3</td><td>1</td><td> 7</td><td>17</td><td>0</td><td>3</td><td>1</td><td>1</td><td>0.80</td><td>0.6970</td><td>0.31</td><td>0.0000</td><td>130</td><td>783</td><td>913</td></tr>\n",
       "\t<tr><td>14294</td><td>2012-08-23</td><td>3</td><td>1</td><td> 8</td><td>18</td><td>0</td><td>4</td><td>1</td><td>1</td><td>0.74</td><td>0.6667</td><td>0.48</td><td>0.2239</td><td>130</td><td>811</td><td>941</td></tr>\n",
       "\t<tr><td>14726</td><td>2012-09-10</td><td>3</td><td>1</td><td> 9</td><td>18</td><td>0</td><td>1</td><td>1</td><td>1</td><td>0.62</td><td>0.6212</td><td>0.35</td><td>0.2985</td><td>111</td><td>857</td><td>968</td></tr>\n",
       "\t<tr><td>14749</td><td>2012-09-11</td><td>3</td><td>1</td><td> 9</td><td>17</td><td>0</td><td>2</td><td>1</td><td>1</td><td>0.70</td><td>0.6364</td><td>0.28</td><td>0.0000</td><td>168</td><td>802</td><td>970</td></tr>\n",
       "\t<tr><td>14773</td><td>2012-09-12</td><td>3</td><td>1</td><td> 9</td><td>17</td><td>0</td><td>3</td><td>1</td><td>1</td><td>0.70</td><td>0.6364</td><td>0.41</td><td>0.2985</td><td>114</td><td>811</td><td>925</td></tr>\n",
       "\t<tr><td>14774</td><td>2012-09-12</td><td>3</td><td>1</td><td> 9</td><td>18</td><td>0</td><td>3</td><td>1</td><td>1</td><td>0.66</td><td>0.6212</td><td>0.44</td><td>0.2537</td><td> 91</td><td>886</td><td>977</td></tr>\n",
       "\t<tr><td>14965</td><td>2012-09-20</td><td>3</td><td>1</td><td> 9</td><td>17</td><td>0</td><td>4</td><td>1</td><td>1</td><td>0.64</td><td>0.6212</td><td>0.50</td><td>0.2239</td><td> 91</td><td>885</td><td>976</td></tr>\n",
       "\t<tr><td>14966</td><td>2012-09-20</td><td>3</td><td>1</td><td> 9</td><td>18</td><td>0</td><td>4</td><td>1</td><td>1</td><td>0.60</td><td>0.6212</td><td>0.56</td><td>0.2537</td><td>119</td><td>781</td><td>900</td></tr>\n",
       "\t<tr><td>15085</td><td>2012-09-25</td><td>4</td><td>1</td><td> 9</td><td>17</td><td>0</td><td>2</td><td>1</td><td>1</td><td>0.66</td><td>0.6212</td><td>0.39</td><td>0.2836</td><td>107</td><td>860</td><td>967</td></tr>\n",
       "\t<tr><td>15109</td><td>2012-09-26</td><td>4</td><td>1</td><td> 9</td><td>17</td><td>0</td><td>3</td><td>1</td><td>1</td><td>0.74</td><td>0.6667</td><td>0.48</td><td>0.2985</td><td> 77</td><td>876</td><td>953</td></tr>\n",
       "\t<tr><td>15133</td><td>2012-09-27</td><td>4</td><td>1</td><td> 9</td><td>17</td><td>0</td><td>4</td><td>1</td><td>2</td><td>0.66</td><td>0.6212</td><td>0.69</td><td>0.2985</td><td> 87</td><td>818</td><td>905</td></tr>\n",
       "\t<tr><td>15277</td><td>2012-10-03</td><td>4</td><td>1</td><td>10</td><td>17</td><td>0</td><td>3</td><td>1</td><td>1</td><td>0.70</td><td>0.6515</td><td>0.65</td><td>0.0000</td><td> 84</td><td>833</td><td>917</td></tr>\n",
       "\t<tr><td>15301</td><td>2012-10-04</td><td>4</td><td>1</td><td>10</td><td>17</td><td>0</td><td>4</td><td>1</td><td>1</td><td>0.70</td><td>0.6515</td><td>0.51</td><td>0.2239</td><td>112</td><td>789</td><td>901</td></tr>\n",
       "\t<tr><td>15325</td><td>2012-10-05</td><td>4</td><td>1</td><td>10</td><td>17</td><td>0</td><td>5</td><td>1</td><td>1</td><td>0.70</td><td>0.6364</td><td>0.42</td><td>0.1642</td><td>158</td><td>742</td><td>900</td></tr>\n",
       "\t<tr><td>15445</td><td>2012-10-10</td><td>4</td><td>1</td><td>10</td><td>17</td><td>0</td><td>3</td><td>1</td><td>1</td><td>0.58</td><td>0.5455</td><td>0.43</td><td>0.2239</td><td> 91</td><td>857</td><td>948</td></tr>\n",
       "\t<tr><td>15589</td><td>2012-10-16</td><td>4</td><td>1</td><td>10</td><td>17</td><td>0</td><td>2</td><td>1</td><td>1</td><td>0.52</td><td>0.5000</td><td>0.39</td><td>0.1940</td><td>104</td><td>839</td><td>943</td></tr>\n",
       "\t<tr><td>15733</td><td>2012-10-22</td><td>4</td><td>1</td><td>10</td><td>17</td><td>0</td><td>1</td><td>1</td><td>1</td><td>0.62</td><td>0.6212</td><td>0.33</td><td>0.1045</td><td> 84</td><td>838</td><td>922</td></tr>\n",
       "\t<tr><td>15757</td><td>2012-10-23</td><td>4</td><td>1</td><td>10</td><td>17</td><td>0</td><td>2</td><td>1</td><td>1</td><td>0.68</td><td>0.6364</td><td>0.41</td><td>0.0000</td><td> 67</td><td>871</td><td>938</td></tr>\n",
       "\t<tr><td>15781</td><td>2012-10-24</td><td>4</td><td>1</td><td>10</td><td>17</td><td>0</td><td>3</td><td>1</td><td>1</td><td>0.66</td><td>0.6212</td><td>0.47</td><td>0.0000</td><td> 87</td><td>876</td><td>963</td></tr>\n",
       "</tbody>\n",
       "</table>\n"
      ],
      "text/latex": [
       "A data.frame: 21 × 17\n",
       "\\begin{tabular}{lllllllllllllllll}\n",
       " instant & dteday & season & yr & mnth & hr & holiday & weekday & workingday & weathersit & temp & atemp & hum & windspeed & casual & registered & cnt\\\\\n",
       " <int> & <fct> & <int> & <int> & <int> & <int> & <int> & <int> & <int> & <int> & <dbl> & <dbl> & <dbl> & <dbl> & <int> & <int> & <int>\\\\\n",
       "\\hline\n",
       "\t 10623 & 2012-03-23 & 2 & 1 &  3 & 17 & 0 & 5 & 1 & 2 & 0.72 & 0.6515 & 0.42 & 0.1642 & 264 & 693 & 957\\\\\n",
       "\t 12901 & 2012-06-26 & 3 & 1 &  6 & 17 & 0 & 2 & 1 & 1 & 0.72 & 0.6515 & 0.28 & 0.4179 & 104 & 796 & 900\\\\\n",
       "\t 13597 & 2012-07-25 & 3 & 1 &  7 & 17 & 0 & 3 & 1 & 1 & 0.80 & 0.6970 & 0.31 & 0.0000 & 130 & 783 & 913\\\\\n",
       "\t 14294 & 2012-08-23 & 3 & 1 &  8 & 18 & 0 & 4 & 1 & 1 & 0.74 & 0.6667 & 0.48 & 0.2239 & 130 & 811 & 941\\\\\n",
       "\t 14726 & 2012-09-10 & 3 & 1 &  9 & 18 & 0 & 1 & 1 & 1 & 0.62 & 0.6212 & 0.35 & 0.2985 & 111 & 857 & 968\\\\\n",
       "\t 14749 & 2012-09-11 & 3 & 1 &  9 & 17 & 0 & 2 & 1 & 1 & 0.70 & 0.6364 & 0.28 & 0.0000 & 168 & 802 & 970\\\\\n",
       "\t 14773 & 2012-09-12 & 3 & 1 &  9 & 17 & 0 & 3 & 1 & 1 & 0.70 & 0.6364 & 0.41 & 0.2985 & 114 & 811 & 925\\\\\n",
       "\t 14774 & 2012-09-12 & 3 & 1 &  9 & 18 & 0 & 3 & 1 & 1 & 0.66 & 0.6212 & 0.44 & 0.2537 &  91 & 886 & 977\\\\\n",
       "\t 14965 & 2012-09-20 & 3 & 1 &  9 & 17 & 0 & 4 & 1 & 1 & 0.64 & 0.6212 & 0.50 & 0.2239 &  91 & 885 & 976\\\\\n",
       "\t 14966 & 2012-09-20 & 3 & 1 &  9 & 18 & 0 & 4 & 1 & 1 & 0.60 & 0.6212 & 0.56 & 0.2537 & 119 & 781 & 900\\\\\n",
       "\t 15085 & 2012-09-25 & 4 & 1 &  9 & 17 & 0 & 2 & 1 & 1 & 0.66 & 0.6212 & 0.39 & 0.2836 & 107 & 860 & 967\\\\\n",
       "\t 15109 & 2012-09-26 & 4 & 1 &  9 & 17 & 0 & 3 & 1 & 1 & 0.74 & 0.6667 & 0.48 & 0.2985 &  77 & 876 & 953\\\\\n",
       "\t 15133 & 2012-09-27 & 4 & 1 &  9 & 17 & 0 & 4 & 1 & 2 & 0.66 & 0.6212 & 0.69 & 0.2985 &  87 & 818 & 905\\\\\n",
       "\t 15277 & 2012-10-03 & 4 & 1 & 10 & 17 & 0 & 3 & 1 & 1 & 0.70 & 0.6515 & 0.65 & 0.0000 &  84 & 833 & 917\\\\\n",
       "\t 15301 & 2012-10-04 & 4 & 1 & 10 & 17 & 0 & 4 & 1 & 1 & 0.70 & 0.6515 & 0.51 & 0.2239 & 112 & 789 & 901\\\\\n",
       "\t 15325 & 2012-10-05 & 4 & 1 & 10 & 17 & 0 & 5 & 1 & 1 & 0.70 & 0.6364 & 0.42 & 0.1642 & 158 & 742 & 900\\\\\n",
       "\t 15445 & 2012-10-10 & 4 & 1 & 10 & 17 & 0 & 3 & 1 & 1 & 0.58 & 0.5455 & 0.43 & 0.2239 &  91 & 857 & 948\\\\\n",
       "\t 15589 & 2012-10-16 & 4 & 1 & 10 & 17 & 0 & 2 & 1 & 1 & 0.52 & 0.5000 & 0.39 & 0.1940 & 104 & 839 & 943\\\\\n",
       "\t 15733 & 2012-10-22 & 4 & 1 & 10 & 17 & 0 & 1 & 1 & 1 & 0.62 & 0.6212 & 0.33 & 0.1045 &  84 & 838 & 922\\\\\n",
       "\t 15757 & 2012-10-23 & 4 & 1 & 10 & 17 & 0 & 2 & 1 & 1 & 0.68 & 0.6364 & 0.41 & 0.0000 &  67 & 871 & 938\\\\\n",
       "\t 15781 & 2012-10-24 & 4 & 1 & 10 & 17 & 0 & 3 & 1 & 1 & 0.66 & 0.6212 & 0.47 & 0.0000 &  87 & 876 & 963\\\\\n",
       "\\end{tabular}\n"
      ],
      "text/markdown": [
       "\n",
       "A data.frame: 21 × 17\n",
       "\n",
       "| instant &lt;int&gt; | dteday &lt;fct&gt; | season &lt;int&gt; | yr &lt;int&gt; | mnth &lt;int&gt; | hr &lt;int&gt; | holiday &lt;int&gt; | weekday &lt;int&gt; | workingday &lt;int&gt; | weathersit &lt;int&gt; | temp &lt;dbl&gt; | atemp &lt;dbl&gt; | hum &lt;dbl&gt; | windspeed &lt;dbl&gt; | casual &lt;int&gt; | registered &lt;int&gt; | cnt &lt;int&gt; |\n",
       "|---|---|---|---|---|---|---|---|---|---|---|---|---|---|---|---|---|\n",
       "| 10623 | 2012-03-23 | 2 | 1 |  3 | 17 | 0 | 5 | 1 | 2 | 0.72 | 0.6515 | 0.42 | 0.1642 | 264 | 693 | 957 |\n",
       "| 12901 | 2012-06-26 | 3 | 1 |  6 | 17 | 0 | 2 | 1 | 1 | 0.72 | 0.6515 | 0.28 | 0.4179 | 104 | 796 | 900 |\n",
       "| 13597 | 2012-07-25 | 3 | 1 |  7 | 17 | 0 | 3 | 1 | 1 | 0.80 | 0.6970 | 0.31 | 0.0000 | 130 | 783 | 913 |\n",
       "| 14294 | 2012-08-23 | 3 | 1 |  8 | 18 | 0 | 4 | 1 | 1 | 0.74 | 0.6667 | 0.48 | 0.2239 | 130 | 811 | 941 |\n",
       "| 14726 | 2012-09-10 | 3 | 1 |  9 | 18 | 0 | 1 | 1 | 1 | 0.62 | 0.6212 | 0.35 | 0.2985 | 111 | 857 | 968 |\n",
       "| 14749 | 2012-09-11 | 3 | 1 |  9 | 17 | 0 | 2 | 1 | 1 | 0.70 | 0.6364 | 0.28 | 0.0000 | 168 | 802 | 970 |\n",
       "| 14773 | 2012-09-12 | 3 | 1 |  9 | 17 | 0 | 3 | 1 | 1 | 0.70 | 0.6364 | 0.41 | 0.2985 | 114 | 811 | 925 |\n",
       "| 14774 | 2012-09-12 | 3 | 1 |  9 | 18 | 0 | 3 | 1 | 1 | 0.66 | 0.6212 | 0.44 | 0.2537 |  91 | 886 | 977 |\n",
       "| 14965 | 2012-09-20 | 3 | 1 |  9 | 17 | 0 | 4 | 1 | 1 | 0.64 | 0.6212 | 0.50 | 0.2239 |  91 | 885 | 976 |\n",
       "| 14966 | 2012-09-20 | 3 | 1 |  9 | 18 | 0 | 4 | 1 | 1 | 0.60 | 0.6212 | 0.56 | 0.2537 | 119 | 781 | 900 |\n",
       "| 15085 | 2012-09-25 | 4 | 1 |  9 | 17 | 0 | 2 | 1 | 1 | 0.66 | 0.6212 | 0.39 | 0.2836 | 107 | 860 | 967 |\n",
       "| 15109 | 2012-09-26 | 4 | 1 |  9 | 17 | 0 | 3 | 1 | 1 | 0.74 | 0.6667 | 0.48 | 0.2985 |  77 | 876 | 953 |\n",
       "| 15133 | 2012-09-27 | 4 | 1 |  9 | 17 | 0 | 4 | 1 | 2 | 0.66 | 0.6212 | 0.69 | 0.2985 |  87 | 818 | 905 |\n",
       "| 15277 | 2012-10-03 | 4 | 1 | 10 | 17 | 0 | 3 | 1 | 1 | 0.70 | 0.6515 | 0.65 | 0.0000 |  84 | 833 | 917 |\n",
       "| 15301 | 2012-10-04 | 4 | 1 | 10 | 17 | 0 | 4 | 1 | 1 | 0.70 | 0.6515 | 0.51 | 0.2239 | 112 | 789 | 901 |\n",
       "| 15325 | 2012-10-05 | 4 | 1 | 10 | 17 | 0 | 5 | 1 | 1 | 0.70 | 0.6364 | 0.42 | 0.1642 | 158 | 742 | 900 |\n",
       "| 15445 | 2012-10-10 | 4 | 1 | 10 | 17 | 0 | 3 | 1 | 1 | 0.58 | 0.5455 | 0.43 | 0.2239 |  91 | 857 | 948 |\n",
       "| 15589 | 2012-10-16 | 4 | 1 | 10 | 17 | 0 | 2 | 1 | 1 | 0.52 | 0.5000 | 0.39 | 0.1940 | 104 | 839 | 943 |\n",
       "| 15733 | 2012-10-22 | 4 | 1 | 10 | 17 | 0 | 1 | 1 | 1 | 0.62 | 0.6212 | 0.33 | 0.1045 |  84 | 838 | 922 |\n",
       "| 15757 | 2012-10-23 | 4 | 1 | 10 | 17 | 0 | 2 | 1 | 1 | 0.68 | 0.6364 | 0.41 | 0.0000 |  67 | 871 | 938 |\n",
       "| 15781 | 2012-10-24 | 4 | 1 | 10 | 17 | 0 | 3 | 1 | 1 | 0.66 | 0.6212 | 0.47 | 0.0000 |  87 | 876 | 963 |\n",
       "\n"
      ],
      "text/plain": [
       "   instant dteday     season yr mnth hr holiday weekday workingday weathersit\n",
       "1  10623   2012-03-23 2      1   3   17 0       5       1          2         \n",
       "2  12901   2012-06-26 3      1   6   17 0       2       1          1         \n",
       "3  13597   2012-07-25 3      1   7   17 0       3       1          1         \n",
       "4  14294   2012-08-23 3      1   8   18 0       4       1          1         \n",
       "5  14726   2012-09-10 3      1   9   18 0       1       1          1         \n",
       "6  14749   2012-09-11 3      1   9   17 0       2       1          1         \n",
       "7  14773   2012-09-12 3      1   9   17 0       3       1          1         \n",
       "8  14774   2012-09-12 3      1   9   18 0       3       1          1         \n",
       "9  14965   2012-09-20 3      1   9   17 0       4       1          1         \n",
       "10 14966   2012-09-20 3      1   9   18 0       4       1          1         \n",
       "11 15085   2012-09-25 4      1   9   17 0       2       1          1         \n",
       "12 15109   2012-09-26 4      1   9   17 0       3       1          1         \n",
       "13 15133   2012-09-27 4      1   9   17 0       4       1          2         \n",
       "14 15277   2012-10-03 4      1  10   17 0       3       1          1         \n",
       "15 15301   2012-10-04 4      1  10   17 0       4       1          1         \n",
       "16 15325   2012-10-05 4      1  10   17 0       5       1          1         \n",
       "17 15445   2012-10-10 4      1  10   17 0       3       1          1         \n",
       "18 15589   2012-10-16 4      1  10   17 0       2       1          1         \n",
       "19 15733   2012-10-22 4      1  10   17 0       1       1          1         \n",
       "20 15757   2012-10-23 4      1  10   17 0       2       1          1         \n",
       "21 15781   2012-10-24 4      1  10   17 0       3       1          1         \n",
       "   temp atemp  hum  windspeed casual registered cnt\n",
       "1  0.72 0.6515 0.42 0.1642    264    693        957\n",
       "2  0.72 0.6515 0.28 0.4179    104    796        900\n",
       "3  0.80 0.6970 0.31 0.0000    130    783        913\n",
       "4  0.74 0.6667 0.48 0.2239    130    811        941\n",
       "5  0.62 0.6212 0.35 0.2985    111    857        968\n",
       "6  0.70 0.6364 0.28 0.0000    168    802        970\n",
       "7  0.70 0.6364 0.41 0.2985    114    811        925\n",
       "8  0.66 0.6212 0.44 0.2537     91    886        977\n",
       "9  0.64 0.6212 0.50 0.2239     91    885        976\n",
       "10 0.60 0.6212 0.56 0.2537    119    781        900\n",
       "11 0.66 0.6212 0.39 0.2836    107    860        967\n",
       "12 0.74 0.6667 0.48 0.2985     77    876        953\n",
       "13 0.66 0.6212 0.69 0.2985     87    818        905\n",
       "14 0.70 0.6515 0.65 0.0000     84    833        917\n",
       "15 0.70 0.6515 0.51 0.2239    112    789        901\n",
       "16 0.70 0.6364 0.42 0.1642    158    742        900\n",
       "17 0.58 0.5455 0.43 0.2239     91    857        948\n",
       "18 0.52 0.5000 0.39 0.1940    104    839        943\n",
       "19 0.62 0.6212 0.33 0.1045     84    838        922\n",
       "20 0.68 0.6364 0.41 0.0000     67    871        938\n",
       "21 0.66 0.6212 0.47 0.0000     87    876        963"
      ]
     },
     "metadata": {},
     "output_type": "display_data"
    },
    {
     "data": {
      "text/html": [
       "<table class=\"dataframe\">\n",
       "<caption>A data.frame: 17379 × 17</caption>\n",
       "<thead>\n",
       "\t<tr><th scope=col>instant</th><th scope=col>dteday</th><th scope=col>season</th><th scope=col>yr</th><th scope=col>mnth</th><th scope=col>hr</th><th scope=col>holiday</th><th scope=col>weekday</th><th scope=col>workingday</th><th scope=col>weathersit</th><th scope=col>temp</th><th scope=col>atemp</th><th scope=col>hum</th><th scope=col>windspeed</th><th scope=col>casual</th><th scope=col>registered</th><th scope=col>cnt</th></tr>\n",
       "\t<tr><th scope=col>&lt;int&gt;</th><th scope=col>&lt;fct&gt;</th><th scope=col>&lt;int&gt;</th><th scope=col>&lt;int&gt;</th><th scope=col>&lt;int&gt;</th><th scope=col>&lt;int&gt;</th><th scope=col>&lt;int&gt;</th><th scope=col>&lt;int&gt;</th><th scope=col>&lt;int&gt;</th><th scope=col>&lt;int&gt;</th><th scope=col>&lt;dbl&gt;</th><th scope=col>&lt;dbl&gt;</th><th scope=col>&lt;dbl&gt;</th><th scope=col>&lt;dbl&gt;</th><th scope=col>&lt;int&gt;</th><th scope=col>&lt;int&gt;</th><th scope=col>&lt;int&gt;</th></tr>\n",
       "</thead>\n",
       "<tbody>\n",
       "\t<tr><td>10478</td><td>2012-03-17</td><td>1</td><td>1</td><td> 3</td><td>16</td><td>0</td><td>6</td><td>0</td><td>1</td><td>0.64</td><td>0.6212</td><td>0.50</td><td>0.0000</td><td>367</td><td>318</td><td>685</td></tr>\n",
       "\t<tr><td>15344</td><td>2012-10-06</td><td>4</td><td>1</td><td>10</td><td>12</td><td>0</td><td>6</td><td>0</td><td>1</td><td>0.70</td><td>0.6515</td><td>0.54</td><td>0.1045</td><td>362</td><td>381</td><td>743</td></tr>\n",
       "\t<tr><td>11986</td><td>2012-05-19</td><td>2</td><td>1</td><td> 5</td><td>14</td><td>0</td><td>6</td><td>0</td><td>1</td><td>0.72</td><td>0.6515</td><td>0.30</td><td>0.0896</td><td>361</td><td>369</td><td>730</td></tr>\n",
       "\t<tr><td>10477</td><td>2012-03-17</td><td>1</td><td>1</td><td> 3</td><td>15</td><td>0</td><td>6</td><td>0</td><td>1</td><td>0.64</td><td>0.6212</td><td>0.53</td><td>0.1343</td><td>357</td><td>322</td><td>679</td></tr>\n",
       "\t<tr><td>11987</td><td>2012-05-19</td><td>2</td><td>1</td><td> 5</td><td>15</td><td>0</td><td>6</td><td>0</td><td>1</td><td>0.72</td><td>0.6515</td><td>0.30</td><td>0.1045</td><td>356</td><td>316</td><td>672</td></tr>\n",
       "\t<tr><td>10978</td><td>2012-04-07</td><td>2</td><td>1</td><td> 4</td><td>13</td><td>0</td><td>6</td><td>0</td><td>1</td><td>0.50</td><td>0.4848</td><td>0.22</td><td>0.1940</td><td>355</td><td>288</td><td>643</td></tr>\n",
       "\t<tr><td>10981</td><td>2012-04-07</td><td>2</td><td>1</td><td> 4</td><td>16</td><td>0</td><td>6</td><td>0</td><td>1</td><td>0.54</td><td>0.5152</td><td>0.19</td><td>0.3881</td><td>354</td><td>261</td><td>615</td></tr>\n",
       "\t<tr><td>10476</td><td>2012-03-17</td><td>1</td><td>1</td><td> 3</td><td>14</td><td>0</td><td>6</td><td>0</td><td>1</td><td>0.62</td><td>0.6212</td><td>0.53</td><td>0.0896</td><td>352</td><td>338</td><td>690</td></tr>\n",
       "\t<tr><td>14844</td><td>2012-09-15</td><td>3</td><td>1</td><td> 9</td><td>16</td><td>0</td><td>6</td><td>0</td><td>2</td><td>0.66</td><td>0.6212</td><td>0.36</td><td>0.2239</td><td>350</td><td>433</td><td>783</td></tr>\n",
       "\t<tr><td>15685</td><td>2012-10-20</td><td>4</td><td>1</td><td>10</td><td>17</td><td>0</td><td>6</td><td>0</td><td>1</td><td>0.54</td><td>0.5152</td><td>0.37</td><td>0.2239</td><td>347</td><td>384</td><td>731</td></tr>\n",
       "\t<tr><td>15682</td><td>2012-10-20</td><td>4</td><td>1</td><td>10</td><td>14</td><td>0</td><td>6</td><td>0</td><td>1</td><td>0.56</td><td>0.5303</td><td>0.40</td><td>0.0000</td><td>335</td><td>376</td><td>711</td></tr>\n",
       "\t<tr><td>11985</td><td>2012-05-19</td><td>2</td><td>1</td><td> 5</td><td>13</td><td>0</td><td>6</td><td>0</td><td>1</td><td>0.70</td><td>0.6364</td><td>0.37</td><td>0.1343</td><td>332</td><td>372</td><td>704</td></tr>\n",
       "\t<tr><td>11988</td><td>2012-05-19</td><td>2</td><td>1</td><td> 5</td><td>16</td><td>0</td><td>6</td><td>0</td><td>1</td><td>0.74</td><td>0.6515</td><td>0.30</td><td>0.1045</td><td>331</td><td>311</td><td>642</td></tr>\n",
       "\t<tr><td>14841</td><td>2012-09-15</td><td>3</td><td>1</td><td> 9</td><td>13</td><td>0</td><td>6</td><td>0</td><td>1</td><td>0.68</td><td>0.6364</td><td>0.36</td><td>0.1940</td><td>327</td><td>377</td><td>704</td></tr>\n",
       "\t<tr><td>10979</td><td>2012-04-07</td><td>2</td><td>1</td><td> 4</td><td>14</td><td>0</td><td>6</td><td>0</td><td>1</td><td>0.50</td><td>0.4848</td><td>0.22</td><td>0.2985</td><td>326</td><td>252</td><td>578</td></tr>\n",
       "\t<tr><td>14842</td><td>2012-09-15</td><td>3</td><td>1</td><td> 9</td><td>14</td><td>0</td><td>6</td><td>0</td><td>1</td><td>0.68</td><td>0.6364</td><td>0.34</td><td>0.3284</td><td>325</td><td>390</td><td>715</td></tr>\n",
       "\t<tr><td>15684</td><td>2012-10-20</td><td>4</td><td>1</td><td>10</td><td>16</td><td>0</td><td>6</td><td>0</td><td>1</td><td>0.54</td><td>0.5152</td><td>0.42</td><td>0.2836</td><td>325</td><td>366</td><td>691</td></tr>\n",
       "\t<tr><td>15850</td><td>2012-10-27</td><td>4</td><td>1</td><td>10</td><td>14</td><td>0</td><td>6</td><td>0</td><td>1</td><td>0.60</td><td>0.6212</td><td>0.46</td><td>0.2537</td><td>325</td><td>425</td><td>750</td></tr>\n",
       "\t<tr><td>10980</td><td>2012-04-07</td><td>2</td><td>1</td><td> 4</td><td>15</td><td>0</td><td>6</td><td>0</td><td>1</td><td>0.52</td><td>0.5000</td><td>0.19</td><td>0.4179</td><td>321</td><td>305</td><td>626</td></tr>\n",
       "\t<tr><td>10977</td><td>2012-04-07</td><td>2</td><td>1</td><td> 4</td><td>12</td><td>0</td><td>6</td><td>0</td><td>1</td><td>0.46</td><td>0.4545</td><td>0.23</td><td>0.3881</td><td>320</td><td>270</td><td>590</td></tr>\n",
       "\t<tr><td>12178</td><td>2012-05-27</td><td>2</td><td>1</td><td> 5</td><td>14</td><td>0</td><td>0</td><td>0</td><td>1</td><td>0.76</td><td>0.7121</td><td>0.58</td><td>0.2537</td><td>317</td><td>230</td><td>547</td></tr>\n",
       "\t<tr><td>15348</td><td>2012-10-06</td><td>4</td><td>1</td><td>10</td><td>16</td><td>0</td><td>6</td><td>0</td><td>1</td><td>0.60</td><td>0.6212</td><td>0.43</td><td>0.5224</td><td>317</td><td>342</td><td>659</td></tr>\n",
       "\t<tr><td>14843</td><td>2012-09-15</td><td>3</td><td>1</td><td> 9</td><td>15</td><td>0</td><td>6</td><td>0</td><td>2</td><td>0.68</td><td>0.6364</td><td>0.34</td><td>0.2836</td><td>312</td><td>342</td><td>654</td></tr>\n",
       "\t<tr><td>11147</td><td>2012-04-14</td><td>2</td><td>1</td><td> 4</td><td>15</td><td>0</td><td>6</td><td>0</td><td>2</td><td>0.64</td><td>0.6212</td><td>0.27</td><td>0.3582</td><td>311</td><td>347</td><td>658</td></tr>\n",
       "\t<tr><td>15345</td><td>2012-10-06</td><td>4</td><td>1</td><td>10</td><td>13</td><td>0</td><td>6</td><td>0</td><td>2</td><td>0.64</td><td>0.6212</td><td>0.57</td><td>0.5224</td><td>310</td><td>400</td><td>710</td></tr>\n",
       "\t<tr><td>15849</td><td>2012-10-27</td><td>4</td><td>1</td><td>10</td><td>13</td><td>0</td><td>6</td><td>0</td><td>1</td><td>0.60</td><td>0.6212</td><td>0.43</td><td>0.2537</td><td>310</td><td>450</td><td>760</td></tr>\n",
       "\t<tr><td>15851</td><td>2012-10-27</td><td>4</td><td>1</td><td>10</td><td>15</td><td>0</td><td>6</td><td>0</td><td>2</td><td>0.56</td><td>0.5303</td><td>0.60</td><td>0.2836</td><td>310</td><td>401</td><td>711</td></tr>\n",
       "\t<tr><td>11145</td><td>2012-04-14</td><td>2</td><td>1</td><td> 4</td><td>13</td><td>0</td><td>6</td><td>0</td><td>1</td><td>0.62</td><td>0.6212</td><td>0.33</td><td>0.2985</td><td>308</td><td>370</td><td>678</td></tr>\n",
       "\t<tr><td>15683</td><td>2012-10-20</td><td>4</td><td>1</td><td>10</td><td>15</td><td>0</td><td>6</td><td>0</td><td>1</td><td>0.56</td><td>0.5303</td><td>0.43</td><td>0.0000</td><td>308</td><td>403</td><td>711</td></tr>\n",
       "\t<tr><td>12154</td><td>2012-05-26</td><td>2</td><td>1</td><td> 5</td><td>14</td><td>0</td><td>6</td><td>0</td><td>1</td><td>0.76</td><td>0.7273</td><td>0.66</td><td>0.2239</td><td>307</td><td>257</td><td>564</td></tr>\n",
       "\t<tr><td>⋮</td><td>⋮</td><td>⋮</td><td>⋮</td><td>⋮</td><td>⋮</td><td>⋮</td><td>⋮</td><td>⋮</td><td>⋮</td><td>⋮</td><td>⋮</td><td>⋮</td><td>⋮</td><td>⋮</td><td>⋮</td><td>⋮</td></tr>\n",
       "\t<tr><td>17251</td><td>2012-12-26</td><td>1</td><td>1</td><td>12</td><td>15</td><td>0</td><td>3</td><td>1</td><td>3</td><td>0.26</td><td>0.2273</td><td>0.87</td><td>0.3582</td><td>0</td><td>13</td><td>13</td></tr>\n",
       "\t<tr><td>17252</td><td>2012-12-26</td><td>1</td><td>1</td><td>12</td><td>16</td><td>0</td><td>3</td><td>1</td><td>3</td><td>0.26</td><td>0.2273</td><td>0.87</td><td>0.3582</td><td>0</td><td>13</td><td>13</td></tr>\n",
       "\t<tr><td>17256</td><td>2012-12-26</td><td>1</td><td>1</td><td>12</td><td>20</td><td>0</td><td>3</td><td>1</td><td>3</td><td>0.32</td><td>0.3030</td><td>0.93</td><td>0.2537</td><td>0</td><td>32</td><td>32</td></tr>\n",
       "\t<tr><td>17257</td><td>2012-12-26</td><td>1</td><td>1</td><td>12</td><td>21</td><td>0</td><td>3</td><td>1</td><td>2</td><td>0.30</td><td>0.2727</td><td>0.87</td><td>0.2985</td><td>0</td><td>20</td><td>20</td></tr>\n",
       "\t<tr><td>17258</td><td>2012-12-26</td><td>1</td><td>1</td><td>12</td><td>22</td><td>0</td><td>3</td><td>1</td><td>3</td><td>0.24</td><td>0.1970</td><td>0.93</td><td>0.4478</td><td>0</td><td>11</td><td>11</td></tr>\n",
       "\t<tr><td>17260</td><td>2012-12-27</td><td>1</td><td>1</td><td>12</td><td> 0</td><td>0</td><td>4</td><td>1</td><td>3</td><td>0.26</td><td>0.2273</td><td>0.87</td><td>0.2985</td><td>0</td><td> 3</td><td> 3</td></tr>\n",
       "\t<tr><td>17261</td><td>2012-12-27</td><td>1</td><td>1</td><td>12</td><td> 1</td><td>0</td><td>4</td><td>1</td><td>3</td><td>0.24</td><td>0.1970</td><td>0.93</td><td>0.4478</td><td>0</td><td> 5</td><td> 5</td></tr>\n",
       "\t<tr><td>17262</td><td>2012-12-27</td><td>1</td><td>1</td><td>12</td><td> 2</td><td>0</td><td>4</td><td>1</td><td>2</td><td>0.24</td><td>0.1970</td><td>0.87</td><td>0.4478</td><td>0</td><td> 2</td><td> 2</td></tr>\n",
       "\t<tr><td>17263</td><td>2012-12-27</td><td>1</td><td>1</td><td>12</td><td> 3</td><td>0</td><td>4</td><td>1</td><td>2</td><td>0.24</td><td>0.2273</td><td>0.87</td><td>0.2239</td><td>0</td><td> 1</td><td> 1</td></tr>\n",
       "\t<tr><td>17264</td><td>2012-12-27</td><td>1</td><td>1</td><td>12</td><td> 4</td><td>0</td><td>4</td><td>1</td><td>2</td><td>0.24</td><td>0.2121</td><td>0.87</td><td>0.3284</td><td>0</td><td> 3</td><td> 3</td></tr>\n",
       "\t<tr><td>17266</td><td>2012-12-27</td><td>1</td><td>1</td><td>12</td><td> 6</td><td>0</td><td>4</td><td>1</td><td>1</td><td>0.24</td><td>0.1970</td><td>0.70</td><td>0.4925</td><td>0</td><td>45</td><td>45</td></tr>\n",
       "\t<tr><td>17267</td><td>2012-12-27</td><td>1</td><td>1</td><td>12</td><td> 7</td><td>0</td><td>4</td><td>1</td><td>1</td><td>0.24</td><td>0.2273</td><td>0.70</td><td>0.2239</td><td>0</td><td>90</td><td>90</td></tr>\n",
       "\t<tr><td>17285</td><td>2012-12-28</td><td>1</td><td>1</td><td>12</td><td> 1</td><td>0</td><td>5</td><td>1</td><td>1</td><td>0.24</td><td>0.2273</td><td>0.60</td><td>0.1940</td><td>0</td><td> 9</td><td> 9</td></tr>\n",
       "\t<tr><td>17286</td><td>2012-12-28</td><td>1</td><td>1</td><td>12</td><td> 2</td><td>0</td><td>5</td><td>1</td><td>1</td><td>0.24</td><td>0.2273</td><td>0.60</td><td>0.2537</td><td>0</td><td> 5</td><td> 5</td></tr>\n",
       "\t<tr><td>17287</td><td>2012-12-28</td><td>1</td><td>1</td><td>12</td><td> 3</td><td>0</td><td>5</td><td>1</td><td>2</td><td>0.24</td><td>0.2424</td><td>0.60</td><td>0.1642</td><td>0</td><td> 2</td><td> 2</td></tr>\n",
       "\t<tr><td>17288</td><td>2012-12-28</td><td>1</td><td>1</td><td>12</td><td> 4</td><td>0</td><td>5</td><td>1</td><td>2</td><td>0.24</td><td>0.2576</td><td>0.60</td><td>0.1045</td><td>0</td><td> 4</td><td> 4</td></tr>\n",
       "\t<tr><td>17289</td><td>2012-12-28</td><td>1</td><td>1</td><td>12</td><td> 5</td><td>0</td><td>5</td><td>1</td><td>2</td><td>0.24</td><td>0.2576</td><td>0.60</td><td>0.0896</td><td>0</td><td>15</td><td>15</td></tr>\n",
       "\t<tr><td>17312</td><td>2012-12-29</td><td>1</td><td>1</td><td>12</td><td> 4</td><td>0</td><td>6</td><td>0</td><td>2</td><td>0.24</td><td>0.2424</td><td>0.75</td><td>0.0896</td><td>0</td><td> 3</td><td> 3</td></tr>\n",
       "\t<tr><td>17313</td><td>2012-12-29</td><td>1</td><td>1</td><td>12</td><td> 5</td><td>0</td><td>6</td><td>0</td><td>2</td><td>0.24</td><td>0.2424</td><td>0.75</td><td>0.0896</td><td>0</td><td> 3</td><td> 3</td></tr>\n",
       "\t<tr><td>17314</td><td>2012-12-29</td><td>1</td><td>1</td><td>12</td><td> 6</td><td>0</td><td>6</td><td>0</td><td>2</td><td>0.26</td><td>0.2424</td><td>0.70</td><td>0.1045</td><td>0</td><td> 7</td><td> 7</td></tr>\n",
       "\t<tr><td>17331</td><td>2012-12-29</td><td>1</td><td>1</td><td>12</td><td>23</td><td>0</td><td>6</td><td>0</td><td>2</td><td>0.26</td><td>0.2424</td><td>0.60</td><td>0.0000</td><td>0</td><td>32</td><td>32</td></tr>\n",
       "\t<tr><td>17332</td><td>2012-12-30</td><td>1</td><td>1</td><td>12</td><td> 0</td><td>0</td><td>0</td><td>0</td><td>2</td><td>0.26</td><td>0.2576</td><td>0.60</td><td>0.1642</td><td>0</td><td>41</td><td>41</td></tr>\n",
       "\t<tr><td>17334</td><td>2012-12-30</td><td>1</td><td>1</td><td>12</td><td> 2</td><td>0</td><td>0</td><td>0</td><td>2</td><td>0.26</td><td>0.2424</td><td>0.56</td><td>0.2836</td><td>0</td><td>19</td><td>19</td></tr>\n",
       "\t<tr><td>17336</td><td>2012-12-30</td><td>1</td><td>1</td><td>12</td><td> 4</td><td>0</td><td>0</td><td>0</td><td>2</td><td>0.26</td><td>0.2576</td><td>0.56</td><td>0.2239</td><td>0</td><td> 7</td><td> 7</td></tr>\n",
       "\t<tr><td>17337</td><td>2012-12-30</td><td>1</td><td>1</td><td>12</td><td> 5</td><td>0</td><td>0</td><td>0</td><td>2</td><td>0.26</td><td>0.2273</td><td>0.48</td><td>0.2985</td><td>0</td><td> 2</td><td> 2</td></tr>\n",
       "\t<tr><td>17339</td><td>2012-12-30</td><td>1</td><td>1</td><td>12</td><td> 7</td><td>0</td><td>0</td><td>0</td><td>1</td><td>0.24</td><td>0.2121</td><td>0.56</td><td>0.3582</td><td>0</td><td>13</td><td>13</td></tr>\n",
       "\t<tr><td>17359</td><td>2012-12-31</td><td>1</td><td>1</td><td>12</td><td> 3</td><td>0</td><td>1</td><td>1</td><td>1</td><td>0.16</td><td>0.1818</td><td>0.59</td><td>0.1045</td><td>0</td><td> 1</td><td> 1</td></tr>\n",
       "\t<tr><td>17360</td><td>2012-12-31</td><td>1</td><td>1</td><td>12</td><td> 4</td><td>0</td><td>1</td><td>1</td><td>1</td><td>0.14</td><td>0.1667</td><td>0.69</td><td>0.1045</td><td>0</td><td> 3</td><td> 3</td></tr>\n",
       "\t<tr><td>17361</td><td>2012-12-31</td><td>1</td><td>1</td><td>12</td><td> 5</td><td>0</td><td>1</td><td>1</td><td>1</td><td>0.16</td><td>0.1515</td><td>0.64</td><td>0.1940</td><td>0</td><td> 9</td><td> 9</td></tr>\n",
       "\t<tr><td>17362</td><td>2012-12-31</td><td>1</td><td>1</td><td>12</td><td> 6</td><td>0</td><td>1</td><td>1</td><td>1</td><td>0.16</td><td>0.1667</td><td>0.64</td><td>0.1642</td><td>0</td><td>40</td><td>40</td></tr>\n",
       "</tbody>\n",
       "</table>\n"
      ],
      "text/latex": [
       "A data.frame: 17379 × 17\n",
       "\\begin{tabular}{lllllllllllllllll}\n",
       " instant & dteday & season & yr & mnth & hr & holiday & weekday & workingday & weathersit & temp & atemp & hum & windspeed & casual & registered & cnt\\\\\n",
       " <int> & <fct> & <int> & <int> & <int> & <int> & <int> & <int> & <int> & <int> & <dbl> & <dbl> & <dbl> & <dbl> & <int> & <int> & <int>\\\\\n",
       "\\hline\n",
       "\t 10478 & 2012-03-17 & 1 & 1 &  3 & 16 & 0 & 6 & 0 & 1 & 0.64 & 0.6212 & 0.50 & 0.0000 & 367 & 318 & 685\\\\\n",
       "\t 15344 & 2012-10-06 & 4 & 1 & 10 & 12 & 0 & 6 & 0 & 1 & 0.70 & 0.6515 & 0.54 & 0.1045 & 362 & 381 & 743\\\\\n",
       "\t 11986 & 2012-05-19 & 2 & 1 &  5 & 14 & 0 & 6 & 0 & 1 & 0.72 & 0.6515 & 0.30 & 0.0896 & 361 & 369 & 730\\\\\n",
       "\t 10477 & 2012-03-17 & 1 & 1 &  3 & 15 & 0 & 6 & 0 & 1 & 0.64 & 0.6212 & 0.53 & 0.1343 & 357 & 322 & 679\\\\\n",
       "\t 11987 & 2012-05-19 & 2 & 1 &  5 & 15 & 0 & 6 & 0 & 1 & 0.72 & 0.6515 & 0.30 & 0.1045 & 356 & 316 & 672\\\\\n",
       "\t 10978 & 2012-04-07 & 2 & 1 &  4 & 13 & 0 & 6 & 0 & 1 & 0.50 & 0.4848 & 0.22 & 0.1940 & 355 & 288 & 643\\\\\n",
       "\t 10981 & 2012-04-07 & 2 & 1 &  4 & 16 & 0 & 6 & 0 & 1 & 0.54 & 0.5152 & 0.19 & 0.3881 & 354 & 261 & 615\\\\\n",
       "\t 10476 & 2012-03-17 & 1 & 1 &  3 & 14 & 0 & 6 & 0 & 1 & 0.62 & 0.6212 & 0.53 & 0.0896 & 352 & 338 & 690\\\\\n",
       "\t 14844 & 2012-09-15 & 3 & 1 &  9 & 16 & 0 & 6 & 0 & 2 & 0.66 & 0.6212 & 0.36 & 0.2239 & 350 & 433 & 783\\\\\n",
       "\t 15685 & 2012-10-20 & 4 & 1 & 10 & 17 & 0 & 6 & 0 & 1 & 0.54 & 0.5152 & 0.37 & 0.2239 & 347 & 384 & 731\\\\\n",
       "\t 15682 & 2012-10-20 & 4 & 1 & 10 & 14 & 0 & 6 & 0 & 1 & 0.56 & 0.5303 & 0.40 & 0.0000 & 335 & 376 & 711\\\\\n",
       "\t 11985 & 2012-05-19 & 2 & 1 &  5 & 13 & 0 & 6 & 0 & 1 & 0.70 & 0.6364 & 0.37 & 0.1343 & 332 & 372 & 704\\\\\n",
       "\t 11988 & 2012-05-19 & 2 & 1 &  5 & 16 & 0 & 6 & 0 & 1 & 0.74 & 0.6515 & 0.30 & 0.1045 & 331 & 311 & 642\\\\\n",
       "\t 14841 & 2012-09-15 & 3 & 1 &  9 & 13 & 0 & 6 & 0 & 1 & 0.68 & 0.6364 & 0.36 & 0.1940 & 327 & 377 & 704\\\\\n",
       "\t 10979 & 2012-04-07 & 2 & 1 &  4 & 14 & 0 & 6 & 0 & 1 & 0.50 & 0.4848 & 0.22 & 0.2985 & 326 & 252 & 578\\\\\n",
       "\t 14842 & 2012-09-15 & 3 & 1 &  9 & 14 & 0 & 6 & 0 & 1 & 0.68 & 0.6364 & 0.34 & 0.3284 & 325 & 390 & 715\\\\\n",
       "\t 15684 & 2012-10-20 & 4 & 1 & 10 & 16 & 0 & 6 & 0 & 1 & 0.54 & 0.5152 & 0.42 & 0.2836 & 325 & 366 & 691\\\\\n",
       "\t 15850 & 2012-10-27 & 4 & 1 & 10 & 14 & 0 & 6 & 0 & 1 & 0.60 & 0.6212 & 0.46 & 0.2537 & 325 & 425 & 750\\\\\n",
       "\t 10980 & 2012-04-07 & 2 & 1 &  4 & 15 & 0 & 6 & 0 & 1 & 0.52 & 0.5000 & 0.19 & 0.4179 & 321 & 305 & 626\\\\\n",
       "\t 10977 & 2012-04-07 & 2 & 1 &  4 & 12 & 0 & 6 & 0 & 1 & 0.46 & 0.4545 & 0.23 & 0.3881 & 320 & 270 & 590\\\\\n",
       "\t 12178 & 2012-05-27 & 2 & 1 &  5 & 14 & 0 & 0 & 0 & 1 & 0.76 & 0.7121 & 0.58 & 0.2537 & 317 & 230 & 547\\\\\n",
       "\t 15348 & 2012-10-06 & 4 & 1 & 10 & 16 & 0 & 6 & 0 & 1 & 0.60 & 0.6212 & 0.43 & 0.5224 & 317 & 342 & 659\\\\\n",
       "\t 14843 & 2012-09-15 & 3 & 1 &  9 & 15 & 0 & 6 & 0 & 2 & 0.68 & 0.6364 & 0.34 & 0.2836 & 312 & 342 & 654\\\\\n",
       "\t 11147 & 2012-04-14 & 2 & 1 &  4 & 15 & 0 & 6 & 0 & 2 & 0.64 & 0.6212 & 0.27 & 0.3582 & 311 & 347 & 658\\\\\n",
       "\t 15345 & 2012-10-06 & 4 & 1 & 10 & 13 & 0 & 6 & 0 & 2 & 0.64 & 0.6212 & 0.57 & 0.5224 & 310 & 400 & 710\\\\\n",
       "\t 15849 & 2012-10-27 & 4 & 1 & 10 & 13 & 0 & 6 & 0 & 1 & 0.60 & 0.6212 & 0.43 & 0.2537 & 310 & 450 & 760\\\\\n",
       "\t 15851 & 2012-10-27 & 4 & 1 & 10 & 15 & 0 & 6 & 0 & 2 & 0.56 & 0.5303 & 0.60 & 0.2836 & 310 & 401 & 711\\\\\n",
       "\t 11145 & 2012-04-14 & 2 & 1 &  4 & 13 & 0 & 6 & 0 & 1 & 0.62 & 0.6212 & 0.33 & 0.2985 & 308 & 370 & 678\\\\\n",
       "\t 15683 & 2012-10-20 & 4 & 1 & 10 & 15 & 0 & 6 & 0 & 1 & 0.56 & 0.5303 & 0.43 & 0.0000 & 308 & 403 & 711\\\\\n",
       "\t 12154 & 2012-05-26 & 2 & 1 &  5 & 14 & 0 & 6 & 0 & 1 & 0.76 & 0.7273 & 0.66 & 0.2239 & 307 & 257 & 564\\\\\n",
       "\t ⋮ & ⋮ & ⋮ & ⋮ & ⋮ & ⋮ & ⋮ & ⋮ & ⋮ & ⋮ & ⋮ & ⋮ & ⋮ & ⋮ & ⋮ & ⋮ & ⋮\\\\\n",
       "\t 17251 & 2012-12-26 & 1 & 1 & 12 & 15 & 0 & 3 & 1 & 3 & 0.26 & 0.2273 & 0.87 & 0.3582 & 0 & 13 & 13\\\\\n",
       "\t 17252 & 2012-12-26 & 1 & 1 & 12 & 16 & 0 & 3 & 1 & 3 & 0.26 & 0.2273 & 0.87 & 0.3582 & 0 & 13 & 13\\\\\n",
       "\t 17256 & 2012-12-26 & 1 & 1 & 12 & 20 & 0 & 3 & 1 & 3 & 0.32 & 0.3030 & 0.93 & 0.2537 & 0 & 32 & 32\\\\\n",
       "\t 17257 & 2012-12-26 & 1 & 1 & 12 & 21 & 0 & 3 & 1 & 2 & 0.30 & 0.2727 & 0.87 & 0.2985 & 0 & 20 & 20\\\\\n",
       "\t 17258 & 2012-12-26 & 1 & 1 & 12 & 22 & 0 & 3 & 1 & 3 & 0.24 & 0.1970 & 0.93 & 0.4478 & 0 & 11 & 11\\\\\n",
       "\t 17260 & 2012-12-27 & 1 & 1 & 12 &  0 & 0 & 4 & 1 & 3 & 0.26 & 0.2273 & 0.87 & 0.2985 & 0 &  3 &  3\\\\\n",
       "\t 17261 & 2012-12-27 & 1 & 1 & 12 &  1 & 0 & 4 & 1 & 3 & 0.24 & 0.1970 & 0.93 & 0.4478 & 0 &  5 &  5\\\\\n",
       "\t 17262 & 2012-12-27 & 1 & 1 & 12 &  2 & 0 & 4 & 1 & 2 & 0.24 & 0.1970 & 0.87 & 0.4478 & 0 &  2 &  2\\\\\n",
       "\t 17263 & 2012-12-27 & 1 & 1 & 12 &  3 & 0 & 4 & 1 & 2 & 0.24 & 0.2273 & 0.87 & 0.2239 & 0 &  1 &  1\\\\\n",
       "\t 17264 & 2012-12-27 & 1 & 1 & 12 &  4 & 0 & 4 & 1 & 2 & 0.24 & 0.2121 & 0.87 & 0.3284 & 0 &  3 &  3\\\\\n",
       "\t 17266 & 2012-12-27 & 1 & 1 & 12 &  6 & 0 & 4 & 1 & 1 & 0.24 & 0.1970 & 0.70 & 0.4925 & 0 & 45 & 45\\\\\n",
       "\t 17267 & 2012-12-27 & 1 & 1 & 12 &  7 & 0 & 4 & 1 & 1 & 0.24 & 0.2273 & 0.70 & 0.2239 & 0 & 90 & 90\\\\\n",
       "\t 17285 & 2012-12-28 & 1 & 1 & 12 &  1 & 0 & 5 & 1 & 1 & 0.24 & 0.2273 & 0.60 & 0.1940 & 0 &  9 &  9\\\\\n",
       "\t 17286 & 2012-12-28 & 1 & 1 & 12 &  2 & 0 & 5 & 1 & 1 & 0.24 & 0.2273 & 0.60 & 0.2537 & 0 &  5 &  5\\\\\n",
       "\t 17287 & 2012-12-28 & 1 & 1 & 12 &  3 & 0 & 5 & 1 & 2 & 0.24 & 0.2424 & 0.60 & 0.1642 & 0 &  2 &  2\\\\\n",
       "\t 17288 & 2012-12-28 & 1 & 1 & 12 &  4 & 0 & 5 & 1 & 2 & 0.24 & 0.2576 & 0.60 & 0.1045 & 0 &  4 &  4\\\\\n",
       "\t 17289 & 2012-12-28 & 1 & 1 & 12 &  5 & 0 & 5 & 1 & 2 & 0.24 & 0.2576 & 0.60 & 0.0896 & 0 & 15 & 15\\\\\n",
       "\t 17312 & 2012-12-29 & 1 & 1 & 12 &  4 & 0 & 6 & 0 & 2 & 0.24 & 0.2424 & 0.75 & 0.0896 & 0 &  3 &  3\\\\\n",
       "\t 17313 & 2012-12-29 & 1 & 1 & 12 &  5 & 0 & 6 & 0 & 2 & 0.24 & 0.2424 & 0.75 & 0.0896 & 0 &  3 &  3\\\\\n",
       "\t 17314 & 2012-12-29 & 1 & 1 & 12 &  6 & 0 & 6 & 0 & 2 & 0.26 & 0.2424 & 0.70 & 0.1045 & 0 &  7 &  7\\\\\n",
       "\t 17331 & 2012-12-29 & 1 & 1 & 12 & 23 & 0 & 6 & 0 & 2 & 0.26 & 0.2424 & 0.60 & 0.0000 & 0 & 32 & 32\\\\\n",
       "\t 17332 & 2012-12-30 & 1 & 1 & 12 &  0 & 0 & 0 & 0 & 2 & 0.26 & 0.2576 & 0.60 & 0.1642 & 0 & 41 & 41\\\\\n",
       "\t 17334 & 2012-12-30 & 1 & 1 & 12 &  2 & 0 & 0 & 0 & 2 & 0.26 & 0.2424 & 0.56 & 0.2836 & 0 & 19 & 19\\\\\n",
       "\t 17336 & 2012-12-30 & 1 & 1 & 12 &  4 & 0 & 0 & 0 & 2 & 0.26 & 0.2576 & 0.56 & 0.2239 & 0 &  7 &  7\\\\\n",
       "\t 17337 & 2012-12-30 & 1 & 1 & 12 &  5 & 0 & 0 & 0 & 2 & 0.26 & 0.2273 & 0.48 & 0.2985 & 0 &  2 &  2\\\\\n",
       "\t 17339 & 2012-12-30 & 1 & 1 & 12 &  7 & 0 & 0 & 0 & 1 & 0.24 & 0.2121 & 0.56 & 0.3582 & 0 & 13 & 13\\\\\n",
       "\t 17359 & 2012-12-31 & 1 & 1 & 12 &  3 & 0 & 1 & 1 & 1 & 0.16 & 0.1818 & 0.59 & 0.1045 & 0 &  1 &  1\\\\\n",
       "\t 17360 & 2012-12-31 & 1 & 1 & 12 &  4 & 0 & 1 & 1 & 1 & 0.14 & 0.1667 & 0.69 & 0.1045 & 0 &  3 &  3\\\\\n",
       "\t 17361 & 2012-12-31 & 1 & 1 & 12 &  5 & 0 & 1 & 1 & 1 & 0.16 & 0.1515 & 0.64 & 0.1940 & 0 &  9 &  9\\\\\n",
       "\t 17362 & 2012-12-31 & 1 & 1 & 12 &  6 & 0 & 1 & 1 & 1 & 0.16 & 0.1667 & 0.64 & 0.1642 & 0 & 40 & 40\\\\\n",
       "\\end{tabular}\n"
      ],
      "text/markdown": [
       "\n",
       "A data.frame: 17379 × 17\n",
       "\n",
       "| instant &lt;int&gt; | dteday &lt;fct&gt; | season &lt;int&gt; | yr &lt;int&gt; | mnth &lt;int&gt; | hr &lt;int&gt; | holiday &lt;int&gt; | weekday &lt;int&gt; | workingday &lt;int&gt; | weathersit &lt;int&gt; | temp &lt;dbl&gt; | atemp &lt;dbl&gt; | hum &lt;dbl&gt; | windspeed &lt;dbl&gt; | casual &lt;int&gt; | registered &lt;int&gt; | cnt &lt;int&gt; |\n",
       "|---|---|---|---|---|---|---|---|---|---|---|---|---|---|---|---|---|\n",
       "| 10478 | 2012-03-17 | 1 | 1 |  3 | 16 | 0 | 6 | 0 | 1 | 0.64 | 0.6212 | 0.50 | 0.0000 | 367 | 318 | 685 |\n",
       "| 15344 | 2012-10-06 | 4 | 1 | 10 | 12 | 0 | 6 | 0 | 1 | 0.70 | 0.6515 | 0.54 | 0.1045 | 362 | 381 | 743 |\n",
       "| 11986 | 2012-05-19 | 2 | 1 |  5 | 14 | 0 | 6 | 0 | 1 | 0.72 | 0.6515 | 0.30 | 0.0896 | 361 | 369 | 730 |\n",
       "| 10477 | 2012-03-17 | 1 | 1 |  3 | 15 | 0 | 6 | 0 | 1 | 0.64 | 0.6212 | 0.53 | 0.1343 | 357 | 322 | 679 |\n",
       "| 11987 | 2012-05-19 | 2 | 1 |  5 | 15 | 0 | 6 | 0 | 1 | 0.72 | 0.6515 | 0.30 | 0.1045 | 356 | 316 | 672 |\n",
       "| 10978 | 2012-04-07 | 2 | 1 |  4 | 13 | 0 | 6 | 0 | 1 | 0.50 | 0.4848 | 0.22 | 0.1940 | 355 | 288 | 643 |\n",
       "| 10981 | 2012-04-07 | 2 | 1 |  4 | 16 | 0 | 6 | 0 | 1 | 0.54 | 0.5152 | 0.19 | 0.3881 | 354 | 261 | 615 |\n",
       "| 10476 | 2012-03-17 | 1 | 1 |  3 | 14 | 0 | 6 | 0 | 1 | 0.62 | 0.6212 | 0.53 | 0.0896 | 352 | 338 | 690 |\n",
       "| 14844 | 2012-09-15 | 3 | 1 |  9 | 16 | 0 | 6 | 0 | 2 | 0.66 | 0.6212 | 0.36 | 0.2239 | 350 | 433 | 783 |\n",
       "| 15685 | 2012-10-20 | 4 | 1 | 10 | 17 | 0 | 6 | 0 | 1 | 0.54 | 0.5152 | 0.37 | 0.2239 | 347 | 384 | 731 |\n",
       "| 15682 | 2012-10-20 | 4 | 1 | 10 | 14 | 0 | 6 | 0 | 1 | 0.56 | 0.5303 | 0.40 | 0.0000 | 335 | 376 | 711 |\n",
       "| 11985 | 2012-05-19 | 2 | 1 |  5 | 13 | 0 | 6 | 0 | 1 | 0.70 | 0.6364 | 0.37 | 0.1343 | 332 | 372 | 704 |\n",
       "| 11988 | 2012-05-19 | 2 | 1 |  5 | 16 | 0 | 6 | 0 | 1 | 0.74 | 0.6515 | 0.30 | 0.1045 | 331 | 311 | 642 |\n",
       "| 14841 | 2012-09-15 | 3 | 1 |  9 | 13 | 0 | 6 | 0 | 1 | 0.68 | 0.6364 | 0.36 | 0.1940 | 327 | 377 | 704 |\n",
       "| 10979 | 2012-04-07 | 2 | 1 |  4 | 14 | 0 | 6 | 0 | 1 | 0.50 | 0.4848 | 0.22 | 0.2985 | 326 | 252 | 578 |\n",
       "| 14842 | 2012-09-15 | 3 | 1 |  9 | 14 | 0 | 6 | 0 | 1 | 0.68 | 0.6364 | 0.34 | 0.3284 | 325 | 390 | 715 |\n",
       "| 15684 | 2012-10-20 | 4 | 1 | 10 | 16 | 0 | 6 | 0 | 1 | 0.54 | 0.5152 | 0.42 | 0.2836 | 325 | 366 | 691 |\n",
       "| 15850 | 2012-10-27 | 4 | 1 | 10 | 14 | 0 | 6 | 0 | 1 | 0.60 | 0.6212 | 0.46 | 0.2537 | 325 | 425 | 750 |\n",
       "| 10980 | 2012-04-07 | 2 | 1 |  4 | 15 | 0 | 6 | 0 | 1 | 0.52 | 0.5000 | 0.19 | 0.4179 | 321 | 305 | 626 |\n",
       "| 10977 | 2012-04-07 | 2 | 1 |  4 | 12 | 0 | 6 | 0 | 1 | 0.46 | 0.4545 | 0.23 | 0.3881 | 320 | 270 | 590 |\n",
       "| 12178 | 2012-05-27 | 2 | 1 |  5 | 14 | 0 | 0 | 0 | 1 | 0.76 | 0.7121 | 0.58 | 0.2537 | 317 | 230 | 547 |\n",
       "| 15348 | 2012-10-06 | 4 | 1 | 10 | 16 | 0 | 6 | 0 | 1 | 0.60 | 0.6212 | 0.43 | 0.5224 | 317 | 342 | 659 |\n",
       "| 14843 | 2012-09-15 | 3 | 1 |  9 | 15 | 0 | 6 | 0 | 2 | 0.68 | 0.6364 | 0.34 | 0.2836 | 312 | 342 | 654 |\n",
       "| 11147 | 2012-04-14 | 2 | 1 |  4 | 15 | 0 | 6 | 0 | 2 | 0.64 | 0.6212 | 0.27 | 0.3582 | 311 | 347 | 658 |\n",
       "| 15345 | 2012-10-06 | 4 | 1 | 10 | 13 | 0 | 6 | 0 | 2 | 0.64 | 0.6212 | 0.57 | 0.5224 | 310 | 400 | 710 |\n",
       "| 15849 | 2012-10-27 | 4 | 1 | 10 | 13 | 0 | 6 | 0 | 1 | 0.60 | 0.6212 | 0.43 | 0.2537 | 310 | 450 | 760 |\n",
       "| 15851 | 2012-10-27 | 4 | 1 | 10 | 15 | 0 | 6 | 0 | 2 | 0.56 | 0.5303 | 0.60 | 0.2836 | 310 | 401 | 711 |\n",
       "| 11145 | 2012-04-14 | 2 | 1 |  4 | 13 | 0 | 6 | 0 | 1 | 0.62 | 0.6212 | 0.33 | 0.2985 | 308 | 370 | 678 |\n",
       "| 15683 | 2012-10-20 | 4 | 1 | 10 | 15 | 0 | 6 | 0 | 1 | 0.56 | 0.5303 | 0.43 | 0.0000 | 308 | 403 | 711 |\n",
       "| 12154 | 2012-05-26 | 2 | 1 |  5 | 14 | 0 | 6 | 0 | 1 | 0.76 | 0.7273 | 0.66 | 0.2239 | 307 | 257 | 564 |\n",
       "| ⋮ | ⋮ | ⋮ | ⋮ | ⋮ | ⋮ | ⋮ | ⋮ | ⋮ | ⋮ | ⋮ | ⋮ | ⋮ | ⋮ | ⋮ | ⋮ | ⋮ |\n",
       "| 17251 | 2012-12-26 | 1 | 1 | 12 | 15 | 0 | 3 | 1 | 3 | 0.26 | 0.2273 | 0.87 | 0.3582 | 0 | 13 | 13 |\n",
       "| 17252 | 2012-12-26 | 1 | 1 | 12 | 16 | 0 | 3 | 1 | 3 | 0.26 | 0.2273 | 0.87 | 0.3582 | 0 | 13 | 13 |\n",
       "| 17256 | 2012-12-26 | 1 | 1 | 12 | 20 | 0 | 3 | 1 | 3 | 0.32 | 0.3030 | 0.93 | 0.2537 | 0 | 32 | 32 |\n",
       "| 17257 | 2012-12-26 | 1 | 1 | 12 | 21 | 0 | 3 | 1 | 2 | 0.30 | 0.2727 | 0.87 | 0.2985 | 0 | 20 | 20 |\n",
       "| 17258 | 2012-12-26 | 1 | 1 | 12 | 22 | 0 | 3 | 1 | 3 | 0.24 | 0.1970 | 0.93 | 0.4478 | 0 | 11 | 11 |\n",
       "| 17260 | 2012-12-27 | 1 | 1 | 12 |  0 | 0 | 4 | 1 | 3 | 0.26 | 0.2273 | 0.87 | 0.2985 | 0 |  3 |  3 |\n",
       "| 17261 | 2012-12-27 | 1 | 1 | 12 |  1 | 0 | 4 | 1 | 3 | 0.24 | 0.1970 | 0.93 | 0.4478 | 0 |  5 |  5 |\n",
       "| 17262 | 2012-12-27 | 1 | 1 | 12 |  2 | 0 | 4 | 1 | 2 | 0.24 | 0.1970 | 0.87 | 0.4478 | 0 |  2 |  2 |\n",
       "| 17263 | 2012-12-27 | 1 | 1 | 12 |  3 | 0 | 4 | 1 | 2 | 0.24 | 0.2273 | 0.87 | 0.2239 | 0 |  1 |  1 |\n",
       "| 17264 | 2012-12-27 | 1 | 1 | 12 |  4 | 0 | 4 | 1 | 2 | 0.24 | 0.2121 | 0.87 | 0.3284 | 0 |  3 |  3 |\n",
       "| 17266 | 2012-12-27 | 1 | 1 | 12 |  6 | 0 | 4 | 1 | 1 | 0.24 | 0.1970 | 0.70 | 0.4925 | 0 | 45 | 45 |\n",
       "| 17267 | 2012-12-27 | 1 | 1 | 12 |  7 | 0 | 4 | 1 | 1 | 0.24 | 0.2273 | 0.70 | 0.2239 | 0 | 90 | 90 |\n",
       "| 17285 | 2012-12-28 | 1 | 1 | 12 |  1 | 0 | 5 | 1 | 1 | 0.24 | 0.2273 | 0.60 | 0.1940 | 0 |  9 |  9 |\n",
       "| 17286 | 2012-12-28 | 1 | 1 | 12 |  2 | 0 | 5 | 1 | 1 | 0.24 | 0.2273 | 0.60 | 0.2537 | 0 |  5 |  5 |\n",
       "| 17287 | 2012-12-28 | 1 | 1 | 12 |  3 | 0 | 5 | 1 | 2 | 0.24 | 0.2424 | 0.60 | 0.1642 | 0 |  2 |  2 |\n",
       "| 17288 | 2012-12-28 | 1 | 1 | 12 |  4 | 0 | 5 | 1 | 2 | 0.24 | 0.2576 | 0.60 | 0.1045 | 0 |  4 |  4 |\n",
       "| 17289 | 2012-12-28 | 1 | 1 | 12 |  5 | 0 | 5 | 1 | 2 | 0.24 | 0.2576 | 0.60 | 0.0896 | 0 | 15 | 15 |\n",
       "| 17312 | 2012-12-29 | 1 | 1 | 12 |  4 | 0 | 6 | 0 | 2 | 0.24 | 0.2424 | 0.75 | 0.0896 | 0 |  3 |  3 |\n",
       "| 17313 | 2012-12-29 | 1 | 1 | 12 |  5 | 0 | 6 | 0 | 2 | 0.24 | 0.2424 | 0.75 | 0.0896 | 0 |  3 |  3 |\n",
       "| 17314 | 2012-12-29 | 1 | 1 | 12 |  6 | 0 | 6 | 0 | 2 | 0.26 | 0.2424 | 0.70 | 0.1045 | 0 |  7 |  7 |\n",
       "| 17331 | 2012-12-29 | 1 | 1 | 12 | 23 | 0 | 6 | 0 | 2 | 0.26 | 0.2424 | 0.60 | 0.0000 | 0 | 32 | 32 |\n",
       "| 17332 | 2012-12-30 | 1 | 1 | 12 |  0 | 0 | 0 | 0 | 2 | 0.26 | 0.2576 | 0.60 | 0.1642 | 0 | 41 | 41 |\n",
       "| 17334 | 2012-12-30 | 1 | 1 | 12 |  2 | 0 | 0 | 0 | 2 | 0.26 | 0.2424 | 0.56 | 0.2836 | 0 | 19 | 19 |\n",
       "| 17336 | 2012-12-30 | 1 | 1 | 12 |  4 | 0 | 0 | 0 | 2 | 0.26 | 0.2576 | 0.56 | 0.2239 | 0 |  7 |  7 |\n",
       "| 17337 | 2012-12-30 | 1 | 1 | 12 |  5 | 0 | 0 | 0 | 2 | 0.26 | 0.2273 | 0.48 | 0.2985 | 0 |  2 |  2 |\n",
       "| 17339 | 2012-12-30 | 1 | 1 | 12 |  7 | 0 | 0 | 0 | 1 | 0.24 | 0.2121 | 0.56 | 0.3582 | 0 | 13 | 13 |\n",
       "| 17359 | 2012-12-31 | 1 | 1 | 12 |  3 | 0 | 1 | 1 | 1 | 0.16 | 0.1818 | 0.59 | 0.1045 | 0 |  1 |  1 |\n",
       "| 17360 | 2012-12-31 | 1 | 1 | 12 |  4 | 0 | 1 | 1 | 1 | 0.14 | 0.1667 | 0.69 | 0.1045 | 0 |  3 |  3 |\n",
       "| 17361 | 2012-12-31 | 1 | 1 | 12 |  5 | 0 | 1 | 1 | 1 | 0.16 | 0.1515 | 0.64 | 0.1940 | 0 |  9 |  9 |\n",
       "| 17362 | 2012-12-31 | 1 | 1 | 12 |  6 | 0 | 1 | 1 | 1 | 0.16 | 0.1667 | 0.64 | 0.1642 | 0 | 40 | 40 |\n",
       "\n"
      ],
      "text/plain": [
       "      instant dteday     season yr mnth hr holiday weekday workingday\n",
       "1     10478   2012-03-17 1      1   3   16 0       6       0         \n",
       "2     15344   2012-10-06 4      1  10   12 0       6       0         \n",
       "3     11986   2012-05-19 2      1   5   14 0       6       0         \n",
       "4     10477   2012-03-17 1      1   3   15 0       6       0         \n",
       "5     11987   2012-05-19 2      1   5   15 0       6       0         \n",
       "6     10978   2012-04-07 2      1   4   13 0       6       0         \n",
       "7     10981   2012-04-07 2      1   4   16 0       6       0         \n",
       "8     10476   2012-03-17 1      1   3   14 0       6       0         \n",
       "9     14844   2012-09-15 3      1   9   16 0       6       0         \n",
       "10    15685   2012-10-20 4      1  10   17 0       6       0         \n",
       "11    15682   2012-10-20 4      1  10   14 0       6       0         \n",
       "12    11985   2012-05-19 2      1   5   13 0       6       0         \n",
       "13    11988   2012-05-19 2      1   5   16 0       6       0         \n",
       "14    14841   2012-09-15 3      1   9   13 0       6       0         \n",
       "15    10979   2012-04-07 2      1   4   14 0       6       0         \n",
       "16    14842   2012-09-15 3      1   9   14 0       6       0         \n",
       "17    15684   2012-10-20 4      1  10   16 0       6       0         \n",
       "18    15850   2012-10-27 4      1  10   14 0       6       0         \n",
       "19    10980   2012-04-07 2      1   4   15 0       6       0         \n",
       "20    10977   2012-04-07 2      1   4   12 0       6       0         \n",
       "21    12178   2012-05-27 2      1   5   14 0       0       0         \n",
       "22    15348   2012-10-06 4      1  10   16 0       6       0         \n",
       "23    14843   2012-09-15 3      1   9   15 0       6       0         \n",
       "24    11147   2012-04-14 2      1   4   15 0       6       0         \n",
       "25    15345   2012-10-06 4      1  10   13 0       6       0         \n",
       "26    15849   2012-10-27 4      1  10   13 0       6       0         \n",
       "27    15851   2012-10-27 4      1  10   15 0       6       0         \n",
       "28    11145   2012-04-14 2      1   4   13 0       6       0         \n",
       "29    15683   2012-10-20 4      1  10   15 0       6       0         \n",
       "30    12154   2012-05-26 2      1   5   14 0       6       0         \n",
       "<U+22EE>     <U+22EE> <U+22EE>   <U+22EE> <U+22EE> <U+22EE> <U+22EE> <U+22EE> <U+22EE> <U+22EE>  \n",
       "17350 17251   2012-12-26 1      1  12   15 0       3       1         \n",
       "17351 17252   2012-12-26 1      1  12   16 0       3       1         \n",
       "17352 17256   2012-12-26 1      1  12   20 0       3       1         \n",
       "17353 17257   2012-12-26 1      1  12   21 0       3       1         \n",
       "17354 17258   2012-12-26 1      1  12   22 0       3       1         \n",
       "17355 17260   2012-12-27 1      1  12    0 0       4       1         \n",
       "17356 17261   2012-12-27 1      1  12    1 0       4       1         \n",
       "17357 17262   2012-12-27 1      1  12    2 0       4       1         \n",
       "17358 17263   2012-12-27 1      1  12    3 0       4       1         \n",
       "17359 17264   2012-12-27 1      1  12    4 0       4       1         \n",
       "17360 17266   2012-12-27 1      1  12    6 0       4       1         \n",
       "17361 17267   2012-12-27 1      1  12    7 0       4       1         \n",
       "17362 17285   2012-12-28 1      1  12    1 0       5       1         \n",
       "17363 17286   2012-12-28 1      1  12    2 0       5       1         \n",
       "17364 17287   2012-12-28 1      1  12    3 0       5       1         \n",
       "17365 17288   2012-12-28 1      1  12    4 0       5       1         \n",
       "17366 17289   2012-12-28 1      1  12    5 0       5       1         \n",
       "17367 17312   2012-12-29 1      1  12    4 0       6       0         \n",
       "17368 17313   2012-12-29 1      1  12    5 0       6       0         \n",
       "17369 17314   2012-12-29 1      1  12    6 0       6       0         \n",
       "17370 17331   2012-12-29 1      1  12   23 0       6       0         \n",
       "17371 17332   2012-12-30 1      1  12    0 0       0       0         \n",
       "17372 17334   2012-12-30 1      1  12    2 0       0       0         \n",
       "17373 17336   2012-12-30 1      1  12    4 0       0       0         \n",
       "17374 17337   2012-12-30 1      1  12    5 0       0       0         \n",
       "17375 17339   2012-12-30 1      1  12    7 0       0       0         \n",
       "17376 17359   2012-12-31 1      1  12    3 0       1       1         \n",
       "17377 17360   2012-12-31 1      1  12    4 0       1       1         \n",
       "17378 17361   2012-12-31 1      1  12    5 0       1       1         \n",
       "17379 17362   2012-12-31 1      1  12    6 0       1       1         \n",
       "      weathersit temp atemp  hum  windspeed casual registered cnt\n",
       "1     1          0.64 0.6212 0.50 0.0000    367    318        685\n",
       "2     1          0.70 0.6515 0.54 0.1045    362    381        743\n",
       "3     1          0.72 0.6515 0.30 0.0896    361    369        730\n",
       "4     1          0.64 0.6212 0.53 0.1343    357    322        679\n",
       "5     1          0.72 0.6515 0.30 0.1045    356    316        672\n",
       "6     1          0.50 0.4848 0.22 0.1940    355    288        643\n",
       "7     1          0.54 0.5152 0.19 0.3881    354    261        615\n",
       "8     1          0.62 0.6212 0.53 0.0896    352    338        690\n",
       "9     2          0.66 0.6212 0.36 0.2239    350    433        783\n",
       "10    1          0.54 0.5152 0.37 0.2239    347    384        731\n",
       "11    1          0.56 0.5303 0.40 0.0000    335    376        711\n",
       "12    1          0.70 0.6364 0.37 0.1343    332    372        704\n",
       "13    1          0.74 0.6515 0.30 0.1045    331    311        642\n",
       "14    1          0.68 0.6364 0.36 0.1940    327    377        704\n",
       "15    1          0.50 0.4848 0.22 0.2985    326    252        578\n",
       "16    1          0.68 0.6364 0.34 0.3284    325    390        715\n",
       "17    1          0.54 0.5152 0.42 0.2836    325    366        691\n",
       "18    1          0.60 0.6212 0.46 0.2537    325    425        750\n",
       "19    1          0.52 0.5000 0.19 0.4179    321    305        626\n",
       "20    1          0.46 0.4545 0.23 0.3881    320    270        590\n",
       "21    1          0.76 0.7121 0.58 0.2537    317    230        547\n",
       "22    1          0.60 0.6212 0.43 0.5224    317    342        659\n",
       "23    2          0.68 0.6364 0.34 0.2836    312    342        654\n",
       "24    2          0.64 0.6212 0.27 0.3582    311    347        658\n",
       "25    2          0.64 0.6212 0.57 0.5224    310    400        710\n",
       "26    1          0.60 0.6212 0.43 0.2537    310    450        760\n",
       "27    2          0.56 0.5303 0.60 0.2836    310    401        711\n",
       "28    1          0.62 0.6212 0.33 0.2985    308    370        678\n",
       "29    1          0.56 0.5303 0.43 0.0000    308    403        711\n",
       "30    1          0.76 0.7273 0.66 0.2239    307    257        564\n",
       "<U+22EE>     <U+22EE>   <U+22EE> <U+22EE> <U+22EE> <U+22EE>  <U+22EE> <U+22EE>   <U+22EE>\n",
       "17350 3          0.26 0.2273 0.87 0.3582    0      13         13 \n",
       "17351 3          0.26 0.2273 0.87 0.3582    0      13         13 \n",
       "17352 3          0.32 0.3030 0.93 0.2537    0      32         32 \n",
       "17353 2          0.30 0.2727 0.87 0.2985    0      20         20 \n",
       "17354 3          0.24 0.1970 0.93 0.4478    0      11         11 \n",
       "17355 3          0.26 0.2273 0.87 0.2985    0       3          3 \n",
       "17356 3          0.24 0.1970 0.93 0.4478    0       5          5 \n",
       "17357 2          0.24 0.1970 0.87 0.4478    0       2          2 \n",
       "17358 2          0.24 0.2273 0.87 0.2239    0       1          1 \n",
       "17359 2          0.24 0.2121 0.87 0.3284    0       3          3 \n",
       "17360 1          0.24 0.1970 0.70 0.4925    0      45         45 \n",
       "17361 1          0.24 0.2273 0.70 0.2239    0      90         90 \n",
       "17362 1          0.24 0.2273 0.60 0.1940    0       9          9 \n",
       "17363 1          0.24 0.2273 0.60 0.2537    0       5          5 \n",
       "17364 2          0.24 0.2424 0.60 0.1642    0       2          2 \n",
       "17365 2          0.24 0.2576 0.60 0.1045    0       4          4 \n",
       "17366 2          0.24 0.2576 0.60 0.0896    0      15         15 \n",
       "17367 2          0.24 0.2424 0.75 0.0896    0       3          3 \n",
       "17368 2          0.24 0.2424 0.75 0.0896    0       3          3 \n",
       "17369 2          0.26 0.2424 0.70 0.1045    0       7          7 \n",
       "17370 2          0.26 0.2424 0.60 0.0000    0      32         32 \n",
       "17371 2          0.26 0.2576 0.60 0.1642    0      41         41 \n",
       "17372 2          0.26 0.2424 0.56 0.2836    0      19         19 \n",
       "17373 2          0.26 0.2576 0.56 0.2239    0       7          7 \n",
       "17374 2          0.26 0.2273 0.48 0.2985    0       2          2 \n",
       "17375 1          0.24 0.2121 0.56 0.3582    0      13         13 \n",
       "17376 1          0.16 0.1818 0.59 0.1045    0       1          1 \n",
       "17377 1          0.14 0.1667 0.69 0.1045    0       3          3 \n",
       "17378 1          0.16 0.1515 0.64 0.1940    0       9          9 \n",
       "17379 1          0.16 0.1667 0.64 0.1642    0      40         40 "
      ]
     },
     "metadata": {},
     "output_type": "display_data"
    },
    {
     "data": {
      "text/html": [
       "<table class=\"dataframe\">\n",
       "<caption>A data.frame: 10 × 17</caption>\n",
       "<thead>\n",
       "\t<tr><th scope=col>instant</th><th scope=col>dteday</th><th scope=col>season</th><th scope=col>yr</th><th scope=col>mnth</th><th scope=col>hr</th><th scope=col>holiday</th><th scope=col>weekday</th><th scope=col>workingday</th><th scope=col>weathersit</th><th scope=col>temp</th><th scope=col>atemp</th><th scope=col>hum</th><th scope=col>windspeed</th><th scope=col>casual</th><th scope=col>registered</th><th scope=col>cnt</th></tr>\n",
       "\t<tr><th scope=col>&lt;int&gt;</th><th scope=col>&lt;fct&gt;</th><th scope=col>&lt;int&gt;</th><th scope=col>&lt;int&gt;</th><th scope=col>&lt;int&gt;</th><th scope=col>&lt;int&gt;</th><th scope=col>&lt;int&gt;</th><th scope=col>&lt;int&gt;</th><th scope=col>&lt;int&gt;</th><th scope=col>&lt;int&gt;</th><th scope=col>&lt;dbl&gt;</th><th scope=col>&lt;dbl&gt;</th><th scope=col>&lt;dbl&gt;</th><th scope=col>&lt;dbl&gt;</th><th scope=col>&lt;int&gt;</th><th scope=col>&lt;int&gt;</th><th scope=col>&lt;int&gt;</th></tr>\n",
       "</thead>\n",
       "<tbody>\n",
       "\t<tr><td>10476</td><td>2012-03-17</td><td>1</td><td>1</td><td> 3</td><td>14</td><td>0</td><td>6</td><td>0</td><td>1</td><td>0.62</td><td>0.6212</td><td>0.53</td><td>0.0896</td><td>352</td><td>338</td><td>690</td></tr>\n",
       "\t<tr><td>10477</td><td>2012-03-17</td><td>1</td><td>1</td><td> 3</td><td>15</td><td>0</td><td>6</td><td>0</td><td>1</td><td>0.64</td><td>0.6212</td><td>0.53</td><td>0.1343</td><td>357</td><td>322</td><td>679</td></tr>\n",
       "\t<tr><td>10478</td><td>2012-03-17</td><td>1</td><td>1</td><td> 3</td><td>16</td><td>0</td><td>6</td><td>0</td><td>1</td><td>0.64</td><td>0.6212</td><td>0.50</td><td>0.0000</td><td>367</td><td>318</td><td>685</td></tr>\n",
       "\t<tr><td>10978</td><td>2012-04-07</td><td>2</td><td>1</td><td> 4</td><td>13</td><td>0</td><td>6</td><td>0</td><td>1</td><td>0.50</td><td>0.4848</td><td>0.22</td><td>0.1940</td><td>355</td><td>288</td><td>643</td></tr>\n",
       "\t<tr><td>10981</td><td>2012-04-07</td><td>2</td><td>1</td><td> 4</td><td>16</td><td>0</td><td>6</td><td>0</td><td>1</td><td>0.54</td><td>0.5152</td><td>0.19</td><td>0.3881</td><td>354</td><td>261</td><td>615</td></tr>\n",
       "\t<tr><td>11986</td><td>2012-05-19</td><td>2</td><td>1</td><td> 5</td><td>14</td><td>0</td><td>6</td><td>0</td><td>1</td><td>0.72</td><td>0.6515</td><td>0.30</td><td>0.0896</td><td>361</td><td>369</td><td>730</td></tr>\n",
       "\t<tr><td>11987</td><td>2012-05-19</td><td>2</td><td>1</td><td> 5</td><td>15</td><td>0</td><td>6</td><td>0</td><td>1</td><td>0.72</td><td>0.6515</td><td>0.30</td><td>0.1045</td><td>356</td><td>316</td><td>672</td></tr>\n",
       "\t<tr><td>14844</td><td>2012-09-15</td><td>3</td><td>1</td><td> 9</td><td>16</td><td>0</td><td>6</td><td>0</td><td>2</td><td>0.66</td><td>0.6212</td><td>0.36</td><td>0.2239</td><td>350</td><td>433</td><td>783</td></tr>\n",
       "\t<tr><td>15344</td><td>2012-10-06</td><td>4</td><td>1</td><td>10</td><td>12</td><td>0</td><td>6</td><td>0</td><td>1</td><td>0.70</td><td>0.6515</td><td>0.54</td><td>0.1045</td><td>362</td><td>381</td><td>743</td></tr>\n",
       "\t<tr><td>15685</td><td>2012-10-20</td><td>4</td><td>1</td><td>10</td><td>17</td><td>0</td><td>6</td><td>0</td><td>1</td><td>0.54</td><td>0.5152</td><td>0.37</td><td>0.2239</td><td>347</td><td>384</td><td>731</td></tr>\n",
       "</tbody>\n",
       "</table>\n"
      ],
      "text/latex": [
       "A data.frame: 10 × 17\n",
       "\\begin{tabular}{lllllllllllllllll}\n",
       " instant & dteday & season & yr & mnth & hr & holiday & weekday & workingday & weathersit & temp & atemp & hum & windspeed & casual & registered & cnt\\\\\n",
       " <int> & <fct> & <int> & <int> & <int> & <int> & <int> & <int> & <int> & <int> & <dbl> & <dbl> & <dbl> & <dbl> & <int> & <int> & <int>\\\\\n",
       "\\hline\n",
       "\t 10476 & 2012-03-17 & 1 & 1 &  3 & 14 & 0 & 6 & 0 & 1 & 0.62 & 0.6212 & 0.53 & 0.0896 & 352 & 338 & 690\\\\\n",
       "\t 10477 & 2012-03-17 & 1 & 1 &  3 & 15 & 0 & 6 & 0 & 1 & 0.64 & 0.6212 & 0.53 & 0.1343 & 357 & 322 & 679\\\\\n",
       "\t 10478 & 2012-03-17 & 1 & 1 &  3 & 16 & 0 & 6 & 0 & 1 & 0.64 & 0.6212 & 0.50 & 0.0000 & 367 & 318 & 685\\\\\n",
       "\t 10978 & 2012-04-07 & 2 & 1 &  4 & 13 & 0 & 6 & 0 & 1 & 0.50 & 0.4848 & 0.22 & 0.1940 & 355 & 288 & 643\\\\\n",
       "\t 10981 & 2012-04-07 & 2 & 1 &  4 & 16 & 0 & 6 & 0 & 1 & 0.54 & 0.5152 & 0.19 & 0.3881 & 354 & 261 & 615\\\\\n",
       "\t 11986 & 2012-05-19 & 2 & 1 &  5 & 14 & 0 & 6 & 0 & 1 & 0.72 & 0.6515 & 0.30 & 0.0896 & 361 & 369 & 730\\\\\n",
       "\t 11987 & 2012-05-19 & 2 & 1 &  5 & 15 & 0 & 6 & 0 & 1 & 0.72 & 0.6515 & 0.30 & 0.1045 & 356 & 316 & 672\\\\\n",
       "\t 14844 & 2012-09-15 & 3 & 1 &  9 & 16 & 0 & 6 & 0 & 2 & 0.66 & 0.6212 & 0.36 & 0.2239 & 350 & 433 & 783\\\\\n",
       "\t 15344 & 2012-10-06 & 4 & 1 & 10 & 12 & 0 & 6 & 0 & 1 & 0.70 & 0.6515 & 0.54 & 0.1045 & 362 & 381 & 743\\\\\n",
       "\t 15685 & 2012-10-20 & 4 & 1 & 10 & 17 & 0 & 6 & 0 & 1 & 0.54 & 0.5152 & 0.37 & 0.2239 & 347 & 384 & 731\\\\\n",
       "\\end{tabular}\n"
      ],
      "text/markdown": [
       "\n",
       "A data.frame: 10 × 17\n",
       "\n",
       "| instant &lt;int&gt; | dteday &lt;fct&gt; | season &lt;int&gt; | yr &lt;int&gt; | mnth &lt;int&gt; | hr &lt;int&gt; | holiday &lt;int&gt; | weekday &lt;int&gt; | workingday &lt;int&gt; | weathersit &lt;int&gt; | temp &lt;dbl&gt; | atemp &lt;dbl&gt; | hum &lt;dbl&gt; | windspeed &lt;dbl&gt; | casual &lt;int&gt; | registered &lt;int&gt; | cnt &lt;int&gt; |\n",
       "|---|---|---|---|---|---|---|---|---|---|---|---|---|---|---|---|---|\n",
       "| 10476 | 2012-03-17 | 1 | 1 |  3 | 14 | 0 | 6 | 0 | 1 | 0.62 | 0.6212 | 0.53 | 0.0896 | 352 | 338 | 690 |\n",
       "| 10477 | 2012-03-17 | 1 | 1 |  3 | 15 | 0 | 6 | 0 | 1 | 0.64 | 0.6212 | 0.53 | 0.1343 | 357 | 322 | 679 |\n",
       "| 10478 | 2012-03-17 | 1 | 1 |  3 | 16 | 0 | 6 | 0 | 1 | 0.64 | 0.6212 | 0.50 | 0.0000 | 367 | 318 | 685 |\n",
       "| 10978 | 2012-04-07 | 2 | 1 |  4 | 13 | 0 | 6 | 0 | 1 | 0.50 | 0.4848 | 0.22 | 0.1940 | 355 | 288 | 643 |\n",
       "| 10981 | 2012-04-07 | 2 | 1 |  4 | 16 | 0 | 6 | 0 | 1 | 0.54 | 0.5152 | 0.19 | 0.3881 | 354 | 261 | 615 |\n",
       "| 11986 | 2012-05-19 | 2 | 1 |  5 | 14 | 0 | 6 | 0 | 1 | 0.72 | 0.6515 | 0.30 | 0.0896 | 361 | 369 | 730 |\n",
       "| 11987 | 2012-05-19 | 2 | 1 |  5 | 15 | 0 | 6 | 0 | 1 | 0.72 | 0.6515 | 0.30 | 0.1045 | 356 | 316 | 672 |\n",
       "| 14844 | 2012-09-15 | 3 | 1 |  9 | 16 | 0 | 6 | 0 | 2 | 0.66 | 0.6212 | 0.36 | 0.2239 | 350 | 433 | 783 |\n",
       "| 15344 | 2012-10-06 | 4 | 1 | 10 | 12 | 0 | 6 | 0 | 1 | 0.70 | 0.6515 | 0.54 | 0.1045 | 362 | 381 | 743 |\n",
       "| 15685 | 2012-10-20 | 4 | 1 | 10 | 17 | 0 | 6 | 0 | 1 | 0.54 | 0.5152 | 0.37 | 0.2239 | 347 | 384 | 731 |\n",
       "\n"
      ],
      "text/plain": [
       "   instant dteday     season yr mnth hr holiday weekday workingday weathersit\n",
       "1  10476   2012-03-17 1      1   3   14 0       6       0          1         \n",
       "2  10477   2012-03-17 1      1   3   15 0       6       0          1         \n",
       "3  10478   2012-03-17 1      1   3   16 0       6       0          1         \n",
       "4  10978   2012-04-07 2      1   4   13 0       6       0          1         \n",
       "5  10981   2012-04-07 2      1   4   16 0       6       0          1         \n",
       "6  11986   2012-05-19 2      1   5   14 0       6       0          1         \n",
       "7  11987   2012-05-19 2      1   5   15 0       6       0          1         \n",
       "8  14844   2012-09-15 3      1   9   16 0       6       0          2         \n",
       "9  15344   2012-10-06 4      1  10   12 0       6       0          1         \n",
       "10 15685   2012-10-20 4      1  10   17 0       6       0          1         \n",
       "   temp atemp  hum  windspeed casual registered cnt\n",
       "1  0.62 0.6212 0.53 0.0896    352    338        690\n",
       "2  0.64 0.6212 0.53 0.1343    357    322        679\n",
       "3  0.64 0.6212 0.50 0.0000    367    318        685\n",
       "4  0.50 0.4848 0.22 0.1940    355    288        643\n",
       "5  0.54 0.5152 0.19 0.3881    354    261        615\n",
       "6  0.72 0.6515 0.30 0.0896    361    369        730\n",
       "7  0.72 0.6515 0.30 0.1045    356    316        672\n",
       "8  0.66 0.6212 0.36 0.2239    350    433        783\n",
       "9  0.70 0.6515 0.54 0.1045    362    381        743\n",
       "10 0.54 0.5152 0.37 0.2239    347    384        731"
      ]
     },
     "metadata": {},
     "output_type": "display_data"
    }
   ],
   "source": [
    "#only get records with cnt (total users) greater than or equal to 900\n",
    "bike_df %>%\n",
    "    filter(cnt >=900)\n",
    "\n",
    "#arrange bike_df by casual users in descending order\n",
    "arrange(bike_df, desc(bike_df$casual))\n",
    "\n",
    "#shows top 10 records of casual users\n",
    "top_n(bike_df, 10, bike_df$casual) "
   ]
  },
  {
   "cell_type": "code",
   "execution_count": 47,
   "metadata": {
    "vscode": {
     "languageId": "r"
    }
   },
   "outputs": [],
   "source": [
    "#####custom function here"
   ]
  },
  {
   "cell_type": "markdown",
   "metadata": {},
   "source": [
    "### Task (c): working on columns (10 marks)\n",
    "\n",
    "Working on `bike_df`, show that you can operate on columns: selecting some of them, dropping other, renaming them, reordering them, ...\n",
    "\n",
    "\n",
    "_hint_ useful functions: `select()`, `rename()`, ..."
   ]
  },
  {
   "cell_type": "code",
   "execution_count": 7,
   "metadata": {
    "vscode": {
     "languageId": "r"
    }
   },
   "outputs": [
    {
     "data": {
      "text/html": [
       "<table class=\"dataframe\">\n",
       "<caption>A data.frame: 5 × 7</caption>\n",
       "<thead>\n",
       "\t<tr><th></th><th scope=col>yr</th><th scope=col>hr</th><th scope=col>weathersit</th><th scope=col>temp</th><th scope=col>casual</th><th scope=col>registered</th><th scope=col>cnt</th></tr>\n",
       "\t<tr><th></th><th scope=col>&lt;int&gt;</th><th scope=col>&lt;int&gt;</th><th scope=col>&lt;int&gt;</th><th scope=col>&lt;dbl&gt;</th><th scope=col>&lt;int&gt;</th><th scope=col>&lt;int&gt;</th><th scope=col>&lt;int&gt;</th></tr>\n",
       "</thead>\n",
       "<tbody>\n",
       "\t<tr><th scope=row>1</th><td>0</td><td>0</td><td>1</td><td>0.24</td><td>3</td><td>13</td><td>16</td></tr>\n",
       "\t<tr><th scope=row>2</th><td>0</td><td>1</td><td>1</td><td>0.22</td><td>8</td><td>32</td><td>40</td></tr>\n",
       "\t<tr><th scope=row>3</th><td>0</td><td>2</td><td>1</td><td>0.22</td><td>5</td><td>27</td><td>32</td></tr>\n",
       "\t<tr><th scope=row>4</th><td>0</td><td>3</td><td>1</td><td>0.24</td><td>3</td><td>10</td><td>13</td></tr>\n",
       "\t<tr><th scope=row>5</th><td>0</td><td>4</td><td>1</td><td>0.24</td><td>0</td><td> 1</td><td> 1</td></tr>\n",
       "</tbody>\n",
       "</table>\n"
      ],
      "text/latex": [
       "A data.frame: 5 × 7\n",
       "\\begin{tabular}{r|lllllll}\n",
       "  & yr & hr & weathersit & temp & casual & registered & cnt\\\\\n",
       "  & <int> & <int> & <int> & <dbl> & <int> & <int> & <int>\\\\\n",
       "\\hline\n",
       "\t1 & 0 & 0 & 1 & 0.24 & 3 & 13 & 16\\\\\n",
       "\t2 & 0 & 1 & 1 & 0.22 & 8 & 32 & 40\\\\\n",
       "\t3 & 0 & 2 & 1 & 0.22 & 5 & 27 & 32\\\\\n",
       "\t4 & 0 & 3 & 1 & 0.24 & 3 & 10 & 13\\\\\n",
       "\t5 & 0 & 4 & 1 & 0.24 & 0 &  1 &  1\\\\\n",
       "\\end{tabular}\n"
      ],
      "text/markdown": [
       "\n",
       "A data.frame: 5 × 7\n",
       "\n",
       "| <!--/--> | yr &lt;int&gt; | hr &lt;int&gt; | weathersit &lt;int&gt; | temp &lt;dbl&gt; | casual &lt;int&gt; | registered &lt;int&gt; | cnt &lt;int&gt; |\n",
       "|---|---|---|---|---|---|---|---|\n",
       "| 1 | 0 | 0 | 1 | 0.24 | 3 | 13 | 16 |\n",
       "| 2 | 0 | 1 | 1 | 0.22 | 8 | 32 | 40 |\n",
       "| 3 | 0 | 2 | 1 | 0.22 | 5 | 27 | 32 |\n",
       "| 4 | 0 | 3 | 1 | 0.24 | 3 | 10 | 13 |\n",
       "| 5 | 0 | 4 | 1 | 0.24 | 0 |  1 |  1 |\n",
       "\n"
      ],
      "text/plain": [
       "  yr hr weathersit temp casual registered cnt\n",
       "1 0  0  1          0.24 3      13         16 \n",
       "2 0  1  1          0.22 8      32         40 \n",
       "3 0  2  1          0.22 5      27         32 \n",
       "4 0  3  1          0.24 3      10         13 \n",
       "5 0  4  1          0.24 0       1          1 "
      ]
     },
     "metadata": {},
     "output_type": "display_data"
    },
    {
     "data": {
      "text/html": [
       "<table class=\"dataframe\">\n",
       "<caption>A data.frame: 5 × 17</caption>\n",
       "<thead>\n",
       "\t<tr><th></th><th scope=col>instant</th><th scope=col>dteday</th><th scope=col>season</th><th scope=col>yr</th><th scope=col>mnth</th><th scope=col>hr</th><th scope=col>holiday</th><th scope=col>weekday</th><th scope=col>workingday</th><th scope=col>weather_cnd</th><th scope=col>temp</th><th scope=col>atemp</th><th scope=col>hum</th><th scope=col>windspeed</th><th scope=col>casual</th><th scope=col>regs</th><th scope=col>count</th></tr>\n",
       "\t<tr><th></th><th scope=col>&lt;int&gt;</th><th scope=col>&lt;fct&gt;</th><th scope=col>&lt;int&gt;</th><th scope=col>&lt;int&gt;</th><th scope=col>&lt;int&gt;</th><th scope=col>&lt;int&gt;</th><th scope=col>&lt;int&gt;</th><th scope=col>&lt;int&gt;</th><th scope=col>&lt;int&gt;</th><th scope=col>&lt;int&gt;</th><th scope=col>&lt;dbl&gt;</th><th scope=col>&lt;dbl&gt;</th><th scope=col>&lt;dbl&gt;</th><th scope=col>&lt;dbl&gt;</th><th scope=col>&lt;int&gt;</th><th scope=col>&lt;int&gt;</th><th scope=col>&lt;int&gt;</th></tr>\n",
       "</thead>\n",
       "<tbody>\n",
       "\t<tr><th scope=row>1</th><td>1</td><td>2011-01-01</td><td>1</td><td>0</td><td>1</td><td>0</td><td>0</td><td>6</td><td>0</td><td>1</td><td>0.24</td><td>0.2879</td><td>0.81</td><td>0</td><td>3</td><td>13</td><td>16</td></tr>\n",
       "\t<tr><th scope=row>2</th><td>2</td><td>2011-01-01</td><td>1</td><td>0</td><td>1</td><td>1</td><td>0</td><td>6</td><td>0</td><td>1</td><td>0.22</td><td>0.2727</td><td>0.80</td><td>0</td><td>8</td><td>32</td><td>40</td></tr>\n",
       "\t<tr><th scope=row>3</th><td>3</td><td>2011-01-01</td><td>1</td><td>0</td><td>1</td><td>2</td><td>0</td><td>6</td><td>0</td><td>1</td><td>0.22</td><td>0.2727</td><td>0.80</td><td>0</td><td>5</td><td>27</td><td>32</td></tr>\n",
       "\t<tr><th scope=row>4</th><td>4</td><td>2011-01-01</td><td>1</td><td>0</td><td>1</td><td>3</td><td>0</td><td>6</td><td>0</td><td>1</td><td>0.24</td><td>0.2879</td><td>0.75</td><td>0</td><td>3</td><td>10</td><td>13</td></tr>\n",
       "\t<tr><th scope=row>5</th><td>5</td><td>2011-01-01</td><td>1</td><td>0</td><td>1</td><td>4</td><td>0</td><td>6</td><td>0</td><td>1</td><td>0.24</td><td>0.2879</td><td>0.75</td><td>0</td><td>0</td><td> 1</td><td> 1</td></tr>\n",
       "</tbody>\n",
       "</table>\n"
      ],
      "text/latex": [
       "A data.frame: 5 × 17\n",
       "\\begin{tabular}{r|lllllllllllllllll}\n",
       "  & instant & dteday & season & yr & mnth & hr & holiday & weekday & workingday & weather\\_cnd & temp & atemp & hum & windspeed & casual & regs & count\\\\\n",
       "  & <int> & <fct> & <int> & <int> & <int> & <int> & <int> & <int> & <int> & <int> & <dbl> & <dbl> & <dbl> & <dbl> & <int> & <int> & <int>\\\\\n",
       "\\hline\n",
       "\t1 & 1 & 2011-01-01 & 1 & 0 & 1 & 0 & 0 & 6 & 0 & 1 & 0.24 & 0.2879 & 0.81 & 0 & 3 & 13 & 16\\\\\n",
       "\t2 & 2 & 2011-01-01 & 1 & 0 & 1 & 1 & 0 & 6 & 0 & 1 & 0.22 & 0.2727 & 0.80 & 0 & 8 & 32 & 40\\\\\n",
       "\t3 & 3 & 2011-01-01 & 1 & 0 & 1 & 2 & 0 & 6 & 0 & 1 & 0.22 & 0.2727 & 0.80 & 0 & 5 & 27 & 32\\\\\n",
       "\t4 & 4 & 2011-01-01 & 1 & 0 & 1 & 3 & 0 & 6 & 0 & 1 & 0.24 & 0.2879 & 0.75 & 0 & 3 & 10 & 13\\\\\n",
       "\t5 & 5 & 2011-01-01 & 1 & 0 & 1 & 4 & 0 & 6 & 0 & 1 & 0.24 & 0.2879 & 0.75 & 0 & 0 &  1 &  1\\\\\n",
       "\\end{tabular}\n"
      ],
      "text/markdown": [
       "\n",
       "A data.frame: 5 × 17\n",
       "\n",
       "| <!--/--> | instant &lt;int&gt; | dteday &lt;fct&gt; | season &lt;int&gt; | yr &lt;int&gt; | mnth &lt;int&gt; | hr &lt;int&gt; | holiday &lt;int&gt; | weekday &lt;int&gt; | workingday &lt;int&gt; | weather_cnd &lt;int&gt; | temp &lt;dbl&gt; | atemp &lt;dbl&gt; | hum &lt;dbl&gt; | windspeed &lt;dbl&gt; | casual &lt;int&gt; | regs &lt;int&gt; | count &lt;int&gt; |\n",
       "|---|---|---|---|---|---|---|---|---|---|---|---|---|---|---|---|---|---|\n",
       "| 1 | 1 | 2011-01-01 | 1 | 0 | 1 | 0 | 0 | 6 | 0 | 1 | 0.24 | 0.2879 | 0.81 | 0 | 3 | 13 | 16 |\n",
       "| 2 | 2 | 2011-01-01 | 1 | 0 | 1 | 1 | 0 | 6 | 0 | 1 | 0.22 | 0.2727 | 0.80 | 0 | 8 | 32 | 40 |\n",
       "| 3 | 3 | 2011-01-01 | 1 | 0 | 1 | 2 | 0 | 6 | 0 | 1 | 0.22 | 0.2727 | 0.80 | 0 | 5 | 27 | 32 |\n",
       "| 4 | 4 | 2011-01-01 | 1 | 0 | 1 | 3 | 0 | 6 | 0 | 1 | 0.24 | 0.2879 | 0.75 | 0 | 3 | 10 | 13 |\n",
       "| 5 | 5 | 2011-01-01 | 1 | 0 | 1 | 4 | 0 | 6 | 0 | 1 | 0.24 | 0.2879 | 0.75 | 0 | 0 |  1 |  1 |\n",
       "\n"
      ],
      "text/plain": [
       "  instant dteday     season yr mnth hr holiday weekday workingday weather_cnd\n",
       "1 1       2011-01-01 1      0  1    0  0       6       0          1          \n",
       "2 2       2011-01-01 1      0  1    1  0       6       0          1          \n",
       "3 3       2011-01-01 1      0  1    2  0       6       0          1          \n",
       "4 4       2011-01-01 1      0  1    3  0       6       0          1          \n",
       "5 5       2011-01-01 1      0  1    4  0       6       0          1          \n",
       "  temp atemp  hum  windspeed casual regs count\n",
       "1 0.24 0.2879 0.81 0         3      13   16   \n",
       "2 0.22 0.2727 0.80 0         8      32   40   \n",
       "3 0.22 0.2727 0.80 0         5      27   32   \n",
       "4 0.24 0.2879 0.75 0         3      10   13   \n",
       "5 0.24 0.2879 0.75 0         0       1    1   "
      ]
     },
     "metadata": {},
     "output_type": "display_data"
    },
    {
     "data": {
      "text/html": [
       "<table class=\"dataframe\">\n",
       "<caption>A data.frame: 5 × 17</caption>\n",
       "<thead>\n",
       "\t<tr><th></th><th scope=col>instant</th><th scope=col>cnt</th><th scope=col>registered</th><th scope=col>casual</th><th scope=col>dteday</th><th scope=col>season</th><th scope=col>yr</th><th scope=col>mnth</th><th scope=col>hr</th><th scope=col>holiday</th><th scope=col>weekday</th><th scope=col>workingday</th><th scope=col>weathersit</th><th scope=col>temp</th><th scope=col>atemp</th><th scope=col>hum</th><th scope=col>windspeed</th></tr>\n",
       "\t<tr><th></th><th scope=col>&lt;int&gt;</th><th scope=col>&lt;int&gt;</th><th scope=col>&lt;int&gt;</th><th scope=col>&lt;int&gt;</th><th scope=col>&lt;fct&gt;</th><th scope=col>&lt;int&gt;</th><th scope=col>&lt;int&gt;</th><th scope=col>&lt;int&gt;</th><th scope=col>&lt;int&gt;</th><th scope=col>&lt;int&gt;</th><th scope=col>&lt;int&gt;</th><th scope=col>&lt;int&gt;</th><th scope=col>&lt;int&gt;</th><th scope=col>&lt;dbl&gt;</th><th scope=col>&lt;dbl&gt;</th><th scope=col>&lt;dbl&gt;</th><th scope=col>&lt;dbl&gt;</th></tr>\n",
       "</thead>\n",
       "<tbody>\n",
       "\t<tr><th scope=row>1</th><td>1</td><td>16</td><td>13</td><td>3</td><td>2011-01-01</td><td>1</td><td>0</td><td>1</td><td>0</td><td>0</td><td>6</td><td>0</td><td>1</td><td>0.24</td><td>0.2879</td><td>0.81</td><td>0</td></tr>\n",
       "\t<tr><th scope=row>2</th><td>2</td><td>40</td><td>32</td><td>8</td><td>2011-01-01</td><td>1</td><td>0</td><td>1</td><td>1</td><td>0</td><td>6</td><td>0</td><td>1</td><td>0.22</td><td>0.2727</td><td>0.80</td><td>0</td></tr>\n",
       "\t<tr><th scope=row>3</th><td>3</td><td>32</td><td>27</td><td>5</td><td>2011-01-01</td><td>1</td><td>0</td><td>1</td><td>2</td><td>0</td><td>6</td><td>0</td><td>1</td><td>0.22</td><td>0.2727</td><td>0.80</td><td>0</td></tr>\n",
       "\t<tr><th scope=row>4</th><td>4</td><td>13</td><td>10</td><td>3</td><td>2011-01-01</td><td>1</td><td>0</td><td>1</td><td>3</td><td>0</td><td>6</td><td>0</td><td>1</td><td>0.24</td><td>0.2879</td><td>0.75</td><td>0</td></tr>\n",
       "\t<tr><th scope=row>5</th><td>5</td><td> 1</td><td> 1</td><td>0</td><td>2011-01-01</td><td>1</td><td>0</td><td>1</td><td>4</td><td>0</td><td>6</td><td>0</td><td>1</td><td>0.24</td><td>0.2879</td><td>0.75</td><td>0</td></tr>\n",
       "</tbody>\n",
       "</table>\n"
      ],
      "text/latex": [
       "A data.frame: 5 × 17\n",
       "\\begin{tabular}{r|lllllllllllllllll}\n",
       "  & instant & cnt & registered & casual & dteday & season & yr & mnth & hr & holiday & weekday & workingday & weathersit & temp & atemp & hum & windspeed\\\\\n",
       "  & <int> & <int> & <int> & <int> & <fct> & <int> & <int> & <int> & <int> & <int> & <int> & <int> & <int> & <dbl> & <dbl> & <dbl> & <dbl>\\\\\n",
       "\\hline\n",
       "\t1 & 1 & 16 & 13 & 3 & 2011-01-01 & 1 & 0 & 1 & 0 & 0 & 6 & 0 & 1 & 0.24 & 0.2879 & 0.81 & 0\\\\\n",
       "\t2 & 2 & 40 & 32 & 8 & 2011-01-01 & 1 & 0 & 1 & 1 & 0 & 6 & 0 & 1 & 0.22 & 0.2727 & 0.80 & 0\\\\\n",
       "\t3 & 3 & 32 & 27 & 5 & 2011-01-01 & 1 & 0 & 1 & 2 & 0 & 6 & 0 & 1 & 0.22 & 0.2727 & 0.80 & 0\\\\\n",
       "\t4 & 4 & 13 & 10 & 3 & 2011-01-01 & 1 & 0 & 1 & 3 & 0 & 6 & 0 & 1 & 0.24 & 0.2879 & 0.75 & 0\\\\\n",
       "\t5 & 5 &  1 &  1 & 0 & 2011-01-01 & 1 & 0 & 1 & 4 & 0 & 6 & 0 & 1 & 0.24 & 0.2879 & 0.75 & 0\\\\\n",
       "\\end{tabular}\n"
      ],
      "text/markdown": [
       "\n",
       "A data.frame: 5 × 17\n",
       "\n",
       "| <!--/--> | instant &lt;int&gt; | cnt &lt;int&gt; | registered &lt;int&gt; | casual &lt;int&gt; | dteday &lt;fct&gt; | season &lt;int&gt; | yr &lt;int&gt; | mnth &lt;int&gt; | hr &lt;int&gt; | holiday &lt;int&gt; | weekday &lt;int&gt; | workingday &lt;int&gt; | weathersit &lt;int&gt; | temp &lt;dbl&gt; | atemp &lt;dbl&gt; | hum &lt;dbl&gt; | windspeed &lt;dbl&gt; |\n",
       "|---|---|---|---|---|---|---|---|---|---|---|---|---|---|---|---|---|---|\n",
       "| 1 | 1 | 16 | 13 | 3 | 2011-01-01 | 1 | 0 | 1 | 0 | 0 | 6 | 0 | 1 | 0.24 | 0.2879 | 0.81 | 0 |\n",
       "| 2 | 2 | 40 | 32 | 8 | 2011-01-01 | 1 | 0 | 1 | 1 | 0 | 6 | 0 | 1 | 0.22 | 0.2727 | 0.80 | 0 |\n",
       "| 3 | 3 | 32 | 27 | 5 | 2011-01-01 | 1 | 0 | 1 | 2 | 0 | 6 | 0 | 1 | 0.22 | 0.2727 | 0.80 | 0 |\n",
       "| 4 | 4 | 13 | 10 | 3 | 2011-01-01 | 1 | 0 | 1 | 3 | 0 | 6 | 0 | 1 | 0.24 | 0.2879 | 0.75 | 0 |\n",
       "| 5 | 5 |  1 |  1 | 0 | 2011-01-01 | 1 | 0 | 1 | 4 | 0 | 6 | 0 | 1 | 0.24 | 0.2879 | 0.75 | 0 |\n",
       "\n"
      ],
      "text/plain": [
       "  instant cnt registered casual dteday     season yr mnth hr holiday weekday\n",
       "1 1       16  13         3      2011-01-01 1      0  1    0  0       6      \n",
       "2 2       40  32         8      2011-01-01 1      0  1    1  0       6      \n",
       "3 3       32  27         5      2011-01-01 1      0  1    2  0       6      \n",
       "4 4       13  10         3      2011-01-01 1      0  1    3  0       6      \n",
       "5 5        1   1         0      2011-01-01 1      0  1    4  0       6      \n",
       "  workingday weathersit temp atemp  hum  windspeed\n",
       "1 0          1          0.24 0.2879 0.81 0        \n",
       "2 0          1          0.22 0.2727 0.80 0        \n",
       "3 0          1          0.22 0.2727 0.80 0        \n",
       "4 0          1          0.24 0.2879 0.75 0        \n",
       "5 0          1          0.24 0.2879 0.75 0        "
      ]
     },
     "metadata": {},
     "output_type": "display_data"
    }
   ],
   "source": [
    "#Selection of specific columns to show\n",
    "bike_df_selected_cols <- bike_df %>% select(yr,hr,weathersit,temp,casual,registered,cnt)\n",
    "head(bike_df_selected_cols, n=5)\n",
    "\n",
    "#Renaming exercise of column titles weathersit, registered and cnt\n",
    "bike_df_renamed <- bike_df %>% rename(,weather_cnd = weathersit,regs = registered, count = cnt)\n",
    "head(bike_df_renamed,n=5)\n",
    "\n",
    "#Reordered column positions \n",
    "bike_df_reordered <- bike_df[,c(1,17,16,15,2,3,4,5,6,7,8,9,10,11,12,13,14)]\n",
    "head(bike_df_reordered,n=5)"
   ]
  },
  {
   "cell_type": "markdown",
   "metadata": {},
   "source": [
    "### Task (d): groups and not (10 marks)\n",
    "\n",
    "Working on `bike_df`, show that you can produce new variables (columns) and modify existing one; show also that you can operate on the dataframe as a whole and on groups. See *Readme.txt* to get an understanding of the variable scaling applied.\n",
    "\n",
    "_hint_ useful functions: `mutate()`, `group_by()`, `summarise()`, `tally()`, ..."
   ]
  },
  {
   "cell_type": "code",
   "execution_count": 3,
   "metadata": {
    "vscode": {
     "languageId": "r"
    }
   },
   "outputs": [],
   "source": [
    "# your answer here"
   ]
  },
  {
   "cell_type": "markdown",
   "metadata": {},
   "source": [
    "### Task (e): wide, long, tidy (10 marks)\n",
    "\n",
    "Show that you can go back and forth between the long and the wide format of a dataframe. Then produce a tidy version of `bike_df` (or, if you think the original one is is already in the tidy data shape, explain why).\n",
    "\n",
    "_hint_ useful functions: `spread()`, `gather()`, `na.omit()`, ..."
   ]
  },
  {
   "cell_type": "code",
   "execution_count": 24,
   "metadata": {
    "vscode": {
     "languageId": "r"
    }
   },
   "outputs": [
    {
     "data": {
      "text/html": [
       "<table class=\"dataframe\">\n",
       "<caption>A data.frame: 6 × 5</caption>\n",
       "<thead>\n",
       "\t<tr><th></th><th scope=col>instant</th><th scope=col>dteday</th><th scope=col>hr</th><th scope=col>record_type</th><th scope=col>value</th></tr>\n",
       "\t<tr><th></th><th scope=col>&lt;int&gt;</th><th scope=col>&lt;fct&gt;</th><th scope=col>&lt;int&gt;</th><th scope=col>&lt;chr&gt;</th><th scope=col>&lt;dbl&gt;</th></tr>\n",
       "</thead>\n",
       "<tbody>\n",
       "\t<tr><th scope=row>1</th><td>1</td><td>2011-01-01</td><td>0</td><td>season</td><td>1</td></tr>\n",
       "\t<tr><th scope=row>2</th><td>2</td><td>2011-01-01</td><td>1</td><td>season</td><td>1</td></tr>\n",
       "\t<tr><th scope=row>3</th><td>3</td><td>2011-01-01</td><td>2</td><td>season</td><td>1</td></tr>\n",
       "\t<tr><th scope=row>4</th><td>4</td><td>2011-01-01</td><td>3</td><td>season</td><td>1</td></tr>\n",
       "\t<tr><th scope=row>5</th><td>5</td><td>2011-01-01</td><td>4</td><td>season</td><td>1</td></tr>\n",
       "\t<tr><th scope=row>6</th><td>6</td><td>2011-01-01</td><td>5</td><td>season</td><td>1</td></tr>\n",
       "</tbody>\n",
       "</table>\n"
      ],
      "text/latex": [
       "A data.frame: 6 × 5\n",
       "\\begin{tabular}{r|lllll}\n",
       "  & instant & dteday & hr & record\\_type & value\\\\\n",
       "  & <int> & <fct> & <int> & <chr> & <dbl>\\\\\n",
       "\\hline\n",
       "\t1 & 1 & 2011-01-01 & 0 & season & 1\\\\\n",
       "\t2 & 2 & 2011-01-01 & 1 & season & 1\\\\\n",
       "\t3 & 3 & 2011-01-01 & 2 & season & 1\\\\\n",
       "\t4 & 4 & 2011-01-01 & 3 & season & 1\\\\\n",
       "\t5 & 5 & 2011-01-01 & 4 & season & 1\\\\\n",
       "\t6 & 6 & 2011-01-01 & 5 & season & 1\\\\\n",
       "\\end{tabular}\n"
      ],
      "text/markdown": [
       "\n",
       "A data.frame: 6 × 5\n",
       "\n",
       "| <!--/--> | instant &lt;int&gt; | dteday &lt;fct&gt; | hr &lt;int&gt; | record_type &lt;chr&gt; | value &lt;dbl&gt; |\n",
       "|---|---|---|---|---|---|\n",
       "| 1 | 1 | 2011-01-01 | 0 | season | 1 |\n",
       "| 2 | 2 | 2011-01-01 | 1 | season | 1 |\n",
       "| 3 | 3 | 2011-01-01 | 2 | season | 1 |\n",
       "| 4 | 4 | 2011-01-01 | 3 | season | 1 |\n",
       "| 5 | 5 | 2011-01-01 | 4 | season | 1 |\n",
       "| 6 | 6 | 2011-01-01 | 5 | season | 1 |\n",
       "\n"
      ],
      "text/plain": [
       "  instant dteday     hr record_type value\n",
       "1 1       2011-01-01 0  season      1    \n",
       "2 2       2011-01-01 1  season      1    \n",
       "3 3       2011-01-01 2  season      1    \n",
       "4 4       2011-01-01 3  season      1    \n",
       "5 5       2011-01-01 4  season      1    \n",
       "6 6       2011-01-01 5  season      1    "
      ]
     },
     "metadata": {},
     "output_type": "display_data"
    },
    {
     "data": {
      "text/html": [
       "<table class=\"dataframe\">\n",
       "<caption>A data.frame: 6 × 17</caption>\n",
       "<thead>\n",
       "\t<tr><th></th><th scope=col>instant</th><th scope=col>dteday</th><th scope=col>hr</th><th scope=col>atemp</th><th scope=col>casual</th><th scope=col>cnt</th><th scope=col>holiday</th><th scope=col>hum</th><th scope=col>mnth</th><th scope=col>registered</th><th scope=col>season</th><th scope=col>temp</th><th scope=col>weathersit</th><th scope=col>weekday</th><th scope=col>windspeed</th><th scope=col>workingday</th><th scope=col>yr</th></tr>\n",
       "\t<tr><th></th><th scope=col>&lt;int&gt;</th><th scope=col>&lt;fct&gt;</th><th scope=col>&lt;int&gt;</th><th scope=col>&lt;dbl&gt;</th><th scope=col>&lt;dbl&gt;</th><th scope=col>&lt;dbl&gt;</th><th scope=col>&lt;dbl&gt;</th><th scope=col>&lt;dbl&gt;</th><th scope=col>&lt;dbl&gt;</th><th scope=col>&lt;dbl&gt;</th><th scope=col>&lt;dbl&gt;</th><th scope=col>&lt;dbl&gt;</th><th scope=col>&lt;dbl&gt;</th><th scope=col>&lt;dbl&gt;</th><th scope=col>&lt;dbl&gt;</th><th scope=col>&lt;dbl&gt;</th><th scope=col>&lt;dbl&gt;</th></tr>\n",
       "</thead>\n",
       "<tbody>\n",
       "\t<tr><th scope=row>1</th><td>1</td><td>2011-01-01</td><td>0</td><td>0.2879</td><td>3</td><td>16</td><td>0</td><td>0.81</td><td>1</td><td>13</td><td>1</td><td>0.24</td><td>1</td><td>6</td><td>0.0000</td><td>0</td><td>0</td></tr>\n",
       "\t<tr><th scope=row>2</th><td>2</td><td>2011-01-01</td><td>1</td><td>0.2727</td><td>8</td><td>40</td><td>0</td><td>0.80</td><td>1</td><td>32</td><td>1</td><td>0.22</td><td>1</td><td>6</td><td>0.0000</td><td>0</td><td>0</td></tr>\n",
       "\t<tr><th scope=row>3</th><td>3</td><td>2011-01-01</td><td>2</td><td>0.2727</td><td>5</td><td>32</td><td>0</td><td>0.80</td><td>1</td><td>27</td><td>1</td><td>0.22</td><td>1</td><td>6</td><td>0.0000</td><td>0</td><td>0</td></tr>\n",
       "\t<tr><th scope=row>4</th><td>4</td><td>2011-01-01</td><td>3</td><td>0.2879</td><td>3</td><td>13</td><td>0</td><td>0.75</td><td>1</td><td>10</td><td>1</td><td>0.24</td><td>1</td><td>6</td><td>0.0000</td><td>0</td><td>0</td></tr>\n",
       "\t<tr><th scope=row>5</th><td>5</td><td>2011-01-01</td><td>4</td><td>0.2879</td><td>0</td><td> 1</td><td>0</td><td>0.75</td><td>1</td><td> 1</td><td>1</td><td>0.24</td><td>1</td><td>6</td><td>0.0000</td><td>0</td><td>0</td></tr>\n",
       "\t<tr><th scope=row>6</th><td>6</td><td>2011-01-01</td><td>5</td><td>0.2576</td><td>0</td><td> 1</td><td>0</td><td>0.75</td><td>1</td><td> 1</td><td>1</td><td>0.24</td><td>2</td><td>6</td><td>0.0896</td><td>0</td><td>0</td></tr>\n",
       "</tbody>\n",
       "</table>\n"
      ],
      "text/latex": [
       "A data.frame: 6 × 17\n",
       "\\begin{tabular}{r|lllllllllllllllll}\n",
       "  & instant & dteday & hr & atemp & casual & cnt & holiday & hum & mnth & registered & season & temp & weathersit & weekday & windspeed & workingday & yr\\\\\n",
       "  & <int> & <fct> & <int> & <dbl> & <dbl> & <dbl> & <dbl> & <dbl> & <dbl> & <dbl> & <dbl> & <dbl> & <dbl> & <dbl> & <dbl> & <dbl> & <dbl>\\\\\n",
       "\\hline\n",
       "\t1 & 1 & 2011-01-01 & 0 & 0.2879 & 3 & 16 & 0 & 0.81 & 1 & 13 & 1 & 0.24 & 1 & 6 & 0.0000 & 0 & 0\\\\\n",
       "\t2 & 2 & 2011-01-01 & 1 & 0.2727 & 8 & 40 & 0 & 0.80 & 1 & 32 & 1 & 0.22 & 1 & 6 & 0.0000 & 0 & 0\\\\\n",
       "\t3 & 3 & 2011-01-01 & 2 & 0.2727 & 5 & 32 & 0 & 0.80 & 1 & 27 & 1 & 0.22 & 1 & 6 & 0.0000 & 0 & 0\\\\\n",
       "\t4 & 4 & 2011-01-01 & 3 & 0.2879 & 3 & 13 & 0 & 0.75 & 1 & 10 & 1 & 0.24 & 1 & 6 & 0.0000 & 0 & 0\\\\\n",
       "\t5 & 5 & 2011-01-01 & 4 & 0.2879 & 0 &  1 & 0 & 0.75 & 1 &  1 & 1 & 0.24 & 1 & 6 & 0.0000 & 0 & 0\\\\\n",
       "\t6 & 6 & 2011-01-01 & 5 & 0.2576 & 0 &  1 & 0 & 0.75 & 1 &  1 & 1 & 0.24 & 2 & 6 & 0.0896 & 0 & 0\\\\\n",
       "\\end{tabular}\n"
      ],
      "text/markdown": [
       "\n",
       "A data.frame: 6 × 17\n",
       "\n",
       "| <!--/--> | instant &lt;int&gt; | dteday &lt;fct&gt; | hr &lt;int&gt; | atemp &lt;dbl&gt; | casual &lt;dbl&gt; | cnt &lt;dbl&gt; | holiday &lt;dbl&gt; | hum &lt;dbl&gt; | mnth &lt;dbl&gt; | registered &lt;dbl&gt; | season &lt;dbl&gt; | temp &lt;dbl&gt; | weathersit &lt;dbl&gt; | weekday &lt;dbl&gt; | windspeed &lt;dbl&gt; | workingday &lt;dbl&gt; | yr &lt;dbl&gt; |\n",
       "|---|---|---|---|---|---|---|---|---|---|---|---|---|---|---|---|---|---|\n",
       "| 1 | 1 | 2011-01-01 | 0 | 0.2879 | 3 | 16 | 0 | 0.81 | 1 | 13 | 1 | 0.24 | 1 | 6 | 0.0000 | 0 | 0 |\n",
       "| 2 | 2 | 2011-01-01 | 1 | 0.2727 | 8 | 40 | 0 | 0.80 | 1 | 32 | 1 | 0.22 | 1 | 6 | 0.0000 | 0 | 0 |\n",
       "| 3 | 3 | 2011-01-01 | 2 | 0.2727 | 5 | 32 | 0 | 0.80 | 1 | 27 | 1 | 0.22 | 1 | 6 | 0.0000 | 0 | 0 |\n",
       "| 4 | 4 | 2011-01-01 | 3 | 0.2879 | 3 | 13 | 0 | 0.75 | 1 | 10 | 1 | 0.24 | 1 | 6 | 0.0000 | 0 | 0 |\n",
       "| 5 | 5 | 2011-01-01 | 4 | 0.2879 | 0 |  1 | 0 | 0.75 | 1 |  1 | 1 | 0.24 | 1 | 6 | 0.0000 | 0 | 0 |\n",
       "| 6 | 6 | 2011-01-01 | 5 | 0.2576 | 0 |  1 | 0 | 0.75 | 1 |  1 | 1 | 0.24 | 2 | 6 | 0.0896 | 0 | 0 |\n",
       "\n"
      ],
      "text/plain": [
       "  instant dteday     hr atemp  casual cnt holiday hum  mnth registered season\n",
       "1 1       2011-01-01 0  0.2879 3      16  0       0.81 1    13         1     \n",
       "2 2       2011-01-01 1  0.2727 8      40  0       0.80 1    32         1     \n",
       "3 3       2011-01-01 2  0.2727 5      32  0       0.80 1    27         1     \n",
       "4 4       2011-01-01 3  0.2879 3      13  0       0.75 1    10         1     \n",
       "5 5       2011-01-01 4  0.2879 0       1  0       0.75 1     1         1     \n",
       "6 6       2011-01-01 5  0.2576 0       1  0       0.75 1     1         1     \n",
       "  temp weathersit weekday windspeed workingday yr\n",
       "1 0.24 1          6       0.0000    0          0 \n",
       "2 0.22 1          6       0.0000    0          0 \n",
       "3 0.22 1          6       0.0000    0          0 \n",
       "4 0.24 1          6       0.0000    0          0 \n",
       "5 0.24 1          6       0.0000    0          0 \n",
       "6 0.24 2          6       0.0896    0          0 "
      ]
     },
     "metadata": {},
     "output_type": "display_data"
    }
   ],
   "source": [
    "#make the bike_df table into long\n",
    "long_bike <- gather(bike_df, record_type, value, -instant, -dteday, -hr, na.rm = TRUE)\n",
    "head(long_bike)\n",
    "\n",
    "#make long_bike back to original wide\n",
    "wide_bike <- spread(long_bike, record_type, value, fill = TRUE)\n",
    "head(wide_bike)"
   ]
  },
  {
   "cell_type": "code",
   "execution_count": 5,
   "metadata": {},
   "outputs": [
    {
     "data": {
      "text/html": [
       "<table class=\"dataframe\">\n",
       "<caption>A data.frame: 6 × 15</caption>\n",
       "<thead>\n",
       "\t<tr><th></th><th scope=col>instant</th><th scope=col>dteday</th><th scope=col>season</th><th scope=col>hr</th><th scope=col>holiday</th><th scope=col>weekday</th><th scope=col>workingday</th><th scope=col>weathersit</th><th scope=col>temp</th><th scope=col>atemp</th><th scope=col>hum</th><th scope=col>windspeed</th><th scope=col>casual</th><th scope=col>registered</th><th scope=col>cnt</th></tr>\n",
       "\t<tr><th></th><th scope=col>&lt;int&gt;</th><th scope=col>&lt;date&gt;</th><th scope=col>&lt;int&gt;</th><th scope=col>&lt;int&gt;</th><th scope=col>&lt;lgl&gt;</th><th scope=col>&lt;int&gt;</th><th scope=col>&lt;lgl&gt;</th><th scope=col>&lt;int&gt;</th><th scope=col>&lt;dbl&gt;</th><th scope=col>&lt;dbl&gt;</th><th scope=col>&lt;dbl&gt;</th><th scope=col>&lt;dbl&gt;</th><th scope=col>&lt;int&gt;</th><th scope=col>&lt;int&gt;</th><th scope=col>&lt;int&gt;</th></tr>\n",
       "</thead>\n",
       "<tbody>\n",
       "\t<tr><th scope=row>1</th><td>1</td><td>2011-01-01</td><td>1</td><td>0</td><td>FALSE</td><td>6</td><td>FALSE</td><td>1</td><td>0.24</td><td>0.2879</td><td>0.81</td><td>0.0000</td><td>3</td><td>13</td><td>16</td></tr>\n",
       "\t<tr><th scope=row>2</th><td>2</td><td>2011-01-01</td><td>1</td><td>1</td><td>FALSE</td><td>6</td><td>FALSE</td><td>1</td><td>0.22</td><td>0.2727</td><td>0.80</td><td>0.0000</td><td>8</td><td>32</td><td>40</td></tr>\n",
       "\t<tr><th scope=row>3</th><td>3</td><td>2011-01-01</td><td>1</td><td>2</td><td>FALSE</td><td>6</td><td>FALSE</td><td>1</td><td>0.22</td><td>0.2727</td><td>0.80</td><td>0.0000</td><td>5</td><td>27</td><td>32</td></tr>\n",
       "\t<tr><th scope=row>4</th><td>4</td><td>2011-01-01</td><td>1</td><td>3</td><td>FALSE</td><td>6</td><td>FALSE</td><td>1</td><td>0.24</td><td>0.2879</td><td>0.75</td><td>0.0000</td><td>3</td><td>10</td><td>13</td></tr>\n",
       "\t<tr><th scope=row>5</th><td>5</td><td>2011-01-01</td><td>1</td><td>4</td><td>FALSE</td><td>6</td><td>FALSE</td><td>1</td><td>0.24</td><td>0.2879</td><td>0.75</td><td>0.0000</td><td>0</td><td> 1</td><td> 1</td></tr>\n",
       "\t<tr><th scope=row>6</th><td>6</td><td>2011-01-01</td><td>1</td><td>5</td><td>FALSE</td><td>6</td><td>FALSE</td><td>2</td><td>0.24</td><td>0.2576</td><td>0.75</td><td>0.0896</td><td>0</td><td> 1</td><td> 1</td></tr>\n",
       "</tbody>\n",
       "</table>\n"
      ],
      "text/latex": [
       "A data.frame: 6 × 15\n",
       "\\begin{tabular}{r|lllllllllllllll}\n",
       "  & instant & dteday & season & hr & holiday & weekday & workingday & weathersit & temp & atemp & hum & windspeed & casual & registered & cnt\\\\\n",
       "  & <int> & <date> & <int> & <int> & <lgl> & <int> & <lgl> & <int> & <dbl> & <dbl> & <dbl> & <dbl> & <int> & <int> & <int>\\\\\n",
       "\\hline\n",
       "\t1 & 1 & 2011-01-01 & 1 & 0 & FALSE & 6 & FALSE & 1 & 0.24 & 0.2879 & 0.81 & 0.0000 & 3 & 13 & 16\\\\\n",
       "\t2 & 2 & 2011-01-01 & 1 & 1 & FALSE & 6 & FALSE & 1 & 0.22 & 0.2727 & 0.80 & 0.0000 & 8 & 32 & 40\\\\\n",
       "\t3 & 3 & 2011-01-01 & 1 & 2 & FALSE & 6 & FALSE & 1 & 0.22 & 0.2727 & 0.80 & 0.0000 & 5 & 27 & 32\\\\\n",
       "\t4 & 4 & 2011-01-01 & 1 & 3 & FALSE & 6 & FALSE & 1 & 0.24 & 0.2879 & 0.75 & 0.0000 & 3 & 10 & 13\\\\\n",
       "\t5 & 5 & 2011-01-01 & 1 & 4 & FALSE & 6 & FALSE & 1 & 0.24 & 0.2879 & 0.75 & 0.0000 & 0 &  1 &  1\\\\\n",
       "\t6 & 6 & 2011-01-01 & 1 & 5 & FALSE & 6 & FALSE & 2 & 0.24 & 0.2576 & 0.75 & 0.0896 & 0 &  1 &  1\\\\\n",
       "\\end{tabular}\n"
      ],
      "text/markdown": [
       "\n",
       "A data.frame: 6 × 15\n",
       "\n",
       "| <!--/--> | instant &lt;int&gt; | dteday &lt;date&gt; | season &lt;int&gt; | hr &lt;int&gt; | holiday &lt;lgl&gt; | weekday &lt;int&gt; | workingday &lt;lgl&gt; | weathersit &lt;int&gt; | temp &lt;dbl&gt; | atemp &lt;dbl&gt; | hum &lt;dbl&gt; | windspeed &lt;dbl&gt; | casual &lt;int&gt; | registered &lt;int&gt; | cnt &lt;int&gt; |\n",
       "|---|---|---|---|---|---|---|---|---|---|---|---|---|---|---|---|\n",
       "| 1 | 1 | 2011-01-01 | 1 | 0 | FALSE | 6 | FALSE | 1 | 0.24 | 0.2879 | 0.81 | 0.0000 | 3 | 13 | 16 |\n",
       "| 2 | 2 | 2011-01-01 | 1 | 1 | FALSE | 6 | FALSE | 1 | 0.22 | 0.2727 | 0.80 | 0.0000 | 8 | 32 | 40 |\n",
       "| 3 | 3 | 2011-01-01 | 1 | 2 | FALSE | 6 | FALSE | 1 | 0.22 | 0.2727 | 0.80 | 0.0000 | 5 | 27 | 32 |\n",
       "| 4 | 4 | 2011-01-01 | 1 | 3 | FALSE | 6 | FALSE | 1 | 0.24 | 0.2879 | 0.75 | 0.0000 | 3 | 10 | 13 |\n",
       "| 5 | 5 | 2011-01-01 | 1 | 4 | FALSE | 6 | FALSE | 1 | 0.24 | 0.2879 | 0.75 | 0.0000 | 0 |  1 |  1 |\n",
       "| 6 | 6 | 2011-01-01 | 1 | 5 | FALSE | 6 | FALSE | 2 | 0.24 | 0.2576 | 0.75 | 0.0896 | 0 |  1 |  1 |\n",
       "\n"
      ],
      "text/plain": [
       "  instant dteday     season hr holiday weekday workingday weathersit temp\n",
       "1 1       2011-01-01 1      0  FALSE   6       FALSE      1          0.24\n",
       "2 2       2011-01-01 1      1  FALSE   6       FALSE      1          0.22\n",
       "3 3       2011-01-01 1      2  FALSE   6       FALSE      1          0.22\n",
       "4 4       2011-01-01 1      3  FALSE   6       FALSE      1          0.24\n",
       "5 5       2011-01-01 1      4  FALSE   6       FALSE      1          0.24\n",
       "6 6       2011-01-01 1      5  FALSE   6       FALSE      2          0.24\n",
       "  atemp  hum  windspeed casual registered cnt\n",
       "1 0.2879 0.81 0.0000    3      13         16 \n",
       "2 0.2727 0.80 0.0000    8      32         40 \n",
       "3 0.2727 0.80 0.0000    5      27         32 \n",
       "4 0.2879 0.75 0.0000    3      10         13 \n",
       "5 0.2879 0.75 0.0000    0       1          1 \n",
       "6 0.2576 0.75 0.0896    0       1          1 "
      ]
     },
     "metadata": {},
     "output_type": "display_data"
    },
    {
     "name": "stdout",
     "output_type": "stream",
     "text": [
      "Rows: 17,379\n",
      "Columns: 15\n",
      "$ instant    \u001b[3m\u001b[90m<int>\u001b[39m\u001b[23m 1, 2, 3, 4, 5, 6, 7, 8, 9, 10, 11, 12, 13, 14, 15, 16, 17, ~\n",
      "$ dteday     \u001b[3m\u001b[90m<date>\u001b[39m\u001b[23m 2011-01-01, 2011-01-01, 2011-01-01, 2011-01-01, 2011-01-01~\n",
      "$ season     \u001b[3m\u001b[90m<int>\u001b[39m\u001b[23m 1, 1, 1, 1, 1, 1, 1, 1, 1, 1, 1, 1, 1, 1, 1, 1, 1, 1, 1, 1,~\n",
      "$ hr         \u001b[3m\u001b[90m<int>\u001b[39m\u001b[23m 0, 1, 2, 3, 4, 5, 6, 7, 8, 9, 10, 11, 12, 13, 14, 15, 16, 1~\n",
      "$ holiday    \u001b[3m\u001b[90m<lgl>\u001b[39m\u001b[23m FALSE, FALSE, FALSE, FALSE, FALSE, FALSE, FALSE, FALSE, FAL~\n",
      "$ weekday    \u001b[3m\u001b[90m<int>\u001b[39m\u001b[23m 6, 6, 6, 6, 6, 6, 6, 6, 6, 6, 6, 6, 6, 6, 6, 6, 6, 6, 6, 6,~\n",
      "$ workingday \u001b[3m\u001b[90m<lgl>\u001b[39m\u001b[23m FALSE, FALSE, FALSE, FALSE, FALSE, FALSE, FALSE, FALSE, FAL~\n",
      "$ weathersit \u001b[3m\u001b[90m<int>\u001b[39m\u001b[23m 1, 1, 1, 1, 1, 2, 1, 1, 1, 1, 1, 1, 1, 2, 2, 2, 2, 2, 3, 3,~\n",
      "$ temp       \u001b[3m\u001b[90m<dbl>\u001b[39m\u001b[23m 0.24, 0.22, 0.22, 0.24, 0.24, 0.24, 0.22, 0.20, 0.24, 0.32,~\n",
      "$ atemp      \u001b[3m\u001b[90m<dbl>\u001b[39m\u001b[23m 0.2879, 0.2727, 0.2727, 0.2879, 0.2879, 0.2576, 0.2727, 0.2~\n",
      "$ hum        \u001b[3m\u001b[90m<dbl>\u001b[39m\u001b[23m 0.81, 0.80, 0.80, 0.75, 0.75, 0.75, 0.80, 0.86, 0.75, 0.76,~\n",
      "$ windspeed  \u001b[3m\u001b[90m<dbl>\u001b[39m\u001b[23m 0.0000, 0.0000, 0.0000, 0.0000, 0.0000, 0.0896, 0.0000, 0.0~\n",
      "$ casual     \u001b[3m\u001b[90m<int>\u001b[39m\u001b[23m 3, 8, 5, 3, 0, 0, 2, 1, 1, 8, 12, 26, 29, 47, 35, 40, 41, 1~\n",
      "$ registered \u001b[3m\u001b[90m<int>\u001b[39m\u001b[23m 13, 32, 27, 10, 1, 1, 0, 2, 7, 6, 24, 30, 55, 47, 71, 70, 5~\n",
      "$ cnt        \u001b[3m\u001b[90m<int>\u001b[39m\u001b[23m 16, 40, 32, 13, 1, 1, 2, 3, 8, 14, 36, 56, 84, 94, 106, 110~\n"
     ]
    },
    {
     "data": {
      "text/plain": [
       "    instant          dteday               season            hr       \n",
       " Min.   :    1   Min.   :2011-01-01   Min.   :1.000   Min.   : 0.00  \n",
       " 1st Qu.: 4346   1st Qu.:2011-07-04   1st Qu.:2.000   1st Qu.: 6.00  \n",
       " Median : 8690   Median :2012-01-02   Median :3.000   Median :12.00  \n",
       " Mean   : 8690   Mean   :2012-01-02   Mean   :2.502   Mean   :11.55  \n",
       " 3rd Qu.:13034   3rd Qu.:2012-07-02   3rd Qu.:3.000   3rd Qu.:18.00  \n",
       " Max.   :17379   Max.   :2012-12-31   Max.   :4.000   Max.   :23.00  \n",
       "  holiday           weekday      workingday        weathersit   \n",
       " Mode :logical   Min.   :0.000   Mode :logical   Min.   :1.000  \n",
       " FALSE:16879     1st Qu.:1.000   FALSE:5514      1st Qu.:1.000  \n",
       " TRUE :500       Median :3.000   TRUE :11865     Median :1.000  \n",
       "                 Mean   :3.004                   Mean   :1.425  \n",
       "                 3rd Qu.:5.000                   3rd Qu.:2.000  \n",
       "                 Max.   :6.000                   Max.   :4.000  \n",
       "      temp           atemp             hum           windspeed     \n",
       " Min.   :0.020   Min.   :0.0000   Min.   :0.0000   Min.   :0.0000  \n",
       " 1st Qu.:0.340   1st Qu.:0.3333   1st Qu.:0.4800   1st Qu.:0.1045  \n",
       " Median :0.500   Median :0.4848   Median :0.6300   Median :0.1940  \n",
       " Mean   :0.497   Mean   :0.4758   Mean   :0.6272   Mean   :0.1901  \n",
       " 3rd Qu.:0.660   3rd Qu.:0.6212   3rd Qu.:0.7800   3rd Qu.:0.2537  \n",
       " Max.   :1.000   Max.   :1.0000   Max.   :1.0000   Max.   :0.8507  \n",
       "     casual         registered         cnt       \n",
       " Min.   :  0.00   Min.   :  0.0   Min.   :  1.0  \n",
       " 1st Qu.:  4.00   1st Qu.: 34.0   1st Qu.: 40.0  \n",
       " Median : 17.00   Median :115.0   Median :142.0  \n",
       " Mean   : 35.68   Mean   :153.8   Mean   :189.5  \n",
       " 3rd Qu.: 48.00   3rd Qu.:220.0   3rd Qu.:281.0  \n",
       " Max.   :367.00   Max.   :886.0   Max.   :977.0  "
      ]
     },
     "metadata": {},
     "output_type": "display_data"
    }
   ],
   "source": [
    "#This is to make make bike_df into tidy storing it in tidy_bike\n",
    "tidy_bike <- bike_df %>%\n",
    "    select(instant, dteday, season, hr, holiday, weekday, workingday, weathersit, temp, atemp, hum, windspeed, casual, registered, cnt)\n",
    "\n",
    "#makes holiday and workingday column as logic types\n",
    "tidy_bike$holiday <- as.logical(tidy_bike$holiday)\n",
    "tidy_bike$workingday <- as.logical(tidy_bike$workingday)\n",
    "\n",
    "#converts dteday to date class\n",
    "tidy_bike$dteday <- as.character(tidy_bike$dteday)\n",
    "tidy_bike$dteday <- as.Date(tidy_bike$dteday)\n",
    "\n",
    "#prints basic info of tidy_bike table\n",
    "head(tidy_bike)\n",
    "glimpse(tidy_bike)\n",
    "summary(tidy_bike)"
   ]
  },
  {
   "cell_type": "markdown",
   "metadata": {},
   "source": [
    "### Task (f): plot (10 marks)\n",
    "\n",
    "Produce a beautiful graphical representation of the data in `bike_df` or of _some_ of the data in `bike_df`. You can try different geometries, themes, mappings, ... . Make sure you label the plots with titles, and axis labels. Notice that the focus is on the use of *plotting as a data model*, rather than on the *statistical modelling* of the data.\n",
    "\\[ Hint: if you can't find any plotting idea, try focusing on the count of total rental bikes, and how it varies through time, season, weather, temperature, humidty, wind-speed. \\]\n",
    "\n",
    "_hint_ useful functions: `ggplot()`, `ylab()`, `xlab()`, `geom_...()`, `aes()`, `facet_...()`, ..."
   ]
  },
  {
   "cell_type": "code",
   "execution_count": 11,
   "metadata": {
    "vscode": {
     "languageId": "r"
    }
   },
   "outputs": [
    {
     "data": {
      "image/png": "[encoded data removed]",
      "text/plain": [
       "plot without title"
      ]
     },
     "metadata": {
      "image/png": {
       "height": 420,
       "width": 420
      }
     },
     "output_type": "display_data"
    },
    {
     "data": {
      "image/png": "[encoded data removed]",
      "text/plain": [
       "plot without title"
      ]
     },
     "metadata": {
      "image/png": {
       "height": 420,
       "width": 420
      }
     },
     "output_type": "display_data"
    }
   ],
   "source": [
    "#extract dteday column and create new total_users_day column with values of total users on each day\n",
    "gdate <- bike_df%>%\n",
    "    group_by(dteday)%>%\n",
    "    summarise(total_users_day=sum(cnt)) \n",
    "\n",
    "gdate$dteday <- as.Date(gdate$dteday) # change the dteday class to Date class\n",
    "\n",
    "date_cust_plot <- ggplot(gdate, aes(x = dteday,\n",
    "                            y = total_users_day\n",
    "                           ))\n",
    "date_cust_plot + \n",
    "    geom_point() + \n",
    "    geom_smooth(method = lm, formula = y ~ splines::bs(x,6), se = F) + \n",
    "    labs(title = \"Total Number of Users on a Given Day\",\n",
    "        x = \"Day (yyyy-mm-dd)\",\n",
    "        y = \"Total Users\",\n",
    "        caption = \"Total number of users on given date based on the bike_df table\") + \n",
    "    theme(plot.title = element_text(size = rel(2)),\n",
    "         axis.title.y = element_text(size = rel(1.5)),\n",
    "         axis.title.x = element_text(size = rel(1.5)))\n",
    "\n",
    "#using tidy_bike table to facet for season graph on number of users based on the temp\n",
    "temp_plot <- ggplot(tidy_bike, aes(x = temp, y = cnt))\n",
    "temp_plot + \n",
    "    geom_point() +\n",
    "    facet_grid(vars(hr), vars(season))\n",
    "    #facet_grid(rows = vars(season), column = vars(hr))"
   ]
  },
  {
   "cell_type": "markdown",
   "metadata": {},
   "source": [
    "### Task (g): save (5 marks)\n",
    "\n",
    "Save your plot from Task (f) and your tidy dataset from Task (e) to disk. \n",
    "\n",
    "_hint_ useful functions: `write_csv()`, `ggsave()`,..."
   ]
  },
  {
   "cell_type": "code",
   "execution_count": 75,
   "metadata": {
    "vscode": {
     "languageId": "r"
    }
   },
   "outputs": [
    {
     "name": "stderr",
     "output_type": "stream",
     "text": [
      "Saving 6.67 x 6.67 in image\n",
      "\n"
     ]
    }
   ],
   "source": [
    "#save tidy dataset, \"tidy_bike\", from task e to \"tidybike.csv\"\n",
    "write_csv(x = tidy_bike, \"tidybike.csv\")\n",
    "\n",
    "#save plot as pdf with filename date_cust_graph\n",
    "ggsave(\"date_cust_graph.pdf\",)\n",
    "\n"
   ]
  },
  {
   "cell_type": "markdown",
   "metadata": {},
   "source": [
    "### Challenge question (10 marks)\n",
    "\n",
    "You are the data scientist working for a bike rental company. The `hour.csv` is the data you have available. The bike rental CEO sometimes wakes up in the morning with these strange ideas, and you get to test them.\n",
    "\n",
    "One of the key element for the company is being sure that there are always enough bikes available for the users. So, we need to understand what makes a user rent a bike and what makes a user NOT rent a bike.\n",
    "Your CEO noticed thinks that one of the peak times for the registered users renting bikes is between 6am and 10am.\n",
    "\n",
    "Task (1): make a plot to check that (take seasonality into account in the plot).\n",
    "\n",
    "She also thought about an interesting hypothesis. A registered user usually finish working around 5pm. Between 5pm and 10pm, they notice the weather: in particular, the registered users are sensible to how good the weather is, and how stable it is. The morning after, between 6am and 10am, the amount of registered users renting a bike to go to work depends on the previous afternoon weather.\n",
    "\n",
    "Task (2): make one or more plot to test this hypothesis (again, consider seasonality in the plot).\n",
    "\n",
    "**Hint: Make your plots with some colour, good font size and visualisation.**"
   ]
  },
  {
   "cell_type": "code",
   "execution_count": 22,
   "metadata": {
    "vscode": {
     "languageId": "r"
    }
   },
   "outputs": [
    {
     "name": "stderr",
     "output_type": "stream",
     "text": [
      "\u001b[1m\u001b[22m`summarise()` has grouped output by 'season'. You can override using the `.groups` argument.\n"
     ]
    },
    {
     "data": {
      "text/plain": [
       "    season                hr        mean_cnt      \n",
       " Length:96          0:00   : 4   Min.   :  3.182  \n",
       " Class :character   1:00   : 4   1st Qu.: 56.715  \n",
       " Mode  :character   2:00   : 4   Median :183.179  \n",
       "                    3:00   : 4   Mean   :187.892  \n",
       "                    4:00   : 4   3rd Qu.:278.720  \n",
       "                    5:00   : 4   Max.   :572.138  \n",
       "                    (Other):72                    "
      ]
     },
     "metadata": {},
     "output_type": "display_data"
    },
    {
     "data": {
      "text/html": [
       "<table class=\"dataframe\">\n",
       "<caption>A grouped_df: 23 × 3</caption>\n",
       "<thead>\n",
       "\t<tr><th scope=col>season</th><th scope=col>hr</th><th scope=col>mean_cnt</th></tr>\n",
       "\t<tr><th scope=col>&lt;chr&gt;</th><th scope=col>&lt;ord&gt;</th><th scope=col>&lt;dbl&gt;</th></tr>\n",
       "</thead>\n",
       "<tbody>\n",
       "\t<tr><td>Spring</td><td>0:00 </td><td> 27.404494</td></tr>\n",
       "\t<tr><td>Spring</td><td>1:00 </td><td> 18.140449</td></tr>\n",
       "\t<tr><td>Spring</td><td>2:00 </td><td> 12.794118</td></tr>\n",
       "\t<tr><td>Spring</td><td>3:00 </td><td>  7.102564</td></tr>\n",
       "\t<tr><td>Spring</td><td>4:00 </td><td>  3.181818</td></tr>\n",
       "\t<tr><td>Spring</td><td>5:00 </td><td> 10.701754</td></tr>\n",
       "\t<tr><td>Spring</td><td>6:00 </td><td> 40.792135</td></tr>\n",
       "\t<tr><td>Spring</td><td>7:00 </td><td>115.391061</td></tr>\n",
       "\t<tr><td>Spring</td><td>8:00 </td><td>235.167598</td></tr>\n",
       "\t<tr><td>Spring</td><td>9:00 </td><td>147.016760</td></tr>\n",
       "\t<tr><td>Spring</td><td>10:00</td><td>100.217877</td></tr>\n",
       "\t<tr><td>Spring</td><td>11:00</td><td>120.530726</td></tr>\n",
       "\t<tr><td>Spring</td><td>12:00</td><td>150.727778</td></tr>\n",
       "\t<tr><td>Spring</td><td>13:00</td><td>156.527778</td></tr>\n",
       "\t<tr><td>Spring</td><td>14:00</td><td>147.805556</td></tr>\n",
       "\t<tr><td>Spring</td><td>15:00</td><td>155.655556</td></tr>\n",
       "\t<tr><td>Spring</td><td>16:00</td><td>182.314917</td></tr>\n",
       "\t<tr><td>Spring</td><td>17:00</td><td>263.977901</td></tr>\n",
       "\t<tr><td>Spring</td><td>18:00</td><td>239.500000</td></tr>\n",
       "\t<tr><td>Spring</td><td>19:00</td><td>165.761111</td></tr>\n",
       "\t<tr><td>Spring</td><td>20:00</td><td>117.838889</td></tr>\n",
       "\t<tr><td>Spring</td><td>21:00</td><td> 91.650000</td></tr>\n",
       "\t<tr><td>Spring</td><td>22:00</td><td> 69.111111</td></tr>\n",
       "</tbody>\n",
       "</table>\n"
      ],
      "text/latex": [
       "A grouped\\_df: 23 × 3\n",
       "\\begin{tabular}{lll}\n",
       " season & hr & mean\\_cnt\\\\\n",
       " <chr> & <ord> & <dbl>\\\\\n",
       "\\hline\n",
       "\t Spring & 0:00  &  27.404494\\\\\n",
       "\t Spring & 1:00  &  18.140449\\\\\n",
       "\t Spring & 2:00  &  12.794118\\\\\n",
       "\t Spring & 3:00  &   7.102564\\\\\n",
       "\t Spring & 4:00  &   3.181818\\\\\n",
       "\t Spring & 5:00  &  10.701754\\\\\n",
       "\t Spring & 6:00  &  40.792135\\\\\n",
       "\t Spring & 7:00  & 115.391061\\\\\n",
       "\t Spring & 8:00  & 235.167598\\\\\n",
       "\t Spring & 9:00  & 147.016760\\\\\n",
       "\t Spring & 10:00 & 100.217877\\\\\n",
       "\t Spring & 11:00 & 120.530726\\\\\n",
       "\t Spring & 12:00 & 150.727778\\\\\n",
       "\t Spring & 13:00 & 156.527778\\\\\n",
       "\t Spring & 14:00 & 147.805556\\\\\n",
       "\t Spring & 15:00 & 155.655556\\\\\n",
       "\t Spring & 16:00 & 182.314917\\\\\n",
       "\t Spring & 17:00 & 263.977901\\\\\n",
       "\t Spring & 18:00 & 239.500000\\\\\n",
       "\t Spring & 19:00 & 165.761111\\\\\n",
       "\t Spring & 20:00 & 117.838889\\\\\n",
       "\t Spring & 21:00 &  91.650000\\\\\n",
       "\t Spring & 22:00 &  69.111111\\\\\n",
       "\\end{tabular}\n"
      ],
      "text/markdown": [
       "\n",
       "A grouped_df: 23 × 3\n",
       "\n",
       "| season &lt;chr&gt; | hr &lt;ord&gt; | mean_cnt &lt;dbl&gt; |\n",
       "|---|---|---|\n",
       "| Spring | 0:00  |  27.404494 |\n",
       "| Spring | 1:00  |  18.140449 |\n",
       "| Spring | 2:00  |  12.794118 |\n",
       "| Spring | 3:00  |   7.102564 |\n",
       "| Spring | 4:00  |   3.181818 |\n",
       "| Spring | 5:00  |  10.701754 |\n",
       "| Spring | 6:00  |  40.792135 |\n",
       "| Spring | 7:00  | 115.391061 |\n",
       "| Spring | 8:00  | 235.167598 |\n",
       "| Spring | 9:00  | 147.016760 |\n",
       "| Spring | 10:00 | 100.217877 |\n",
       "| Spring | 11:00 | 120.530726 |\n",
       "| Spring | 12:00 | 150.727778 |\n",
       "| Spring | 13:00 | 156.527778 |\n",
       "| Spring | 14:00 | 147.805556 |\n",
       "| Spring | 15:00 | 155.655556 |\n",
       "| Spring | 16:00 | 182.314917 |\n",
       "| Spring | 17:00 | 263.977901 |\n",
       "| Spring | 18:00 | 239.500000 |\n",
       "| Spring | 19:00 | 165.761111 |\n",
       "| Spring | 20:00 | 117.838889 |\n",
       "| Spring | 21:00 |  91.650000 |\n",
       "| Spring | 22:00 |  69.111111 |\n",
       "\n"
      ],
      "text/plain": [
       "   season hr    mean_cnt  \n",
       "1  Spring 0:00   27.404494\n",
       "2  Spring 1:00   18.140449\n",
       "3  Spring 2:00   12.794118\n",
       "4  Spring 3:00    7.102564\n",
       "5  Spring 4:00    3.181818\n",
       "6  Spring 5:00   10.701754\n",
       "7  Spring 6:00   40.792135\n",
       "8  Spring 7:00  115.391061\n",
       "9  Spring 8:00  235.167598\n",
       "10 Spring 9:00  147.016760\n",
       "11 Spring 10:00 100.217877\n",
       "12 Spring 11:00 120.530726\n",
       "13 Spring 12:00 150.727778\n",
       "14 Spring 13:00 156.527778\n",
       "15 Spring 14:00 147.805556\n",
       "16 Spring 15:00 155.655556\n",
       "17 Spring 16:00 182.314917\n",
       "18 Spring 17:00 263.977901\n",
       "19 Spring 18:00 239.500000\n",
       "20 Spring 19:00 165.761111\n",
       "21 Spring 20:00 117.838889\n",
       "22 Spring 21:00  91.650000\n",
       "23 Spring 22:00  69.111111"
      ]
     },
     "metadata": {},
     "output_type": "display_data"
    },
    {
     "data": {
      "image/png": "[encoded data removed]",
      "text/plain": [
       "plot without title"
      ]
     },
     "metadata": {
      "image/png": {
       "height": 420,
       "width": 420
      }
     },
     "output_type": "display_data"
    }
   ],
   "source": [
    "\n",
    "#\n",
    "bike_peak <- bike_df %>%\n",
    "    group_by(season,hr)%>%\n",
    "    summarise(mean_cnt = mean(cnt))\n",
    "\n",
    "\n",
    "\n",
    "bike_peak$hr <- str_c(bike_peak$hr, \"00\", sep=\":\")\n",
    "bike_peak$hr <- ordered(bike_peak$hr, levels <- c(\"0:00\",\"1:00\",\"2:00\",\"3:00\",\"4:00\",\n",
    "                                                  \"5:00\",\"6:00\",\"7:00\",\"8:00\",\"9:00\",\n",
    "                                                  \"10:00\",\"11:00\",\"12:00\", \"13:00\",\n",
    "                                                  \"14:00\", \"15:00\", \"16:00\", \"17:00\",\n",
    "                                                  \"18:00\", \"19:00\", \"20:00\", \"21:00\",\n",
    "                                                  \"22:00\", \"23:00\"))\n",
    "\n",
    "bike_peak$season <- replace(bike_peak$season, bike_peak$season == 1 , \"Spring\")\n",
    "bike_peak$season <- replace(bike_peak$season, bike_peak$season == 2 , \"Summer\")\n",
    "bike_peak$season <- replace(bike_peak$season, bike_peak$season == 3 , \"Fall\")\n",
    "bike_peak$season <- replace(bike_peak$season, bike_peak$season == 4 , \"Winter\")\n",
    "\n",
    "\n",
    "summary(bike_peak)\n",
    "\n",
    "\n",
    "head(bike_peak,n=23)\n",
    "\n",
    "ggplot(bike_peak,aes(x=hr,y=mean_cnt)) + \n",
    "    geom_point(aes(shape=season,colour=season), size=4) +\n",
    "    labs(x=\"Time of day (24hour format)\",y=\"Average count of bike users\",\n",
    "    title = \"Average number of bike users at different times of day for different seasons\") +\n",
    "    theme(axis.text.x = element_text(size = rel(1), angle = 90))\n"
   ]
  }
 ],
 "metadata": {
  "kernelspec": {
   "display_name": "R",
   "language": "R",
   "name": "ir"
  },
  "language_info": {
   "codemirror_mode": "r",
   "file_extension": ".r",
   "mimetype": "text/x-r-source",
   "name": "R",
   "pygments_lexer": "r",
   "version": "4.2.1"
  }
 },
 "nbformat": 4,
 "nbformat_minor": 4
}
