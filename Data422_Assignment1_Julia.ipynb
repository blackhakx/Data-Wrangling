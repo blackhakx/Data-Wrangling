{
 "cells": [
  {
   "cell_type": "markdown",
   "metadata": {},
   "source": [
    "## Julia part (30 marks)"
   ]
  },
  {
   "cell_type": "markdown",
   "metadata": {},
   "source": [
    "In the folder `Penguin_data` you find two datasets (csv formatted files) about at-sea observations of seabirds dating from 1969 to 1990 in New Zealand. You can find more information here: https://catalogue.data.govt.nz/dataset/at-sea-observations-of-seabirds-1969-to-1990\n",
    "\n",
    "This is true-life messy data. Handle with care ;-)\n",
    "\n",
    "Your task for this part is to load the data, wrangle it a bit, and answer a couple of question.\n",
    "\n",
    "_hint_ this is the moment to go back to the Julia notebooks for lab 1 to 4. "
   ]
  },
  {
   "cell_type": "markdown",
   "metadata": {},
   "source": [
    "### Load the data (5 marks)"
   ]
  },
  {
   "cell_type": "markdown",
   "metadata": {},
   "source": [
    "Load the two dataset into two separate data frames.\n",
    "\n",
    "_hint_ take a look at the package `CSV.jl` and `DataFrames.jl`."
   ]
  },
  {
   "cell_type": "code",
   "execution_count": 1,
   "metadata": {},
   "outputs": [],
   "source": [
    "# your code here "
   ]
  },
  {
   "cell_type": "markdown",
   "metadata": {},
   "source": [
    "### Join the data (5 marks)"
   ]
  },
  {
   "cell_type": "markdown",
   "metadata": {},
   "source": [
    "Join the two dataframes into one.\n",
    "\n",
    "_hint_ there is one column being an ID: which one?"
   ]
  },
  {
   "cell_type": "code",
   "execution_count": 2,
   "metadata": {},
   "outputs": [],
   "source": [
    "# your code here"
   ]
  },
  {
   "cell_type": "markdown",
   "metadata": {},
   "source": [
    "### Question 1 (10 marks)"
   ]
  },
  {
   "cell_type": "markdown",
   "metadata": {},
   "source": [
    "In which season would say we see more Little penguins?\n",
    "\n",
    "_hint_ their scientific name is _Eudyptula minor_ and their Species abbreviation is \"EUDMIN\".\n",
    "\n",
    "_hint_ you may want to use the package `Query.jl`."
   ]
  },
  {
   "cell_type": "code",
   "execution_count": 3,
   "metadata": {},
   "outputs": [],
   "source": [
    "# your code here"
   ]
  },
  {
   "cell_type": "markdown",
   "metadata": {},
   "source": [
    "### Question 2 (10 marks)"
   ]
  },
  {
   "cell_type": "markdown",
   "metadata": {},
   "source": [
    "How does the sighting of penguins (not just Little penguins, but all penguins species) change by year? Make a plot to show it."
   ]
  },
  {
   "cell_type": "code",
   "execution_count": 4,
   "metadata": {},
   "outputs": [],
   "source": [
    "# your code goes here."
   ]
  }
 ],
 "metadata": {
  "kernelspec": {
   "display_name": "Julia 1.6.2",
   "language": "julia",
   "name": "julia-1.6"
  },
  "language_info": {
   "file_extension": ".jl",
   "mimetype": "application/julia",
   "name": "julia",
   "version": "1.6.2"
  }
 },
 "nbformat": 4,
 "nbformat_minor": 4
}
