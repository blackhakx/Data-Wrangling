{
 "cells": [
  {
   "cell_type": "markdown",
   "metadata": {},
   "source": [
    "## Julia part (30 marks)"
   ]
  },
  {
   "cell_type": "markdown",
   "metadata": {},
   "source": [
    "In the folder `Penguin_data` you find two datasets (csv formatted files) about at-sea observations of seabirds dating from 1969 to 1990 in New Zealand. You can find more information here: https://catalogue.data.govt.nz/dataset/at-sea-observations-of-seabirds-1969-to-1990\n",
    "\n",
    "This is true-life messy data. Handle with care ;-)\n",
    "\n",
    "Your task for this part is to load the data, wrangle it a bit, and answer a couple of question.\n",
    "\n",
    "_hint_ this is the moment to go back to the Julia notebooks for lab 1 to 4. "
   ]
  },
  {
   "cell_type": "markdown",
   "metadata": {},
   "source": [
    "### Load the data (5 marks)"
   ]
  },
  {
   "cell_type": "markdown",
   "metadata": {},
   "source": [
    "Load the two dataset into two separate data frames.\n",
    "\n",
    "_hint_ take a look at the package `CSV.jl` and `DataFrames.jl`."
   ]
  },
  {
   "cell_type": "code",
   "execution_count": 61,
   "metadata": {},
   "outputs": [
    {
     "name": "stderr",
     "output_type": "stream",
     "text": [
      "\u001b[32m\u001b[1m   Resolving\u001b[22m\u001b[39m package versions...\n",
      "\u001b[32m\u001b[1m  No Changes\u001b[22m\u001b[39m to `C:\\Users\\91ken\\.julia\\environments\\v1.7\\Project.toml`\n",
      "\u001b[32m\u001b[1m  No Changes\u001b[22m\u001b[39m to `C:\\Users\\91ken\\.julia\\environments\\v1.7\\Manifest.toml`\n",
      "\u001b[32m\u001b[1m   Resolving\u001b[22m\u001b[39m package versions...\n",
      "\u001b[32m\u001b[1m  No Changes\u001b[22m\u001b[39m to `C:\\Users\\91ken\\.julia\\environments\\v1.7\\Project.toml`\n",
      "\u001b[32m\u001b[1m  No Changes\u001b[22m\u001b[39m to `C:\\Users\\91ken\\.julia\\environments\\v1.7\\Manifest.toml`\n",
      "\u001b[32m\u001b[1m   Resolving\u001b[22m\u001b[39m package versions...\n",
      "\u001b[32m\u001b[1m  No Changes\u001b[22m\u001b[39m to `C:\\Users\\91ken\\.julia\\environments\\v1.7\\Project.toml`\n",
      "\u001b[32m\u001b[1m  No Changes\u001b[22m\u001b[39m to `C:\\Users\\91ken\\.julia\\environments\\v1.7\\Manifest.toml`\n",
      "\u001b[32m\u001b[1m   Resolving\u001b[22m\u001b[39m package versions...\n",
      "\u001b[32m\u001b[1m  No Changes\u001b[22m\u001b[39m to `C:\\Users\\91ken\\.julia\\environments\\v1.7\\Project.toml`\n",
      "\u001b[32m\u001b[1m  No Changes\u001b[22m\u001b[39m to `C:\\Users\\91ken\\.julia\\environments\\v1.7\\Manifest.toml`\n",
      "\u001b[32m\u001b[1m   Resolving\u001b[22m\u001b[39m package versions...\n",
      "\u001b[32m\u001b[1m  No Changes\u001b[22m\u001b[39m to `C:\\Users\\91ken\\.julia\\environments\\v1.7\\Project.toml`\n",
      "\u001b[32m\u001b[1m  No Changes\u001b[22m\u001b[39m to `C:\\Users\\91ken\\.julia\\environments\\v1.7\\Manifest.toml`\n"
     ]
    }
   ],
   "source": [
    "#Pre installing package \n",
    "import Pkg\n",
    "using Pkg\n",
    "Pkg.add(\"CSV\")\n",
    "Pkg.add(\"Queryverse\")\n",
    "Pkg.add(\"DataFrames\")\n",
    "Pkg.add(\"Query\")\n",
    "Pkg.add(\"StatsPlots\")"
   ]
  },
  {
   "cell_type": "code",
   "execution_count": 67,
   "metadata": {},
   "outputs": [
    {
     "data": {
      "text/html": [
       "<div class=\"data-frame\"><p>12,310 rows × 29 columns (omitted printing of 20 columns)</p><table class=\"data-frame\"><thead><tr><th></th><th>RECORD</th><th>RECORDID</th><th>DATE</th><th>TIME</th><th>LAT</th><th>LONG</th><th>EW</th><th>SACT</th><th>SPEED</th></tr><tr><th></th><th title=\"Int64\">Int64</th><th title=\"Int64\">Int64</th><th title=\"String\">String</th><th title=\"Union{Missing, Time}\">Time?</th><th title=\"Union{Missing, Float64}\">Float64?</th><th title=\"Union{Missing, Float64}\">Float64?</th><th title=\"Union{Missing, String}\">String?</th><th title=\"Int64\">Int64</th><th title=\"Union{Missing, Float64}\">Float64?</th></tr></thead><tbody><tr><th>1</th><td>1</td><td>1083001</td><td>15/10/1975</td><td>14:00:00</td><td>-45.917</td><td>165.4</td><td>E</td><td>1</td><td>15.0</td></tr><tr><th>2</th><td>2</td><td>1084001</td><td>3/11/1975</td><td>13:10:00</td><td>-35.533</td><td>125.0</td><td>E</td><td>1</td><td>14.0</td></tr><tr><th>3</th><td>3</td><td>1084002</td><td>4/11/1975</td><td>14:20:00</td><td>-37.667</td><td>132.25</td><td>E</td><td>1</td><td>14.5</td></tr><tr><th>4</th><td>4</td><td>1084003</td><td>8/11/1975</td><td>16:15:00</td><td>-40.0</td><td>162.0</td><td>E</td><td>1</td><td>14.6</td></tr><tr><th>5</th><td>5</td><td>1086001</td><td>16/11/1975</td><td>12:30:00</td><td>-36.167</td><td>174.917</td><td>E</td><td>1</td><td>15.0</td></tr><tr><th>6</th><td>6</td><td>1086002</td><td>16/11/1975</td><td>15:30:00</td><td>-35.417</td><td>174.567</td><td>E</td><td>1</td><td>15.0</td></tr><tr><th>7</th><td>7</td><td>1086003</td><td>17/11/1975</td><td>14:30:00</td><td>-35.25</td><td>168.0</td><td>E</td><td>1</td><td>15.0</td></tr><tr><th>8</th><td>8</td><td>1086004</td><td>17/11/1975</td><td>16:30:00</td><td>-35.3</td><td>167.333</td><td>E</td><td>1</td><td>15.0</td></tr><tr><th>9</th><td>9</td><td>1086005</td><td>18/11/1975</td><td>14:30:00</td><td>-36.5</td><td>161.0</td><td>E</td><td>1</td><td>15.0</td></tr><tr><th>10</th><td>10</td><td>1086006</td><td>18/11/1975</td><td>16:30:00</td><td>-36.333</td><td>160.5</td><td>E</td><td>1</td><td>15.0</td></tr><tr><th>11</th><td>11</td><td>1086007</td><td>20/11/1975</td><td>12:00:00</td><td>-39.183</td><td>146.283</td><td>E</td><td>1</td><td>15.0</td></tr><tr><th>12</th><td>12</td><td>1087001</td><td>22/11/1975</td><td>14:00:00</td><td><em>missing</em></td><td><em>missing</em></td><td><em>missing</em></td><td>1</td><td>15.0</td></tr><tr><th>13</th><td>13</td><td>1087002</td><td>23/11/1975</td><td>14:30:00</td><td>-39.667</td><td>154.167</td><td>E</td><td>1</td><td>15.0</td></tr><tr><th>14</th><td>14</td><td>1087003</td><td>23/11/1975</td><td>16:00:00</td><td>-39.667</td><td>155.0</td><td>E</td><td>1</td><td>15.0</td></tr><tr><th>15</th><td>15</td><td>1087004</td><td>24/11/1975</td><td>12:00:00</td><td>-39.85</td><td>161.933</td><td>E</td><td>1</td><td>15.0</td></tr><tr><th>16</th><td>16</td><td>1087005</td><td>24/11/1975</td><td>14:00:00</td><td>-39.933</td><td>162.083</td><td>E</td><td>1</td><td>15.0</td></tr><tr><th>17</th><td>17</td><td>1087006</td><td>24/11/1975</td><td>16:00:00</td><td>-40.0</td><td>164.0</td><td>E</td><td>1</td><td>15.0</td></tr><tr><th>18</th><td>18</td><td>1087007</td><td>24/11/1975</td><td>18:00:00</td><td>-40.0</td><td><em>missing</em></td><td><em>missing</em></td><td>1</td><td>15.0</td></tr><tr><th>19</th><td>19</td><td>1087008</td><td>25/11/1975</td><td>10:00:00</td><td>-40.1</td><td>167.5</td><td>E</td><td>1</td><td>15.0</td></tr><tr><th>20</th><td>20</td><td>1087009</td><td>25/11/1975</td><td>13:00:00</td><td>-40.167</td><td>168.667</td><td>E</td><td>1</td><td>15.0</td></tr><tr><th>21</th><td>21</td><td>1087010</td><td>25/11/1975</td><td>14:00:00</td><td>-40.2</td><td>169.083</td><td>E</td><td>1</td><td>15.0</td></tr><tr><th>22</th><td>22</td><td>1087011</td><td>25/11/1975</td><td>15:20:00</td><td>-40.217</td><td>169.5</td><td>E</td><td>1</td><td>15.0</td></tr><tr><th>23</th><td>23</td><td>1088001</td><td>9/11/1975</td><td>16:50:00</td><td>-33.0</td><td>152.0</td><td>E</td><td>1</td><td>10.0</td></tr><tr><th>24</th><td>24</td><td>1088002</td><td>9/11/1975</td><td>18:25:00</td><td>-33.0</td><td>152.0</td><td>E</td><td>1</td><td>10.0</td></tr><tr><th>25</th><td>25</td><td>1088003</td><td>9/11/1975</td><td><em>missing</em></td><td>-34.0</td><td>152.0</td><td>E</td><td>1</td><td>10.0</td></tr><tr><th>26</th><td>26</td><td>1088004</td><td>10/11/1975</td><td>07:15:00</td><td>-35.0</td><td>154.0</td><td>E</td><td>1</td><td>11.0</td></tr><tr><th>27</th><td>27</td><td>1088005</td><td>10/11/1975</td><td>10:45:00</td><td>-36.0</td><td>154.0</td><td>E</td><td>1</td><td>11.0</td></tr><tr><th>28</th><td>28</td><td>1088006</td><td>10/11/1975</td><td>16:05:00</td><td>-37.0</td><td>157.0</td><td>E</td><td>1</td><td><em>missing</em></td></tr><tr><th>29</th><td>29</td><td>1088007</td><td>11/11/1975</td><td>06:25:00</td><td>-39.0</td><td>158.0</td><td>E</td><td>1</td><td>11.0</td></tr><tr><th>30</th><td>30</td><td>1088008</td><td>11/11/1975</td><td>11:35:00</td><td>-40.0</td><td>158.0</td><td>E</td><td>1</td><td>11.0</td></tr><tr><th>&vellip;</th><td>&vellip;</td><td>&vellip;</td><td>&vellip;</td><td>&vellip;</td><td>&vellip;</td><td>&vellip;</td><td>&vellip;</td><td>&vellip;</td><td>&vellip;</td></tr></tbody></table></div>"
      ],
      "text/latex": [
       "\\begin{tabular}{r|cccccccccc}\n",
       "\t& RECORD & RECORDID & DATE & TIME & LAT & LONG & EW & SACT & SPEED & \\\\\n",
       "\t\\hline\n",
       "\t& Int64 & Int64 & String & Time? & Float64? & Float64? & String? & Int64 & Float64? & \\\\\n",
       "\t\\hline\n",
       "\t1 & 1 & 1083001 & 15/10/1975 & 14:00:00 & -45.917 & 165.4 & E & 1 & 15.0 & $\\dots$ \\\\\n",
       "\t2 & 2 & 1084001 & 3/11/1975 & 13:10:00 & -35.533 & 125.0 & E & 1 & 14.0 & $\\dots$ \\\\\n",
       "\t3 & 3 & 1084002 & 4/11/1975 & 14:20:00 & -37.667 & 132.25 & E & 1 & 14.5 & $\\dots$ \\\\\n",
       "\t4 & 4 & 1084003 & 8/11/1975 & 16:15:00 & -40.0 & 162.0 & E & 1 & 14.6 & $\\dots$ \\\\\n",
       "\t5 & 5 & 1086001 & 16/11/1975 & 12:30:00 & -36.167 & 174.917 & E & 1 & 15.0 & $\\dots$ \\\\\n",
       "\t6 & 6 & 1086002 & 16/11/1975 & 15:30:00 & -35.417 & 174.567 & E & 1 & 15.0 & $\\dots$ \\\\\n",
       "\t7 & 7 & 1086003 & 17/11/1975 & 14:30:00 & -35.25 & 168.0 & E & 1 & 15.0 & $\\dots$ \\\\\n",
       "\t8 & 8 & 1086004 & 17/11/1975 & 16:30:00 & -35.3 & 167.333 & E & 1 & 15.0 & $\\dots$ \\\\\n",
       "\t9 & 9 & 1086005 & 18/11/1975 & 14:30:00 & -36.5 & 161.0 & E & 1 & 15.0 & $\\dots$ \\\\\n",
       "\t10 & 10 & 1086006 & 18/11/1975 & 16:30:00 & -36.333 & 160.5 & E & 1 & 15.0 & $\\dots$ \\\\\n",
       "\t11 & 11 & 1086007 & 20/11/1975 & 12:00:00 & -39.183 & 146.283 & E & 1 & 15.0 & $\\dots$ \\\\\n",
       "\t12 & 12 & 1087001 & 22/11/1975 & 14:00:00 & \\emph{missing} & \\emph{missing} & \\emph{missing} & 1 & 15.0 & $\\dots$ \\\\\n",
       "\t13 & 13 & 1087002 & 23/11/1975 & 14:30:00 & -39.667 & 154.167 & E & 1 & 15.0 & $\\dots$ \\\\\n",
       "\t14 & 14 & 1087003 & 23/11/1975 & 16:00:00 & -39.667 & 155.0 & E & 1 & 15.0 & $\\dots$ \\\\\n",
       "\t15 & 15 & 1087004 & 24/11/1975 & 12:00:00 & -39.85 & 161.933 & E & 1 & 15.0 & $\\dots$ \\\\\n",
       "\t16 & 16 & 1087005 & 24/11/1975 & 14:00:00 & -39.933 & 162.083 & E & 1 & 15.0 & $\\dots$ \\\\\n",
       "\t17 & 17 & 1087006 & 24/11/1975 & 16:00:00 & -40.0 & 164.0 & E & 1 & 15.0 & $\\dots$ \\\\\n",
       "\t18 & 18 & 1087007 & 24/11/1975 & 18:00:00 & -40.0 & \\emph{missing} & \\emph{missing} & 1 & 15.0 & $\\dots$ \\\\\n",
       "\t19 & 19 & 1087008 & 25/11/1975 & 10:00:00 & -40.1 & 167.5 & E & 1 & 15.0 & $\\dots$ \\\\\n",
       "\t20 & 20 & 1087009 & 25/11/1975 & 13:00:00 & -40.167 & 168.667 & E & 1 & 15.0 & $\\dots$ \\\\\n",
       "\t21 & 21 & 1087010 & 25/11/1975 & 14:00:00 & -40.2 & 169.083 & E & 1 & 15.0 & $\\dots$ \\\\\n",
       "\t22 & 22 & 1087011 & 25/11/1975 & 15:20:00 & -40.217 & 169.5 & E & 1 & 15.0 & $\\dots$ \\\\\n",
       "\t23 & 23 & 1088001 & 9/11/1975 & 16:50:00 & -33.0 & 152.0 & E & 1 & 10.0 & $\\dots$ \\\\\n",
       "\t24 & 24 & 1088002 & 9/11/1975 & 18:25:00 & -33.0 & 152.0 & E & 1 & 10.0 & $\\dots$ \\\\\n",
       "\t25 & 25 & 1088003 & 9/11/1975 & \\emph{missing} & -34.0 & 152.0 & E & 1 & 10.0 & $\\dots$ \\\\\n",
       "\t26 & 26 & 1088004 & 10/11/1975 & 07:15:00 & -35.0 & 154.0 & E & 1 & 11.0 & $\\dots$ \\\\\n",
       "\t27 & 27 & 1088005 & 10/11/1975 & 10:45:00 & -36.0 & 154.0 & E & 1 & 11.0 & $\\dots$ \\\\\n",
       "\t28 & 28 & 1088006 & 10/11/1975 & 16:05:00 & -37.0 & 157.0 & E & 1 & \\emph{missing} & $\\dots$ \\\\\n",
       "\t29 & 29 & 1088007 & 11/11/1975 & 06:25:00 & -39.0 & 158.0 & E & 1 & 11.0 & $\\dots$ \\\\\n",
       "\t30 & 30 & 1088008 & 11/11/1975 & 11:35:00 & -40.0 & 158.0 & E & 1 & 11.0 & $\\dots$ \\\\\n",
       "\t$\\dots$ & $\\dots$ & $\\dots$ & $\\dots$ & $\\dots$ & $\\dots$ & $\\dots$ & $\\dots$ & $\\dots$ & $\\dots$ &  \\\\\n",
       "\\end{tabular}\n"
      ],
      "text/plain": [
       "\u001b[1m12310×29 DataFrame\u001b[0m\n",
       "\u001b[1m   Row \u001b[0m│\u001b[1m RECORD \u001b[0m\u001b[1m RECORDID \u001b[0m\u001b[1m DATE       \u001b[0m\u001b[1m TIME     \u001b[0m\u001b[1m LAT         \u001b[0m\u001b[1m LONG        \u001b[0m\u001b[1m EW \u001b[0m ⋯\n",
       "\u001b[1m       \u001b[0m│\u001b[90m Int64  \u001b[0m\u001b[90m Int64    \u001b[0m\u001b[90m String     \u001b[0m\u001b[90m Time?    \u001b[0m\u001b[90m Float64?    \u001b[0m\u001b[90m Float64?    \u001b[0m\u001b[90m Str\u001b[0m ⋯\n",
       "───────┼────────────────────────────────────────────────────────────────────────\n",
       "     1 │      1   1083001  15/10/1975  14:00:00      -45.917      165.4    E   ⋯\n",
       "     2 │      2   1084001  3/11/1975   13:10:00      -35.533      125.0    E\n",
       "     3 │      3   1084002  4/11/1975   14:20:00      -37.667      132.25   E\n",
       "     4 │      4   1084003  8/11/1975   16:15:00      -40.0        162.0    E\n",
       "     5 │      5   1086001  16/11/1975  12:30:00      -36.167      174.917  E   ⋯\n",
       "     6 │      6   1086002  16/11/1975  15:30:00      -35.417      174.567  E\n",
       "     7 │      7   1086003  17/11/1975  14:30:00      -35.25       168.0    E\n",
       "     8 │      8   1086004  17/11/1975  16:30:00      -35.3        167.333  E\n",
       "     9 │      9   1086005  18/11/1975  14:30:00      -36.5        161.0    E   ⋯\n",
       "    10 │     10   1086006  18/11/1975  16:30:00      -36.333      160.5    E\n",
       "    11 │     11   1086007  20/11/1975  12:00:00      -39.183      146.283  E\n",
       "   ⋮   │   ⋮        ⋮          ⋮          ⋮           ⋮            ⋮           ⋱\n",
       " 12301 │  12301  88007027  6/06/1988   15:30:00      -35.217      174.417  E\n",
       " 12302 │  12302  88007028  6/06/1988   15:45:00      -35.267      174.467  E   ⋯\n",
       " 12303 │  12303  88007029  6/06/1988   16:00:00      -35.35       174.5    E\n",
       " 12304 │  12304  88007030  6/06/1988   17:00:00      -35.567      174.6    E\n",
       " 12305 │  12305  88007031  7/06/1988   08:00:00      -35.883      174.55   E\n",
       " 12306 │  12306  88007032  7/06/1988   09:00:00      -35.883      174.55   E   ⋯\n",
       " 12307 │  12307  88007033  7/06/1988   09:30:00      -35.883      174.55   E\n",
       " 12308 │  12308  88007034  7/06/1988   11:00:00      -35.883      174.55   E\n",
       " 12309 │  12309  88007035  7/06/1988   12:00:00      -35.883      174.55   E\n",
       " 12310 │  12310  88007036  7/06/1988   13:30:00      -35.883      174.55   E   ⋯\n",
       "\u001b[36m                                               23 columns and 12289 rows omitted\u001b[0m"
      ]
     },
     "execution_count": 67,
     "metadata": {},
     "output_type": "execute_result"
    }
   ],
   "source": [
    "using CSV\n",
    "using DataFrames\n",
    "using Queryverse\n",
    "\n",
    "bird_df = CSV.read(\"Penguin_dataBird_data.csv\", DataFrame)\n",
    "ship_df = CSV.read(\"Penguin_dataShip_data.csv\", DataFrame)"
   ]
  },
  {
   "cell_type": "markdown",
   "metadata": {},
   "source": [
    "### Join the data (5 marks)"
   ]
  },
  {
   "cell_type": "markdown",
   "metadata": {},
   "source": [
    "Join the two dataframes into one.\n",
    "\n",
    "_hint_ there is one column being an ID: which one?"
   ]
  },
  {
   "cell_type": "code",
   "execution_count": 3,
   "metadata": {},
   "outputs": [
    {
     "data": {
      "text/html": [
       "<div class=\"data-frame\"><p>55 rows × 7 columns (omitted printing of 2 columns)</p><table class=\"data-frame\"><thead><tr><th></th><th>variable</th><th>mean</th><th>min</th><th>median</th><th>max</th></tr><tr><th></th><th title=\"Symbol\">Symbol</th><th title=\"Union{Nothing, Float64}\">Union…</th><th title=\"Any\">Any</th><th title=\"Any\">Any</th><th title=\"Any\">Any</th></tr></thead><tbody><tr><th>1</th><td>RECORD</td><td>24510.0</td><td>1</td><td>24510.0</td><td>49019</td></tr><tr><th>2</th><td>RECORDID</td><td>3.95681e7</td><td>1083001</td><td>1.3004e7</td><td>88007036</td></tr><tr><th>3</th><td>SpeciesCommonName</td><td></td><td>Adelie penguin</td><td></td><td>[NO BIRDS RECORDED]</td></tr><tr><th>4</th><td>SpeciesScientificName</td><td></td><td>Anous minutus </td><td></td><td>Thallassarche sp JUV</td></tr><tr><th>5</th><td>SpeciesAbbreviation</td><td></td><td>ALBUNI</td><td></td><td>THASP JUV</td></tr><tr><th>6</th><td>AGE</td><td></td><td>AD</td><td></td><td>SUBAD</td></tr><tr><th>7</th><td>WANPLUM</td><td>2.50924</td><td>1</td><td>2.0</td><td>5</td></tr><tr><th>8</th><td>PLPHASE</td><td></td><td>DRK</td><td></td><td>WHITE</td></tr><tr><th>9</th><td>SEX</td><td></td><td>F</td><td></td><td>M</td></tr><tr><th>10</th><td>COUNT</td><td>41.9303</td><td>1</td><td>2.0</td><td>99999</td></tr><tr><th>11</th><td>NFEED</td><td>11.3094</td><td>0</td><td>0.0</td><td>99999</td></tr><tr><th>12</th><td>OCFEED</td><td></td><td>N</td><td></td><td>Y</td></tr><tr><th>13</th><td>NSOW</td><td>4.12964</td><td>0</td><td>0.0</td><td>20000</td></tr><tr><th>14</th><td>OCSOW</td><td></td><td>N</td><td></td><td>Y</td></tr><tr><th>15</th><td>NSOICE</td><td>0.0248549</td><td>0</td><td>0.0</td><td>300</td></tr><tr><th>16</th><td>OCSOICE</td><td></td><td>N</td><td></td><td>Y</td></tr><tr><th>17</th><td>OCSOSHP</td><td></td><td>N</td><td></td><td>Y</td></tr><tr><th>18</th><td>OCINHD</td><td></td><td>N</td><td></td><td>Y</td></tr><tr><th>19</th><td>NFLYP</td><td>23.6057</td><td>0</td><td>0.0</td><td>99999</td></tr><tr><th>20</th><td>OCFLYP</td><td></td><td>N</td><td></td><td>Y</td></tr><tr><th>21</th><td>NACC</td><td>0.339595</td><td>0</td><td>0.0</td><td>1000</td></tr><tr><th>22</th><td>OCACC</td><td></td><td>N</td><td></td><td>Y</td></tr><tr><th>23</th><td>NFOLL</td><td>0.995791</td><td>0</td><td>0.0</td><td>50</td></tr><tr><th>24</th><td>OCFOL</td><td></td><td>N</td><td></td><td>Y</td></tr><tr><th>25</th><td>OCMOULT</td><td></td><td>N</td><td></td><td>Y</td></tr><tr><th>26</th><td>OCNATFED</td><td></td><td>N</td><td></td><td>Y</td></tr><tr><th>27</th><td>Column27</td><td></td><td></td><td></td><td></td></tr><tr><th>28</th><td>RECORD_1</td><td>6164.49</td><td>1</td><td>6222.0</td><td>12310</td></tr><tr><th>29</th><td>DATE</td><td></td><td>1/01/1980</td><td></td><td>9/12/1988</td></tr><tr><th>30</th><td>TIME</td><td></td><td>00:00:00</td><td>12:30:00</td><td>23:30:00</td></tr><tr><th>&vellip;</th><td>&vellip;</td><td>&vellip;</td><td>&vellip;</td><td>&vellip;</td><td>&vellip;</td></tr></tbody></table></div>"
      ],
      "text/latex": [
       "\\begin{tabular}{r|cccccc}\n",
       "\t& variable & mean & min & median & max & \\\\\n",
       "\t\\hline\n",
       "\t& Symbol & Union… & Any & Any & Any & \\\\\n",
       "\t\\hline\n",
       "\t1 & RECORD & 24510.0 & 1 & 24510.0 & 49019 & $\\dots$ \\\\\n",
       "\t2 & RECORDID & 3.95681e7 & 1083001 & 1.3004e7 & 88007036 & $\\dots$ \\\\\n",
       "\t3 & SpeciesCommonName &  & Adelie penguin &  & [NO BIRDS RECORDED] & $\\dots$ \\\\\n",
       "\t4 & SpeciesScientificName &  & Anous minutus  &  & Thallassarche sp JUV & $\\dots$ \\\\\n",
       "\t5 & SpeciesAbbreviation &  & ALBUNI &  & THASP JUV & $\\dots$ \\\\\n",
       "\t6 & AGE &  & AD &  & SUBAD & $\\dots$ \\\\\n",
       "\t7 & WANPLUM & 2.50924 & 1 & 2.0 & 5 & $\\dots$ \\\\\n",
       "\t8 & PLPHASE &  & DRK &  & WHITE & $\\dots$ \\\\\n",
       "\t9 & SEX &  & F &  & M & $\\dots$ \\\\\n",
       "\t10 & COUNT & 41.9303 & 1 & 2.0 & 99999 & $\\dots$ \\\\\n",
       "\t11 & NFEED & 11.3094 & 0 & 0.0 & 99999 & $\\dots$ \\\\\n",
       "\t12 & OCFEED &  & N &  & Y & $\\dots$ \\\\\n",
       "\t13 & NSOW & 4.12964 & 0 & 0.0 & 20000 & $\\dots$ \\\\\n",
       "\t14 & OCSOW &  & N &  & Y & $\\dots$ \\\\\n",
       "\t15 & NSOICE & 0.0248549 & 0 & 0.0 & 300 & $\\dots$ \\\\\n",
       "\t16 & OCSOICE &  & N &  & Y & $\\dots$ \\\\\n",
       "\t17 & OCSOSHP &  & N &  & Y & $\\dots$ \\\\\n",
       "\t18 & OCINHD &  & N &  & Y & $\\dots$ \\\\\n",
       "\t19 & NFLYP & 23.6057 & 0 & 0.0 & 99999 & $\\dots$ \\\\\n",
       "\t20 & OCFLYP &  & N &  & Y & $\\dots$ \\\\\n",
       "\t21 & NACC & 0.339595 & 0 & 0.0 & 1000 & $\\dots$ \\\\\n",
       "\t22 & OCACC &  & N &  & Y & $\\dots$ \\\\\n",
       "\t23 & NFOLL & 0.995791 & 0 & 0.0 & 50 & $\\dots$ \\\\\n",
       "\t24 & OCFOL &  & N &  & Y & $\\dots$ \\\\\n",
       "\t25 & OCMOULT &  & N &  & Y & $\\dots$ \\\\\n",
       "\t26 & OCNATFED &  & N &  & Y & $\\dots$ \\\\\n",
       "\t27 & Column27 &  &  &  &  & $\\dots$ \\\\\n",
       "\t28 & RECORD\\_1 & 6164.49 & 1 & 6222.0 & 12310 & $\\dots$ \\\\\n",
       "\t29 & DATE &  & 1/01/1980 &  & 9/12/1988 & $\\dots$ \\\\\n",
       "\t30 & TIME &  & 00:00:00 & 12:30:00 & 23:30:00 & $\\dots$ \\\\\n",
       "\t$\\dots$ & $\\dots$ & $\\dots$ & $\\dots$ & $\\dots$ & $\\dots$ &  \\\\\n",
       "\\end{tabular}\n"
      ],
      "text/plain": [
       "\u001b[1m55×7 DataFrame\u001b[0m\n",
       "\u001b[1m Row \u001b[0m│\u001b[1m variable              \u001b[0m\u001b[1m mean      \u001b[0m\u001b[1m min            \u001b[0m\u001b[1m median   \u001b[0m\u001b[1m max        \u001b[0m ⋯\n",
       "\u001b[1m     \u001b[0m│\u001b[90m Symbol                \u001b[0m\u001b[90m Union…    \u001b[0m\u001b[90m Any            \u001b[0m\u001b[90m Any      \u001b[0m\u001b[90m Any        \u001b[0m ⋯\n",
       "─────┼──────────────────────────────────────────────────────────────────────────\n",
       "   1 │ RECORD                 24510.0    1               24510.0   49019       ⋯\n",
       "   2 │ RECORDID               3.95681e7  1083001         1.3004e7  88007036\n",
       "   3 │ SpeciesCommonName     \u001b[90m           \u001b[0m Adelie penguin \u001b[90m          \u001b[0m [NO BIRDS R\n",
       "   4 │ SpeciesScientificName \u001b[90m           \u001b[0m Anous minutus  \u001b[90m          \u001b[0m Thallassarc\n",
       "   5 │ SpeciesAbbreviation   \u001b[90m           \u001b[0m ALBUNI         \u001b[90m          \u001b[0m THASP JUV   ⋯\n",
       "   6 │ AGE                   \u001b[90m           \u001b[0m AD             \u001b[90m          \u001b[0m SUBAD\n",
       "   7 │ WANPLUM                2.50924    1               2.0       5\n",
       "   8 │ PLPHASE               \u001b[90m           \u001b[0m DRK            \u001b[90m          \u001b[0m WHITE\n",
       "   9 │ SEX                   \u001b[90m           \u001b[0m F              \u001b[90m          \u001b[0m M           ⋯\n",
       "  10 │ COUNT                  41.9303    1               2.0       99999\n",
       "  11 │ NFEED                  11.3094    0               0.0       99999\n",
       "  ⋮  │           ⋮                ⋮            ⋮            ⋮               ⋮  ⋱\n",
       "  46 │ DEPTH                  364.642    60              310.0     2200\n",
       "  47 │ OBS                   \u001b[90m           \u001b[0m BAIN           \u001b[90m          \u001b[0m THOM        ⋯\n",
       "  48 │ CSMETH                \u001b[90m           \u001b[0m F              \u001b[90m          \u001b[0m P\n",
       "  49 │ MONTH                  7.02807    1               7.0       12\n",
       "  50 │ SEASN                 \u001b[90m           \u001b[0m autumn         \u001b[90m          \u001b[0m winter\n",
       "  51 │ LONG360                160.022    50.0            163.167   184.417     ⋯\n",
       "  52 │ LATCELL                -39.6173   -69.5           -38.5     -19.5\n",
       "  53 │ LONGECELL              160.24     50.5            163.5     184.5\n",
       "  54 │ Column28              \u001b[90m           \u001b[0m\u001b[90m                \u001b[0m\u001b[90m          \u001b[0m\u001b[90m\u001b[0m\n",
       "  55 │ Column29              \u001b[90m           \u001b[0m\u001b[90m                \u001b[0m\u001b[90m          \u001b[0m\u001b[90m            \u001b[0m ⋯\n",
       "\u001b[36m                                                   3 columns and 34 rows omitted\u001b[0m"
      ]
     },
     "execution_count": 3,
     "metadata": {},
     "output_type": "execute_result"
    }
   ],
   "source": [
    "#drop RECORD column for both dataframes\n",
    "#select!(bird_df, Not(:RECORD)) \n",
    "#select!(ship_df, Not(:RECORD))\n",
    "penguin_df = leftjoin(bird_df, ship_df; on = :RECORDID, makeunique = true)\n",
    "penguin_df |> \n",
    "    describe\n",
    "#CSV.write(\"penguin.csv\", penguin_df)"
   ]
  },
  {
   "cell_type": "markdown",
   "metadata": {},
   "source": [
    "### Question 1 (10 marks)"
   ]
  },
  {
   "cell_type": "markdown",
   "metadata": {},
   "source": [
    "In which season would say we see more Little penguins?\n",
    "\n",
    "_hint_ their scientific name is _Eudyptula minor_ and their Species abbreviation is \"EUDMIN\".\n",
    "\n",
    "_hint_ you may want to use the package `Query.jl`."
   ]
  },
  {
   "cell_type": "markdown",
   "metadata": {},
   "source": [
    "Ans: The season with the most penguin sighting is winter"
   ]
  },
  {
   "cell_type": "code",
   "execution_count": 4,
   "metadata": {},
   "outputs": [
    {
     "name": "stdout",
     "output_type": "stream",
     "text": [
      "The season with the most penguin sighting is winter\n"
     ]
    }
   ],
   "source": [
    "using Query\n",
    "\n",
    "season_penguin = @from i in penguin_df begin\n",
    "         @where (i.SpeciesAbbreviation == \"EUDMIN\")\n",
    "         @select (Season = i.SEASN, Count = i.COUNT)\n",
    "         @collect DataFrame\n",
    "end\n",
    "\n",
    "season_penguin.Count = replace(season_penguin.Count, missing => 0)\n",
    "\n",
    "season_penguin_total = combine(groupby(season_penguin, :Season), :Count => sum)\n",
    "\n",
    "#sort by Count_sum column in descending order to get the most sightings in the first row\n",
    "sort!(season_penguin_total, :Count_sum, rev = true)\n",
    "\n",
    "sighting_season = season_penguin_total[1,1]\n",
    "println(\"The season with the most penguin sighting is \" * sighting_season)\n"
   ]
  },
  {
   "cell_type": "markdown",
   "metadata": {},
   "source": [
    "### Question 2 (10 marks)"
   ]
  },
  {
   "cell_type": "markdown",
   "metadata": {},
   "source": [
    "How does the sighting of penguins (not just Little penguins, but all penguins species) change by year? Make a plot to show it."
   ]
  },
  {
   "cell_type": "code",
   "execution_count": 92,
   "metadata": {},
   "outputs": [
    {
     "name": "stderr",
     "output_type": "stream",
     "text": [
      "\u001b[32m\u001b[1m   Resolving\u001b[22m\u001b[39m package versions...\n",
      "\u001b[32m\u001b[1m  No Changes\u001b[22m\u001b[39m to `C:\\Users\\91ken\\.julia\\environments\\v1.7\\Project.toml`\n",
      "\u001b[32m\u001b[1m  No Changes\u001b[22m\u001b[39m to `C:\\Users\\91ken\\.julia\\environments\\v1.7\\Manifest.toml`\n"
     ]
    }
   ],
   "source": [
    "Pkg.add(\"PlotlyJS\")"
   ]
  },
  {
   "cell_type": "code",
   "execution_count": 106,
   "metadata": {},
   "outputs": [
    {
     "ename": "LoadError",
     "evalue": "MethodError: no method matching value(::Missing)\n\u001b[0mClosest candidates are:\n\u001b[0m  value(\u001b[91m::Period\u001b[39m) at C:\\Users\\91ken\\AppData\\Local\\Programs\\Julia-1.7.3\\share\\julia\\stdlib\\v1.7\\Dates\\src\\periods.jl:10\n\u001b[0m  value(\u001b[91m::DataValue{T}\u001b[39m) where T at C:\\Users\\91ken\\.julia\\packages\\DataValues\\N7oeL\\src\\scalar\\operations.jl:41\n\u001b[0m  value(\u001b[91m::Time\u001b[39m) at C:\\Users\\91ken\\AppData\\Local\\Programs\\Julia-1.7.3\\share\\julia\\stdlib\\v1.7\\Dates\\src\\accessors.jl:52\n\u001b[0m  ...",
     "output_type": "error",
     "traceback": [
      "MethodError: no method matching value(::Missing)\n\u001b[0mClosest candidates are:\n\u001b[0m  value(\u001b[91m::Period\u001b[39m) at C:\\Users\\91ken\\AppData\\Local\\Programs\\Julia-1.7.3\\share\\julia\\stdlib\\v1.7\\Dates\\src\\periods.jl:10\n\u001b[0m  value(\u001b[91m::DataValue{T}\u001b[39m) where T at C:\\Users\\91ken\\.julia\\packages\\DataValues\\N7oeL\\src\\scalar\\operations.jl:41\n\u001b[0m  value(\u001b[91m::Time\u001b[39m) at C:\\Users\\91ken\\AppData\\Local\\Programs\\Julia-1.7.3\\share\\julia\\stdlib\\v1.7\\Dates\\src\\accessors.jl:52\n\u001b[0m  ...",
      "",
      "Stacktrace:",
      "  [1] (::RecipesPipeline.var\"#54#55\")(dt::Missing)",
      "    @ RecipesPipeline C:\\Users\\91ken\\.julia\\packages\\RecipesPipeline\\OXGmH\\src\\recipes.jl:26",
      "  [2] iterate",
      "    @ .\\generator.jl:47 [inlined]",
      "  [3] collect_to!",
      "    @ .\\array.jl:782 [inlined]",
      "  [4] collect_to_with_first!",
      "    @ .\\array.jl:760 [inlined]",
      "  [5] _collect(c::Vector{Union{Missing, Date}}, itr::Base.Generator{Vector{Union{Missing, Date}}, RecipesPipeline.var\"#54#55\"}, #unused#::Base.EltypeUnknown, isz::Base.HasShape{1})",
      "    @ Base .\\array.jl:754",
      "  [6] collect_similar(cont::Vector{Union{Missing, Date}}, itr::Base.Generator{Vector{Union{Missing, Date}}, RecipesPipeline.var\"#54#55\"})",
      "    @ Base .\\array.jl:653",
      "  [7] map(f::Function, A::Vector{Union{Missing, Date}})",
      "    @ Base .\\abstractarray.jl:2867",
      "  [8] _apply_type_recipe(plotattributes::Any, v::AbstractArray, letter::Any)",
      "    @ RecipesPipeline C:\\Users\\91ken\\.julia\\packages\\RecipesPipeline\\OXGmH\\src\\type_recipe.jl:44",
      "  [9] macro expansion",
      "    @ C:\\Users\\91ken\\.julia\\packages\\RecipesPipeline\\OXGmH\\src\\user_recipe.jl:137 [inlined]",
      " [10] apply_recipe(plotattributes::AbstractDict{Symbol, Any}, x::Any, y::Any)",
      "    @ RecipesPipeline C:\\Users\\91ken\\.julia\\packages\\RecipesBase\\qpxEX\\src\\RecipesBase.jl:289",
      " [11] _process_userrecipes!(plt::Any, plotattributes::Any, args::Any)",
      "    @ RecipesPipeline C:\\Users\\91ken\\.julia\\packages\\RecipesPipeline\\OXGmH\\src\\user_recipe.jl:36",
      " [12] recipe_pipeline!(plt::Any, plotattributes::Any, args::Any)",
      "    @ RecipesPipeline C:\\Users\\91ken\\.julia\\packages\\RecipesPipeline\\OXGmH\\src\\RecipesPipeline.jl:70",
      " [13] _plot!(plt::Plots.Plot, plotattributes::Any, args::Any)",
      "    @ Plots C:\\Users\\91ken\\.julia\\packages\\Plots\\lW9ll\\src\\plot.jl:209",
      " [14] plot(::Any, ::Vararg{Any}; kw::Base.Pairs{Symbol, V, Tuple{Vararg{Symbol, N}}, NamedTuple{names, T}} where {V, N, names, T<:Tuple{Vararg{Any, N}}})",
      "    @ Plots C:\\Users\\91ken\\.julia\\packages\\Plots\\lW9ll\\src\\plot.jl:91",
      " [15] plot(::Any, ::Any)",
      "    @ Plots C:\\Users\\91ken\\.julia\\packages\\Plots\\lW9ll\\src\\plot.jl:85",
      " [16] add_label(::Vector{String}, ::Function, ::Vector{Union{Missing, Date}}, ::Vararg{Any}; kwargs::Base.Pairs{Symbol, Union{}, Tuple{}, NamedTuple{(), Tuple{}}})",
      "    @ StatsPlots C:\\Users\\91ken\\.julia\\packages\\StatsPlots\\LlHWB\\src\\df.jl:163",
      " [17] add_label(::Vector{String}, ::Function, ::Vector{Union{Missing, Date}}, ::Vararg{Any})",
      "    @ StatsPlots C:\\Users\\91ken\\.julia\\packages\\StatsPlots\\LlHWB\\src\\df.jl:150",
      " [18] (::var\"#219#220\")(339::DataFrame)",
      "    @ Main .\\none:0",
      " [19] top-level scope",
      "    @ In[106]:36",
      " [20] eval",
      "    @ .\\boot.jl:373 [inlined]",
      " [21] include_string(mapexpr::typeof(REPL.softscope), mod::Module, code::String, filename::String)",
      "    @ Base .\\loading.jl:1196"
     ]
    }
   ],
   "source": [
    "yearly_penguin = @from i in penguin_df begin\n",
    "    @select (DATE = i.DATE, Count = i.COUNT)\n",
    "    @collect DataFrame\n",
    "end\n",
    "\n",
    "#convert column \"DATE\" to Date type\n",
    "using Dates\n",
    "Date_Format(x) = Date(x, DateFormat(\"d/m/y\"))\n",
    "Accept_Missing_Date = passmissing(Date_Format)\n",
    "yearly_penguin[!,:DATE] = Accept_Missing_Date.(yearly_penguin[!,:DATE])\n",
    "\n",
    "0#replace missing values in \"Count\" column to 0 \n",
    "yearly_penguin.Count = replace(yearly_penguin.Count, missing => 0)\n",
    "\n",
    "\n",
    "yearly_penguin_total = combine(groupby(yearly_penguin, :DATE), :Count => sum)\n",
    "sort!(yearly_penguin_total, :DATE)+9+\n",
    "# yearly_penguin_total.DATE\n",
    "\n",
    "\n",
    "#yearly_penguin_total.DATE = Date.(yearly_penguin_total.DATE, \"d/m/y\")\n",
    "#date_format = DateFormat(\"d/m/y\")\n",
    "#yearly_penguin_total[:Date] = Date.(yearly_penguin_total[Date], date_format)\n",
    "#transform(yearly_penguin_total, :Date = string.chop.(:Date))\n",
    "# yearly_penguin_total |>\n",
    "#     DateTime(:Date, dateformat\"m/d/y\")\n",
    "#DateTime(yearly_penguin_total[!,:Date], dateformat\"m/d/y\")\n",
    "#DateTime(select(yearly_penguin_total, :Date), dateformat\"d/m/y\")\n",
    "\n",
    "# yearly_penguin_total |>\n",
    "# #     @vplot(:point, x:DATE, y=:Count_sum)\n",
    "# using PlotlyJS\n",
    "# plot(yearly_penguin_total, x=:DATE, y=:Count_sum)\n",
    "\n",
    "using StatsPlots\n",
    "@df yearly_penguin_total plot(:DATE, :Count_sum)"
   ]
  }
 ],
 "metadata": {
  "kernelspec": {
   "display_name": "Julia 1.7.3",
   "language": "julia",
   "name": "julia-1.7"
  },
  "language_info": {
   "file_extension": ".jl",
   "mimetype": "application/julia",
   "name": "julia",
   "version": "1.7.3"
  }
 },
 "nbformat": 4,
 "nbformat_minor": 4
}
